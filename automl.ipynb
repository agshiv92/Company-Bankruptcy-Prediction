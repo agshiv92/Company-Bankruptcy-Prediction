{
 "cells": [
  {
   "cell_type": "markdown",
   "metadata": {},
   "source": [
    "# Automated ML\n"
   ]
  },
  {
   "cell_type": "code",
   "execution_count": 1,
   "metadata": {
    "collapsed": false,
    "gather": {
     "logged": 1598423888013
    },
    "jupyter": {
     "outputs_hidden": false,
     "source_hidden": false
    },
    "nteract": {
     "transient": {
      "deleting": false
     }
    }
   },
   "outputs": [
    {
     "name": "stderr",
     "output_type": "stream",
     "text": [
      "/anaconda/envs/azureml_py36/lib/python3.6/site-packages/sklearn/externals/joblib/__init__.py:15: FutureWarning: sklearn.externals.joblib is deprecated in 0.21 and will be removed in 0.23. Please import this functionality directly from joblib, which can be installed with: pip install joblib. If this warning is raised when loading pickled models, you may need to re-serialize those models with scikit-learn 0.21+.\n",
      "  warnings.warn(msg, category=FutureWarning)\n"
     ]
    }
   ],
   "source": [
    "import pandas as pd\n",
    "import numpy as np\n",
    "import json\n",
    "import joblib\n",
    "import json\n",
    "import requests\n",
    "from sklearn.externals import joblib\n",
    "from sklearn.model_selection import train_test_split  \n",
    "from sklearn.preprocessing import OneHotEncoder"
   ]
  },
  {
   "cell_type": "code",
   "execution_count": 2,
   "metadata": {},
   "outputs": [],
   "source": [
    "from azureml.train.automl import AutoMLConfig\n",
    "from azureml.core.run import Run\n",
    "from azureml.widgets import RunDetails\n",
    "from azureml.data.dataset_factory import TabularDatasetFactory\n",
    "from azureml.core import Dataset\n",
    "from azureml.core import Workspace, Experiment\n",
    "from azureml.core.compute import ComputeTarget, AmlCompute\n",
    "from azureml.core.compute_target import ComputeTargetException\n",
    "from azureml.core.webservice import Webservice\n",
    "from azureml.core.environment import Environment\n",
    "from azureml.core.conda_dependencies import CondaDependencies\n",
    "from azureml.core.model import InferenceConfig"
   ]
  },
  {
   "cell_type": "code",
   "execution_count": 3,
   "metadata": {},
   "outputs": [],
   "source": [
    "ws = Workspace.from_config()\n",
    "experiment_name = 'Bankrupty_Automl'\n",
    "experiment = Experiment(ws, experiment_name)\n",
    "\n",
    "run = experiment.start_logging()"
   ]
  },
  {
   "cell_type": "code",
   "execution_count": 4,
   "metadata": {},
   "outputs": [
    {
     "name": "stdout",
     "output_type": "stream",
     "text": [
      "Creating\n",
      "Succeeded\n",
      "AmlCompute wait for completion finished\n",
      "\n",
      "Minimum number of nodes requested have been provisioned\n"
     ]
    }
   ],
   "source": [
    "from azureml.core.compute import ComputeTarget, AmlCompute\n",
    "from azureml.core.compute_target import ComputeTargetException\n",
    "\n",
    "# Choose a name for your CPU cluster\n",
    "cpu_cluster_name = \"cpu-cluster-4\"\n",
    "\n",
    "# Verify that cluster does not exist already\n",
    "try:\n",
    "    compute_target = ComputeTarget(workspace=ws, name=cpu_cluster_name)\n",
    "    print('Found existing cluster, use it.')\n",
    "except ComputeTargetException:\n",
    "    compute_config = AmlCompute.provisioning_configuration(vm_size='STANDARD_D2_V2',\n",
    "                                                           max_nodes=6)\n",
    "    compute_target = ComputeTarget.create(ws, cpu_cluster_name, compute_config)\n",
    "\n",
    "compute_target.wait_for_completion(show_output=True)\n",
    "#compute_target.wait_for_completion(show_output=True, min_node_count = 1, timeout_in_minutes = 10)"
   ]
  },
  {
   "cell_type": "markdown",
   "metadata": {},
   "source": [
    "## Dataset\n",
    "\n",
    "### Overview\n",
    "* The data were collected from the Taiwan Economic Journal for the years 1999 to 2009. Company bankruptcy was defined based on the business regulations of the Taiwan Stock Exchange. This dataset has 6219 example for training. The dataset of 95 different financial ratios as features. This dataset is avaialable at kaggel.  \n",
    "\n",
    "* This is a binary classification task where our target column is Bankrupt which may have the value 1 in case the company goes bankrupt 0 in case the company does not goes bankrupt.\n"
   ]
  },
  {
   "cell_type": "code",
   "execution_count": 5,
   "metadata": {},
   "outputs": [
    {
     "data": {
      "text/html": [
       "<div>\n",
       "<style scoped>\n",
       "    .dataframe tbody tr th:only-of-type {\n",
       "        vertical-align: middle;\n",
       "    }\n",
       "\n",
       "    .dataframe tbody tr th {\n",
       "        vertical-align: top;\n",
       "    }\n",
       "\n",
       "    .dataframe thead th {\n",
       "        text-align: right;\n",
       "    }\n",
       "</style>\n",
       "<table border=\"1\" class=\"dataframe\">\n",
       "  <thead>\n",
       "    <tr style=\"text-align: right;\">\n",
       "      <th></th>\n",
       "      <th>Bankrupt?</th>\n",
       "      <th>ROA(C) before interest and depreciation before interest</th>\n",
       "      <th>ROA(A) before interest and % after tax</th>\n",
       "      <th>ROA(B) before interest and depreciation after tax</th>\n",
       "      <th>operating gross margin</th>\n",
       "      <th>realized sales gross margin</th>\n",
       "      <th>operating profit rate</th>\n",
       "      <th>tax Pre-net interest rate</th>\n",
       "      <th>after-tax net interest rate</th>\n",
       "      <th>non-industry income and expenditure/revenue</th>\n",
       "      <th>...</th>\n",
       "      <th>net income to total assets</th>\n",
       "      <th>total assets to GNP price</th>\n",
       "      <th>No-credit interval</th>\n",
       "      <th>Gross profit to Sales</th>\n",
       "      <th>Net income to stockholder's Equity</th>\n",
       "      <th>liability to equity</th>\n",
       "      <th>Degree of financial leverage (DFL)</th>\n",
       "      <th>Interest coverage ratio( Interest expense to EBIT )</th>\n",
       "      <th>one if net income was negative for the last two year zero otherwise</th>\n",
       "      <th>equity to liability</th>\n",
       "    </tr>\n",
       "  </thead>\n",
       "  <tbody>\n",
       "    <tr>\n",
       "      <th>0</th>\n",
       "      <td>1</td>\n",
       "      <td>0.370594257300249</td>\n",
       "      <td>0.424389446140427</td>\n",
       "      <td>0.40574977247176</td>\n",
       "      <td>0.601457213277793</td>\n",
       "      <td>0.601457213277793</td>\n",
       "      <td>0.998969203197885</td>\n",
       "      <td>0.796887145860514</td>\n",
       "      <td>0.808809360876843</td>\n",
       "      <td>0.302646433889668</td>\n",
       "      <td>...</td>\n",
       "      <td>0.716845</td>\n",
       "      <td>0.009219</td>\n",
       "      <td>0.622879</td>\n",
       "      <td>0.601453</td>\n",
       "      <td>0.827890</td>\n",
       "      <td>0.290202</td>\n",
       "      <td>0.026601</td>\n",
       "      <td>0.564050</td>\n",
       "      <td>1</td>\n",
       "      <td>0.016469</td>\n",
       "    </tr>\n",
       "    <tr>\n",
       "      <th>1</th>\n",
       "      <td>1</td>\n",
       "      <td>0.464290937454297</td>\n",
       "      <td>0.53821412996075</td>\n",
       "      <td>0.516730017666899</td>\n",
       "      <td>0.610235085544617</td>\n",
       "      <td>0.610235085544617</td>\n",
       "      <td>0.998945978205482</td>\n",
       "      <td>0.797380191277827</td>\n",
       "      <td>0.809300725667939</td>\n",
       "      <td>0.303556430290771</td>\n",
       "      <td>...</td>\n",
       "      <td>0.795297</td>\n",
       "      <td>0.008323</td>\n",
       "      <td>0.623652</td>\n",
       "      <td>0.610237</td>\n",
       "      <td>0.839969</td>\n",
       "      <td>0.283846</td>\n",
       "      <td>0.264577</td>\n",
       "      <td>0.570175</td>\n",
       "      <td>1</td>\n",
       "      <td>0.020794</td>\n",
       "    </tr>\n",
       "    <tr>\n",
       "      <th>2</th>\n",
       "      <td>1</td>\n",
       "      <td>0.426071271876371</td>\n",
       "      <td>0.499018752725687</td>\n",
       "      <td>0.472295090743616</td>\n",
       "      <td>0.601450006486113</td>\n",
       "      <td>0.601363524985947</td>\n",
       "      <td>0.998857353483229</td>\n",
       "      <td>0.796403369254357</td>\n",
       "      <td>0.808387521469543</td>\n",
       "      <td>0.302035177342951</td>\n",
       "      <td>...</td>\n",
       "      <td>0.774670</td>\n",
       "      <td>0.040003</td>\n",
       "      <td>0.623841</td>\n",
       "      <td>0.601449</td>\n",
       "      <td>0.836774</td>\n",
       "      <td>0.290189</td>\n",
       "      <td>0.026555</td>\n",
       "      <td>0.563706</td>\n",
       "      <td>1</td>\n",
       "      <td>0.016474</td>\n",
       "    </tr>\n",
       "  </tbody>\n",
       "</table>\n",
       "<p>3 rows × 96 columns</p>\n",
       "</div>"
      ],
      "text/plain": [
       "   Bankrupt?  ROA(C) before interest and depreciation before interest  \\\n",
       "0          1                                  0.370594257300249         \n",
       "1          1                                  0.464290937454297         \n",
       "2          1                                  0.426071271876371         \n",
       "\n",
       "   ROA(A) before interest and % after tax  \\\n",
       "0                       0.424389446140427   \n",
       "1                        0.53821412996075   \n",
       "2                       0.499018752725687   \n",
       "\n",
       "   ROA(B) before interest and depreciation after tax  operating gross margin  \\\n",
       "0                                   0.40574977247176       0.601457213277793   \n",
       "1                                  0.516730017666899       0.610235085544617   \n",
       "2                                  0.472295090743616       0.601450006486113   \n",
       "\n",
       "   realized sales gross margin  operating profit rate  \\\n",
       "0            0.601457213277793      0.998969203197885   \n",
       "1            0.610235085544617      0.998945978205482   \n",
       "2            0.601363524985947      0.998857353483229   \n",
       "\n",
       "   tax Pre-net interest rate  after-tax net interest rate  \\\n",
       "0          0.796887145860514            0.808809360876843   \n",
       "1          0.797380191277827            0.809300725667939   \n",
       "2          0.796403369254357            0.808387521469543   \n",
       "\n",
       "   non-industry income and expenditure/revenue  ...  \\\n",
       "0                            0.302646433889668  ...   \n",
       "1                            0.303556430290771  ...   \n",
       "2                            0.302035177342951  ...   \n",
       "\n",
       "  net income to total assets total assets to GNP price No-credit interval  \\\n",
       "0                   0.716845                  0.009219           0.622879   \n",
       "1                   0.795297                  0.008323           0.623652   \n",
       "2                   0.774670                  0.040003           0.623841   \n",
       "\n",
       "  Gross profit to Sales Net income to stockholder's Equity  \\\n",
       "0              0.601453                           0.827890   \n",
       "1              0.610237                           0.839969   \n",
       "2              0.601449                           0.836774   \n",
       "\n",
       "  liability to equity Degree of financial leverage (DFL)  \\\n",
       "0            0.290202                           0.026601   \n",
       "1            0.283846                           0.264577   \n",
       "2            0.290189                           0.026555   \n",
       "\n",
       "  Interest coverage ratio( Interest expense to EBIT )  \\\n",
       "0                                           0.564050    \n",
       "1                                           0.570175    \n",
       "2                                           0.563706    \n",
       "\n",
       "  one if net income was negative for the last two year zero otherwise  \\\n",
       "0                                                  1                    \n",
       "1                                                  1                    \n",
       "2                                                  1                    \n",
       "\n",
       "  equity to liability  \n",
       "0            0.016469  \n",
       "1            0.020794  \n",
       "2            0.016474  \n",
       "\n",
       "[3 rows x 96 columns]"
      ]
     },
     "execution_count": 5,
     "metadata": {},
     "output_type": "execute_result"
    }
   ],
   "source": [
    "from azureml.core import Dataset\n",
    "ds = Dataset.get_by_name(ws, name = \"bankruptcy_dataset\")\n",
    "df = ds.to_pandas_dataframe()\n",
    "df.head(3)"
   ]
  },
  {
   "cell_type": "markdown",
   "metadata": {},
   "source": [
    "\n",
    "## AutoML Configuration\n",
    "\n",
    "AutoML is a powerful tool that enables us to find the best model quickly. For my automl run I've used the following settings & configurations to find best combination of algorithms & hyperparameters:\n",
    "* The primary metric is set to *accuracy*.\n",
    "* The task is set to *classification* because we aim to get a binary result either 1 or 0, death or no death.\n",
    "* We use the traing data we got from the dataset & we define the target column.\n",
    "* Logs have been generated for debugging reasons. \n",
    "* Auto featurization is enabled, featurization includes automated feature engineering and scaling and normalization, which then impacts the selected algorithm and its hyperparameter values.\n",
    "* Early stopping is enabled to save computational power. \n",
    "* Number of cross validation is set to 3.\n",
    "\n"
   ]
  },
  {
   "cell_type": "code",
   "execution_count": 6,
   "metadata": {
    "collapsed": false,
    "gather": {
     "logged": 1598429217746
    },
    "jupyter": {
     "outputs_hidden": false,
     "source_hidden": false
    },
    "nteract": {
     "transient": {
      "deleting": false
     }
    }
   },
   "outputs": [],
   "source": [
    "# automl settings\n",
    "automl_settings = {\n",
    "    \"experiment_timeout_minutes\": 30,\n",
    "    \"max_concurrent_iterations\": 5,\n",
    "    \"primary_metric\" : 'average_precision_score_weighted'}\n",
    "\n",
    "# automl config\n",
    "automl_config = AutoMLConfig(compute_target = compute_target,\n",
    "                             task = \"classification\",\n",
    "                             training_data=ds,\n",
    "                             label_column_name=\"Bankrupt?\",   \n",
    "                             featurization= 'auto',\n",
    "                             n_cross_validations = 4,\n",
    "                            enable_early_stopping= True,\n",
    "                             debug_log = \"automl_logs.log\",\n",
    "                             **automl_settings)"
   ]
  },
  {
   "cell_type": "code",
   "execution_count": 7,
   "metadata": {
    "collapsed": false,
    "gather": {
     "logged": 1598431107951
    },
    "jupyter": {
     "outputs_hidden": false,
     "source_hidden": false
    },
    "nteract": {
     "transient": {
      "deleting": false
     }
    }
   },
   "outputs": [
    {
     "name": "stdout",
     "output_type": "stream",
     "text": [
      "Running on remote.\n",
      "No run_configuration provided, running on cpu-cluster-4 with default configuration\n",
      "Running on remote compute: cpu-cluster-4\n",
      "Parent Run ID: AutoML_c5a5cd74-3017-4a1e-bbb2-19590578f0ae\n",
      "\n",
      "Current status: DatasetEvaluation. Gathering dataset statistics.\n",
      "Current status: FeaturesGeneration. Generating features for the dataset.\n",
      "Current status: DatasetFeaturization. Beginning to fit featurizers and featurize the dataset.\n",
      "Current status: DatasetBalancing. Performing class balancing sweeping\n",
      "Current status: DatasetCrossValidationSplit. Generating individually featurized CV splits.\n",
      "Current status: ModelSelection. Beginning model selection.\n",
      "\n",
      "****************************************************************************************************\n",
      "DATA GUARDRAILS: \n",
      "\n",
      "TYPE:         Class balancing detection\n",
      "STATUS:       ALERTED\n",
      "DESCRIPTION:  To decrease model bias, please cancel the current run and fix balancing problem.\n",
      "              Learn more about imbalanced data: https://aka.ms/AutomatedMLImbalancedData\n",
      "DETAILS:      Imbalanced data can lead to a falsely perceived positive effect of a model's accuracy because the input data has bias towards one class.\n",
      "+---------------------------------+---------------------------------+--------------------------------------+\n",
      "|Size of the smallest class       |Name/Label of the smallest class |Number of samples in the training data|\n",
      "+=================================+=================================+======================================+\n",
      "|220                              |1                                |6819                                  |\n",
      "+---------------------------------+---------------------------------+--------------------------------------+\n",
      "\n",
      "****************************************************************************************************\n",
      "\n",
      "TYPE:         Missing feature values imputation\n",
      "STATUS:       PASSED\n",
      "DESCRIPTION:  No feature missing values were detected in the training data.\n",
      "              Learn more about missing value imputation: https://aka.ms/AutomatedMLFeaturization\n",
      "\n",
      "****************************************************************************************************\n",
      "\n",
      "TYPE:         High cardinality feature detection\n",
      "STATUS:       DONE\n",
      "DESCRIPTION:  High cardinality features were detected in your inputs and handled.\n",
      "              Learn more about high cardinality feature handling: https://aka.ms/AutomatedMLFeaturization\n",
      "DETAILS:      High cardinality features refer to columns that contain a large percentage of unique values.\n",
      "+---------------------------------+---------------------------------+\n",
      "|Column name                      |Column Content Type              |\n",
      "+=================================+=================================+\n",
      "| ROA(C) before interest and de...|categorical_hash                 |\n",
      "| ROA(A) before interest and % ...|categorical_hash                 |\n",
      "| ROA(B) before interest and de...|categorical_hash                 |\n",
      "| operating gross margin          |categorical_hash                 |\n",
      "| realized sales gross margin     |categorical_hash                 |\n",
      "| operating profit rate           |categorical_hash                 |\n",
      "| tax Pre-net interest rate       |categorical_hash                 |\n",
      "| after-tax net interest rate     |categorical_hash                 |\n",
      "| non-industry income and expen...|categorical_hash                 |\n",
      "| continuous interest rate (aft...|categorical_hash                 |\n",
      "| operating expense rate          |categorical_hash                 |\n",
      "| research and development expe...|categorical_hash                 |\n",
      "| interest-bearing debt interes...|categorical_hash                 |\n",
      "| tax rate (A)                    |categorical_hash                 |\n",
      "| per Net Share Value (B)         |categorical_hash                 |\n",
      "| Net Value Per Share (A)         |categorical_hash                 |\n",
      "| Net Value Per Share (C)         |categorical_hash                 |\n",
      "| Persistent EPS in the Last Fo...|categorical_hash                 |\n",
      "| Cash Flow Per Share             |categorical_hash                 |\n",
      "| Revenue Per Share (Yuan)        |categorical_hash                 |\n",
      "| Operating Profit Per Share (Y...|categorical_hash                 |\n",
      "| Per Share Net profit before t...|categorical_hash                 |\n",
      "| total asset growth rate         |categorical_hash                 |\n",
      "| net value growth rate           |categorical_hash                 |\n",
      "| total asset return growth rat...|categorical_hash                 |\n",
      "| cash reinvestment %             |categorical_hash                 |\n",
      "| interest expense ratio          |categorical_hash                 |\n",
      "| debt ratio %                    |categorical_hash                 |\n",
      "| net worth/assets                |categorical_hash                 |\n",
      "| borrowing dependency            |categorical_hash                 |\n",
      "| contingent liabilities/net worth|categorical_hash                 |\n",
      "| Operating profit/paid-in capital|categorical_hash                 |\n",
      "| total asset turnover            |categorical_hash                 |\n",
      "| accounts receivable turnover    |categorical_hash                 |\n",
      "| inventory turnover rate (times) |categorical_hash                 |\n",
      "| fixed assets Turnover frequency |categorical_hash                 |\n",
      "| net worth turnover rate (times) |categorical_hash                 |\n",
      "| operating profit per person     |categorical_hash                 |\n",
      "| cash turnover rate              |categorical_hash                 |\n",
      "+---------------------------------+---------------------------------+\n",
      "\n",
      "****************************************************************************************************\n",
      "\n",
      "****************************************************************************************************\n",
      "ITERATION: The iteration being evaluated.\n",
      "PIPELINE: A summary description of the pipeline being evaluated.\n",
      "DURATION: Time taken for the current iteration.\n",
      "METRIC: The result of computing score on the fitted pipeline.\n",
      "BEST: The best observed score thus far.\n",
      "****************************************************************************************************\n",
      "\n",
      " ITERATION   PIPELINE                                       DURATION      METRIC      BEST\n",
      "         2   MaxAbsScaler ExtremeRandomTrees                0:01:05       0.5208    0.5208\n",
      "         3   MaxAbsScaler ExtremeRandomTrees                0:01:07       0.9054    0.9054\n",
      "         6   MaxAbsScaler ExtremeRandomTrees                0:01:06       0.9131    0.9131\n",
      "         7   MaxAbsScaler RandomForest                      0:00:54       0.5014    0.9131\n",
      "         8   MaxAbsScaler RandomForest                      0:00:57       0.8950    0.9131\n",
      "         9   StandardScalerWrapper XGBoostClassifier        0:01:18       0.9058    0.9131\n",
      "         0   MaxAbsScaler LightGBM                          0:05:39       0.9242    0.9242\n",
      "         4   MaxAbsScaler ExtremeRandomTrees                0:05:37       0.8702    0.9242\n",
      "         5   MaxAbsScaler RandomForest                      0:05:27       0.6855    0.9242\n",
      "        10   MaxAbsScaler SGD                               0:00:54       0.7429    0.9242\n",
      "        11   MaxAbsScaler ExtremeRandomTrees                0:00:59       0.8890    0.9242\n",
      "        12   MaxAbsScaler RandomForest                      0:00:57       0.5515    0.9242\n",
      "        13   MaxAbsScaler RandomForest                      0:00:53       0.5730    0.9242\n",
      "         1   MaxAbsScaler XGBoostClassifier                 0:07:13       0.9239    0.9242\n",
      "        14   MaxAbsScaler ExtremeRandomTrees                0:00:55       0.5006    0.9242\n",
      "        17   MaxAbsScaler LightGBM                          0:00:59       0.8960    0.9242\n",
      "        15   SparseNormalizer ExtremeRandomTrees            0:01:15       0.8878    0.9242\n",
      "        18   StandardScalerWrapper LightGBM                 0:00:53       0.9186    0.9242\n",
      "        16   MaxAbsScaler ExtremeRandomTrees                0:01:18       0.9024    0.9242\n",
      "        19   SparseNormalizer LightGBM                      0:00:54       0.9184    0.9242\n",
      "        20   SparseNormalizer GradientBoosting              0:01:03       0.9071    0.9242\n",
      "        21   MaxAbsScaler LightGBM                          0:00:58       0.9121    0.9242\n",
      "        22   SparseNormalizer LightGBM                      0:00:50       0.9082    0.9242\n",
      "        23   SparseNormalizer LightGBM                      0:01:03       0.9116    0.9242\n",
      "        24   TruncatedSVDWrapper XGBoostClassifier          0:01:33       0.8547    0.9242\n",
      "        25   SparseNormalizer LightGBM                      0:00:56       0.9048    0.9242\n",
      "        26   TruncatedSVDWrapper XGBoostClassifier          0:02:00       0.8588    0.9242\n",
      "        28   TruncatedSVDWrapper XGBoostClassifier          0:01:51       0.8552    0.9242\n",
      "        29   SparseNormalizer ExtremeRandomTrees            0:00:55       0.5547    0.9242\n",
      "        30   SparseNormalizer LightGBM                      0:00:52       0.8929    0.9242\n",
      "        27   TruncatedSVDWrapper XGBoostClassifier          0:02:12       0.8684    0.9242\n",
      "        31   MaxAbsScaler LightGBM                          0:00:56       0.9182    0.9242\n",
      "        32   SparseNormalizer LightGBM                      0:00:54       0.9137    0.9242\n",
      "        33   MaxAbsScaler LightGBM                          0:00:55       0.9194    0.9242\n",
      "        34   MaxAbsScaler LightGBM                          0:00:55       0.9151    0.9242\n",
      "        35   SparseNormalizer LightGBM                      0:00:50       0.9174    0.9242\n",
      "        36                                                  0:00:17          nan    0.9242\n",
      "        37                                                  0:00:18          nan    0.9242\n",
      "        39    StackEnsemble                                 0:03:20       0.9304    0.9304\n",
      "        38    VotingEnsemble                                0:03:26       0.9335    0.9335\n"
     ]
    }
   ],
   "source": [
    "# Submitting the experiment\n",
    "remote_run = experiment.submit(automl_config, show_output=True)"
   ]
  },
  {
   "cell_type": "markdown",
   "metadata": {},
   "source": [
    "## Run Details"
   ]
  },
  {
   "cell_type": "code",
   "execution_count": 9,
   "metadata": {
    "collapsed": false,
    "gather": {
     "logged": 1598431121770
    },
    "jupyter": {
     "outputs_hidden": false,
     "source_hidden": false
    },
    "nteract": {
     "transient": {
      "deleting": false
     }
    }
   },
   "outputs": [
    {
     "data": {
      "application/vnd.jupyter.widget-view+json": {
       "model_id": "65dc024d24e844d8990df053ad0a28f2",
       "version_major": 2,
       "version_minor": 0
      },
      "text/plain": [
       "_AutoMLWidget(widget_settings={'childWidgetDisplay': 'popup', 'send_telemetry': False, 'log_level': 'INFO', 's…"
      ]
     },
     "metadata": {},
     "output_type": "display_data"
    },
    {
     "data": {
      "application/aml.mini.widget.v1": "{\"status\": \"Completed\", \"workbench_run_details_uri\": \"https://ml.azure.com/experiments/Bankrupty_Automl/runs/AutoML_c5a5cd74-3017-4a1e-bbb2-19590578f0ae?wsid=/subscriptions/d7f39349-a66b-446e-aba6-0053c2cf1c11/resourcegroups/aml-quickstarts-137234/workspaces/quick-starts-ws-137234\", \"run_id\": \"AutoML_c5a5cd74-3017-4a1e-bbb2-19590578f0ae\", \"run_properties\": {\"run_id\": \"AutoML_c5a5cd74-3017-4a1e-bbb2-19590578f0ae\", \"created_utc\": \"2021-02-04T14:50:16.173287Z\", \"properties\": {\"num_iterations\": \"1000\", \"training_type\": \"TrainFull\", \"acquisition_function\": \"EI\", \"primary_metric\": \"average_precision_score_weighted\", \"train_split\": \"0\", \"acquisition_parameter\": \"0\", \"num_cross_validation\": \"4\", \"target\": \"cpu-cluster-4\", \"AMLSettingsJsonString\": \"{\\\"path\\\":null,\\\"name\\\":\\\"Bankrupty_Automl\\\",\\\"subscription_id\\\":\\\"d7f39349-a66b-446e-aba6-0053c2cf1c11\\\",\\\"resource_group\\\":\\\"aml-quickstarts-137234\\\",\\\"workspace_name\\\":\\\"quick-starts-ws-137234\\\",\\\"region\\\":\\\"southcentralus\\\",\\\"compute_target\\\":\\\"cpu-cluster-4\\\",\\\"spark_service\\\":null,\\\"azure_service\\\":\\\"remote\\\",\\\"many_models\\\":false,\\\"pipeline_fetch_max_batch_size\\\":1,\\\"iterations\\\":1000,\\\"primary_metric\\\":\\\"average_precision_score_weighted\\\",\\\"task_type\\\":\\\"classification\\\",\\\"data_script\\\":null,\\\"validation_size\\\":0.0,\\\"n_cross_validations\\\":4,\\\"y_min\\\":null,\\\"y_max\\\":null,\\\"num_classes\\\":null,\\\"featurization\\\":\\\"auto\\\",\\\"_ignore_package_version_incompatibilities\\\":false,\\\"is_timeseries\\\":false,\\\"max_cores_per_iteration\\\":1,\\\"max_concurrent_iterations\\\":5,\\\"iteration_timeout_minutes\\\":null,\\\"mem_in_mb\\\":null,\\\"enforce_time_on_windows\\\":false,\\\"experiment_timeout_minutes\\\":30,\\\"experiment_exit_score\\\":null,\\\"whitelist_models\\\":null,\\\"blacklist_algos\\\":[\\\"TensorFlowLinearClassifier\\\",\\\"TensorFlowDNN\\\"],\\\"supported_models\\\":[\\\"LightGBM\\\",\\\"XGBoostClassifier\\\",\\\"DecisionTree\\\",\\\"LogisticRegression\\\",\\\"RandomForest\\\",\\\"BernoulliNaiveBayes\\\",\\\"MultinomialNaiveBayes\\\",\\\"AveragedPerceptronClassifier\\\",\\\"ExtremeRandomTrees\\\",\\\"SVM\\\",\\\"SGD\\\",\\\"TensorFlowDNN\\\",\\\"TensorFlowLinearClassifier\\\",\\\"KNN\\\",\\\"LinearSVM\\\",\\\"GradientBoosting\\\"],\\\"auto_blacklist\\\":true,\\\"blacklist_samples_reached\\\":false,\\\"exclude_nan_labels\\\":true,\\\"verbosity\\\":20,\\\"_debug_log\\\":\\\"azureml_automl.log\\\",\\\"show_warnings\\\":false,\\\"model_explainability\\\":true,\\\"service_url\\\":null,\\\"sdk_url\\\":null,\\\"sdk_packages\\\":null,\\\"enable_onnx_compatible_models\\\":false,\\\"enable_split_onnx_featurizer_estimator_models\\\":false,\\\"vm_type\\\":\\\"STANDARD_D2_V2\\\",\\\"telemetry_verbosity\\\":20,\\\"send_telemetry\\\":true,\\\"enable_dnn\\\":false,\\\"scenario\\\":\\\"SDK-1.13.0\\\",\\\"environment_label\\\":null,\\\"force_text_dnn\\\":false,\\\"enable_feature_sweeping\\\":true,\\\"enable_early_stopping\\\":true,\\\"early_stopping_n_iters\\\":10,\\\"metrics\\\":null,\\\"enable_ensembling\\\":true,\\\"enable_stack_ensembling\\\":true,\\\"ensemble_iterations\\\":15,\\\"enable_tf\\\":false,\\\"enable_subsampling\\\":null,\\\"subsample_seed\\\":null,\\\"enable_nimbusml\\\":false,\\\"enable_streaming\\\":false,\\\"force_streaming\\\":false,\\\"track_child_runs\\\":true,\\\"allowed_private_models\\\":[],\\\"label_column_name\\\":\\\"Bankrupt?\\\",\\\"weight_column_name\\\":null,\\\"cv_split_column_names\\\":null,\\\"enable_local_managed\\\":false,\\\"_local_managed_run_id\\\":null,\\\"cost_mode\\\":1,\\\"lag_length\\\":0,\\\"metric_operation\\\":\\\"maximize\\\",\\\"preprocess\\\":true}\", \"DataPrepJsonString\": \"{\\\\\\\"training_data\\\\\\\": \\\\\\\"{\\\\\\\\\\\\\\\"blocks\\\\\\\\\\\\\\\": [{\\\\\\\\\\\\\\\"id\\\\\\\\\\\\\\\": \\\\\\\\\\\\\\\"03be23c6-c32b-4354-87c5-c8fdaa990e86\\\\\\\\\\\\\\\", \\\\\\\\\\\\\\\"type\\\\\\\\\\\\\\\": \\\\\\\\\\\\\\\"Microsoft.DPrep.GetDatastoreFilesBlock\\\\\\\\\\\\\\\", \\\\\\\\\\\\\\\"arguments\\\\\\\\\\\\\\\": {\\\\\\\\\\\\\\\"datastores\\\\\\\\\\\\\\\": [{\\\\\\\\\\\\\\\"datastoreName\\\\\\\\\\\\\\\": \\\\\\\\\\\\\\\"workspaceblobstore\\\\\\\\\\\\\\\", \\\\\\\\\\\\\\\"path\\\\\\\\\\\\\\\": \\\\\\\\\\\\\\\"UI/02-04-2021_023848_UTC/data.csv\\\\\\\\\\\\\\\", \\\\\\\\\\\\\\\"resourceGroup\\\\\\\\\\\\\\\": \\\\\\\\\\\\\\\"aml-quickstarts-137234\\\\\\\\\\\\\\\", \\\\\\\\\\\\\\\"subscription\\\\\\\\\\\\\\\": \\\\\\\\\\\\\\\"d7f39349-a66b-446e-aba6-0053c2cf1c11\\\\\\\\\\\\\\\", \\\\\\\\\\\\\\\"workspaceName\\\\\\\\\\\\\\\": \\\\\\\\\\\\\\\"quick-starts-ws-137234\\\\\\\\\\\\\\\"}]}, \\\\\\\\\\\\\\\"localData\\\\\\\\\\\\\\\": {}, \\\\\\\\\\\\\\\"isEnabled\\\\\\\\\\\\\\\": true, \\\\\\\\\\\\\\\"name\\\\\\\\\\\\\\\": null, \\\\\\\\\\\\\\\"annotation\\\\\\\\\\\\\\\": null}, {\\\\\\\\\\\\\\\"id\\\\\\\\\\\\\\\": \\\\\\\\\\\\\\\"1eedf4eb-da61-4ecd-ac47-0cc025508499\\\\\\\\\\\\\\\", \\\\\\\\\\\\\\\"type\\\\\\\\\\\\\\\": \\\\\\\\\\\\\\\"Microsoft.DPrep.ParseDelimitedBlock\\\\\\\\\\\\\\\", \\\\\\\\\\\\\\\"arguments\\\\\\\\\\\\\\\": {\\\\\\\\\\\\\\\"columnHeadersMode\\\\\\\\\\\\\\\": 1, \\\\\\\\\\\\\\\"fileEncoding\\\\\\\\\\\\\\\": 0, \\\\\\\\\\\\\\\"handleQuotedLineBreaks\\\\\\\\\\\\\\\": false, \\\\\\\\\\\\\\\"preview\\\\\\\\\\\\\\\": false, \\\\\\\\\\\\\\\"separator\\\\\\\\\\\\\\\": \\\\\\\\\\\\\\\",\\\\\\\\\\\\\\\", \\\\\\\\\\\\\\\"skipRows\\\\\\\\\\\\\\\": 0, \\\\\\\\\\\\\\\"skipRowsMode\\\\\\\\\\\\\\\": 0}, \\\\\\\\\\\\\\\"localData\\\\\\\\\\\\\\\": {}, \\\\\\\\\\\\\\\"isEnabled\\\\\\\\\\\\\\\": true, \\\\\\\\\\\\\\\"name\\\\\\\\\\\\\\\": null, \\\\\\\\\\\\\\\"annotation\\\\\\\\\\\\\\\": null}, {\\\\\\\\\\\\\\\"id\\\\\\\\\\\\\\\": \\\\\\\\\\\\\\\"116fb422-1e00-44b4-8dda-68b920d7fac2\\\\\\\\\\\\\\\", \\\\\\\\\\\\\\\"type\\\\\\\\\\\\\\\": \\\\\\\\\\\\\\\"Microsoft.DPrep.DropColumnsBlock\\\\\\\\\\\\\\\", \\\\\\\\\\\\\\\"arguments\\\\\\\\\\\\\\\": {\\\\\\\\\\\\\\\"columns\\\\\\\\\\\\\\\": {\\\\\\\\\\\\\\\"type\\\\\\\\\\\\\\\": 0, \\\\\\\\\\\\\\\"details\\\\\\\\\\\\\\\": {\\\\\\\\\\\\\\\"selectedColumns\\\\\\\\\\\\\\\": [\\\\\\\\\\\\\\\"Path\\\\\\\\\\\\\\\"]}}}, \\\\\\\\\\\\\\\"localData\\\\\\\\\\\\\\\": {}, \\\\\\\\\\\\\\\"isEnabled\\\\\\\\\\\\\\\": true, \\\\\\\\\\\\\\\"name\\\\\\\\\\\\\\\": null, \\\\\\\\\\\\\\\"annotation\\\\\\\\\\\\\\\": null}, {\\\\\\\\\\\\\\\"id\\\\\\\\\\\\\\\": \\\\\\\\\\\\\\\"9dd8f815-8f01-4a47-aea1-3a1f0d0cb585\\\\\\\\\\\\\\\", \\\\\\\\\\\\\\\"type\\\\\\\\\\\\\\\": \\\\\\\\\\\\\\\"Microsoft.DPrep.SetColumnTypesBlock\\\\\\\\\\\\\\\", \\\\\\\\\\\\\\\"arguments\\\\\\\\\\\\\\\": {\\\\\\\\\\\\\\\"columnConversion\\\\\\\\\\\\\\\": [{\\\\\\\\\\\\\\\"column\\\\\\\\\\\\\\\": {\\\\\\\\\\\\\\\"type\\\\\\\\\\\\\\\": 2, \\\\\\\\\\\\\\\"details\\\\\\\\\\\\\\\": {\\\\\\\\\\\\\\\"selectedColumn\\\\\\\\\\\\\\\": \\\\\\\\\\\\\\\"Path\\\\\\\\\\\\\\\"}}, \\\\\\\\\\\\\\\"typeProperty\\\\\\\\\\\\\\\": 0}, {\\\\\\\\\\\\\\\"column\\\\\\\\\\\\\\\": {\\\\\\\\\\\\\\\"type\\\\\\\\\\\\\\\": 2, \\\\\\\\\\\\\\\"details\\\\\\\\\\\\\\\": {\\\\\\\\\\\\\\\"selectedColumn\\\\\\\\\\\\\\\": \\\\\\\\\\\\\\\"Bankrupt?\\\\\\\\\\\\\\\"}}, \\\\\\\\\\\\\\\"typeProperty\\\\\\\\\\\\\\\": 2}, {\\\\\\\\\\\\\\\"column\\\\\\\\\\\\\\\": {\\\\\\\\\\\\\\\"type\\\\\\\\\\\\\\\": 2, \\\\\\\\\\\\\\\"details\\\\\\\\\\\\\\\": {\\\\\\\\\\\\\\\"selectedColumn\\\\\\\\\\\\\\\": \\\\\\\\\\\\\\\"ROA(C) before interest and depreciation before interest\\\\\\\\\\\\\\\"}}, \\\\\\\\\\\\\\\"typeProperty\\\\\\\\\\\\\\\": 3}, {\\\\\\\\\\\\\\\"column\\\\\\\\\\\\\\\": {\\\\\\\\\\\\\\\"type\\\\\\\\\\\\\\\": 2, \\\\\\\\\\\\\\\"details\\\\\\\\\\\\\\\": {\\\\\\\\\\\\\\\"selectedColumn\\\\\\\\\\\\\\\": \\\\\\\\\\\\\\\"ROA(A) before interest and % after tax\\\\\\\\\\\\\\\"}}, \\\\\\\\\\\\\\\"typeProperty\\\\\\\\\\\\\\\": 3}, {\\\\\\\\\\\\\\\"column\\\\\\\\\\\\\\\": {\\\\\\\\\\\\\\\"type\\\\\\\\\\\\\\\": 2, \\\\\\\\\\\\\\\"details\\\\\\\\\\\\\\\": {\\\\\\\\\\\\\\\"selectedColumn\\\\\\\\\\\\\\\": \\\\\\\\\\\\\\\"ROA(B) before interest and depreciation after tax\\\\\\\\\\\\\\\"}}, \\\\\\\\\\\\\\\"typeProperty\\\\\\\\\\\\\\\": 3}, {\\\\\\\\\\\\\\\"column\\\\\\\\\\\\\\\": {\\\\\\\\\\\\\\\"type\\\\\\\\\\\\\\\": 2, \\\\\\\\\\\\\\\"details\\\\\\\\\\\\\\\": {\\\\\\\\\\\\\\\"selectedColumn\\\\\\\\\\\\\\\": \\\\\\\\\\\\\\\"operating gross margin\\\\\\\\\\\\\\\"}}, \\\\\\\\\\\\\\\"typeProperty\\\\\\\\\\\\\\\": 3}, {\\\\\\\\\\\\\\\"column\\\\\\\\\\\\\\\": {\\\\\\\\\\\\\\\"type\\\\\\\\\\\\\\\": 2, \\\\\\\\\\\\\\\"details\\\\\\\\\\\\\\\": {\\\\\\\\\\\\\\\"selectedColumn\\\\\\\\\\\\\\\": \\\\\\\\\\\\\\\"realized sales gross margin\\\\\\\\\\\\\\\"}}, \\\\\\\\\\\\\\\"typeProperty\\\\\\\\\\\\\\\": 3}, {\\\\\\\\\\\\\\\"column\\\\\\\\\\\\\\\": {\\\\\\\\\\\\\\\"type\\\\\\\\\\\\\\\": 2, \\\\\\\\\\\\\\\"details\\\\\\\\\\\\\\\": {\\\\\\\\\\\\\\\"selectedColumn\\\\\\\\\\\\\\\": \\\\\\\\\\\\\\\"operating profit rate\\\\\\\\\\\\\\\"}}, \\\\\\\\\\\\\\\"typeProperty\\\\\\\\\\\\\\\": 3}, {\\\\\\\\\\\\\\\"column\\\\\\\\\\\\\\\": {\\\\\\\\\\\\\\\"type\\\\\\\\\\\\\\\": 2, \\\\\\\\\\\\\\\"details\\\\\\\\\\\\\\\": {\\\\\\\\\\\\\\\"selectedColumn\\\\\\\\\\\\\\\": \\\\\\\\\\\\\\\"tax Pre-net interest rate\\\\\\\\\\\\\\\"}}, \\\\\\\\\\\\\\\"typeProperty\\\\\\\\\\\\\\\": 3}, {\\\\\\\\\\\\\\\"column\\\\\\\\\\\\\\\": {\\\\\\\\\\\\\\\"type\\\\\\\\\\\\\\\": 2, \\\\\\\\\\\\\\\"details\\\\\\\\\\\\\\\": {\\\\\\\\\\\\\\\"selectedColumn\\\\\\\\\\\\\\\": \\\\\\\\\\\\\\\"after-tax net interest rate\\\\\\\\\\\\\\\"}}, \\\\\\\\\\\\\\\"typeProperty\\\\\\\\\\\\\\\": 3}, {\\\\\\\\\\\\\\\"column\\\\\\\\\\\\\\\": {\\\\\\\\\\\\\\\"type\\\\\\\\\\\\\\\": 2, \\\\\\\\\\\\\\\"details\\\\\\\\\\\\\\\": {\\\\\\\\\\\\\\\"selectedColumn\\\\\\\\\\\\\\\": \\\\\\\\\\\\\\\"non-industry income and expenditure/revenue\\\\\\\\\\\\\\\"}}, \\\\\\\\\\\\\\\"typeProperty\\\\\\\\\\\\\\\": 3}, {\\\\\\\\\\\\\\\"column\\\\\\\\\\\\\\\": {\\\\\\\\\\\\\\\"type\\\\\\\\\\\\\\\": 2, \\\\\\\\\\\\\\\"details\\\\\\\\\\\\\\\": {\\\\\\\\\\\\\\\"selectedColumn\\\\\\\\\\\\\\\": \\\\\\\\\\\\\\\"continuous interest rate (after tax)\\\\\\\\\\\\\\\"}}, \\\\\\\\\\\\\\\"typeProperty\\\\\\\\\\\\\\\": 3}, {\\\\\\\\\\\\\\\"column\\\\\\\\\\\\\\\": {\\\\\\\\\\\\\\\"type\\\\\\\\\\\\\\\": 2, \\\\\\\\\\\\\\\"details\\\\\\\\\\\\\\\": {\\\\\\\\\\\\\\\"selectedColumn\\\\\\\\\\\\\\\": \\\\\\\\\\\\\\\"operating expense rate\\\\\\\\\\\\\\\"}}, \\\\\\\\\\\\\\\"typeProperty\\\\\\\\\\\\\\\": 3}, {\\\\\\\\\\\\\\\"column\\\\\\\\\\\\\\\": {\\\\\\\\\\\\\\\"type\\\\\\\\\\\\\\\": 2, \\\\\\\\\\\\\\\"details\\\\\\\\\\\\\\\": {\\\\\\\\\\\\\\\"selectedColumn\\\\\\\\\\\\\\\": \\\\\\\\\\\\\\\"research and development expense rate\\\\\\\\\\\\\\\"}}, \\\\\\\\\\\\\\\"typeProperty\\\\\\\\\\\\\\\": 2}, {\\\\\\\\\\\\\\\"column\\\\\\\\\\\\\\\": {\\\\\\\\\\\\\\\"type\\\\\\\\\\\\\\\": 2, \\\\\\\\\\\\\\\"details\\\\\\\\\\\\\\\": {\\\\\\\\\\\\\\\"selectedColumn\\\\\\\\\\\\\\\": \\\\\\\\\\\\\\\"cash flow rate\\\\\\\\\\\\\\\"}}, \\\\\\\\\\\\\\\"typeProperty\\\\\\\\\\\\\\\": 3}, {\\\\\\\\\\\\\\\"column\\\\\\\\\\\\\\\": {\\\\\\\\\\\\\\\"type\\\\\\\\\\\\\\\": 2, \\\\\\\\\\\\\\\"details\\\\\\\\\\\\\\\": {\\\\\\\\\\\\\\\"selectedColumn\\\\\\\\\\\\\\\": \\\\\\\\\\\\\\\"interest-bearing debt interest rate\\\\\\\\\\\\\\\"}}, \\\\\\\\\\\\\\\"typeProperty\\\\\\\\\\\\\\\": 3}, {\\\\\\\\\\\\\\\"column\\\\\\\\\\\\\\\": {\\\\\\\\\\\\\\\"type\\\\\\\\\\\\\\\": 2, \\\\\\\\\\\\\\\"details\\\\\\\\\\\\\\\": {\\\\\\\\\\\\\\\"selectedColumn\\\\\\\\\\\\\\\": \\\\\\\\\\\\\\\"tax rate (A)\\\\\\\\\\\\\\\"}}, \\\\\\\\\\\\\\\"typeProperty\\\\\\\\\\\\\\\": 3}, {\\\\\\\\\\\\\\\"column\\\\\\\\\\\\\\\": {\\\\\\\\\\\\\\\"type\\\\\\\\\\\\\\\": 2, \\\\\\\\\\\\\\\"details\\\\\\\\\\\\\\\": {\\\\\\\\\\\\\\\"selectedColumn\\\\\\\\\\\\\\\": \\\\\\\\\\\\\\\"per Net Share Value (B)\\\\\\\\\\\\\\\"}}, \\\\\\\\\\\\\\\"typeProperty\\\\\\\\\\\\\\\": 3}, {\\\\\\\\\\\\\\\"column\\\\\\\\\\\\\\\": {\\\\\\\\\\\\\\\"type\\\\\\\\\\\\\\\": 2, \\\\\\\\\\\\\\\"details\\\\\\\\\\\\\\\": {\\\\\\\\\\\\\\\"selectedColumn\\\\\\\\\\\\\\\": \\\\\\\\\\\\\\\"Net Value Per Share (A)\\\\\\\\\\\\\\\"}}, \\\\\\\\\\\\\\\"typeProperty\\\\\\\\\\\\\\\": 3}, {\\\\\\\\\\\\\\\"column\\\\\\\\\\\\\\\": {\\\\\\\\\\\\\\\"type\\\\\\\\\\\\\\\": 2, \\\\\\\\\\\\\\\"details\\\\\\\\\\\\\\\": {\\\\\\\\\\\\\\\"selectedColumn\\\\\\\\\\\\\\\": \\\\\\\\\\\\\\\"Net Value Per Share (C)\\\\\\\\\\\\\\\"}}, \\\\\\\\\\\\\\\"typeProperty\\\\\\\\\\\\\\\": 3}, {\\\\\\\\\\\\\\\"column\\\\\\\\\\\\\\\": {\\\\\\\\\\\\\\\"type\\\\\\\\\\\\\\\": 2, \\\\\\\\\\\\\\\"details\\\\\\\\\\\\\\\": {\\\\\\\\\\\\\\\"selectedColumn\\\\\\\\\\\\\\\": \\\\\\\\\\\\\\\"Persistent EPS in the Last Four Seasons\\\\\\\\\\\\\\\"}}, \\\\\\\\\\\\\\\"typeProperty\\\\\\\\\\\\\\\": 3}, {\\\\\\\\\\\\\\\"column\\\\\\\\\\\\\\\": {\\\\\\\\\\\\\\\"type\\\\\\\\\\\\\\\": 2, \\\\\\\\\\\\\\\"details\\\\\\\\\\\\\\\": {\\\\\\\\\\\\\\\"selectedColumn\\\\\\\\\\\\\\\": \\\\\\\\\\\\\\\"Cash Flow Per Share\\\\\\\\\\\\\\\"}}, \\\\\\\\\\\\\\\"typeProperty\\\\\\\\\\\\\\\": 3}, {\\\\\\\\\\\\\\\"column\\\\\\\\\\\\\\\": {\\\\\\\\\\\\\\\"type\\\\\\\\\\\\\\\": 2, \\\\\\\\\\\\\\\"details\\\\\\\\\\\\\\\": {\\\\\\\\\\\\\\\"selectedColumn\\\\\\\\\\\\\\\": \\\\\\\\\\\\\\\"Revenue Per Share (Yuan)\\\\\\\\\\\\\\\"}}, \\\\\\\\\\\\\\\"typeProperty\\\\\\\\\\\\\\\": 3}, {\\\\\\\\\\\\\\\"column\\\\\\\\\\\\\\\": {\\\\\\\\\\\\\\\"type\\\\\\\\\\\\\\\": 2, \\\\\\\\\\\\\\\"details\\\\\\\\\\\\\\\": {\\\\\\\\\\\\\\\"selectedColumn\\\\\\\\\\\\\\\": \\\\\\\\\\\\\\\"Operating Profit Per Share (Yuan)\\\\\\\\\\\\\\\"}}, \\\\\\\\\\\\\\\"typeProperty\\\\\\\\\\\\\\\": 3}, {\\\\\\\\\\\\\\\"column\\\\\\\\\\\\\\\": {\\\\\\\\\\\\\\\"type\\\\\\\\\\\\\\\": 2, \\\\\\\\\\\\\\\"details\\\\\\\\\\\\\\\": {\\\\\\\\\\\\\\\"selectedColumn\\\\\\\\\\\\\\\": \\\\\\\\\\\\\\\"Per Share Net profit before tax (yuan)\\\\\\\\\\\\\\\"}}, \\\\\\\\\\\\\\\"typeProperty\\\\\\\\\\\\\\\": 3}, {\\\\\\\\\\\\\\\"column\\\\\\\\\\\\\\\": {\\\\\\\\\\\\\\\"type\\\\\\\\\\\\\\\": 2, \\\\\\\\\\\\\\\"details\\\\\\\\\\\\\\\": {\\\\\\\\\\\\\\\"selectedColumn\\\\\\\\\\\\\\\": \\\\\\\\\\\\\\\"realized sales gross profit growth rate\\\\\\\\\\\\\\\"}}, \\\\\\\\\\\\\\\"typeProperty\\\\\\\\\\\\\\\": 3}, {\\\\\\\\\\\\\\\"column\\\\\\\\\\\\\\\": {\\\\\\\\\\\\\\\"type\\\\\\\\\\\\\\\": 2, \\\\\\\\\\\\\\\"details\\\\\\\\\\\\\\\": {\\\\\\\\\\\\\\\"selectedColumn\\\\\\\\\\\\\\\": \\\\\\\\\\\\\\\"operating profit growth rate\\\\\\\\\\\\\\\"}}, \\\\\\\\\\\\\\\"typeProperty\\\\\\\\\\\\\\\": 3}, {\\\\\\\\\\\\\\\"column\\\\\\\\\\\\\\\": {\\\\\\\\\\\\\\\"type\\\\\\\\\\\\\\\": 2, \\\\\\\\\\\\\\\"details\\\\\\\\\\\\\\\": {\\\\\\\\\\\\\\\"selectedColumn\\\\\\\\\\\\\\\": \\\\\\\\\\\\\\\"after-tax net profit growth rate\\\\\\\\\\\\\\\"}}, \\\\\\\\\\\\\\\"typeProperty\\\\\\\\\\\\\\\": 3}, {\\\\\\\\\\\\\\\"column\\\\\\\\\\\\\\\": {\\\\\\\\\\\\\\\"type\\\\\\\\\\\\\\\": 2, \\\\\\\\\\\\\\\"details\\\\\\\\\\\\\\\": {\\\\\\\\\\\\\\\"selectedColumn\\\\\\\\\\\\\\\": \\\\\\\\\\\\\\\"regular net profit growth rate\\\\\\\\\\\\\\\"}}, \\\\\\\\\\\\\\\"typeProperty\\\\\\\\\\\\\\\": 3}, {\\\\\\\\\\\\\\\"column\\\\\\\\\\\\\\\": {\\\\\\\\\\\\\\\"type\\\\\\\\\\\\\\\": 2, \\\\\\\\\\\\\\\"details\\\\\\\\\\\\\\\": {\\\\\\\\\\\\\\\"selectedColumn\\\\\\\\\\\\\\\": \\\\\\\\\\\\\\\"continuous net profit growth rate\\\\\\\\\\\\\\\"}}, \\\\\\\\\\\\\\\"typeProperty\\\\\\\\\\\\\\\": 3}, {\\\\\\\\\\\\\\\"column\\\\\\\\\\\\\\\": {\\\\\\\\\\\\\\\"type\\\\\\\\\\\\\\\": 2, \\\\\\\\\\\\\\\"details\\\\\\\\\\\\\\\": {\\\\\\\\\\\\\\\"selectedColumn\\\\\\\\\\\\\\\": \\\\\\\\\\\\\\\"total asset growth rate\\\\\\\\\\\\\\\"}}, \\\\\\\\\\\\\\\"typeProperty\\\\\\\\\\\\\\\": 3}, {\\\\\\\\\\\\\\\"column\\\\\\\\\\\\\\\": {\\\\\\\\\\\\\\\"type\\\\\\\\\\\\\\\": 2, \\\\\\\\\\\\\\\"details\\\\\\\\\\\\\\\": {\\\\\\\\\\\\\\\"selectedColumn\\\\\\\\\\\\\\\": \\\\\\\\\\\\\\\"net value growth rate\\\\\\\\\\\\\\\"}}, \\\\\\\\\\\\\\\"typeProperty\\\\\\\\\\\\\\\": 3}, {\\\\\\\\\\\\\\\"column\\\\\\\\\\\\\\\": {\\\\\\\\\\\\\\\"type\\\\\\\\\\\\\\\": 2, \\\\\\\\\\\\\\\"details\\\\\\\\\\\\\\\": {\\\\\\\\\\\\\\\"selectedColumn\\\\\\\\\\\\\\\": \\\\\\\\\\\\\\\"total asset return growth rate Ratio\\\\\\\\\\\\\\\"}}, \\\\\\\\\\\\\\\"typeProperty\\\\\\\\\\\\\\\": 3}, {\\\\\\\\\\\\\\\"column\\\\\\\\\\\\\\\": {\\\\\\\\\\\\\\\"type\\\\\\\\\\\\\\\": 2, \\\\\\\\\\\\\\\"details\\\\\\\\\\\\\\\": {\\\\\\\\\\\\\\\"selectedColumn\\\\\\\\\\\\\\\": \\\\\\\\\\\\\\\"cash reinvestment %\\\\\\\\\\\\\\\"}}, \\\\\\\\\\\\\\\"typeProperty\\\\\\\\\\\\\\\": 3}, {\\\\\\\\\\\\\\\"column\\\\\\\\\\\\\\\": {\\\\\\\\\\\\\\\"type\\\\\\\\\\\\\\\": 2, \\\\\\\\\\\\\\\"details\\\\\\\\\\\\\\\": {\\\\\\\\\\\\\\\"selectedColumn\\\\\\\\\\\\\\\": \\\\\\\\\\\\\\\"current ratio\\\\\\\\\\\\\\\"}}, \\\\\\\\\\\\\\\"typeProperty\\\\\\\\\\\\\\\": 3}, {\\\\\\\\\\\\\\\"column\\\\\\\\\\\\\\\": {\\\\\\\\\\\\\\\"type\\\\\\\\\\\\\\\": 2, \\\\\\\\\\\\\\\"details\\\\\\\\\\\\\\\": {\\\\\\\\\\\\\\\"selectedColumn\\\\\\\\\\\\\\\": \\\\\\\\\\\\\\\"quick ratio\\\\\\\\\\\\\\\"}}, \\\\\\\\\\\\\\\"typeProperty\\\\\\\\\\\\\\\": 3}, {\\\\\\\\\\\\\\\"column\\\\\\\\\\\\\\\": {\\\\\\\\\\\\\\\"type\\\\\\\\\\\\\\\": 2, \\\\\\\\\\\\\\\"details\\\\\\\\\\\\\\\": {\\\\\\\\\\\\\\\"selectedColumn\\\\\\\\\\\\\\\": \\\\\\\\\\\\\\\"interest expense ratio\\\\\\\\\\\\\\\"}}, \\\\\\\\\\\\\\\"typeProperty\\\\\\\\\\\\\\\": 3}, {\\\\\\\\\\\\\\\"column\\\\\\\\\\\\\\\": {\\\\\\\\\\\\\\\"type\\\\\\\\\\\\\\\": 2, \\\\\\\\\\\\\\\"details\\\\\\\\\\\\\\\": {\\\\\\\\\\\\\\\"selectedColumn\\\\\\\\\\\\\\\": \\\\\\\\\\\\\\\"total debt/total net worth\\\\\\\\\\\\\\\"}}, \\\\\\\\\\\\\\\"typeProperty\\\\\\\\\\\\\\\": 3}, {\\\\\\\\\\\\\\\"column\\\\\\\\\\\\\\\": {\\\\\\\\\\\\\\\"type\\\\\\\\\\\\\\\": 2, \\\\\\\\\\\\\\\"details\\\\\\\\\\\\\\\": {\\\\\\\\\\\\\\\"selectedColumn\\\\\\\\\\\\\\\": \\\\\\\\\\\\\\\"debt ratio %\\\\\\\\\\\\\\\"}}, \\\\\\\\\\\\\\\"typeProperty\\\\\\\\\\\\\\\": 3}, {\\\\\\\\\\\\\\\"column\\\\\\\\\\\\\\\": {\\\\\\\\\\\\\\\"type\\\\\\\\\\\\\\\": 2, \\\\\\\\\\\\\\\"details\\\\\\\\\\\\\\\": {\\\\\\\\\\\\\\\"selectedColumn\\\\\\\\\\\\\\\": \\\\\\\\\\\\\\\"net worth/assets\\\\\\\\\\\\\\\"}}, \\\\\\\\\\\\\\\"typeProperty\\\\\\\\\\\\\\\": 3}, {\\\\\\\\\\\\\\\"column\\\\\\\\\\\\\\\": {\\\\\\\\\\\\\\\"type\\\\\\\\\\\\\\\": 2, \\\\\\\\\\\\\\\"details\\\\\\\\\\\\\\\": {\\\\\\\\\\\\\\\"selectedColumn\\\\\\\\\\\\\\\": \\\\\\\\\\\\\\\"long-term fund suitability ratio (A)\\\\\\\\\\\\\\\"}}, \\\\\\\\\\\\\\\"typeProperty\\\\\\\\\\\\\\\": 3}, {\\\\\\\\\\\\\\\"column\\\\\\\\\\\\\\\": {\\\\\\\\\\\\\\\"type\\\\\\\\\\\\\\\": 2, \\\\\\\\\\\\\\\"details\\\\\\\\\\\\\\\": {\\\\\\\\\\\\\\\"selectedColumn\\\\\\\\\\\\\\\": \\\\\\\\\\\\\\\"borrowing dependency\\\\\\\\\\\\\\\"}}, \\\\\\\\\\\\\\\"typeProperty\\\\\\\\\\\\\\\": 3}, {\\\\\\\\\\\\\\\"column\\\\\\\\\\\\\\\": {\\\\\\\\\\\\\\\"type\\\\\\\\\\\\\\\": 2, \\\\\\\\\\\\\\\"details\\\\\\\\\\\\\\\": {\\\\\\\\\\\\\\\"selectedColumn\\\\\\\\\\\\\\\": \\\\\\\\\\\\\\\"contingent liabilities/net worth\\\\\\\\\\\\\\\"}}, \\\\\\\\\\\\\\\"typeProperty\\\\\\\\\\\\\\\": 3}, {\\\\\\\\\\\\\\\"column\\\\\\\\\\\\\\\": {\\\\\\\\\\\\\\\"type\\\\\\\\\\\\\\\": 2, \\\\\\\\\\\\\\\"details\\\\\\\\\\\\\\\": {\\\\\\\\\\\\\\\"selectedColumn\\\\\\\\\\\\\\\": \\\\\\\\\\\\\\\"Operating profit/paid-in capital\\\\\\\\\\\\\\\"}}, \\\\\\\\\\\\\\\"typeProperty\\\\\\\\\\\\\\\": 3}, {\\\\\\\\\\\\\\\"column\\\\\\\\\\\\\\\": {\\\\\\\\\\\\\\\"type\\\\\\\\\\\\\\\": 2, \\\\\\\\\\\\\\\"details\\\\\\\\\\\\\\\": {\\\\\\\\\\\\\\\"selectedColumn\\\\\\\\\\\\\\\": \\\\\\\\\\\\\\\"net profit before tax/paid-in capital\\\\\\\\\\\\\\\"}}, \\\\\\\\\\\\\\\"typeProperty\\\\\\\\\\\\\\\": 3}, {\\\\\\\\\\\\\\\"column\\\\\\\\\\\\\\\": {\\\\\\\\\\\\\\\"type\\\\\\\\\\\\\\\": 2, \\\\\\\\\\\\\\\"details\\\\\\\\\\\\\\\": {\\\\\\\\\\\\\\\"selectedColumn\\\\\\\\\\\\\\\": \\\\\\\\\\\\\\\"inventory and accounts receivable/net value\\\\\\\\\\\\\\\"}}, \\\\\\\\\\\\\\\"typeProperty\\\\\\\\\\\\\\\": 3}, {\\\\\\\\\\\\\\\"column\\\\\\\\\\\\\\\": {\\\\\\\\\\\\\\\"type\\\\\\\\\\\\\\\": 2, \\\\\\\\\\\\\\\"details\\\\\\\\\\\\\\\": {\\\\\\\\\\\\\\\"selectedColumn\\\\\\\\\\\\\\\": \\\\\\\\\\\\\\\"total asset turnover\\\\\\\\\\\\\\\"}}, \\\\\\\\\\\\\\\"typeProperty\\\\\\\\\\\\\\\": 3}, {\\\\\\\\\\\\\\\"column\\\\\\\\\\\\\\\": {\\\\\\\\\\\\\\\"type\\\\\\\\\\\\\\\": 2, \\\\\\\\\\\\\\\"details\\\\\\\\\\\\\\\": {\\\\\\\\\\\\\\\"selectedColumn\\\\\\\\\\\\\\\": \\\\\\\\\\\\\\\"accounts receivable turnover\\\\\\\\\\\\\\\"}}, \\\\\\\\\\\\\\\"typeProperty\\\\\\\\\\\\\\\": 3}, {\\\\\\\\\\\\\\\"column\\\\\\\\\\\\\\\": {\\\\\\\\\\\\\\\"type\\\\\\\\\\\\\\\": 2, \\\\\\\\\\\\\\\"details\\\\\\\\\\\\\\\": {\\\\\\\\\\\\\\\"selectedColumn\\\\\\\\\\\\\\\": \\\\\\\\\\\\\\\"average collection days\\\\\\\\\\\\\\\"}}, \\\\\\\\\\\\\\\"typeProperty\\\\\\\\\\\\\\\": 3}, {\\\\\\\\\\\\\\\"column\\\\\\\\\\\\\\\": {\\\\\\\\\\\\\\\"type\\\\\\\\\\\\\\\": 2, \\\\\\\\\\\\\\\"details\\\\\\\\\\\\\\\": {\\\\\\\\\\\\\\\"selectedColumn\\\\\\\\\\\\\\\": \\\\\\\\\\\\\\\"inventory turnover rate (times)\\\\\\\\\\\\\\\"}}, \\\\\\\\\\\\\\\"typeProperty\\\\\\\\\\\\\\\": 3}, {\\\\\\\\\\\\\\\"column\\\\\\\\\\\\\\\": {\\\\\\\\\\\\\\\"type\\\\\\\\\\\\\\\": 2, \\\\\\\\\\\\\\\"details\\\\\\\\\\\\\\\": {\\\\\\\\\\\\\\\"selectedColumn\\\\\\\\\\\\\\\": \\\\\\\\\\\\\\\"fixed assets Turnover frequency\\\\\\\\\\\\\\\"}}, \\\\\\\\\\\\\\\"typeProperty\\\\\\\\\\\\\\\": 3}, {\\\\\\\\\\\\\\\"column\\\\\\\\\\\\\\\": {\\\\\\\\\\\\\\\"type\\\\\\\\\\\\\\\": 2, \\\\\\\\\\\\\\\"details\\\\\\\\\\\\\\\": {\\\\\\\\\\\\\\\"selectedColumn\\\\\\\\\\\\\\\": \\\\\\\\\\\\\\\"net worth turnover rate (times)\\\\\\\\\\\\\\\"}}, \\\\\\\\\\\\\\\"typeProperty\\\\\\\\\\\\\\\": 3}, {\\\\\\\\\\\\\\\"column\\\\\\\\\\\\\\\": {\\\\\\\\\\\\\\\"type\\\\\\\\\\\\\\\": 2, \\\\\\\\\\\\\\\"details\\\\\\\\\\\\\\\": {\\\\\\\\\\\\\\\"selectedColumn\\\\\\\\\\\\\\\": \\\\\\\\\\\\\\\"revenue per person\\\\\\\\\\\\\\\"}}, \\\\\\\\\\\\\\\"typeProperty\\\\\\\\\\\\\\\": 3}, {\\\\\\\\\\\\\\\"column\\\\\\\\\\\\\\\": {\\\\\\\\\\\\\\\"type\\\\\\\\\\\\\\\": 2, \\\\\\\\\\\\\\\"details\\\\\\\\\\\\\\\": {\\\\\\\\\\\\\\\"selectedColumn\\\\\\\\\\\\\\\": \\\\\\\\\\\\\\\"operating profit per person\\\\\\\\\\\\\\\"}}, \\\\\\\\\\\\\\\"typeProperty\\\\\\\\\\\\\\\": 3}, {\\\\\\\\\\\\\\\"column\\\\\\\\\\\\\\\": {\\\\\\\\\\\\\\\"type\\\\\\\\\\\\\\\": 2, \\\\\\\\\\\\\\\"details\\\\\\\\\\\\\\\": {\\\\\\\\\\\\\\\"selectedColumn\\\\\\\\\\\\\\\": \\\\\\\\\\\\\\\"allocation rate per person\\\\\\\\\\\\\\\"}}, \\\\\\\\\\\\\\\"typeProperty\\\\\\\\\\\\\\\": 3}, {\\\\\\\\\\\\\\\"column\\\\\\\\\\\\\\\": {\\\\\\\\\\\\\\\"type\\\\\\\\\\\\\\\": 2, \\\\\\\\\\\\\\\"details\\\\\\\\\\\\\\\": {\\\\\\\\\\\\\\\"selectedColumn\\\\\\\\\\\\\\\": \\\\\\\\\\\\\\\"working capital to total assets\\\\\\\\\\\\\\\"}}, \\\\\\\\\\\\\\\"typeProperty\\\\\\\\\\\\\\\": 3}, {\\\\\\\\\\\\\\\"column\\\\\\\\\\\\\\\": {\\\\\\\\\\\\\\\"type\\\\\\\\\\\\\\\": 2, \\\\\\\\\\\\\\\"details\\\\\\\\\\\\\\\": {\\\\\\\\\\\\\\\"selectedColumn\\\\\\\\\\\\\\\": \\\\\\\\\\\\\\\"Quick asset/Total asset\\\\\\\\\\\\\\\"}}, \\\\\\\\\\\\\\\"typeProperty\\\\\\\\\\\\\\\": 3}, {\\\\\\\\\\\\\\\"column\\\\\\\\\\\\\\\": {\\\\\\\\\\\\\\\"type\\\\\\\\\\\\\\\": 2, \\\\\\\\\\\\\\\"details\\\\\\\\\\\\\\\": {\\\\\\\\\\\\\\\"selectedColumn\\\\\\\\\\\\\\\": \\\\\\\\\\\\\\\"current assets/total assets\\\\\\\\\\\\\\\"}}, \\\\\\\\\\\\\\\"typeProperty\\\\\\\\\\\\\\\": 3}, {\\\\\\\\\\\\\\\"column\\\\\\\\\\\\\\\": {\\\\\\\\\\\\\\\"type\\\\\\\\\\\\\\\": 2, \\\\\\\\\\\\\\\"details\\\\\\\\\\\\\\\": {\\\\\\\\\\\\\\\"selectedColumn\\\\\\\\\\\\\\\": \\\\\\\\\\\\\\\"cash / total assets\\\\\\\\\\\\\\\"}}, \\\\\\\\\\\\\\\"typeProperty\\\\\\\\\\\\\\\": 3}, {\\\\\\\\\\\\\\\"column\\\\\\\\\\\\\\\": {\\\\\\\\\\\\\\\"type\\\\\\\\\\\\\\\": 2, \\\\\\\\\\\\\\\"details\\\\\\\\\\\\\\\": {\\\\\\\\\\\\\\\"selectedColumn\\\\\\\\\\\\\\\": \\\\\\\\\\\\\\\"Quick asset /current liabilities\\\\\\\\\\\\\\\"}}, \\\\\\\\\\\\\\\"typeProperty\\\\\\\\\\\\\\\": 3}, {\\\\\\\\\\\\\\\"column\\\\\\\\\\\\\\\": {\\\\\\\\\\\\\\\"type\\\\\\\\\\\\\\\": 2, \\\\\\\\\\\\\\\"details\\\\\\\\\\\\\\\": {\\\\\\\\\\\\\\\"selectedColumn\\\\\\\\\\\\\\\": \\\\\\\\\\\\\\\"cash / current liability\\\\\\\\\\\\\\\"}}, \\\\\\\\\\\\\\\"typeProperty\\\\\\\\\\\\\\\": 3}, {\\\\\\\\\\\\\\\"column\\\\\\\\\\\\\\\": {\\\\\\\\\\\\\\\"type\\\\\\\\\\\\\\\": 2, \\\\\\\\\\\\\\\"details\\\\\\\\\\\\\\\": {\\\\\\\\\\\\\\\"selectedColumn\\\\\\\\\\\\\\\": \\\\\\\\\\\\\\\"current liability to assets\\\\\\\\\\\\\\\"}}, \\\\\\\\\\\\\\\"typeProperty\\\\\\\\\\\\\\\": 3}, {\\\\\\\\\\\\\\\"column\\\\\\\\\\\\\\\": {\\\\\\\\\\\\\\\"type\\\\\\\\\\\\\\\": 2, \\\\\\\\\\\\\\\"details\\\\\\\\\\\\\\\": {\\\\\\\\\\\\\\\"selectedColumn\\\\\\\\\\\\\\\": \\\\\\\\\\\\\\\"operating funds to liability\\\\\\\\\\\\\\\"}}, \\\\\\\\\\\\\\\"typeProperty\\\\\\\\\\\\\\\": 3}, {\\\\\\\\\\\\\\\"column\\\\\\\\\\\\\\\": {\\\\\\\\\\\\\\\"type\\\\\\\\\\\\\\\": 2, \\\\\\\\\\\\\\\"details\\\\\\\\\\\\\\\": {\\\\\\\\\\\\\\\"selectedColumn\\\\\\\\\\\\\\\": \\\\\\\\\\\\\\\"Inventory/working capital\\\\\\\\\\\\\\\"}}, \\\\\\\\\\\\\\\"typeProperty\\\\\\\\\\\\\\\": 3}, {\\\\\\\\\\\\\\\"column\\\\\\\\\\\\\\\": {\\\\\\\\\\\\\\\"type\\\\\\\\\\\\\\\": 2, \\\\\\\\\\\\\\\"details\\\\\\\\\\\\\\\": {\\\\\\\\\\\\\\\"selectedColumn\\\\\\\\\\\\\\\": \\\\\\\\\\\\\\\"Inventory/current liability\\\\\\\\\\\\\\\"}}, \\\\\\\\\\\\\\\"typeProperty\\\\\\\\\\\\\\\": 3}, {\\\\\\\\\\\\\\\"column\\\\\\\\\\\\\\\": {\\\\\\\\\\\\\\\"type\\\\\\\\\\\\\\\": 2, \\\\\\\\\\\\\\\"details\\\\\\\\\\\\\\\": {\\\\\\\\\\\\\\\"selectedColumn\\\\\\\\\\\\\\\": \\\\\\\\\\\\\\\"current liability / liability\\\\\\\\\\\\\\\"}}, \\\\\\\\\\\\\\\"typeProperty\\\\\\\\\\\\\\\": 3}, {\\\\\\\\\\\\\\\"column\\\\\\\\\\\\\\\": {\\\\\\\\\\\\\\\"type\\\\\\\\\\\\\\\": 2, \\\\\\\\\\\\\\\"details\\\\\\\\\\\\\\\": {\\\\\\\\\\\\\\\"selectedColumn\\\\\\\\\\\\\\\": \\\\\\\\\\\\\\\"working capital/equity\\\\\\\\\\\\\\\"}}, \\\\\\\\\\\\\\\"typeProperty\\\\\\\\\\\\\\\": 3}, {\\\\\\\\\\\\\\\"column\\\\\\\\\\\\\\\": {\\\\\\\\\\\\\\\"type\\\\\\\\\\\\\\\": 2, \\\\\\\\\\\\\\\"details\\\\\\\\\\\\\\\": {\\\\\\\\\\\\\\\"selectedColumn\\\\\\\\\\\\\\\": \\\\\\\\\\\\\\\"current liability/equity\\\\\\\\\\\\\\\"}}, \\\\\\\\\\\\\\\"typeProperty\\\\\\\\\\\\\\\": 3}, {\\\\\\\\\\\\\\\"column\\\\\\\\\\\\\\\": {\\\\\\\\\\\\\\\"type\\\\\\\\\\\\\\\": 2, \\\\\\\\\\\\\\\"details\\\\\\\\\\\\\\\": {\\\\\\\\\\\\\\\"selectedColumn\\\\\\\\\\\\\\\": \\\\\\\\\\\\\\\"long-term liability to current assets\\\\\\\\\\\\\\\"}}, \\\\\\\\\\\\\\\"typeProperty\\\\\\\\\\\\\\\": 3}, {\\\\\\\\\\\\\\\"column\\\\\\\\\\\\\\\": {\\\\\\\\\\\\\\\"type\\\\\\\\\\\\\\\": 2, \\\\\\\\\\\\\\\"details\\\\\\\\\\\\\\\": {\\\\\\\\\\\\\\\"selectedColumn\\\\\\\\\\\\\\\": \\\\\\\\\\\\\\\"Retained Earnings/Total assets\\\\\\\\\\\\\\\"}}, \\\\\\\\\\\\\\\"typeProperty\\\\\\\\\\\\\\\": 3}, {\\\\\\\\\\\\\\\"column\\\\\\\\\\\\\\\": {\\\\\\\\\\\\\\\"type\\\\\\\\\\\\\\\": 2, \\\\\\\\\\\\\\\"details\\\\\\\\\\\\\\\": {\\\\\\\\\\\\\\\"selectedColumn\\\\\\\\\\\\\\\": \\\\\\\\\\\\\\\"total income / total expense\\\\\\\\\\\\\\\"}}, \\\\\\\\\\\\\\\"typeProperty\\\\\\\\\\\\\\\": 3}, {\\\\\\\\\\\\\\\"column\\\\\\\\\\\\\\\": {\\\\\\\\\\\\\\\"type\\\\\\\\\\\\\\\": 2, \\\\\\\\\\\\\\\"details\\\\\\\\\\\\\\\": {\\\\\\\\\\\\\\\"selectedColumn\\\\\\\\\\\\\\\": \\\\\\\\\\\\\\\"total expense /assets\\\\\\\\\\\\\\\"}}, \\\\\\\\\\\\\\\"typeProperty\\\\\\\\\\\\\\\": 3}, {\\\\\\\\\\\\\\\"column\\\\\\\\\\\\\\\": {\\\\\\\\\\\\\\\"type\\\\\\\\\\\\\\\": 2, \\\\\\\\\\\\\\\"details\\\\\\\\\\\\\\\": {\\\\\\\\\\\\\\\"selectedColumn\\\\\\\\\\\\\\\": \\\\\\\\\\\\\\\"current asset turnover rate\\\\\\\\\\\\\\\"}}, \\\\\\\\\\\\\\\"typeProperty\\\\\\\\\\\\\\\": 3}, {\\\\\\\\\\\\\\\"column\\\\\\\\\\\\\\\": {\\\\\\\\\\\\\\\"type\\\\\\\\\\\\\\\": 2, \\\\\\\\\\\\\\\"details\\\\\\\\\\\\\\\": {\\\\\\\\\\\\\\\"selectedColumn\\\\\\\\\\\\\\\": \\\\\\\\\\\\\\\"quick asset turnover rate\\\\\\\\\\\\\\\"}}, \\\\\\\\\\\\\\\"typeProperty\\\\\\\\\\\\\\\": 3}, {\\\\\\\\\\\\\\\"column\\\\\\\\\\\\\\\": {\\\\\\\\\\\\\\\"type\\\\\\\\\\\\\\\": 2, \\\\\\\\\\\\\\\"details\\\\\\\\\\\\\\\": {\\\\\\\\\\\\\\\"selectedColumn\\\\\\\\\\\\\\\": \\\\\\\\\\\\\\\"working capitcal turnover rate\\\\\\\\\\\\\\\"}}, \\\\\\\\\\\\\\\"typeProperty\\\\\\\\\\\\\\\": 3}, {\\\\\\\\\\\\\\\"column\\\\\\\\\\\\\\\": {\\\\\\\\\\\\\\\"type\\\\\\\\\\\\\\\": 2, \\\\\\\\\\\\\\\"details\\\\\\\\\\\\\\\": {\\\\\\\\\\\\\\\"selectedColumn\\\\\\\\\\\\\\\": \\\\\\\\\\\\\\\"cash turnover rate\\\\\\\\\\\\\\\"}}, \\\\\\\\\\\\\\\"typeProperty\\\\\\\\\\\\\\\": 3}, {\\\\\\\\\\\\\\\"column\\\\\\\\\\\\\\\": {\\\\\\\\\\\\\\\"type\\\\\\\\\\\\\\\": 2, \\\\\\\\\\\\\\\"details\\\\\\\\\\\\\\\": {\\\\\\\\\\\\\\\"selectedColumn\\\\\\\\\\\\\\\": \\\\\\\\\\\\\\\"Cash flow to Sales\\\\\\\\\\\\\\\"}}, \\\\\\\\\\\\\\\"typeProperty\\\\\\\\\\\\\\\": 3}, {\\\\\\\\\\\\\\\"column\\\\\\\\\\\\\\\": {\\\\\\\\\\\\\\\"type\\\\\\\\\\\\\\\": 2, \\\\\\\\\\\\\\\"details\\\\\\\\\\\\\\\": {\\\\\\\\\\\\\\\"selectedColumn\\\\\\\\\\\\\\\": \\\\\\\\\\\\\\\"fix assets to assets\\\\\\\\\\\\\\\"}}, \\\\\\\\\\\\\\\"typeProperty\\\\\\\\\\\\\\\": 3}, {\\\\\\\\\\\\\\\"column\\\\\\\\\\\\\\\": {\\\\\\\\\\\\\\\"type\\\\\\\\\\\\\\\": 2, \\\\\\\\\\\\\\\"details\\\\\\\\\\\\\\\": {\\\\\\\\\\\\\\\"selectedColumn\\\\\\\\\\\\\\\": \\\\\\\\\\\\\\\"current liability to liability\\\\\\\\\\\\\\\"}}, \\\\\\\\\\\\\\\"typeProperty\\\\\\\\\\\\\\\": 3}, {\\\\\\\\\\\\\\\"column\\\\\\\\\\\\\\\": {\\\\\\\\\\\\\\\"type\\\\\\\\\\\\\\\": 2, \\\\\\\\\\\\\\\"details\\\\\\\\\\\\\\\": {\\\\\\\\\\\\\\\"selectedColumn\\\\\\\\\\\\\\\": \\\\\\\\\\\\\\\"current liability to equity\\\\\\\\\\\\\\\"}}, \\\\\\\\\\\\\\\"typeProperty\\\\\\\\\\\\\\\": 3}, {\\\\\\\\\\\\\\\"column\\\\\\\\\\\\\\\": {\\\\\\\\\\\\\\\"type\\\\\\\\\\\\\\\": 2, \\\\\\\\\\\\\\\"details\\\\\\\\\\\\\\\": {\\\\\\\\\\\\\\\"selectedColumn\\\\\\\\\\\\\\\": \\\\\\\\\\\\\\\"equity to long-term liability\\\\\\\\\\\\\\\"}}, \\\\\\\\\\\\\\\"typeProperty\\\\\\\\\\\\\\\": 3}, {\\\\\\\\\\\\\\\"column\\\\\\\\\\\\\\\": {\\\\\\\\\\\\\\\"type\\\\\\\\\\\\\\\": 2, \\\\\\\\\\\\\\\"details\\\\\\\\\\\\\\\": {\\\\\\\\\\\\\\\"selectedColumn\\\\\\\\\\\\\\\": \\\\\\\\\\\\\\\"Cash flow to total assets\\\\\\\\\\\\\\\"}}, \\\\\\\\\\\\\\\"typeProperty\\\\\\\\\\\\\\\": 3}, {\\\\\\\\\\\\\\\"column\\\\\\\\\\\\\\\": {\\\\\\\\\\\\\\\"type\\\\\\\\\\\\\\\": 2, \\\\\\\\\\\\\\\"details\\\\\\\\\\\\\\\": {\\\\\\\\\\\\\\\"selectedColumn\\\\\\\\\\\\\\\": \\\\\\\\\\\\\\\"cash flow to liability\\\\\\\\\\\\\\\"}}, \\\\\\\\\\\\\\\"typeProperty\\\\\\\\\\\\\\\": 3}, {\\\\\\\\\\\\\\\"column\\\\\\\\\\\\\\\": {\\\\\\\\\\\\\\\"type\\\\\\\\\\\\\\\": 2, \\\\\\\\\\\\\\\"details\\\\\\\\\\\\\\\": {\\\\\\\\\\\\\\\"selectedColumn\\\\\\\\\\\\\\\": \\\\\\\\\\\\\\\"CFO to ASSETS\\\\\\\\\\\\\\\"}}, \\\\\\\\\\\\\\\"typeProperty\\\\\\\\\\\\\\\": 3}, {\\\\\\\\\\\\\\\"column\\\\\\\\\\\\\\\": {\\\\\\\\\\\\\\\"type\\\\\\\\\\\\\\\": 2, \\\\\\\\\\\\\\\"details\\\\\\\\\\\\\\\": {\\\\\\\\\\\\\\\"selectedColumn\\\\\\\\\\\\\\\": \\\\\\\\\\\\\\\"cash flow to equity\\\\\\\\\\\\\\\"}}, \\\\\\\\\\\\\\\"typeProperty\\\\\\\\\\\\\\\": 3}, {\\\\\\\\\\\\\\\"column\\\\\\\\\\\\\\\": {\\\\\\\\\\\\\\\"type\\\\\\\\\\\\\\\": 2, \\\\\\\\\\\\\\\"details\\\\\\\\\\\\\\\": {\\\\\\\\\\\\\\\"selectedColumn\\\\\\\\\\\\\\\": \\\\\\\\\\\\\\\"current liabilities to current assets\\\\\\\\\\\\\\\"}}, \\\\\\\\\\\\\\\"typeProperty\\\\\\\\\\\\\\\": 3}, {\\\\\\\\\\\\\\\"column\\\\\\\\\\\\\\\": {\\\\\\\\\\\\\\\"type\\\\\\\\\\\\\\\": 2, \\\\\\\\\\\\\\\"details\\\\\\\\\\\\\\\": {\\\\\\\\\\\\\\\"selectedColumn\\\\\\\\\\\\\\\": \\\\\\\\\\\\\\\"one if total liabilities exceeds total assets zero otherwise\\\\\\\\\\\\\\\"}}, \\\\\\\\\\\\\\\"typeProperty\\\\\\\\\\\\\\\": 2}, {\\\\\\\\\\\\\\\"column\\\\\\\\\\\\\\\": {\\\\\\\\\\\\\\\"type\\\\\\\\\\\\\\\": 2, \\\\\\\\\\\\\\\"details\\\\\\\\\\\\\\\": {\\\\\\\\\\\\\\\"selectedColumn\\\\\\\\\\\\\\\": \\\\\\\\\\\\\\\"net income to total assets\\\\\\\\\\\\\\\"}}, \\\\\\\\\\\\\\\"typeProperty\\\\\\\\\\\\\\\": 3}, {\\\\\\\\\\\\\\\"column\\\\\\\\\\\\\\\": {\\\\\\\\\\\\\\\"type\\\\\\\\\\\\\\\": 2, \\\\\\\\\\\\\\\"details\\\\\\\\\\\\\\\": {\\\\\\\\\\\\\\\"selectedColumn\\\\\\\\\\\\\\\": \\\\\\\\\\\\\\\"total assets to GNP price\\\\\\\\\\\\\\\"}}, \\\\\\\\\\\\\\\"typeProperty\\\\\\\\\\\\\\\": 3}, {\\\\\\\\\\\\\\\"column\\\\\\\\\\\\\\\": {\\\\\\\\\\\\\\\"type\\\\\\\\\\\\\\\": 2, \\\\\\\\\\\\\\\"details\\\\\\\\\\\\\\\": {\\\\\\\\\\\\\\\"selectedColumn\\\\\\\\\\\\\\\": \\\\\\\\\\\\\\\"No-credit interval\\\\\\\\\\\\\\\"}}, \\\\\\\\\\\\\\\"typeProperty\\\\\\\\\\\\\\\": 3}, {\\\\\\\\\\\\\\\"column\\\\\\\\\\\\\\\": {\\\\\\\\\\\\\\\"type\\\\\\\\\\\\\\\": 2, \\\\\\\\\\\\\\\"details\\\\\\\\\\\\\\\": {\\\\\\\\\\\\\\\"selectedColumn\\\\\\\\\\\\\\\": \\\\\\\\\\\\\\\"Gross profit to Sales\\\\\\\\\\\\\\\"}}, \\\\\\\\\\\\\\\"typeProperty\\\\\\\\\\\\\\\": 3}, {\\\\\\\\\\\\\\\"column\\\\\\\\\\\\\\\": {\\\\\\\\\\\\\\\"type\\\\\\\\\\\\\\\": 2, \\\\\\\\\\\\\\\"details\\\\\\\\\\\\\\\": {\\\\\\\\\\\\\\\"selectedColumn\\\\\\\\\\\\\\\": \\\\\\\\\\\\\\\"Net income to stockholder's Equity\\\\\\\\\\\\\\\"}}, \\\\\\\\\\\\\\\"typeProperty\\\\\\\\\\\\\\\": 3}, {\\\\\\\\\\\\\\\"column\\\\\\\\\\\\\\\": {\\\\\\\\\\\\\\\"type\\\\\\\\\\\\\\\": 2, \\\\\\\\\\\\\\\"details\\\\\\\\\\\\\\\": {\\\\\\\\\\\\\\\"selectedColumn\\\\\\\\\\\\\\\": \\\\\\\\\\\\\\\"liability to equity\\\\\\\\\\\\\\\"}}, \\\\\\\\\\\\\\\"typeProperty\\\\\\\\\\\\\\\": 3}, {\\\\\\\\\\\\\\\"column\\\\\\\\\\\\\\\": {\\\\\\\\\\\\\\\"type\\\\\\\\\\\\\\\": 2, \\\\\\\\\\\\\\\"details\\\\\\\\\\\\\\\": {\\\\\\\\\\\\\\\"selectedColumn\\\\\\\\\\\\\\\": \\\\\\\\\\\\\\\"Degree of financial leverage (DFL)\\\\\\\\\\\\\\\"}}, \\\\\\\\\\\\\\\"typeProperty\\\\\\\\\\\\\\\": 3}, {\\\\\\\\\\\\\\\"column\\\\\\\\\\\\\\\": {\\\\\\\\\\\\\\\"type\\\\\\\\\\\\\\\": 2, \\\\\\\\\\\\\\\"details\\\\\\\\\\\\\\\": {\\\\\\\\\\\\\\\"selectedColumn\\\\\\\\\\\\\\\": \\\\\\\\\\\\\\\"Interest coverage ratio( Interest expense to EBIT )\\\\\\\\\\\\\\\"}}, \\\\\\\\\\\\\\\"typeProperty\\\\\\\\\\\\\\\": 3}, {\\\\\\\\\\\\\\\"column\\\\\\\\\\\\\\\": {\\\\\\\\\\\\\\\"type\\\\\\\\\\\\\\\": 2, \\\\\\\\\\\\\\\"details\\\\\\\\\\\\\\\": {\\\\\\\\\\\\\\\"selectedColumn\\\\\\\\\\\\\\\": \\\\\\\\\\\\\\\"one if net income was negative for the last two year zero otherwise\\\\\\\\\\\\\\\"}}, \\\\\\\\\\\\\\\"typeProperty\\\\\\\\\\\\\\\": 2}, {\\\\\\\\\\\\\\\"column\\\\\\\\\\\\\\\": {\\\\\\\\\\\\\\\"type\\\\\\\\\\\\\\\": 2, \\\\\\\\\\\\\\\"details\\\\\\\\\\\\\\\": {\\\\\\\\\\\\\\\"selectedColumn\\\\\\\\\\\\\\\": \\\\\\\\\\\\\\\"equity to liability\\\\\\\\\\\\\\\"}}, \\\\\\\\\\\\\\\"typeProperty\\\\\\\\\\\\\\\": 3}]}, \\\\\\\\\\\\\\\"localData\\\\\\\\\\\\\\\": {}, \\\\\\\\\\\\\\\"isEnabled\\\\\\\\\\\\\\\": true, \\\\\\\\\\\\\\\"name\\\\\\\\\\\\\\\": null, \\\\\\\\\\\\\\\"annotation\\\\\\\\\\\\\\\": null}], \\\\\\\\\\\\\\\"inspectors\\\\\\\\\\\\\\\": [], \\\\\\\\\\\\\\\"meta\\\\\\\\\\\\\\\": {\\\\\\\\\\\\\\\"savedDatasetId\\\\\\\\\\\\\\\": \\\\\\\\\\\\\\\"6e250690-0ff6-425b-a8bf-11895fd71720\\\\\\\\\\\\\\\", \\\\\\\\\\\\\\\"datasetType\\\\\\\\\\\\\\\": \\\\\\\\\\\\\\\"tabular\\\\\\\\\\\\\\\", \\\\\\\\\\\\\\\"subscriptionId\\\\\\\\\\\\\\\": \\\\\\\\\\\\\\\"d7f39349-a66b-446e-aba6-0053c2cf1c11\\\\\\\\\\\\\\\", \\\\\\\\\\\\\\\"workspaceId\\\\\\\\\\\\\\\": \\\\\\\\\\\\\\\"54dd3d47-9991-4b7a-8c1a-f37e6b2beffc\\\\\\\\\\\\\\\", \\\\\\\\\\\\\\\"workspaceLocation\\\\\\\\\\\\\\\": \\\\\\\\\\\\\\\"southcentralus\\\\\\\\\\\\\\\"}}\\\\\\\", \\\\\\\"activities\\\\\\\": 0}\", \"EnableSubsampling\": null, \"runTemplate\": \"AutoML\", \"azureml.runsource\": \"automl\", \"display_task_type\": \"classification\", \"dependencies_versions\": \"{\\\"azureml-widgets\\\": \\\"1.20.0\\\", \\\"azureml-train\\\": \\\"1.20.0\\\", \\\"azureml-train-restclients-hyperdrive\\\": \\\"1.20.0\\\", \\\"azureml-train-core\\\": \\\"1.20.0\\\", \\\"azureml-train-automl\\\": \\\"1.20.0\\\", \\\"azureml-train-automl-runtime\\\": \\\"1.20.0\\\", \\\"azureml-train-automl-client\\\": \\\"1.20.0\\\", \\\"azureml-tensorboard\\\": \\\"1.20.0\\\", \\\"azureml-telemetry\\\": \\\"1.20.0\\\", \\\"azureml-sdk\\\": \\\"1.20.0\\\", \\\"azureml-samples\\\": \\\"0+unknown\\\", \\\"azureml-pipeline\\\": \\\"1.20.0\\\", \\\"azureml-pipeline-steps\\\": \\\"1.20.0\\\", \\\"azureml-pipeline-core\\\": \\\"1.20.0\\\", \\\"azureml-opendatasets\\\": \\\"1.20.0\\\", \\\"azureml-model-management-sdk\\\": \\\"1.0.1b6.post1\\\", \\\"azureml-mlflow\\\": \\\"1.20.0.post1\\\", \\\"azureml-interpret\\\": \\\"1.20.0\\\", \\\"azureml-explain-model\\\": \\\"1.20.0\\\", \\\"azureml-defaults\\\": \\\"1.20.0\\\", \\\"azureml-dataset-runtime\\\": \\\"1.20.0\\\", \\\"azureml-dataprep\\\": \\\"2.7.3\\\", \\\"azureml-dataprep-rslex\\\": \\\"1.5.0\\\", \\\"azureml-dataprep-native\\\": \\\"27.0.0\\\", \\\"azureml-datadrift\\\": \\\"1.20.0\\\", \\\"azureml-core\\\": \\\"1.20.0\\\", \\\"azureml-contrib-services\\\": \\\"1.20.0\\\", \\\"azureml-contrib-server\\\": \\\"1.20.0\\\", \\\"azureml-contrib-reinforcementlearning\\\": \\\"1.20.0\\\", \\\"azureml-contrib-pipeline-steps\\\": \\\"1.20.0\\\", \\\"azureml-contrib-notebook\\\": \\\"1.20.0\\\", \\\"azureml-contrib-interpret\\\": \\\"1.20.0\\\", \\\"azureml-contrib-gbdt\\\": \\\"1.20.0\\\", \\\"azureml-contrib-fairness\\\": \\\"1.20.0\\\", \\\"azureml-contrib-dataset\\\": \\\"1.20.0\\\", \\\"azureml-cli-common\\\": \\\"1.20.0\\\", \\\"azureml-automl-runtime\\\": \\\"1.20.0\\\", \\\"azureml-automl-core\\\": \\\"1.20.0\\\", \\\"azureml-accel-models\\\": \\\"1.20.0\\\"}\", \"_aml_system_scenario_identification\": \"Remote.Parent\", \"ClientType\": \"SDK\", \"environment_cpu_name\": \"AzureML-AutoML\", \"environment_cpu_label\": \"prod\", \"environment_gpu_name\": \"AzureML-AutoML-GPU\", \"environment_gpu_label\": \"prod\", \"root_attribution\": \"automl\", \"attribution\": \"AutoML\", \"Orchestrator\": \"AutoML\", \"CancelUri\": \"https://southcentralus.experiments.azureml.net/jasmine/v1.0/subscriptions/d7f39349-a66b-446e-aba6-0053c2cf1c11/resourceGroups/aml-quickstarts-137234/providers/Microsoft.MachineLearningServices/workspaces/quick-starts-ws-137234/experimentids/fe942fe6-3a25-4f41-80a7-b5ec86b46e20/cancel/AutoML_c5a5cd74-3017-4a1e-bbb2-19590578f0ae\", \"ClientSdkVersion\": \"1.21.0\", \"snapshotId\": \"00000000-0000-0000-0000-000000000000\", \"SetupRunId\": \"AutoML_c5a5cd74-3017-4a1e-bbb2-19590578f0ae_setup\", \"SetupRunContainerId\": \"dcid.AutoML_c5a5cd74-3017-4a1e-bbb2-19590578f0ae_setup\", \"FeaturizationRunJsonPath\": \"featurizer_container.json\", \"FeaturizationRunId\": \"AutoML_c5a5cd74-3017-4a1e-bbb2-19590578f0ae_featurize\", \"ProblemInfoJsonString\": \"{\\\"dataset_num_categorical\\\": 0, \\\"is_sparse\\\": true, \\\"subsampling\\\": false, \\\"dataset_classes\\\": 2, \\\"dataset_features\\\": 77601, \\\"dataset_samples\\\": 6819, \\\"single_frequency_class_detected\\\": false}\", \"ModelExplainRunId\": \"AutoML_c5a5cd74-3017-4a1e-bbb2-19590578f0ae_ModelExplain\"}, \"tags\": {\"model_explain_run\": \"best_run\", \"_aml_system_azureml.automlComponent\": \"AutoML\", \"pipeline_id\": \"\", \"score\": \"\", \"predicted_cost\": \"\", \"fit_time\": \"\", \"training_percent\": \"\", \"iteration\": \"\", \"run_preprocessor\": \"\", \"run_algorithm\": \"\", \"dynamic_whitelisting_iterations\": \"<25>;<30>;<35>;\", \"automl_best_child_run_id\": \"AutoML_c5a5cd74-3017-4a1e-bbb2-19590578f0ae_38\", \"model_explain_best_run_child_id\": \"AutoML_c5a5cd74-3017-4a1e-bbb2-19590578f0ae_38\"}, \"end_time_utc\": \"2021-02-04T15:24:21.345365Z\", \"status\": \"Completed\", \"log_files\": {}, \"log_groups\": [], \"run_duration\": \"0:34:05\"}, \"child_runs\": [{\"run_id\": \"AutoML_c5a5cd74-3017-4a1e-bbb2-19590578f0ae_0\", \"run_number\": 6, \"metric\": null, \"status\": \"Completed\", \"run_type\": \"azureml.scriptrun\", \"training_percent\": \"100\", \"start_time\": \"2021-02-04T15:07:05.70571Z\", \"end_time\": \"2021-02-04T15:12:45.149374Z\", \"created_time\": \"2021-02-04T15:04:39.427442Z\", \"created_time_dt\": \"2021-02-04T15:04:39.427442Z\", \"duration\": \"0:08:05\", \"iteration\": \"0\", \"goal\": \"average_precision_score_weighted_max\", \"run_name\": \"MaxAbsScaler, LightGBM\", \"run_properties\": \"copy=True\", \"primary_metric\": 0.92416299, \"best_metric\": 0.92416299}, {\"run_id\": \"AutoML_c5a5cd74-3017-4a1e-bbb2-19590578f0ae_2\", \"run_number\": 7, \"metric\": null, \"status\": \"Completed\", \"run_type\": \"azureml.scriptrun\", \"training_percent\": \"100\", \"start_time\": \"2021-02-04T15:04:52.765942Z\", \"end_time\": \"2021-02-04T15:05:57.883144Z\", \"created_time\": \"2021-02-04T15:04:39.474152Z\", \"created_time_dt\": \"2021-02-04T15:04:39.474152Z\", \"duration\": \"0:01:18\", \"iteration\": \"2\", \"goal\": \"average_precision_score_weighted_max\", \"run_name\": \"MaxAbsScaler, ExtremeRandomTrees\", \"run_properties\": \"copy=True\", \"primary_metric\": 0.52077612, \"best_metric\": 0.92416299}, {\"run_id\": \"AutoML_c5a5cd74-3017-4a1e-bbb2-19590578f0ae_1\", \"run_number\": 8, \"metric\": null, \"status\": \"Completed\", \"run_type\": \"azureml.scriptrun\", \"training_percent\": \"100\", \"start_time\": \"2021-02-04T15:07:02.139882Z\", \"end_time\": \"2021-02-04T15:14:15.390982Z\", \"created_time\": \"2021-02-04T15:04:39.481938Z\", \"created_time_dt\": \"2021-02-04T15:04:39.481938Z\", \"duration\": \"0:09:35\", \"iteration\": \"1\", \"goal\": \"average_precision_score_weighted_max\", \"run_name\": \"MaxAbsScaler, XGBoostClassifier\", \"run_properties\": \"copy=True\", \"primary_metric\": 0.92394088, \"best_metric\": 0.92416299}, {\"run_id\": \"AutoML_c5a5cd74-3017-4a1e-bbb2-19590578f0ae_3\", \"run_number\": 9, \"metric\": null, \"status\": \"Completed\", \"run_type\": \"azureml.scriptrun\", \"training_percent\": \"100\", \"start_time\": \"2021-02-04T15:06:00.039683Z\", \"end_time\": \"2021-02-04T15:07:06.62517Z\", \"created_time\": \"2021-02-04T15:04:39.743802Z\", \"created_time_dt\": \"2021-02-04T15:04:39.743802Z\", \"duration\": \"0:02:26\", \"iteration\": \"3\", \"goal\": \"average_precision_score_weighted_max\", \"run_name\": \"MaxAbsScaler, ExtremeRandomTrees\", \"run_properties\": \"copy=True\", \"primary_metric\": 0.90538927, \"best_metric\": 0.92416299}, {\"run_id\": \"AutoML_c5a5cd74-3017-4a1e-bbb2-19590578f0ae_4\", \"run_number\": 10, \"metric\": null, \"status\": \"Completed\", \"run_type\": \"azureml.scriptrun\", \"training_percent\": \"100\", \"start_time\": \"2021-02-04T15:07:02.008704Z\", \"end_time\": \"2021-02-04T15:12:39.101054Z\", \"created_time\": \"2021-02-04T15:04:39.850518Z\", \"created_time_dt\": \"2021-02-04T15:04:39.850518Z\", \"duration\": \"0:07:59\", \"iteration\": \"4\", \"goal\": \"average_precision_score_weighted_max\", \"run_name\": \"MaxAbsScaler, ExtremeRandomTrees\", \"run_properties\": \"copy=True\", \"primary_metric\": 0.87015474, \"best_metric\": 0.92416299}, {\"run_id\": \"AutoML_c5a5cd74-3017-4a1e-bbb2-19590578f0ae_5\", \"run_number\": 11, \"metric\": null, \"status\": \"Completed\", \"run_type\": \"azureml.scriptrun\", \"training_percent\": \"100\", \"start_time\": \"2021-02-04T15:07:04.867236Z\", \"end_time\": \"2021-02-04T15:12:31.509687Z\", \"created_time\": \"2021-02-04T15:06:02.604454Z\", \"created_time_dt\": \"2021-02-04T15:06:02.604454Z\", \"duration\": \"0:06:28\", \"iteration\": \"5\", \"goal\": \"average_precision_score_weighted_max\", \"run_name\": \"MaxAbsScaler, RandomForest\", \"run_properties\": \"copy=True\", \"primary_metric\": 0.68554495, \"best_metric\": 0.92416299}, {\"run_id\": \"AutoML_c5a5cd74-3017-4a1e-bbb2-19590578f0ae_6\", \"run_number\": 12, \"metric\": null, \"status\": \"Completed\", \"run_type\": \"azureml.scriptrun\", \"training_percent\": \"100\", \"start_time\": \"2021-02-04T15:07:22.056363Z\", \"end_time\": \"2021-02-04T15:08:27.943668Z\", \"created_time\": \"2021-02-04T15:07:10.201471Z\", \"created_time_dt\": \"2021-02-04T15:07:10.201471Z\", \"duration\": \"0:01:17\", \"iteration\": \"6\", \"goal\": \"average_precision_score_weighted_max\", \"run_name\": \"MaxAbsScaler, ExtremeRandomTrees\", \"run_properties\": \"copy=True\", \"primary_metric\": 0.91313808, \"best_metric\": 0.92416299}, {\"run_id\": \"AutoML_c5a5cd74-3017-4a1e-bbb2-19590578f0ae_7\", \"run_number\": 13, \"metric\": null, \"status\": \"Completed\", \"run_type\": \"azureml.scriptrun\", \"training_percent\": \"100\", \"start_time\": \"2021-02-04T15:08:43.558003Z\", \"end_time\": \"2021-02-04T15:09:37.517611Z\", \"created_time\": \"2021-02-04T15:08:32.552554Z\", \"created_time_dt\": \"2021-02-04T15:08:32.552554Z\", \"duration\": \"0:01:04\", \"iteration\": \"7\", \"goal\": \"average_precision_score_weighted_max\", \"run_name\": \"MaxAbsScaler, RandomForest\", \"run_properties\": \"copy=True\", \"primary_metric\": 0.50141826, \"best_metric\": 0.92416299}, {\"run_id\": \"AutoML_c5a5cd74-3017-4a1e-bbb2-19590578f0ae_8\", \"run_number\": 14, \"metric\": null, \"status\": \"Completed\", \"run_type\": \"azureml.scriptrun\", \"training_percent\": \"100\", \"start_time\": \"2021-02-04T15:09:50.963919Z\", \"end_time\": \"2021-02-04T15:10:47.525365Z\", \"created_time\": \"2021-02-04T15:09:40.444862Z\", \"created_time_dt\": \"2021-02-04T15:09:40.444862Z\", \"duration\": \"0:01:07\", \"iteration\": \"8\", \"goal\": \"average_precision_score_weighted_max\", \"run_name\": \"MaxAbsScaler, RandomForest\", \"run_properties\": \"copy=True\", \"primary_metric\": 0.8949658, \"best_metric\": 0.92416299}, {\"run_id\": \"AutoML_c5a5cd74-3017-4a1e-bbb2-19590578f0ae_9\", \"run_number\": 15, \"metric\": null, \"status\": \"Completed\", \"run_type\": \"azureml.scriptrun\", \"training_percent\": \"100\", \"start_time\": \"2021-02-04T15:11:03.683991Z\", \"end_time\": \"2021-02-04T15:12:21.955861Z\", \"created_time\": \"2021-02-04T15:10:50.517574Z\", \"created_time_dt\": \"2021-02-04T15:10:50.517574Z\", \"duration\": \"0:01:31\", \"iteration\": \"9\", \"goal\": \"average_precision_score_weighted_max\", \"run_name\": \"StandardScalerWrapper, XGBoostClassifier\", \"run_properties\": \"<azureml.automl.runtime.shared.model_wrappers.StandardScalerWrapper object at 0x7f450ed1d5c0\", \"primary_metric\": 0.90582245, \"best_metric\": 0.92416299}, {\"run_id\": \"AutoML_c5a5cd74-3017-4a1e-bbb2-19590578f0ae_10\", \"run_number\": 16, \"metric\": null, \"status\": \"Completed\", \"run_type\": \"azureml.scriptrun\", \"training_percent\": \"100\", \"start_time\": \"2021-02-04T15:12:38.919338Z\", \"end_time\": \"2021-02-04T15:13:32.901586Z\", \"created_time\": \"2021-02-04T15:12:25.619697Z\", \"created_time_dt\": \"2021-02-04T15:12:25.619697Z\", \"duration\": \"0:01:07\", \"iteration\": \"10\", \"goal\": \"average_precision_score_weighted_max\", \"run_name\": \"MaxAbsScaler, SGD\", \"run_properties\": \"copy=True\", \"primary_metric\": 0.74288717, \"best_metric\": 0.92416299}, {\"run_id\": \"AutoML_c5a5cd74-3017-4a1e-bbb2-19590578f0ae_11\", \"run_number\": 17, \"metric\": null, \"status\": \"Completed\", \"run_type\": \"azureml.scriptrun\", \"training_percent\": \"100\", \"start_time\": \"2021-02-04T15:12:48.785397Z\", \"end_time\": \"2021-02-04T15:13:47.363572Z\", \"created_time\": \"2021-02-04T15:12:35.362405Z\", \"created_time_dt\": \"2021-02-04T15:12:35.362405Z\", \"duration\": \"0:01:12\", \"iteration\": \"11\", \"goal\": \"average_precision_score_weighted_max\", \"run_name\": \"MaxAbsScaler, ExtremeRandomTrees\", \"run_properties\": \"copy=True\", \"primary_metric\": 0.88904517, \"best_metric\": 0.92416299}, {\"run_id\": \"AutoML_c5a5cd74-3017-4a1e-bbb2-19590578f0ae_12\", \"run_number\": 18, \"metric\": null, \"status\": \"Completed\", \"run_type\": \"azureml.scriptrun\", \"training_percent\": \"100\", \"start_time\": \"2021-02-04T15:12:53.989203Z\", \"end_time\": \"2021-02-04T15:13:50.973011Z\", \"created_time\": \"2021-02-04T15:12:43.030301Z\", \"created_time_dt\": \"2021-02-04T15:12:43.030301Z\", \"duration\": \"0:01:07\", \"iteration\": \"12\", \"goal\": \"average_precision_score_weighted_max\", \"run_name\": \"MaxAbsScaler, RandomForest\", \"run_properties\": \"copy=True\", \"primary_metric\": 0.55151096, \"best_metric\": 0.92416299}, {\"run_id\": \"AutoML_c5a5cd74-3017-4a1e-bbb2-19590578f0ae_13\", \"run_number\": 19, \"metric\": null, \"status\": \"Completed\", \"run_type\": \"azureml.scriptrun\", \"training_percent\": \"100\", \"start_time\": \"2021-02-04T15:13:01.639197Z\", \"end_time\": \"2021-02-04T15:13:54.96518Z\", \"created_time\": \"2021-02-04T15:12:48.673411Z\", \"created_time_dt\": \"2021-02-04T15:12:48.673411Z\", \"duration\": \"0:01:06\", \"iteration\": \"13\", \"goal\": \"average_precision_score_weighted_max\", \"run_name\": \"MaxAbsScaler, RandomForest\", \"run_properties\": \"copy=True\", \"primary_metric\": 0.57297938, \"best_metric\": 0.92416299}, {\"run_id\": \"AutoML_c5a5cd74-3017-4a1e-bbb2-19590578f0ae_14\", \"run_number\": 20, \"metric\": null, \"status\": \"Completed\", \"run_type\": \"azureml.scriptrun\", \"training_percent\": \"100\", \"start_time\": \"2021-02-04T15:13:47.957711Z\", \"end_time\": \"2021-02-04T15:14:42.597111Z\", \"created_time\": \"2021-02-04T15:13:36.665388Z\", \"created_time_dt\": \"2021-02-04T15:13:36.665388Z\", \"duration\": \"0:01:05\", \"iteration\": \"14\", \"goal\": \"average_precision_score_weighted_max\", \"run_name\": \"MaxAbsScaler, ExtremeRandomTrees\", \"run_properties\": \"copy=True\", \"primary_metric\": 0.50056961, \"best_metric\": 0.92416299}, {\"run_id\": \"AutoML_c5a5cd74-3017-4a1e-bbb2-19590578f0ae_15\", \"run_number\": 21, \"metric\": null, \"status\": \"Completed\", \"run_type\": \"azureml.scriptrun\", \"training_percent\": \"100\", \"start_time\": \"2021-02-04T15:14:03.636545Z\", \"end_time\": \"2021-02-04T15:15:18.463879Z\", \"created_time\": \"2021-02-04T15:13:50.929824Z\", \"created_time_dt\": \"2021-02-04T15:13:50.929824Z\", \"duration\": \"0:01:27\", \"iteration\": \"15\", \"goal\": \"average_precision_score_weighted_max\", \"run_name\": \"SparseNormalizer, ExtremeRandomTrees\", \"run_properties\": \"<azureml.automl.runtime.shared.model_wrappers.SparseNormalizer object at 0x7ff9f880ff98\", \"primary_metric\": 0.8877675, \"best_metric\": 0.92416299}, {\"run_id\": \"AutoML_c5a5cd74-3017-4a1e-bbb2-19590578f0ae_16\", \"run_number\": 22, \"metric\": null, \"status\": \"Completed\", \"run_type\": \"azureml.scriptrun\", \"training_percent\": \"100\", \"start_time\": \"2021-02-04T15:14:09.701553Z\", \"end_time\": \"2021-02-04T15:15:27.91983Z\", \"created_time\": \"2021-02-04T15:13:57.170162Z\", \"created_time_dt\": \"2021-02-04T15:13:57.170162Z\", \"duration\": \"0:01:30\", \"iteration\": \"16\", \"goal\": \"average_precision_score_weighted_max\", \"run_name\": \"MaxAbsScaler, ExtremeRandomTrees\", \"run_properties\": \"copy=True\", \"primary_metric\": 0.90241742, \"best_metric\": 0.92416299}, {\"run_id\": \"AutoML_c5a5cd74-3017-4a1e-bbb2-19590578f0ae_17\", \"run_number\": 23, \"metric\": null, \"status\": \"Completed\", \"run_type\": \"azureml.scriptrun\", \"training_percent\": \"100\", \"start_time\": \"2021-02-04T15:14:14.470332Z\", \"end_time\": \"2021-02-04T15:15:13.367334Z\", \"created_time\": \"2021-02-04T15:14:02.317953Z\", \"created_time_dt\": \"2021-02-04T15:14:02.317953Z\", \"duration\": \"0:01:11\", \"iteration\": \"17\", \"goal\": \"average_precision_score_weighted_max\", \"run_name\": \"MaxAbsScaler, LightGBM\", \"run_properties\": \"copy=True\", \"primary_metric\": 0.89599547, \"best_metric\": 0.92416299}, {\"run_id\": \"AutoML_c5a5cd74-3017-4a1e-bbb2-19590578f0ae_18\", \"run_number\": 24, \"metric\": null, \"status\": \"Completed\", \"run_type\": \"azureml.scriptrun\", \"training_percent\": \"100\", \"start_time\": \"2021-02-04T15:14:34.324451Z\", \"end_time\": \"2021-02-04T15:15:27.028685Z\", \"created_time\": \"2021-02-04T15:14:18.405372Z\", \"created_time_dt\": \"2021-02-04T15:14:18.405372Z\", \"duration\": \"0:01:08\", \"iteration\": \"18\", \"goal\": \"average_precision_score_weighted_max\", \"run_name\": \"StandardScalerWrapper, LightGBM\", \"run_properties\": \"<azureml.automl.runtime.shared.model_wrappers.StandardScalerWrapper object at 0x7f5633cf7be0\", \"primary_metric\": 0.91861273, \"best_metric\": 0.92416299}, {\"run_id\": \"AutoML_c5a5cd74-3017-4a1e-bbb2-19590578f0ae_19\", \"run_number\": 25, \"metric\": null, \"status\": \"Completed\", \"run_type\": \"azureml.scriptrun\", \"training_percent\": \"100\", \"start_time\": \"2021-02-04T15:14:58.168816Z\", \"end_time\": \"2021-02-04T15:15:51.994879Z\", \"created_time\": \"2021-02-04T15:14:46.404502Z\", \"created_time_dt\": \"2021-02-04T15:14:46.404502Z\", \"duration\": \"0:01:05\", \"iteration\": \"19\", \"goal\": \"average_precision_score_weighted_max\", \"run_name\": \"SparseNormalizer, LightGBM\", \"run_properties\": \"<azureml.automl.runtime.shared.model_wrappers.SparseNormalizer object at 0x7efd5f597160\", \"primary_metric\": 0.9183677, \"best_metric\": 0.92416299}, {\"run_id\": \"AutoML_c5a5cd74-3017-4a1e-bbb2-19590578f0ae_20\", \"run_number\": 26, \"metric\": null, \"status\": \"Completed\", \"run_type\": \"azureml.scriptrun\", \"training_percent\": \"100\", \"start_time\": \"2021-02-04T15:15:28.307967Z\", \"end_time\": \"2021-02-04T15:16:31.50475Z\", \"created_time\": \"2021-02-04T15:15:16.123443Z\", \"created_time_dt\": \"2021-02-04T15:15:16.123443Z\", \"duration\": \"0:01:15\", \"iteration\": \"20\", \"goal\": \"average_precision_score_weighted_max\", \"run_name\": \"SparseNormalizer, GradientBoosting\", \"run_properties\": \"<azureml.automl.runtime.shared.model_wrappers.SparseNormalizer object at 0x7ff48b778588\", \"primary_metric\": 0.90707388, \"best_metric\": 0.92416299}, {\"run_id\": \"AutoML_c5a5cd74-3017-4a1e-bbb2-19590578f0ae_21\", \"run_number\": 27, \"metric\": null, \"status\": \"Completed\", \"run_type\": \"azureml.scriptrun\", \"training_percent\": \"100\", \"start_time\": \"2021-02-04T15:15:33.948662Z\", \"end_time\": \"2021-02-04T15:16:32.134124Z\", \"created_time\": \"2021-02-04T15:15:20.908181Z\", \"created_time_dt\": \"2021-02-04T15:15:20.908181Z\", \"duration\": \"0:01:11\", \"iteration\": \"21\", \"goal\": \"average_precision_score_weighted_max\", \"run_name\": \"MaxAbsScaler, LightGBM\", \"run_properties\": \"copy=True\", \"primary_metric\": 0.91208746, \"best_metric\": 0.92416299}, {\"run_id\": \"AutoML_c5a5cd74-3017-4a1e-bbb2-19590578f0ae_22\", \"run_number\": 28, \"metric\": null, \"status\": \"Completed\", \"run_type\": \"azureml.scriptrun\", \"training_percent\": \"100\", \"start_time\": \"2021-02-04T15:15:40.701488Z\", \"end_time\": \"2021-02-04T15:16:31.020032Z\", \"created_time\": \"2021-02-04T15:15:29.911187Z\", \"created_time_dt\": \"2021-02-04T15:15:29.911187Z\", \"duration\": \"0:01:01\", \"iteration\": \"22\", \"goal\": \"average_precision_score_weighted_max\", \"run_name\": \"SparseNormalizer, LightGBM\", \"run_properties\": \"<azureml.automl.runtime.shared.model_wrappers.SparseNormalizer object at 0x7f323c544550\", \"primary_metric\": 0.90820016, \"best_metric\": 0.92416299}, {\"run_id\": \"AutoML_c5a5cd74-3017-4a1e-bbb2-19590578f0ae_23\", \"run_number\": 29, \"metric\": null, \"status\": \"Completed\", \"run_type\": \"azureml.scriptrun\", \"training_percent\": \"100\", \"start_time\": \"2021-02-04T15:15:45.861482Z\", \"end_time\": \"2021-02-04T15:16:48.387564Z\", \"created_time\": \"2021-02-04T15:15:34.330585Z\", \"created_time_dt\": \"2021-02-04T15:15:34.330585Z\", \"duration\": \"0:01:14\", \"iteration\": \"23\", \"goal\": \"average_precision_score_weighted_max\", \"run_name\": \"SparseNormalizer, LightGBM\", \"run_properties\": \"<azureml.automl.runtime.shared.model_wrappers.SparseNormalizer object at 0x7fb1ec4e2a90\", \"primary_metric\": 0.91163004, \"best_metric\": 0.92416299}, {\"run_id\": \"AutoML_c5a5cd74-3017-4a1e-bbb2-19590578f0ae_24\", \"run_number\": 30, \"metric\": null, \"status\": \"Completed\", \"run_type\": \"azureml.scriptrun\", \"training_percent\": \"100\", \"start_time\": \"2021-02-04T15:16:08.584274Z\", \"end_time\": \"2021-02-04T15:17:41.128411Z\", \"created_time\": \"2021-02-04T15:15:54.665621Z\", \"created_time_dt\": \"2021-02-04T15:15:54.665621Z\", \"duration\": \"0:01:46\", \"iteration\": \"24\", \"goal\": \"average_precision_score_weighted_max\", \"run_name\": \"TruncatedSVDWrapper, XGBoostClassifier\", \"run_properties\": \"n_components=0.95, random_state=None\", \"primary_metric\": 0.85469185, \"best_metric\": 0.92416299}, {\"run_id\": \"AutoML_c5a5cd74-3017-4a1e-bbb2-19590578f0ae_25\", \"run_number\": 31, \"metric\": null, \"status\": \"Completed\", \"run_type\": \"azureml.scriptrun\", \"training_percent\": \"100\", \"start_time\": \"2021-02-04T15:16:49.556448Z\", \"end_time\": \"2021-02-04T15:17:45.214594Z\", \"created_time\": \"2021-02-04T15:16:35.087895Z\", \"created_time_dt\": \"2021-02-04T15:16:35.087895Z\", \"duration\": \"0:01:10\", \"iteration\": \"25\", \"goal\": \"average_precision_score_weighted_max\", \"run_name\": \"SparseNormalizer, LightGBM\", \"run_properties\": \"<azureml.automl.runtime.shared.model_wrappers.SparseNormalizer object at 0x7f0427f31f60\", \"primary_metric\": 0.90480155, \"best_metric\": 0.92416299}, {\"run_id\": \"AutoML_c5a5cd74-3017-4a1e-bbb2-19590578f0ae_26\", \"run_number\": 32, \"metric\": null, \"status\": \"Completed\", \"run_type\": \"azureml.scriptrun\", \"training_percent\": \"100\", \"start_time\": \"2021-02-04T15:16:52.671632Z\", \"end_time\": \"2021-02-04T15:18:52.183068Z\", \"created_time\": \"2021-02-04T15:16:35.204055Z\", \"created_time_dt\": \"2021-02-04T15:16:35.204055Z\", \"duration\": \"0:02:16\", \"iteration\": \"26\", \"goal\": \"average_precision_score_weighted_max\", \"run_name\": \"TruncatedSVDWrapper, XGBoostClassifier\", \"run_properties\": \"n_components=0.5542105263157895, random_state=None\", \"primary_metric\": 0.85883061, \"best_metric\": 0.92416299}, {\"run_id\": \"AutoML_c5a5cd74-3017-4a1e-bbb2-19590578f0ae_27\", \"run_number\": 33, \"metric\": null, \"status\": \"Completed\", \"run_type\": \"azureml.scriptrun\", \"training_percent\": \"100\", \"start_time\": \"2021-02-04T15:16:59.533349Z\", \"end_time\": \"2021-02-04T15:19:11.819283Z\", \"created_time\": \"2021-02-04T15:16:47.258834Z\", \"created_time_dt\": \"2021-02-04T15:16:47.258834Z\", \"duration\": \"0:02:24\", \"iteration\": \"27\", \"goal\": \"average_precision_score_weighted_max\", \"run_name\": \"TruncatedSVDWrapper, XGBoostClassifier\", \"run_properties\": \"n_components=0.6036842105263158, random_state=None\", \"primary_metric\": 0.86844292, \"best_metric\": 0.92416299}, {\"run_id\": \"AutoML_c5a5cd74-3017-4a1e-bbb2-19590578f0ae_28\", \"run_number\": 34, \"metric\": null, \"status\": \"Completed\", \"run_type\": \"azureml.scriptrun\", \"training_percent\": \"100\", \"start_time\": \"2021-02-04T15:17:06.92279Z\", \"end_time\": \"2021-02-04T15:18:57.547937Z\", \"created_time\": \"2021-02-04T15:16:53.931277Z\", \"created_time_dt\": \"2021-02-04T15:16:53.931277Z\", \"duration\": \"0:02:03\", \"iteration\": \"28\", \"goal\": \"average_precision_score_weighted_max\", \"run_name\": \"TruncatedSVDWrapper, XGBoostClassifier\", \"run_properties\": \"n_components=0.95, random_state=None\", \"primary_metric\": 0.85523315, \"best_metric\": 0.92416299}, {\"run_id\": \"AutoML_c5a5cd74-3017-4a1e-bbb2-19590578f0ae_29\", \"run_number\": 35, \"metric\": null, \"status\": \"Completed\", \"run_type\": \"azureml.scriptrun\", \"training_percent\": \"100\", \"start_time\": \"2021-02-04T15:17:56.47254Z\", \"end_time\": \"2021-02-04T15:18:51.945324Z\", \"created_time\": \"2021-02-04T15:17:43.514795Z\", \"created_time_dt\": \"2021-02-04T15:17:43.514795Z\", \"duration\": \"0:01:08\", \"iteration\": \"29\", \"goal\": \"average_precision_score_weighted_max\", \"run_name\": \"SparseNormalizer, ExtremeRandomTrees\", \"run_properties\": \"<azureml.automl.runtime.shared.model_wrappers.SparseNormalizer object at 0x7fc7f1b1db38\", \"primary_metric\": 0.55470896, \"best_metric\": 0.92416299}, {\"run_id\": \"AutoML_c5a5cd74-3017-4a1e-bbb2-19590578f0ae_30\", \"run_number\": 36, \"metric\": null, \"status\": \"Completed\", \"run_type\": \"azureml.scriptrun\", \"training_percent\": \"100\", \"start_time\": \"2021-02-04T15:18:03.731166Z\", \"end_time\": \"2021-02-04T15:18:56.101813Z\", \"created_time\": \"2021-02-04T15:17:50.674655Z\", \"created_time_dt\": \"2021-02-04T15:17:50.674655Z\", \"duration\": \"0:01:05\", \"iteration\": \"30\", \"goal\": \"average_precision_score_weighted_max\", \"run_name\": \"SparseNormalizer, LightGBM\", \"run_properties\": \"<azureml.automl.runtime.shared.model_wrappers.SparseNormalizer object at 0x7fda69337e10\", \"primary_metric\": 0.89293737, \"best_metric\": 0.92416299}, {\"run_id\": \"AutoML_c5a5cd74-3017-4a1e-bbb2-19590578f0ae_31\", \"run_number\": 37, \"metric\": null, \"status\": \"Completed\", \"run_type\": \"azureml.scriptrun\", \"training_percent\": \"100\", \"start_time\": \"2021-02-04T15:19:07.916448Z\", \"end_time\": \"2021-02-04T15:20:03.689303Z\", \"created_time\": \"2021-02-04T15:18:54.41959Z\", \"created_time_dt\": \"2021-02-04T15:18:54.41959Z\", \"duration\": \"0:01:09\", \"iteration\": \"31\", \"goal\": \"average_precision_score_weighted_max\", \"run_name\": \"MaxAbsScaler, LightGBM\", \"run_properties\": \"copy=True\", \"primary_metric\": 0.91821086, \"best_metric\": 0.92416299}, {\"run_id\": \"AutoML_c5a5cd74-3017-4a1e-bbb2-19590578f0ae_32\", \"run_number\": 38, \"metric\": null, \"status\": \"Completed\", \"run_type\": \"azureml.scriptrun\", \"training_percent\": \"100\", \"start_time\": \"2021-02-04T15:19:05.638284Z\", \"end_time\": \"2021-02-04T15:19:59.765135Z\", \"created_time\": \"2021-02-04T15:18:54.566145Z\", \"created_time_dt\": \"2021-02-04T15:18:54.566145Z\", \"duration\": \"0:01:05\", \"iteration\": \"32\", \"goal\": \"average_precision_score_weighted_max\", \"run_name\": \"SparseNormalizer, LightGBM\", \"run_properties\": \"<azureml.automl.runtime.shared.model_wrappers.SparseNormalizer object at 0x7fe544b81a58\", \"primary_metric\": 0.91371652, \"best_metric\": 0.92416299}, {\"run_id\": \"AutoML_c5a5cd74-3017-4a1e-bbb2-19590578f0ae_33\", \"run_number\": 39, \"metric\": null, \"status\": \"Completed\", \"run_type\": \"azureml.scriptrun\", \"training_percent\": \"100\", \"start_time\": \"2021-02-04T15:19:11.553876Z\", \"end_time\": \"2021-02-04T15:20:06.113614Z\", \"created_time\": \"2021-02-04T15:18:59.438147Z\", \"created_time_dt\": \"2021-02-04T15:18:59.438147Z\", \"duration\": \"0:01:06\", \"iteration\": \"33\", \"goal\": \"average_precision_score_weighted_max\", \"run_name\": \"MaxAbsScaler, LightGBM\", \"run_properties\": \"copy=True\", \"primary_metric\": 0.91939026, \"best_metric\": 0.92416299}, {\"run_id\": \"AutoML_c5a5cd74-3017-4a1e-bbb2-19590578f0ae_34\", \"run_number\": 40, \"metric\": null, \"status\": \"Completed\", \"run_type\": \"azureml.scriptrun\", \"training_percent\": \"100\", \"start_time\": \"2021-02-04T15:19:11.960293Z\", \"end_time\": \"2021-02-04T15:20:06.523025Z\", \"created_time\": \"2021-02-04T15:18:59.437026Z\", \"created_time_dt\": \"2021-02-04T15:18:59.437026Z\", \"duration\": \"0:01:07\", \"iteration\": \"34\", \"goal\": \"average_precision_score_weighted_max\", \"run_name\": \"MaxAbsScaler, LightGBM\", \"run_properties\": \"copy=True\", \"primary_metric\": 0.91508325, \"best_metric\": 0.92416299}, {\"run_id\": \"AutoML_c5a5cd74-3017-4a1e-bbb2-19590578f0ae_35\", \"run_number\": 41, \"metric\": null, \"status\": \"Canceled\", \"run_type\": \"azureml.scriptrun\", \"training_percent\": \"100\", \"start_time\": \"2021-02-04T15:19:27.14815Z\", \"end_time\": \"2021-02-04T15:20:17.500705Z\", \"created_time\": \"2021-02-04T15:19:15.005293Z\", \"created_time_dt\": \"2021-02-04T15:19:15.005293Z\", \"duration\": \"0:01:02\", \"iteration\": \"35\", \"goal\": \"average_precision_score_weighted_max\", \"run_name\": \"SparseNormalizer, LightGBM\", \"run_properties\": \"<azureml.automl.runtime.shared.model_wrappers.SparseNormalizer object at 0x7f85592b5780\", \"primary_metric\": 0.91735447, \"best_metric\": 0.92416299}, {\"run_id\": \"AutoML_c5a5cd74-3017-4a1e-bbb2-19590578f0ae_36\", \"run_number\": 42, \"metric\": null, \"status\": \"Canceled\", \"run_type\": \"azureml.scriptrun\", \"training_percent\": \"100\", \"start_time\": \"2021-02-04T15:20:02.048432Z\", \"end_time\": \"2021-02-04T15:20:18.803305Z\", \"created_time\": \"2021-02-04T15:20:02.048432Z\", \"created_time_dt\": \"2021-02-04T15:20:02.048432Z\", \"duration\": \"0:00:16\", \"iteration\": \"36\", \"goal\": null, \"run_name\": \"Canceled\", \"run_properties\": null}, {\"run_id\": \"AutoML_c5a5cd74-3017-4a1e-bbb2-19590578f0ae_37\", \"run_number\": 43, \"metric\": null, \"status\": \"Canceled\", \"run_type\": \"azureml.scriptrun\", \"training_percent\": \"100\", \"start_time\": \"2021-02-04T15:20:06.703336Z\", \"end_time\": \"2021-02-04T15:20:24.892007Z\", \"created_time\": \"2021-02-04T15:20:06.703336Z\", \"created_time_dt\": \"2021-02-04T15:20:06.703336Z\", \"duration\": \"0:00:18\", \"iteration\": \"37\", \"goal\": null, \"run_name\": \"Canceled\", \"run_properties\": null}, {\"run_id\": \"AutoML_c5a5cd74-3017-4a1e-bbb2-19590578f0ae_38\", \"run_number\": 44, \"metric\": null, \"status\": \"Completed\", \"run_type\": \"azureml.scriptrun\", \"training_percent\": \"100\", \"start_time\": \"2021-02-04T15:20:38.444074Z\", \"end_time\": \"2021-02-04T15:24:04.928697Z\", \"created_time\": \"2021-02-04T15:20:26.228512Z\", \"created_time_dt\": \"2021-02-04T15:20:26.228512Z\", \"duration\": \"0:03:38\", \"iteration\": \"38\", \"goal\": \"average_precision_score_weighted_max\", \"run_name\": \"VotingEnsemble\", \"run_properties\": \"classification_labels=None,\\n                              estimators=[('0',\\n                                           Pipeline(memory=None,\\n                                                    steps=[('maxabsscaler',\\n                                                            MaxAbsScaler(copy=True\", \"primary_metric\": 0.93353434, \"best_metric\": 0.93353434}, {\"run_id\": \"AutoML_c5a5cd74-3017-4a1e-bbb2-19590578f0ae_39\", \"run_number\": 45, \"metric\": null, \"status\": \"Completed\", \"run_type\": \"azureml.scriptrun\", \"training_percent\": \"100\", \"start_time\": \"2021-02-04T15:20:39.797242Z\", \"end_time\": \"2021-02-04T15:24:00.00371Z\", \"created_time\": \"2021-02-04T15:20:26.344338Z\", \"created_time_dt\": \"2021-02-04T15:20:26.344338Z\", \"duration\": \"0:03:33\", \"iteration\": \"39\", \"goal\": \"average_precision_score_weighted_max\", \"run_name\": \"StackEnsemble\", \"run_properties\": \"base_learners=[('0',\\n                                        Pipeline(memory=None,\\n                                                 steps=[('maxabsscaler',\\n                                                         MaxAbsScaler(copy=True\", \"primary_metric\": 0.93042535, \"best_metric\": 0.93353434}], \"children_metrics\": {\"categories\": [0], \"series\": {\"recall_score_micro\": [{\"categories\": [\"0\", \"1\", \"2\", \"3\", \"4\", \"5\", \"6\", \"7\", \"8\", \"9\", \"10\", \"11\", \"12\", \"13\", \"14\", \"15\", \"16\", \"17\", \"18\", \"19\", \"20\", \"21\", \"22\", \"23\", \"24\", \"25\", \"26\", \"27\", \"28\", \"29\", \"30\", \"31\", \"32\", \"33\", \"34\", \"35\", \"38\", \"39\"], \"mode\": \"markers\", \"name\": \"recall_score_micro\", \"stepped\": false, \"type\": \"scatter\", \"data\": [0.6899515792678953, 0.832998178144441, 0.4865192227208452, 0.823070914484538, 0.4986902536984733, 0.4986902536984733, 0.8352708016806504, 0.4986902536984733, 0.7446570976102869, 0.8130731827518611, 0.5012290173336246, 0.6780990702451497, 0.5457998917109692, 0.5430655240880904, 0.4986902536984733, 0.6634185672886201, 0.7104256336042065, 0.8256059401707992, 0.8413784086541982, 0.8086158929275294, 0.8471560071187044, 0.8542174960654384, 0.8365276100832515, 0.7319380787012771, 0.7894336793019358, 0.814514803160897, 0.7895454729855139, 0.7949974987495543, 0.793554075655581, 0.4986902536984733, 0.4740188537235853, 0.8496283091858533, 0.7907575204589216, 0.8548594547737421, 0.8330710557116077, 0.8400537804689653, 0.7887870118426865, 0.8504162172882455]}, {\"categories\": [\"0\", \"1\", \"2\", \"3\", \"4\", \"5\", \"6\", \"7\", \"8\", \"9\", \"10\", \"11\", \"12\", \"13\", \"14\", \"15\", \"16\", \"17\", \"18\", \"19\", \"20\", \"21\", \"22\", \"23\", \"24\", \"25\", \"26\", \"27\", \"28\", \"29\", \"30\", \"31\", \"32\", \"33\", \"34\", \"35\", \"38\", \"39\"], \"mode\": \"lines\", \"name\": \"recall_score_micro_max\", \"stepped\": true, \"type\": \"scatter\", \"data\": [0.6899515792678953, 0.832998178144441, 0.832998178144441, 0.832998178144441, 0.832998178144441, 0.832998178144441, 0.8352708016806504, 0.8352708016806504, 0.8352708016806504, 0.8352708016806504, 0.8352708016806504, 0.8352708016806504, 0.8352708016806504, 0.8352708016806504, 0.8352708016806504, 0.8352708016806504, 0.8352708016806504, 0.8352708016806504, 0.8413784086541982, 0.8413784086541982, 0.8471560071187044, 0.8542174960654384, 0.8542174960654384, 0.8542174960654384, 0.8542174960654384, 0.8542174960654384, 0.8542174960654384, 0.8542174960654384, 0.8542174960654384, 0.8542174960654384, 0.8542174960654384, 0.8542174960654384, 0.8542174960654384, 0.8548594547737421, 0.8548594547737421, 0.8548594547737421, 0.8548594547737421, 0.8548594547737421]}], \"average_precision_score_micro\": [{\"categories\": [\"0\", \"1\", \"2\", \"3\", \"4\", \"5\", \"6\", \"7\", \"8\", \"9\", \"10\", \"11\", \"12\", \"13\", \"14\", \"15\", \"16\", \"17\", \"18\", \"19\", \"20\", \"21\", \"22\", \"23\", \"24\", \"25\", \"26\", \"27\", \"28\", \"29\", \"30\", \"31\", \"32\", \"33\", \"34\", \"35\", \"38\", \"39\"], \"mode\": \"markers\", \"name\": \"average_precision_score_micro\", \"stepped\": false, \"type\": \"scatter\", \"data\": [0.8089899211738824, 0.9035764885140999, 0.4959412468768861, 0.911059507015306, 0.715126761879346, 0.613476198402334, 0.9115984627054762, 0.500054256053329, 0.8156565367161959, 0.8836494983418891, 0.6320731886620405, 0.7623442742497122, 0.5448919193188858, 0.5652033692123177, 0.4994597812511881, 0.7749692825818739, 0.7904174844620323, 0.8819356144543529, 0.9136936384829701, 0.8862807153434444, 0.9093474217010586, 0.9153033304754901, 0.9116048692281817, 0.8316649344613055, 0.837663274026899, 0.8989784771105935, 0.8586712265342661, 0.8421718906869945, 0.8540079354974126, 0.5297099191225045, 0.7189550418125474, 0.9158749763969938, 0.8682090667082871, 0.9172350358675672, 0.9019934719851466, 0.9182823725415175, 0.8850749563633847, 0.9240737705650146]}, {\"categories\": [\"0\", \"1\", \"2\", \"3\", \"4\", \"5\", \"6\", \"7\", \"8\", \"9\", \"10\", \"11\", \"12\", \"13\", \"14\", \"15\", \"16\", \"17\", \"18\", \"19\", \"20\", \"21\", \"22\", \"23\", \"24\", \"25\", \"26\", \"27\", \"28\", \"29\", \"30\", \"31\", \"32\", \"33\", \"34\", \"35\", \"38\", \"39\"], \"mode\": \"lines\", \"name\": \"average_precision_score_micro_max\", \"stepped\": true, \"type\": \"scatter\", \"data\": [0.8089899211738824, 0.9035764885140999, 0.9035764885140999, 0.911059507015306, 0.911059507015306, 0.911059507015306, 0.9115984627054762, 0.9115984627054762, 0.9115984627054762, 0.9115984627054762, 0.9115984627054762, 0.9115984627054762, 0.9115984627054762, 0.9115984627054762, 0.9115984627054762, 0.9115984627054762, 0.9115984627054762, 0.9115984627054762, 0.9136936384829701, 0.9136936384829701, 0.9136936384829701, 0.9153033304754901, 0.9153033304754901, 0.9153033304754901, 0.9153033304754901, 0.9153033304754901, 0.9153033304754901, 0.9153033304754901, 0.9153033304754901, 0.9153033304754901, 0.9153033304754901, 0.9158749763969938, 0.9158749763969938, 0.9172350358675672, 0.9172350358675672, 0.9182823725415175, 0.9182823725415175, 0.9240737705650146]}], \"matthews_correlation\": [{\"categories\": [\"0\", \"1\", \"2\", \"3\", \"4\", \"5\", \"6\", \"7\", \"8\", \"9\", \"10\", \"11\", \"12\", \"13\", \"14\", \"15\", \"16\", \"17\", \"18\", \"19\", \"20\", \"21\", \"22\", \"23\", \"24\", \"25\", \"26\", \"27\", \"28\", \"29\", \"30\", \"31\", \"32\", \"33\", \"34\", \"35\", \"38\", \"39\"], \"mode\": \"markers\", \"name\": \"matthews_correlation\", \"stepped\": false, \"type\": \"scatter\", \"data\": [0.46660502361357925, 0.6745950499285648, 0.05135186253782742, 0.6488605761605749, 0.0, 0.0, 0.6727127742572722, 0.0, 0.5627858724864739, 0.6391458056827395, -0.004188339949897531, 0.4593619159702913, 0.13206011348032293, 0.11656037542731745, 0.0, 0.4194435935023275, 0.5085481128014288, 0.6552979795567396, 0.683771754058874, 0.6334598096823518, 0.696859636154883, 0.708273207436843, 0.6738837038186065, 0.521233786465641, 0.5822850565459676, 0.6334034387107985, 0.5788962802323562, 0.5970486141144482, 0.5868102972239833, 0.0, 0.0, 0.6998925754711692, 0.6053906880963464, 0.7103238999171299, 0.6730043867557649, 0.6808772038061588, 0.6127914566503128, 0.7022564806387519]}, {\"categories\": [\"0\", \"1\", \"2\", \"3\", \"4\", \"5\", \"6\", \"7\", \"8\", \"9\", \"10\", \"11\", \"12\", \"13\", \"14\", \"15\", \"16\", \"17\", \"18\", \"19\", \"20\", \"21\", \"22\", \"23\", \"24\", \"25\", \"26\", \"27\", \"28\", \"29\", \"30\", \"31\", \"32\", \"33\", \"34\", \"35\", \"38\", \"39\"], \"mode\": \"lines\", \"name\": \"matthews_correlation_max\", \"stepped\": true, \"type\": \"scatter\", \"data\": [0.46660502361357925, 0.6745950499285648, 0.6745950499285648, 0.6745950499285648, 0.6745950499285648, 0.6745950499285648, 0.6745950499285648, 0.6745950499285648, 0.6745950499285648, 0.6745950499285648, 0.6745950499285648, 0.6745950499285648, 0.6745950499285648, 0.6745950499285648, 0.6745950499285648, 0.6745950499285648, 0.6745950499285648, 0.6745950499285648, 0.683771754058874, 0.683771754058874, 0.696859636154883, 0.708273207436843, 0.708273207436843, 0.708273207436843, 0.708273207436843, 0.708273207436843, 0.708273207436843, 0.708273207436843, 0.708273207436843, 0.708273207436843, 0.708273207436843, 0.708273207436843, 0.708273207436843, 0.7103238999171299, 0.7103238999171299, 0.7103238999171299, 0.7103238999171299, 0.7103238999171299]}], \"norm_macro_recall\": [{\"categories\": [\"0\", \"1\", \"2\", \"3\", \"4\", \"5\", \"6\", \"7\", \"8\", \"9\", \"10\", \"11\", \"12\", \"13\", \"14\", \"15\", \"16\", \"17\", \"18\", \"19\", \"20\", \"21\", \"22\", \"23\", \"24\", \"25\", \"26\", \"27\", \"28\", \"29\", \"30\", \"31\", \"32\", \"33\", \"34\", \"35\", \"38\", \"39\"], \"mode\": \"markers\", \"name\": \"norm_macro_recall\", \"stepped\": false, \"type\": \"scatter\", \"data\": [0.37789080301361005, 0.6606534604978114, 0.020056152618919576, 0.6424511759206186, 0.0, 0.0, 0.6696540247905344, 0.0, 0.4905597407382877, 0.6237620132127892, 0.0, 0.35718819991349693, 0.13102189781021978, 0.11000259263691115, 0.0, 0.3241201626715921, 0.42156431488304374, 0.6464199386833147, 0.6788789105420202, 0.6135742018216203, 0.6898187043060611, 0.7041778188335175, 0.6671032948154315, 0.46073761200282265, 0.5786044494996032, 0.6254790370849542, 0.5766154750200502, 0.588715072983448, 0.5856598028296043, 0.0, 0.0, 0.693577436571346, 0.5757800764567272, 0.7040295159243066, 0.6606891684770917, 0.6738763060650106, 0.5731668730415398, 0.6954967085801982]}, {\"categories\": [\"0\", \"1\", \"2\", \"3\", \"4\", \"5\", \"6\", \"7\", \"8\", \"9\", \"10\", \"11\", \"12\", \"13\", \"14\", \"15\", \"16\", \"17\", \"18\", \"19\", \"20\", \"21\", \"22\", \"23\", \"24\", \"25\", \"26\", \"27\", \"28\", \"29\", \"30\", \"31\", \"32\", \"33\", \"34\", \"35\", \"38\", \"39\"], \"mode\": \"lines\", \"name\": \"norm_macro_recall_max\", \"stepped\": true, \"type\": \"scatter\", \"data\": [0.37789080301361005, 0.6606534604978114, 0.6606534604978114, 0.6606534604978114, 0.6606534604978114, 0.6606534604978114, 0.6696540247905344, 0.6696540247905344, 0.6696540247905344, 0.6696540247905344, 0.6696540247905344, 0.6696540247905344, 0.6696540247905344, 0.6696540247905344, 0.6696540247905344, 0.6696540247905344, 0.6696540247905344, 0.6696540247905344, 0.6788789105420202, 0.6788789105420202, 0.6898187043060611, 0.7041778188335175, 0.7041778188335175, 0.7041778188335175, 0.7041778188335175, 0.7041778188335175, 0.7041778188335175, 0.7041778188335175, 0.7041778188335175, 0.7041778188335175, 0.7041778188335175, 0.7041778188335175, 0.7041778188335175, 0.7041778188335175, 0.7041778188335175, 0.7041778188335175, 0.7041778188335175, 0.7041778188335175]}], \"log_loss\": [{\"categories\": [\"0\", \"1\", \"2\", \"3\", \"4\", \"5\", \"6\", \"7\", \"8\", \"9\", \"10\", \"11\", \"12\", \"13\", \"14\", \"15\", \"16\", \"17\", \"18\", \"19\", \"20\", \"21\", \"22\", \"23\", \"24\", \"25\", \"26\", \"27\", \"28\", \"29\", \"30\", \"31\", \"32\", \"33\", \"34\", \"35\", \"38\", \"39\"], \"mode\": \"markers\", \"name\": \"log_loss\", \"stepped\": false, \"type\": \"scatter\", \"data\": [1.2215171633161308, 0.4271954050358622, 0.6940604621962979, 0.4000547812170562, 1.2173384554260145, 1.600036097522797, 0.4067825737121832, 1.7368594108181263, 0.6983612642866711, 0.4532266192595634, 5.965505671126164, 0.8151458922997388, 0.6880985033731603, 0.6808773724446793, 1.7304984144627977, 0.8181213091457992, 0.8163170593508626, 0.4668640667707315, 0.409254362140608, 0.4663154338595974, 0.3898390642850271, 0.4527424820775077, 0.4132920217036091, 0.8706385458854258, 0.4878921585153757, 0.4835070872923219, 0.4653511018287101, 0.5274527630664068, 0.46579739339666937, 1.7369181453369262, 0.6941887102544169, 0.36905815363344724, 0.6163924185186773, 0.3617913060822428, 0.4249929288115454, 0.38898632359298463, 0.4545446973109912, 0.4599565845765341]}, {\"categories\": [\"0\", \"1\", \"2\", \"3\", \"4\", \"5\", \"6\", \"7\", \"8\", \"9\", \"10\", \"11\", \"12\", \"13\", \"14\", \"15\", \"16\", \"17\", \"18\", \"19\", \"20\", \"21\", \"22\", \"23\", \"24\", \"25\", \"26\", \"27\", \"28\", \"29\", \"30\", \"31\", \"32\", \"33\", \"34\", \"35\", \"38\", \"39\"], \"mode\": \"lines\", \"name\": \"log_loss_min\", \"stepped\": true, \"type\": \"scatter\", \"data\": [1.2215171633161308, 0.4271954050358622, 0.4271954050358622, 0.4000547812170562, 0.4000547812170562, 0.4000547812170562, 0.4000547812170562, 0.4000547812170562, 0.4000547812170562, 0.4000547812170562, 0.4000547812170562, 0.4000547812170562, 0.4000547812170562, 0.4000547812170562, 0.4000547812170562, 0.4000547812170562, 0.4000547812170562, 0.4000547812170562, 0.4000547812170562, 0.4000547812170562, 0.3898390642850271, 0.3898390642850271, 0.3898390642850271, 0.3898390642850271, 0.3898390642850271, 0.3898390642850271, 0.3898390642850271, 0.3898390642850271, 0.3898390642850271, 0.3898390642850271, 0.3898390642850271, 0.36905815363344724, 0.36905815363344724, 0.3617913060822428, 0.3617913060822428, 0.3617913060822428, 0.3617913060822428, 0.3617913060822428]}], \"average_precision_score_weighted\": [{\"categories\": [\"0\", \"1\", \"2\", \"3\", \"4\", \"5\", \"6\", \"7\", \"8\", \"9\", \"10\", \"11\", \"12\", \"13\", \"14\", \"15\", \"16\", \"17\", \"18\", \"19\", \"20\", \"21\", \"22\", \"23\", \"24\", \"25\", \"26\", \"27\", \"28\", \"29\", \"30\", \"31\", \"32\", \"33\", \"34\", \"35\", \"38\", \"39\"], \"mode\": \"markers\", \"name\": \"average_precision_score_weighted\", \"stepped\": false, \"type\": \"scatter\", \"data\": [0.9241629873717738, 0.923940876709837, 0.5207761161501494, 0.9053892669347181, 0.8701547366136997, 0.6855449496823349, 0.9131380783953604, 0.5014182584081903, 0.894965797854036, 0.9058224459482338, 0.7428871712019576, 0.8890451705495606, 0.5515109620178534, 0.5729793788612998, 0.5005696065817065, 0.8877674961028403, 0.9024174151752491, 0.8959954717760842, 0.9186127288814019, 0.918367702869908, 0.907073882547518, 0.9120874590602087, 0.9082001627658218, 0.9116300437064613, 0.8546918495187321, 0.9048015469021709, 0.8588306144016005, 0.8684429208770899, 0.8552331468582383, 0.5547089597652939, 0.8929373665098415, 0.918210856955525, 0.913716524306936, 0.9193902596608916, 0.9150832458983793, 0.9173544708645922, 0.93353434010938, 0.9304253509963268]}, {\"categories\": [\"0\", \"1\", \"2\", \"3\", \"4\", \"5\", \"6\", \"7\", \"8\", \"9\", \"10\", \"11\", \"12\", \"13\", \"14\", \"15\", \"16\", \"17\", \"18\", \"19\", \"20\", \"21\", \"22\", \"23\", \"24\", \"25\", \"26\", \"27\", \"28\", \"29\", \"30\", \"31\", \"32\", \"33\", \"34\", \"35\", \"38\", \"39\"], \"mode\": \"lines\", \"name\": \"average_precision_score_weighted_max\", \"stepped\": true, \"type\": \"scatter\", \"data\": [0.9241629873717738, 0.9241629873717738, 0.9241629873717738, 0.9241629873717738, 0.9241629873717738, 0.9241629873717738, 0.9241629873717738, 0.9241629873717738, 0.9241629873717738, 0.9241629873717738, 0.9241629873717738, 0.9241629873717738, 0.9241629873717738, 0.9241629873717738, 0.9241629873717738, 0.9241629873717738, 0.9241629873717738, 0.9241629873717738, 0.9241629873717738, 0.9241629873717738, 0.9241629873717738, 0.9241629873717738, 0.9241629873717738, 0.9241629873717738, 0.9241629873717738, 0.9241629873717738, 0.9241629873717738, 0.9241629873717738, 0.9241629873717738, 0.9241629873717738, 0.9241629873717738, 0.9241629873717738, 0.9241629873717738, 0.9241629873717738, 0.9241629873717738, 0.9241629873717738, 0.93353434010938, 0.93353434010938]}], \"precision_score_weighted\": [{\"categories\": [\"0\", \"1\", \"2\", \"3\", \"4\", \"5\", \"6\", \"7\", \"8\", \"9\", \"10\", \"11\", \"12\", \"13\", \"14\", \"15\", \"16\", \"17\", \"18\", \"19\", \"20\", \"21\", \"22\", \"23\", \"24\", \"25\", \"26\", \"27\", \"28\", \"29\", \"30\", \"31\", \"32\", \"33\", \"34\", \"35\", \"38\", \"39\"], \"mode\": \"markers\", \"name\": \"precision_score_weighted\", \"stepped\": false, \"type\": \"scatter\", \"data\": [0.7894218233686514, 0.8440132752906248, 0.5387389223093815, 0.8272648692597443, 0.24939938290257183, 0.24939938290257183, 0.8382854598651198, 0.24939938290257183, 0.8240281321289483, 0.8278068206879907, 0.2519987860744624, 0.7981983628207673, 0.35916152801078705, 0.3667038936702946, 0.24939938290257183, 0.7741424411803143, 0.8081631813382406, 0.831804503302793, 0.8439434060654643, 0.8269779796223189, 0.8510434087090378, 0.8554017105706913, 0.839156345288943, 0.7954859681395716, 0.7937794757206584, 0.8207029295202996, 0.7908427630636427, 0.8032668287535321, 0.7945139580236327, 0.24939938290257183, 0.22472798292768353, 0.8519748787752939, 0.8183165729526083, 0.8571056033200406, 0.8421287155171066, 0.8427038569104515, 0.8278238125161961, 0.8537115573244785]}, {\"categories\": [\"0\", \"1\", \"2\", \"3\", \"4\", \"5\", \"6\", \"7\", \"8\", \"9\", \"10\", \"11\", \"12\", \"13\", \"14\", \"15\", \"16\", \"17\", \"18\", \"19\", \"20\", \"21\", \"22\", \"23\", \"24\", \"25\", \"26\", \"27\", \"28\", \"29\", \"30\", \"31\", \"32\", \"33\", \"34\", \"35\", \"38\", \"39\"], \"mode\": \"lines\", \"name\": \"precision_score_weighted_max\", \"stepped\": true, \"type\": \"scatter\", \"data\": [0.7894218233686514, 0.8440132752906248, 0.8440132752906248, 0.8440132752906248, 0.8440132752906248, 0.8440132752906248, 0.8440132752906248, 0.8440132752906248, 0.8440132752906248, 0.8440132752906248, 0.8440132752906248, 0.8440132752906248, 0.8440132752906248, 0.8440132752906248, 0.8440132752906248, 0.8440132752906248, 0.8440132752906248, 0.8440132752906248, 0.8440132752906248, 0.8440132752906248, 0.8510434087090378, 0.8554017105706913, 0.8554017105706913, 0.8554017105706913, 0.8554017105706913, 0.8554017105706913, 0.8554017105706913, 0.8554017105706913, 0.8554017105706913, 0.8554017105706913, 0.8554017105706913, 0.8554017105706913, 0.8554017105706913, 0.8571056033200406, 0.8571056033200406, 0.8571056033200406, 0.8571056033200406, 0.8571056033200406]}], \"weighted_accuracy\": [{\"categories\": [\"0\", \"1\", \"2\", \"3\", \"4\", \"5\", \"6\", \"7\", \"8\", \"9\", \"10\", \"11\", \"12\", \"13\", \"14\", \"15\", \"16\", \"17\", \"18\", \"19\", \"20\", \"21\", \"22\", \"23\", \"24\", \"25\", \"26\", \"27\", \"28\", \"29\", \"30\", \"31\", \"32\", \"33\", \"34\", \"35\", \"38\", \"39\"], \"mode\": \"markers\", \"name\": \"weighted_accuracy\", \"stepped\": false, \"type\": \"scatter\", \"data\": [0.9825189896737502, 0.9198107374031519, 0.5604212715319471, 0.7742251018131956, 0.0011233419394603829, 0.0011233419394603829, 0.790855527634617, 0.0011233419394603829, 0.5004859440597261, 0.9190374292565935, 0.9987259094851455, 0.36207004070906473, 0.4269949200358393, 0.7242732204295015, 0.0011233419394603829, 0.3502700452753259, 0.4315713451910135, 0.8918427740666739, 0.8772007343498249, 0.9279012302171115, 0.8164000749184278, 0.8484781673758546, 0.8372524691302559, 0.9638697510374497, 0.8455693493046776, 0.8862042785126368, 0.8030947890934597, 0.8756784960994739, 0.8069278360157359, 0.0011233419394603829, 0.49977080595687795, 0.8670507134910896, 0.9393659453240781, 0.8643538041306723, 0.9102558733167381, 0.8396709653371263, 0.9612840684729123, 0.8912663476728249]}, {\"categories\": [\"0\", \"1\", \"2\", \"3\", \"4\", \"5\", \"6\", \"7\", \"8\", \"9\", \"10\", \"11\", \"12\", \"13\", \"14\", \"15\", \"16\", \"17\", \"18\", \"19\", \"20\", \"21\", \"22\", \"23\", \"24\", \"25\", \"26\", \"27\", \"28\", \"29\", \"30\", \"31\", \"32\", \"33\", \"34\", \"35\", \"38\", \"39\"], \"mode\": \"lines\", \"name\": \"weighted_accuracy_max\", \"stepped\": true, \"type\": \"scatter\", \"data\": [0.9825189896737502, 0.9825189896737502, 0.9825189896737502, 0.9825189896737502, 0.9825189896737502, 0.9825189896737502, 0.9825189896737502, 0.9825189896737502, 0.9825189896737502, 0.9825189896737502, 0.9987259094851455, 0.9987259094851455, 0.9987259094851455, 0.9987259094851455, 0.9987259094851455, 0.9987259094851455, 0.9987259094851455, 0.9987259094851455, 0.9987259094851455, 0.9987259094851455, 0.9987259094851455, 0.9987259094851455, 0.9987259094851455, 0.9987259094851455, 0.9987259094851455, 0.9987259094851455, 0.9987259094851455, 0.9987259094851455, 0.9987259094851455, 0.9987259094851455, 0.9987259094851455, 0.9987259094851455, 0.9987259094851455, 0.9987259094851455, 0.9987259094851455, 0.9987259094851455, 0.9987259094851455, 0.9987259094851455]}], \"recall_score_weighted\": [{\"categories\": [\"0\", \"1\", \"2\", \"3\", \"4\", \"5\", \"6\", \"7\", \"8\", \"9\", \"10\", \"11\", \"12\", \"13\", \"14\", \"15\", \"16\", \"17\", \"18\", \"19\", \"20\", \"21\", \"22\", \"23\", \"24\", \"25\", \"26\", \"27\", \"28\", \"29\", \"30\", \"31\", \"32\", \"33\", \"34\", \"35\", \"38\", \"39\"], \"mode\": \"markers\", \"name\": \"recall_score_weighted\", \"stepped\": false, \"type\": \"scatter\", \"data\": [0.6899515792678953, 0.832998178144441, 0.4865192227208452, 0.823070914484538, 0.4986902536984733, 0.4986902536984733, 0.8352708016806504, 0.4986902536984733, 0.7446570976102869, 0.8130731827518611, 0.5012290173336246, 0.6780990702451497, 0.5457998917109692, 0.5430655240880904, 0.4986902536984733, 0.6634185672886201, 0.7104256336042065, 0.8256059401707992, 0.8413784086541982, 0.8086158929275294, 0.8471560071187044, 0.8542174960654384, 0.8365276100832515, 0.7319380787012771, 0.7894336793019358, 0.814514803160897, 0.7895454729855139, 0.7949974987495543, 0.793554075655581, 0.4986902536984733, 0.4740188537235853, 0.8496283091858533, 0.7907575204589216, 0.8548594547737421, 0.8330710557116077, 0.8400537804689653, 0.7887870118426865, 0.8504162172882455]}, {\"categories\": [\"0\", \"1\", \"2\", \"3\", \"4\", \"5\", \"6\", \"7\", \"8\", \"9\", \"10\", \"11\", \"12\", \"13\", \"14\", \"15\", \"16\", \"17\", \"18\", \"19\", \"20\", \"21\", \"22\", \"23\", \"24\", \"25\", \"26\", \"27\", \"28\", \"29\", \"30\", \"31\", \"32\", \"33\", \"34\", \"35\", \"38\", \"39\"], \"mode\": \"lines\", \"name\": \"recall_score_weighted_max\", \"stepped\": true, \"type\": \"scatter\", \"data\": [0.6899515792678953, 0.832998178144441, 0.832998178144441, 0.832998178144441, 0.832998178144441, 0.832998178144441, 0.8352708016806504, 0.8352708016806504, 0.8352708016806504, 0.8352708016806504, 0.8352708016806504, 0.8352708016806504, 0.8352708016806504, 0.8352708016806504, 0.8352708016806504, 0.8352708016806504, 0.8352708016806504, 0.8352708016806504, 0.8413784086541982, 0.8413784086541982, 0.8471560071187044, 0.8542174960654384, 0.8542174960654384, 0.8542174960654384, 0.8542174960654384, 0.8542174960654384, 0.8542174960654384, 0.8542174960654384, 0.8542174960654384, 0.8542174960654384, 0.8542174960654384, 0.8542174960654384, 0.8542174960654384, 0.8548594547737421, 0.8548594547737421, 0.8548594547737421, 0.8548594547737421, 0.8548594547737421]}], \"AUC_micro\": [{\"categories\": [\"0\", \"1\", \"2\", \"3\", \"4\", \"5\", \"6\", \"7\", \"8\", \"9\", \"10\", \"11\", \"12\", \"13\", \"14\", \"15\", \"16\", \"17\", \"18\", \"19\", \"20\", \"21\", \"22\", \"23\", \"24\", \"25\", \"26\", \"27\", \"28\", \"29\", \"30\", \"31\", \"32\", \"33\", \"34\", \"35\", \"38\", \"39\"], \"mode\": \"markers\", \"name\": \"AUC_micro\", \"stepped\": false, \"type\": \"scatter\", \"data\": [0.7925389901306478, 0.9049811290860921, 0.4898495121788088, 0.908831462574998, 0.6846535171449166, 0.6090357881526165, 0.9110686067674771, 0.49869025369847875, 0.8167445150451793, 0.8909548998960433, 0.6424635753749084, 0.7579639520265526, 0.5473693404872102, 0.5684833363107121, 0.4971668381935356, 0.7643531263056178, 0.784804155769822, 0.8919731728013919, 0.9143410528142537, 0.8848567689990258, 0.9083194245369464, 0.918047495737357, 0.9114373249117511, 0.8280684218898888, 0.847106468983785, 0.9004165415216615, 0.8671795469854565, 0.8503000849473896, 0.8617202255096017, 0.5345606787236645, 0.6730702242117863, 0.9191727721100801, 0.8691459353587343, 0.9206980496478249, 0.9075225601346406, 0.917657398469009, 0.8792715443276731, 0.9272776688899749]}, {\"categories\": [\"0\", \"1\", \"2\", \"3\", \"4\", \"5\", \"6\", \"7\", \"8\", \"9\", \"10\", \"11\", \"12\", \"13\", \"14\", \"15\", \"16\", \"17\", \"18\", \"19\", \"20\", \"21\", \"22\", \"23\", \"24\", \"25\", \"26\", \"27\", \"28\", \"29\", \"30\", \"31\", \"32\", \"33\", \"34\", \"35\", \"38\", \"39\"], \"mode\": \"lines\", \"name\": \"AUC_micro_max\", \"stepped\": true, \"type\": \"scatter\", \"data\": [0.7925389901306478, 0.9049811290860921, 0.9049811290860921, 0.908831462574998, 0.908831462574998, 0.908831462574998, 0.9110686067674771, 0.9110686067674771, 0.9110686067674771, 0.9110686067674771, 0.9110686067674771, 0.9110686067674771, 0.9110686067674771, 0.9110686067674771, 0.9110686067674771, 0.9110686067674771, 0.9110686067674771, 0.9110686067674771, 0.9143410528142537, 0.9143410528142537, 0.9143410528142537, 0.918047495737357, 0.918047495737357, 0.918047495737357, 0.918047495737357, 0.918047495737357, 0.918047495737357, 0.918047495737357, 0.918047495737357, 0.918047495737357, 0.918047495737357, 0.9191727721100801, 0.9191727721100801, 0.9206980496478249, 0.9206980496478249, 0.9206980496478249, 0.9206980496478249, 0.9272776688899749]}], \"accuracy\": [{\"categories\": [\"0\", \"1\", \"2\", \"3\", \"4\", \"5\", \"6\", \"7\", \"8\", \"9\", \"10\", \"11\", \"12\", \"13\", \"14\", \"15\", \"16\", \"17\", \"18\", \"19\", \"20\", \"21\", \"22\", \"23\", \"24\", \"25\", \"26\", \"27\", \"28\", \"29\", \"30\", \"31\", \"32\", \"33\", \"34\", \"35\", \"38\", \"39\"], \"mode\": \"markers\", \"name\": \"accuracy\", \"stepped\": false, \"type\": \"scatter\", \"data\": [0.6899515792678962, 0.8329981781444393, 0.486519222720845, 0.8230709144845322, 0.49869025369847086, 0.49869025369847086, 0.835270801680645, 0.49869025369847086, 0.7446570976102788, 0.8130731827518596, 0.5012290173336267, 0.6780990702451453, 0.5457998917109668, 0.5430655240880904, 0.49869025369847086, 0.6634185672886158, 0.7104256336042004, 0.8256059401707969, 0.8413784086541953, 0.8086158929275282, 0.8471560071186999, 0.8542174960654346, 0.8365276100832476, 0.7319380787012774, 0.7894336793019322, 0.8145148031608944, 0.7895454729855091, 0.7949974987495516, 0.7935540756555762, 0.49869025369847086, 0.4740188537235852, 0.8496283091858502, 0.7907575204589206, 0.8548594547737388, 0.8330710557116059, 0.8400537804689613, 0.7887870118426862, 0.8504162172882429]}, {\"categories\": [\"0\", \"1\", \"2\", \"3\", \"4\", \"5\", \"6\", \"7\", \"8\", \"9\", \"10\", \"11\", \"12\", \"13\", \"14\", \"15\", \"16\", \"17\", \"18\", \"19\", \"20\", \"21\", \"22\", \"23\", \"24\", \"25\", \"26\", \"27\", \"28\", \"29\", \"30\", \"31\", \"32\", \"33\", \"34\", \"35\", \"38\", \"39\"], \"mode\": \"lines\", \"name\": \"accuracy_max\", \"stepped\": true, \"type\": \"scatter\", \"data\": [0.6899515792678962, 0.8329981781444393, 0.8329981781444393, 0.8329981781444393, 0.8329981781444393, 0.8329981781444393, 0.835270801680645, 0.835270801680645, 0.835270801680645, 0.835270801680645, 0.835270801680645, 0.835270801680645, 0.835270801680645, 0.835270801680645, 0.835270801680645, 0.835270801680645, 0.835270801680645, 0.835270801680645, 0.8413784086541953, 0.8413784086541953, 0.8471560071186999, 0.8542174960654346, 0.8542174960654346, 0.8542174960654346, 0.8542174960654346, 0.8542174960654346, 0.8542174960654346, 0.8542174960654346, 0.8542174960654346, 0.8542174960654346, 0.8542174960654346, 0.8542174960654346, 0.8542174960654346, 0.8548594547737388, 0.8548594547737388, 0.8548594547737388, 0.8548594547737388, 0.8548594547737388]}], \"precision_score_micro\": [{\"categories\": [\"0\", \"1\", \"2\", \"3\", \"4\", \"5\", \"6\", \"7\", \"8\", \"9\", \"10\", \"11\", \"12\", \"13\", \"14\", \"15\", \"16\", \"17\", \"18\", \"19\", \"20\", \"21\", \"22\", \"23\", \"24\", \"25\", \"26\", \"27\", \"28\", \"29\", \"30\", \"31\", \"32\", \"33\", \"34\", \"35\", \"38\", \"39\"], \"mode\": \"markers\", \"name\": \"precision_score_micro\", \"stepped\": false, \"type\": \"scatter\", \"data\": [0.6899515792679008, 0.8329981781444429, 0.48651922272085035, 0.8230709144845374, 0.49869025369847997, 0.49869025369847997, 0.83527080168065, 0.49869025369847997, 0.744657097610285, 0.8130731827518635, 0.5012290173336312, 0.6780990702451524, 0.545799891710974, 0.5430655240880968, 0.49869025369847997, 0.6634185672886226, 0.7104256336042072, 0.8256059401708011, 0.8413784086541995, 0.808615892927532, 0.8471560071187033, 0.854217496065438, 0.8365276100832513, 0.7319380787012821, 0.7894336793019369, 0.8145148031608986, 0.7895454729855145, 0.794997498749556, 0.7935540756555816, 0.49869025369847997, 0.47401885372359176, 0.8496283091858533, 0.7907575204589251, 0.8548594547737421, 0.833071055711609, 0.8400537804689648, 0.7887870118426907, 0.8504162172882459]}, {\"categories\": [\"0\", \"1\", \"2\", \"3\", \"4\", \"5\", \"6\", \"7\", \"8\", \"9\", \"10\", \"11\", \"12\", \"13\", \"14\", \"15\", \"16\", \"17\", \"18\", \"19\", \"20\", \"21\", \"22\", \"23\", \"24\", \"25\", \"26\", \"27\", \"28\", \"29\", \"30\", \"31\", \"32\", \"33\", \"34\", \"35\", \"38\", \"39\"], \"mode\": \"lines\", \"name\": \"precision_score_micro_max\", \"stepped\": true, \"type\": \"scatter\", \"data\": [0.6899515792679008, 0.8329981781444429, 0.8329981781444429, 0.8329981781444429, 0.8329981781444429, 0.8329981781444429, 0.83527080168065, 0.83527080168065, 0.83527080168065, 0.83527080168065, 0.83527080168065, 0.83527080168065, 0.83527080168065, 0.83527080168065, 0.83527080168065, 0.83527080168065, 0.83527080168065, 0.83527080168065, 0.8413784086541995, 0.8413784086541995, 0.8471560071187033, 0.854217496065438, 0.854217496065438, 0.854217496065438, 0.854217496065438, 0.854217496065438, 0.854217496065438, 0.854217496065438, 0.854217496065438, 0.854217496065438, 0.854217496065438, 0.854217496065438, 0.854217496065438, 0.8548594547737421, 0.8548594547737421, 0.8548594547737421, 0.8548594547737421, 0.8548594547737421]}], \"f1_score_macro\": [{\"categories\": [\"0\", \"1\", \"2\", \"3\", \"4\", \"5\", \"6\", \"7\", \"8\", \"9\", \"10\", \"11\", \"12\", \"13\", \"14\", \"15\", \"16\", \"17\", \"18\", \"19\", \"20\", \"21\", \"22\", \"23\", \"24\", \"25\", \"26\", \"27\", \"28\", \"29\", \"30\", \"31\", \"32\", \"33\", \"34\", \"35\", \"38\", \"39\"], \"mode\": \"markers\", \"name\": \"f1_score_macro\", \"stepped\": false, \"type\": \"scatter\", \"data\": [0.6584702892508193, 0.8291742252457523, 0.3708868939919918, 0.8215395523169735, 0.3325400478438249, 0.3325400478438249, 0.8345556524315001, 0.3325400478438249, 0.7282104196553562, 0.8095718637799951, 0.3336719680400797, 0.6405577350396665, 0.43144686012005684, 0.42174920706830943, 0.3325400478438249, 0.6238918964908813, 0.6854015841129025, 0.8227854892751493, 0.839851524549472, 0.8042241843066953, 0.8460262329204808, 0.8531530349338716, 0.8347853806957564, 0.7146595697423959, 0.7883090944995259, 0.8121349150160897, 0.7883279014277783, 0.7928808872609019, 0.7926453458689797, 0.3325400478438249, 0.32157195191139065, 0.8479238327843215, 0.7828388439717767, 0.8532885092980322, 0.8298601548447446, 0.8382410111550413, 0.7796271222640532, 0.8483375078639828]}, {\"categories\": [\"0\", \"1\", \"2\", \"3\", \"4\", \"5\", \"6\", \"7\", \"8\", \"9\", \"10\", \"11\", \"12\", \"13\", \"14\", \"15\", \"16\", \"17\", \"18\", \"19\", \"20\", \"21\", \"22\", \"23\", \"24\", \"25\", \"26\", \"27\", \"28\", \"29\", \"30\", \"31\", \"32\", \"33\", \"34\", \"35\", \"38\", \"39\"], \"mode\": \"lines\", \"name\": \"f1_score_macro_max\", \"stepped\": true, \"type\": \"scatter\", \"data\": [0.6584702892508193, 0.8291742252457523, 0.8291742252457523, 0.8291742252457523, 0.8291742252457523, 0.8291742252457523, 0.8345556524315001, 0.8345556524315001, 0.8345556524315001, 0.8345556524315001, 0.8345556524315001, 0.8345556524315001, 0.8345556524315001, 0.8345556524315001, 0.8345556524315001, 0.8345556524315001, 0.8345556524315001, 0.8345556524315001, 0.839851524549472, 0.839851524549472, 0.8460262329204808, 0.8531530349338716, 0.8531530349338716, 0.8531530349338716, 0.8531530349338716, 0.8531530349338716, 0.8531530349338716, 0.8531530349338716, 0.8531530349338716, 0.8531530349338716, 0.8531530349338716, 0.8531530349338716, 0.8531530349338716, 0.8532885092980322, 0.8532885092980322, 0.8532885092980322, 0.8532885092980322, 0.8532885092980322]}], \"f1_score_weighted\": [{\"categories\": [\"0\", \"1\", \"2\", \"3\", \"4\", \"5\", \"6\", \"7\", \"8\", \"9\", \"10\", \"11\", \"12\", \"13\", \"14\", \"15\", \"16\", \"17\", \"18\", \"19\", \"20\", \"21\", \"22\", \"23\", \"24\", \"25\", \"26\", \"27\", \"28\", \"29\", \"30\", \"31\", \"32\", \"33\", \"34\", \"35\", \"38\", \"39\"], \"mode\": \"markers\", \"name\": \"f1_score_weighted\", \"stepped\": false, \"type\": \"scatter\", \"data\": [0.6594174621384453, 0.8303205015472056, 0.35654541970828824, 0.822268361807966, 0.3323004117093057, 0.3323004117093057, 0.8349791557139419, 0.3323004117093057, 0.7284716884975058, 0.8103558789952725, 0.33517035497586645, 0.64110688269093, 0.4186608015583299, 0.41531113248059204, 0.3323004117093057, 0.6253843669562673, 0.6858968175287186, 0.8238315480921741, 0.840629088036668, 0.8051711449231627, 0.846687549826142, 0.8538278314896912, 0.8356869431454212, 0.7158598255818, 0.7887687589549299, 0.8130350431725012, 0.7890739398997929, 0.7934660539987656, 0.7932748874275988, 0.3323004117093057, 0.304893803624398, 0.8487808116502296, 0.7843332802190089, 0.8541118875812894, 0.8309222891673392, 0.8391837449030985, 0.7808807812488515, 0.8492699965301976]}, {\"categories\": [\"0\", \"1\", \"2\", \"3\", \"4\", \"5\", \"6\", \"7\", \"8\", \"9\", \"10\", \"11\", \"12\", \"13\", \"14\", \"15\", \"16\", \"17\", \"18\", \"19\", \"20\", \"21\", \"22\", \"23\", \"24\", \"25\", \"26\", \"27\", \"28\", \"29\", \"30\", \"31\", \"32\", \"33\", \"34\", \"35\", \"38\", \"39\"], \"mode\": \"lines\", \"name\": \"f1_score_weighted_max\", \"stepped\": true, \"type\": \"scatter\", \"data\": [0.6594174621384453, 0.8303205015472056, 0.8303205015472056, 0.8303205015472056, 0.8303205015472056, 0.8303205015472056, 0.8349791557139419, 0.8349791557139419, 0.8349791557139419, 0.8349791557139419, 0.8349791557139419, 0.8349791557139419, 0.8349791557139419, 0.8349791557139419, 0.8349791557139419, 0.8349791557139419, 0.8349791557139419, 0.8349791557139419, 0.840629088036668, 0.840629088036668, 0.846687549826142, 0.8538278314896912, 0.8538278314896912, 0.8538278314896912, 0.8538278314896912, 0.8538278314896912, 0.8538278314896912, 0.8538278314896912, 0.8538278314896912, 0.8538278314896912, 0.8538278314896912, 0.8538278314896912, 0.8538278314896912, 0.8541118875812894, 0.8541118875812894, 0.8541118875812894, 0.8541118875812894, 0.8541118875812894]}], \"balanced_accuracy\": [{\"categories\": [\"0\", \"1\", \"2\", \"3\", \"4\", \"5\", \"6\", \"7\", \"8\", \"9\", \"10\", \"11\", \"12\", \"13\", \"14\", \"15\", \"16\", \"17\", \"18\", \"19\", \"20\", \"21\", \"22\", \"23\", \"24\", \"25\", \"26\", \"27\", \"28\", \"29\", \"30\", \"31\", \"32\", \"33\", \"34\", \"35\", \"38\", \"39\"], \"mode\": \"markers\", \"name\": \"balanced_accuracy\", \"stepped\": false, \"type\": \"scatter\", \"data\": [0.6889454015068055, 0.8303267302489078, 0.5100280763094602, 0.8212255879603141, 0.5, 0.5, 0.8348270123952719, 0.5, 0.7452798703691508, 0.8118810066063967, 0.49992456246228123, 0.6785940999567527, 0.5655109489051113, 0.5550012963184563, 0.5, 0.6620600813358001, 0.7107821574415277, 0.8232099693416601, 0.8394394552710132, 0.8067871009108122, 0.8449093521530349, 0.8520889094167623, 0.8335516474077196, 0.7303688060014124, 0.7893022247498053, 0.8127395185424799, 0.7883077375100296, 0.7943575364917271, 0.7928299014148065, 0.5, 0.5, 0.8467887182856761, 0.7878900382283652, 0.8520147579621566, 0.8303445842385482, 0.8369381530325091, 0.786583436520771, 0.8477483542901019]}, {\"categories\": [\"0\", \"1\", \"2\", \"3\", \"4\", \"5\", \"6\", \"7\", \"8\", \"9\", \"10\", \"11\", \"12\", \"13\", \"14\", \"15\", \"16\", \"17\", \"18\", \"19\", \"20\", \"21\", \"22\", \"23\", \"24\", \"25\", \"26\", \"27\", \"28\", \"29\", \"30\", \"31\", \"32\", \"33\", \"34\", \"35\", \"38\", \"39\"], \"mode\": \"lines\", \"name\": \"balanced_accuracy_max\", \"stepped\": true, \"type\": \"scatter\", \"data\": [0.6889454015068055, 0.8303267302489078, 0.8303267302489078, 0.8303267302489078, 0.8303267302489078, 0.8303267302489078, 0.8348270123952719, 0.8348270123952719, 0.8348270123952719, 0.8348270123952719, 0.8348270123952719, 0.8348270123952719, 0.8348270123952719, 0.8348270123952719, 0.8348270123952719, 0.8348270123952719, 0.8348270123952719, 0.8348270123952719, 0.8394394552710132, 0.8394394552710132, 0.8449093521530349, 0.8520889094167623, 0.8520889094167623, 0.8520889094167623, 0.8520889094167623, 0.8520889094167623, 0.8520889094167623, 0.8520889094167623, 0.8520889094167623, 0.8520889094167623, 0.8520889094167623, 0.8520889094167623, 0.8520889094167623, 0.8520889094167623, 0.8520889094167623, 0.8520889094167623, 0.8520889094167623, 0.8520889094167623]}], \"AUC_macro\": [{\"categories\": [\"0\", \"1\", \"2\", \"3\", \"4\", \"5\", \"6\", \"7\", \"8\", \"9\", \"10\", \"11\", \"12\", \"13\", \"14\", \"15\", \"16\", \"17\", \"18\", \"19\", \"20\", \"21\", \"22\", \"23\", \"24\", \"25\", \"26\", \"27\", \"28\", \"29\", \"30\", \"31\", \"32\", \"33\", \"34\", \"35\", \"38\", \"39\"], \"mode\": \"markers\", \"name\": \"AUC_macro\", \"stepped\": false, \"type\": \"scatter\", \"data\": [0.9241566257238704, 0.9269761352000103, 0.5280769141925106, 0.9061834168295423, 0.8730040410989333, 0.7212956626248673, 0.9122178679194188, 0.5, 0.8980293139418163, 0.9127928965434351, 0.7832139826120639, 0.8912245177513762, 0.5655109489051102, 0.5836599058673373, 0.49694829234009835, 0.8893207053522943, 0.9016551102093804, 0.9016332110507153, 0.9185456887836263, 0.9184243825468008, 0.9069925663861622, 0.9162828149762979, 0.9108032757608865, 0.9162081636778086, 0.8604328024613628, 0.9077606602170167, 0.865766974627022, 0.875135520699813, 0.8623004020260107, 0.5720052894394129, 0.8992117380515348, 0.9211541742321976, 0.9188752538737377, 0.9225743166601996, 0.9207929437336426, 0.9181183079032836, 0.9326516444819961, 0.9299863920174374]}, {\"categories\": [\"0\", \"1\", \"2\", \"3\", \"4\", \"5\", \"6\", \"7\", \"8\", \"9\", \"10\", \"11\", \"12\", \"13\", \"14\", \"15\", \"16\", \"17\", \"18\", \"19\", \"20\", \"21\", \"22\", \"23\", \"24\", \"25\", \"26\", \"27\", \"28\", \"29\", \"30\", \"31\", \"32\", \"33\", \"34\", \"35\", \"38\", \"39\"], \"mode\": \"lines\", \"name\": \"AUC_macro_max\", \"stepped\": true, \"type\": \"scatter\", \"data\": [0.9241566257238704, 0.9269761352000103, 0.9269761352000103, 0.9269761352000103, 0.9269761352000103, 0.9269761352000103, 0.9269761352000103, 0.9269761352000103, 0.9269761352000103, 0.9269761352000103, 0.9269761352000103, 0.9269761352000103, 0.9269761352000103, 0.9269761352000103, 0.9269761352000103, 0.9269761352000103, 0.9269761352000103, 0.9269761352000103, 0.9269761352000103, 0.9269761352000103, 0.9269761352000103, 0.9269761352000103, 0.9269761352000103, 0.9269761352000103, 0.9269761352000103, 0.9269761352000103, 0.9269761352000103, 0.9269761352000103, 0.9269761352000103, 0.9269761352000103, 0.9269761352000103, 0.9269761352000103, 0.9269761352000103, 0.9269761352000103, 0.9269761352000103, 0.9269761352000103, 0.9326516444819961, 0.9326516444819961]}], \"precision_score_macro\": [{\"categories\": [\"0\", \"1\", \"2\", \"3\", \"4\", \"5\", \"6\", \"7\", \"8\", \"9\", \"10\", \"11\", \"12\", \"13\", \"14\", \"15\", \"16\", \"17\", \"18\", \"19\", \"20\", \"21\", \"22\", \"23\", \"24\", \"25\", \"26\", \"27\", \"28\", \"29\", \"30\", \"31\", \"32\", \"33\", \"34\", \"35\", \"38\", \"39\"], \"mode\": \"markers\", \"name\": \"precision_score_macro\", \"stepped\": false, \"type\": \"scatter\", \"data\": [0.7892026639058958, 0.8446780004643422, 0.5351286438458314, 0.827722856748455, 0.24934512684923998, 0.24934512684923998, 0.8379031438479162, 0.24934512684923998, 0.8230179550121584, 0.8275475739015503, 0.2506361004938076, 0.7968638236470217, 0.36888898978513185, 0.36948308795613755, 0.24934512684923998, 0.7747214054540477, 0.8072506030262075, 0.8322323145884423, 0.8443683129008995, 0.8271795303165312, 0.852021240540702, 0.856196910428234, 0.8403672238939561, 0.7953542484503564, 0.7930031942145004, 0.820774860611754, 0.7906025927711393, 0.8027928588063776, 0.7939871820319407, 0.24934512684923998, 0.23700942686179588, 0.8531426014220753, 0.8188141223691778, 0.8583410680227157, 0.8429501800397583, 0.8439850240866813, 0.8281479283607454, 0.8546142825797352]}, {\"categories\": [\"0\", \"1\", \"2\", \"3\", \"4\", \"5\", \"6\", \"7\", \"8\", \"9\", \"10\", \"11\", \"12\", \"13\", \"14\", \"15\", \"16\", \"17\", \"18\", \"19\", \"20\", \"21\", \"22\", \"23\", \"24\", \"25\", \"26\", \"27\", \"28\", \"29\", \"30\", \"31\", \"32\", \"33\", \"34\", \"35\", \"38\", \"39\"], \"mode\": \"lines\", \"name\": \"precision_score_macro_max\", \"stepped\": true, \"type\": \"scatter\", \"data\": [0.7892026639058958, 0.8446780004643422, 0.8446780004643422, 0.8446780004643422, 0.8446780004643422, 0.8446780004643422, 0.8446780004643422, 0.8446780004643422, 0.8446780004643422, 0.8446780004643422, 0.8446780004643422, 0.8446780004643422, 0.8446780004643422, 0.8446780004643422, 0.8446780004643422, 0.8446780004643422, 0.8446780004643422, 0.8446780004643422, 0.8446780004643422, 0.8446780004643422, 0.852021240540702, 0.856196910428234, 0.856196910428234, 0.856196910428234, 0.856196910428234, 0.856196910428234, 0.856196910428234, 0.856196910428234, 0.856196910428234, 0.856196910428234, 0.856196910428234, 0.856196910428234, 0.856196910428234, 0.8583410680227157, 0.8583410680227157, 0.8583410680227157, 0.8583410680227157, 0.8583410680227157]}], \"AUC_weighted\": [{\"categories\": [\"0\", \"1\", \"2\", \"3\", \"4\", \"5\", \"6\", \"7\", \"8\", \"9\", \"10\", \"11\", \"12\", \"13\", \"14\", \"15\", \"16\", \"17\", \"18\", \"19\", \"20\", \"21\", \"22\", \"23\", \"24\", \"25\", \"26\", \"27\", \"28\", \"29\", \"30\", \"31\", \"32\", \"33\", \"34\", \"35\", \"38\", \"39\"], \"mode\": \"markers\", \"name\": \"AUC_weighted\", \"stepped\": false, \"type\": \"scatter\", \"data\": [0.9241566257238703, 0.9269761352000103, 0.5280769141925106, 0.9061834168295422, 0.8730040410989333, 0.7212956626248676, 0.912217867919419, 0.5, 0.8980293139418162, 0.9127928965434351, 0.783213982612064, 0.8912245177513762, 0.5655109489051102, 0.5836599058673373, 0.49694829234009835, 0.8893207053522945, 0.9016551102093804, 0.9016332110507153, 0.9185456887836263, 0.9184243825468008, 0.9069925663861622, 0.916282814976298, 0.9108032757608865, 0.9162081636778087, 0.860432802461363, 0.9077606602170167, 0.8657669746270221, 0.875135520699813, 0.8623004020260105, 0.5720052894394131, 0.899211738051535, 0.9211541742321976, 0.9188752538737378, 0.9225743166601998, 0.9207929437336426, 0.9181183079032836, 0.9326516444819962, 0.9299863920174374]}, {\"categories\": [\"0\", \"1\", \"2\", \"3\", \"4\", \"5\", \"6\", \"7\", \"8\", \"9\", \"10\", \"11\", \"12\", \"13\", \"14\", \"15\", \"16\", \"17\", \"18\", \"19\", \"20\", \"21\", \"22\", \"23\", \"24\", \"25\", \"26\", \"27\", \"28\", \"29\", \"30\", \"31\", \"32\", \"33\", \"34\", \"35\", \"38\", \"39\"], \"mode\": \"lines\", \"name\": \"AUC_weighted_max\", \"stepped\": true, \"type\": \"scatter\", \"data\": [0.9241566257238703, 0.9269761352000103, 0.9269761352000103, 0.9269761352000103, 0.9269761352000103, 0.9269761352000103, 0.9269761352000103, 0.9269761352000103, 0.9269761352000103, 0.9269761352000103, 0.9269761352000103, 0.9269761352000103, 0.9269761352000103, 0.9269761352000103, 0.9269761352000103, 0.9269761352000103, 0.9269761352000103, 0.9269761352000103, 0.9269761352000103, 0.9269761352000103, 0.9269761352000103, 0.9269761352000103, 0.9269761352000103, 0.9269761352000103, 0.9269761352000103, 0.9269761352000103, 0.9269761352000103, 0.9269761352000103, 0.9269761352000103, 0.9269761352000103, 0.9269761352000103, 0.9269761352000103, 0.9269761352000103, 0.9269761352000103, 0.9269761352000103, 0.9269761352000103, 0.9326516444819962, 0.9326516444819962]}], \"average_precision_score_macro\": [{\"categories\": [\"0\", \"1\", \"2\", \"3\", \"4\", \"5\", \"6\", \"7\", \"8\", \"9\", \"10\", \"11\", \"12\", \"13\", \"14\", \"15\", \"16\", \"17\", \"18\", \"19\", \"20\", \"21\", \"22\", \"23\", \"24\", \"25\", \"26\", \"27\", \"28\", \"29\", \"30\", \"31\", \"32\", \"33\", \"34\", \"35\", \"38\", \"39\"], \"mode\": \"markers\", \"name\": \"average_precision_score_macro\", \"stepped\": false, \"type\": \"scatter\", \"data\": [0.9238239033078381, 0.9238053122933774, 0.5191185109260907, 0.9048992995712242, 0.8698204057765593, 0.6841352575592088, 0.9129533489260471, 0.5, 0.8945263429424172, 0.9057234324459128, 0.7421206208912794, 0.888573204650006, 0.5502332124624438, 0.5717623726571834, 0.4991214317416537, 0.8877431476631692, 0.9021062507569346, 0.8962954194639525, 0.9183104266639414, 0.9181616410201334, 0.9067455677537967, 0.9120842205739395, 0.9079020530968168, 0.9118744779572548, 0.8545781548873785, 0.9047523669561636, 0.8590027229237243, 0.8682900102576109, 0.8548954074862394, 0.55371102653807, 0.8928034511896212, 0.9182612546874418, 0.9138168260353435, 0.9194419367335633, 0.9151936400677374, 0.9171141036201785, 0.9332373796255888, 0.9301304888855538]}, {\"categories\": [\"0\", \"1\", \"2\", \"3\", \"4\", \"5\", \"6\", \"7\", \"8\", \"9\", \"10\", \"11\", \"12\", \"13\", \"14\", \"15\", \"16\", \"17\", \"18\", \"19\", \"20\", \"21\", \"22\", \"23\", \"24\", \"25\", \"26\", \"27\", \"28\", \"29\", \"30\", \"31\", \"32\", \"33\", \"34\", \"35\", \"38\", \"39\"], \"mode\": \"lines\", \"name\": \"average_precision_score_macro_max\", \"stepped\": true, \"type\": \"scatter\", \"data\": [0.9238239033078381, 0.9238239033078381, 0.9238239033078381, 0.9238239033078381, 0.9238239033078381, 0.9238239033078381, 0.9238239033078381, 0.9238239033078381, 0.9238239033078381, 0.9238239033078381, 0.9238239033078381, 0.9238239033078381, 0.9238239033078381, 0.9238239033078381, 0.9238239033078381, 0.9238239033078381, 0.9238239033078381, 0.9238239033078381, 0.9238239033078381, 0.9238239033078381, 0.9238239033078381, 0.9238239033078381, 0.9238239033078381, 0.9238239033078381, 0.9238239033078381, 0.9238239033078381, 0.9238239033078381, 0.9238239033078381, 0.9238239033078381, 0.9238239033078381, 0.9238239033078381, 0.9238239033078381, 0.9238239033078381, 0.9238239033078381, 0.9238239033078381, 0.9238239033078381, 0.9332373796255888, 0.9332373796255888]}], \"recall_score_macro\": [{\"categories\": [\"0\", \"1\", \"2\", \"3\", \"4\", \"5\", \"6\", \"7\", \"8\", \"9\", \"10\", \"11\", \"12\", \"13\", \"14\", \"15\", \"16\", \"17\", \"18\", \"19\", \"20\", \"21\", \"22\", \"23\", \"24\", \"25\", \"26\", \"27\", \"28\", \"29\", \"30\", \"31\", \"32\", \"33\", \"34\", \"35\", \"38\", \"39\"], \"mode\": \"markers\", \"name\": \"recall_score_macro\", \"stepped\": false, \"type\": \"scatter\", \"data\": [0.6889454015068055, 0.8303267302489078, 0.5100280763094602, 0.8212255879603141, 0.5, 0.5, 0.8348270123952719, 0.5, 0.7452798703691508, 0.8118810066063967, 0.49992456246228123, 0.6785940999567527, 0.5655109489051113, 0.5550012963184563, 0.5, 0.6620600813358001, 0.7107821574415277, 0.8232099693416601, 0.8394394552710132, 0.8067871009108122, 0.8449093521530349, 0.8520889094167623, 0.8335516474077196, 0.7303688060014124, 0.7893022247498053, 0.8127395185424799, 0.7883077375100296, 0.7943575364917271, 0.7928299014148065, 0.5, 0.5, 0.8467887182856761, 0.7878900382283652, 0.8520147579621566, 0.8303445842385482, 0.8369381530325091, 0.786583436520771, 0.8477483542901019]}, {\"categories\": [\"0\", \"1\", \"2\", \"3\", \"4\", \"5\", \"6\", \"7\", \"8\", \"9\", \"10\", \"11\", \"12\", \"13\", \"14\", \"15\", \"16\", \"17\", \"18\", \"19\", \"20\", \"21\", \"22\", \"23\", \"24\", \"25\", \"26\", \"27\", \"28\", \"29\", \"30\", \"31\", \"32\", \"33\", \"34\", \"35\", \"38\", \"39\"], \"mode\": \"lines\", \"name\": \"recall_score_macro_max\", \"stepped\": true, \"type\": \"scatter\", \"data\": [0.6889454015068055, 0.8303267302489078, 0.8303267302489078, 0.8303267302489078, 0.8303267302489078, 0.8303267302489078, 0.8348270123952719, 0.8348270123952719, 0.8348270123952719, 0.8348270123952719, 0.8348270123952719, 0.8348270123952719, 0.8348270123952719, 0.8348270123952719, 0.8348270123952719, 0.8348270123952719, 0.8348270123952719, 0.8348270123952719, 0.8394394552710132, 0.8394394552710132, 0.8449093521530349, 0.8520889094167623, 0.8520889094167623, 0.8520889094167623, 0.8520889094167623, 0.8520889094167623, 0.8520889094167623, 0.8520889094167623, 0.8520889094167623, 0.8520889094167623, 0.8520889094167623, 0.8520889094167623, 0.8520889094167623, 0.8520889094167623, 0.8520889094167623, 0.8520889094167623, 0.8520889094167623, 0.8520889094167623]}], \"f1_score_micro\": [{\"categories\": [\"0\", \"1\", \"2\", \"3\", \"4\", \"5\", \"6\", \"7\", \"8\", \"9\", \"10\", \"11\", \"12\", \"13\", \"14\", \"15\", \"16\", \"17\", \"18\", \"19\", \"20\", \"21\", \"22\", \"23\", \"24\", \"25\", \"26\", \"27\", \"28\", \"29\", \"30\", \"31\", \"32\", \"33\", \"34\", \"35\", \"38\", \"39\"], \"mode\": \"markers\", \"name\": \"f1_score_micro\", \"stepped\": false, \"type\": \"scatter\", \"data\": [0.6899515792678981, 0.8329981781444419, 0.48651922272084774, 0.8230709144845377, 0.49869025369847664, 0.49869025369847664, 0.8352708016806502, 0.49869025369847664, 0.7446570976102859, 0.8130731827518622, 0.501229017333628, 0.678099070245151, 0.5457998917109717, 0.5430655240880935, 0.49869025369847664, 0.6634185672886213, 0.7104256336042067, 0.8256059401708002, 0.8413784086541989, 0.8086158929275307, 0.8471560071187038, 0.8542174960654381, 0.8365276100832514, 0.7319380787012796, 0.7894336793019363, 0.8145148031608977, 0.7895454729855143, 0.7949974987495552, 0.7935540756555812, 0.49869025369847664, 0.47401885372358854, 0.8496283091858533, 0.7907575204589233, 0.8548594547737423, 0.8330710557116083, 0.8400537804689651, 0.7887870118426886, 0.8504162172882456]}, {\"categories\": [\"0\", \"1\", \"2\", \"3\", \"4\", \"5\", \"6\", \"7\", \"8\", \"9\", \"10\", \"11\", \"12\", \"13\", \"14\", \"15\", \"16\", \"17\", \"18\", \"19\", \"20\", \"21\", \"22\", \"23\", \"24\", \"25\", \"26\", \"27\", \"28\", \"29\", \"30\", \"31\", \"32\", \"33\", \"34\", \"35\", \"38\", \"39\"], \"mode\": \"lines\", \"name\": \"f1_score_micro_max\", \"stepped\": true, \"type\": \"scatter\", \"data\": [0.6899515792678981, 0.8329981781444419, 0.8329981781444419, 0.8329981781444419, 0.8329981781444419, 0.8329981781444419, 0.8352708016806502, 0.8352708016806502, 0.8352708016806502, 0.8352708016806502, 0.8352708016806502, 0.8352708016806502, 0.8352708016806502, 0.8352708016806502, 0.8352708016806502, 0.8352708016806502, 0.8352708016806502, 0.8352708016806502, 0.8413784086541989, 0.8413784086541989, 0.8471560071187038, 0.8542174960654381, 0.8542174960654381, 0.8542174960654381, 0.8542174960654381, 0.8542174960654381, 0.8542174960654381, 0.8542174960654381, 0.8542174960654381, 0.8542174960654381, 0.8542174960654381, 0.8542174960654381, 0.8542174960654381, 0.8548594547737423, 0.8548594547737423, 0.8548594547737423, 0.8548594547737423, 0.8548594547737423]}]}, \"metricName\": null, \"primaryMetricName\": \"average_precision_score_weighted\", \"showLegend\": false}, \"run_metrics\": [{\"name\": \"experiment_status\", \"run_id\": \"AutoML_c5a5cd74-3017-4a1e-bbb2-19590578f0ae\", \"categories\": [0, 1, 2, 3, 4, 5, 6, 7, 8, 9, 10, 11, 12, 13, 14], \"series\": [{\"data\": [\"DatasetEvaluation\", \"FeaturesGeneration\", \"DatasetFeaturization\", \"DatasetFeaturizationCompleted\", \"DatasetBalancing\", \"DatasetCrossValidationSplit\", \"ModelSelection\", \"BestRunExplainModel\", \"ModelExplanationDataSetSetup\", \"PickSurrogateModel\", \"EngineeredFeatureExplanations\", \"EngineeredFeatureExplanations\", \"RawFeaturesExplanations\", \"RawFeaturesExplanations\", \"BestRunExplainModel\"]}]}, {\"name\": \"experiment_status_description\", \"run_id\": \"AutoML_c5a5cd74-3017-4a1e-bbb2-19590578f0ae\", \"categories\": [0, 1, 2, 3, 4, 5, 6, 7, 8, 9, 10, 11, 12, 13, 14], \"series\": [{\"data\": [\"Gathering dataset statistics.\", \"Generating features for the dataset.\", \"Beginning to fit featurizers and featurize the dataset.\", \"Completed fit featurizers and featurizing the dataset.\", \"Performing class balancing sweeping\", \"Generating individually featurized CV splits.\", \"Beginning model selection.\", \"Best run model explanations started\", \"Model explanations data setup completed\", \"Choosing LinearModel as the surrogate model for explanations\", \"Computation of engineered features started\", \"Computation of engineered features completed\", \"Computation of raw features started\", \"Computation of raw features completed\", \"Best run model explanations completed\"]}]}, {\"name\": \"log_loss\", \"run_id\": \"AutoML_c5a5cd74-3017-4a1e-bbb2-19590578f0ae\", \"categories\": [0], \"series\": [{\"data\": [0.4545446973109912]}]}, {\"name\": \"matthews_correlation\", \"run_id\": \"AutoML_c5a5cd74-3017-4a1e-bbb2-19590578f0ae\", \"categories\": [0], \"series\": [{\"data\": [0.6127914566503128]}]}, {\"name\": \"precision_score_micro\", \"run_id\": \"AutoML_c5a5cd74-3017-4a1e-bbb2-19590578f0ae\", \"categories\": [0], \"series\": [{\"data\": [0.7887870118426907]}]}, {\"name\": \"f1_score_macro\", \"run_id\": \"AutoML_c5a5cd74-3017-4a1e-bbb2-19590578f0ae\", \"categories\": [0], \"series\": [{\"data\": [0.7796271222640532]}]}, {\"name\": \"f1_score_micro\", \"run_id\": \"AutoML_c5a5cd74-3017-4a1e-bbb2-19590578f0ae\", \"categories\": [0], \"series\": [{\"data\": [0.7887870118426886]}]}, {\"name\": \"f1_score_weighted\", \"run_id\": \"AutoML_c5a5cd74-3017-4a1e-bbb2-19590578f0ae\", \"categories\": [0], \"series\": [{\"data\": [0.7808807812488515]}]}, {\"name\": \"average_precision_score_micro\", \"run_id\": \"AutoML_c5a5cd74-3017-4a1e-bbb2-19590578f0ae\", \"categories\": [0], \"series\": [{\"data\": [0.8850749563633847]}]}, {\"name\": \"norm_macro_recall\", \"run_id\": \"AutoML_c5a5cd74-3017-4a1e-bbb2-19590578f0ae\", \"categories\": [0], \"series\": [{\"data\": [0.5731668730415398]}]}, {\"name\": \"AUC_weighted\", \"run_id\": \"AutoML_c5a5cd74-3017-4a1e-bbb2-19590578f0ae\", \"categories\": [0], \"series\": [{\"data\": [0.9326516444819962]}]}, {\"name\": \"AUC_macro\", \"run_id\": \"AutoML_c5a5cd74-3017-4a1e-bbb2-19590578f0ae\", \"categories\": [0], \"series\": [{\"data\": [0.9326516444819961]}]}, {\"name\": \"AUC_micro\", \"run_id\": \"AutoML_c5a5cd74-3017-4a1e-bbb2-19590578f0ae\", \"categories\": [0], \"series\": [{\"data\": [0.8792715443276731]}]}, {\"name\": \"precision_score_macro\", \"run_id\": \"AutoML_c5a5cd74-3017-4a1e-bbb2-19590578f0ae\", \"categories\": [0], \"series\": [{\"data\": [0.8281479283607454]}]}, {\"name\": \"balanced_accuracy\", \"run_id\": \"AutoML_c5a5cd74-3017-4a1e-bbb2-19590578f0ae\", \"categories\": [0], \"series\": [{\"data\": [0.786583436520771]}]}, {\"name\": \"recall_score_weighted\", \"run_id\": \"AutoML_c5a5cd74-3017-4a1e-bbb2-19590578f0ae\", \"categories\": [0], \"series\": [{\"data\": [0.7887870118426865]}]}, {\"name\": \"average_precision_score_weighted\", \"run_id\": \"AutoML_c5a5cd74-3017-4a1e-bbb2-19590578f0ae\", \"categories\": [0], \"series\": [{\"data\": [0.93353434010938]}]}, {\"name\": \"recall_score_micro\", \"run_id\": \"AutoML_c5a5cd74-3017-4a1e-bbb2-19590578f0ae\", \"categories\": [0], \"series\": [{\"data\": [0.7887870118426865]}]}, {\"name\": \"precision_score_weighted\", \"run_id\": \"AutoML_c5a5cd74-3017-4a1e-bbb2-19590578f0ae\", \"categories\": [0], \"series\": [{\"data\": [0.8278238125161961]}]}, {\"name\": \"average_precision_score_macro\", \"run_id\": \"AutoML_c5a5cd74-3017-4a1e-bbb2-19590578f0ae\", \"categories\": [0], \"series\": [{\"data\": [0.9332373796255888]}]}, {\"name\": \"accuracy\", \"run_id\": \"AutoML_c5a5cd74-3017-4a1e-bbb2-19590578f0ae\", \"categories\": [0], \"series\": [{\"data\": [0.7887870118426862]}]}, {\"name\": \"weighted_accuracy\", \"run_id\": \"AutoML_c5a5cd74-3017-4a1e-bbb2-19590578f0ae\", \"categories\": [0], \"series\": [{\"data\": [0.9612840684729123]}]}, {\"name\": \"recall_score_macro\", \"run_id\": \"AutoML_c5a5cd74-3017-4a1e-bbb2-19590578f0ae\", \"categories\": [0], \"series\": [{\"data\": [0.786583436520771]}]}], \"run_logs\": \"\\nRun is completed.\", \"graph\": {}, \"widget_settings\": {\"childWidgetDisplay\": \"popup\", \"send_telemetry\": false, \"log_level\": \"INFO\", \"sdk_version\": \"1.20.0\"}, \"loading\": false}"
     },
     "metadata": {},
     "output_type": "display_data"
    },
    {
     "name": "stdout",
     "output_type": "stream",
     "text": [
      "\n",
      "\n",
      "****************************************************************************************************\n",
      "DATA GUARDRAILS: \n",
      "\n",
      "TYPE:         Class balancing detection\n",
      "STATUS:       ALERTED\n",
      "DESCRIPTION:  To decrease model bias, please cancel the current run and fix balancing problem.\n",
      "              Learn more about imbalanced data: https://aka.ms/AutomatedMLImbalancedData\n",
      "DETAILS:      Imbalanced data can lead to a falsely perceived positive effect of a model's accuracy because the input data has bias towards one class.\n",
      "+---------------------------------+---------------------------------+--------------------------------------+\n",
      "|Size of the smallest class       |Name/Label of the smallest class |Number of samples in the training data|\n",
      "+=================================+=================================+======================================+\n",
      "|220                              |1                                |6819                                  |\n",
      "+---------------------------------+---------------------------------+--------------------------------------+\n",
      "\n",
      "****************************************************************************************************\n",
      "\n",
      "TYPE:         Missing feature values imputation\n",
      "STATUS:       PASSED\n",
      "DESCRIPTION:  No feature missing values were detected in the training data.\n",
      "              Learn more about missing value imputation: https://aka.ms/AutomatedMLFeaturization\n",
      "\n",
      "****************************************************************************************************\n",
      "\n",
      "TYPE:         High cardinality feature detection\n",
      "STATUS:       DONE\n",
      "DESCRIPTION:  High cardinality features were detected in your inputs and handled.\n",
      "              Learn more about high cardinality feature handling: https://aka.ms/AutomatedMLFeaturization\n",
      "DETAILS:      High cardinality features refer to columns that contain a large percentage of unique values.\n",
      "+---------------------------------+---------------------------------+\n",
      "|Column name                      |Column Content Type              |\n",
      "+=================================+=================================+\n",
      "| ROA(C) before interest and de...|categorical_hash                 |\n",
      "| ROA(A) before interest and % ...|categorical_hash                 |\n",
      "| ROA(B) before interest and de...|categorical_hash                 |\n",
      "| operating gross margin          |categorical_hash                 |\n",
      "| realized sales gross margin     |categorical_hash                 |\n",
      "| operating profit rate           |categorical_hash                 |\n",
      "| tax Pre-net interest rate       |categorical_hash                 |\n",
      "| after-tax net interest rate     |categorical_hash                 |\n",
      "| non-industry income and expen...|categorical_hash                 |\n",
      "| continuous interest rate (aft...|categorical_hash                 |\n",
      "| operating expense rate          |categorical_hash                 |\n",
      "| research and development expe...|categorical_hash                 |\n",
      "| interest-bearing debt interes...|categorical_hash                 |\n",
      "| tax rate (A)                    |categorical_hash                 |\n",
      "| per Net Share Value (B)         |categorical_hash                 |\n",
      "| Net Value Per Share (A)         |categorical_hash                 |\n",
      "| Net Value Per Share (C)         |categorical_hash                 |\n",
      "| Persistent EPS in the Last Fo...|categorical_hash                 |\n",
      "| Cash Flow Per Share             |categorical_hash                 |\n",
      "| Revenue Per Share (Yuan)        |categorical_hash                 |\n",
      "| Operating Profit Per Share (Y...|categorical_hash                 |\n",
      "| Per Share Net profit before t...|categorical_hash                 |\n",
      "| total asset growth rate         |categorical_hash                 |\n",
      "| net value growth rate           |categorical_hash                 |\n",
      "| total asset return growth rat...|categorical_hash                 |\n",
      "| cash reinvestment %             |categorical_hash                 |\n",
      "| interest expense ratio          |categorical_hash                 |\n",
      "| debt ratio %                    |categorical_hash                 |\n",
      "| net worth/assets                |categorical_hash                 |\n",
      "| borrowing dependency            |categorical_hash                 |\n",
      "| contingent liabilities/net worth|categorical_hash                 |\n",
      "| Operating profit/paid-in capital|categorical_hash                 |\n",
      "| total asset turnover            |categorical_hash                 |\n",
      "| accounts receivable turnover    |categorical_hash                 |\n",
      "| inventory turnover rate (times) |categorical_hash                 |\n",
      "| fixed assets Turnover frequency |categorical_hash                 |\n",
      "| net worth turnover rate (times) |categorical_hash                 |\n",
      "| operating profit per person     |categorical_hash                 |\n",
      "| cash turnover rate              |categorical_hash                 |\n",
      "+---------------------------------+---------------------------------+\n",
      "\n",
      "****************************************************************************************************\n",
      "\n",
      "****************************************************************************************************\n",
      "ITERATION: The iteration being evaluated.\n",
      "PIPELINE: A summary description of the pipeline being evaluated.\n",
      "DURATION: Time taken for the current iteration.\n",
      "METRIC: The result of computing score on the fitted pipeline.\n",
      "BEST: The best observed score thus far.\n",
      "****************************************************************************************************\n",
      "\n",
      " ITERATION   PIPELINE                                       DURATION      METRIC      BEST\n",
      "         0   MaxAbsScaler LightGBM                          0:05:39       0.9242    0.9242\n",
      "         1   MaxAbsScaler XGBoostClassifier                 0:07:13       0.9239    0.9242\n",
      "         2   MaxAbsScaler ExtremeRandomTrees                0:01:05       0.5208    0.9242\n",
      "         3   MaxAbsScaler ExtremeRandomTrees                0:01:07       0.9054    0.9242\n",
      "         4   MaxAbsScaler ExtremeRandomTrees                0:05:37       0.8702    0.9242\n",
      "         5   MaxAbsScaler RandomForest                      0:05:27       0.6855    0.9242\n",
      "         6   MaxAbsScaler ExtremeRandomTrees                0:01:06       0.9131    0.9242\n",
      "         7   MaxAbsScaler RandomForest                      0:00:54       0.5014    0.9242\n",
      "         8   MaxAbsScaler RandomForest                      0:00:57       0.8950    0.9242\n",
      "         9   StandardScalerWrapper XGBoostClassifier        0:01:18       0.9058    0.9242\n",
      "        10   MaxAbsScaler SGD                               0:00:54       0.7429    0.9242\n",
      "        11   MaxAbsScaler ExtremeRandomTrees                0:00:59       0.8890    0.9242\n",
      "        12   MaxAbsScaler RandomForest                      0:00:57       0.5515    0.9242\n",
      "        13   MaxAbsScaler RandomForest                      0:00:53       0.5730    0.9242\n",
      "        14   MaxAbsScaler ExtremeRandomTrees                0:00:55       0.5006    0.9242\n",
      "        15   SparseNormalizer ExtremeRandomTrees            0:01:15       0.8878    0.9242\n",
      "        16   MaxAbsScaler ExtremeRandomTrees                0:01:18       0.9024    0.9242\n",
      "        17   MaxAbsScaler LightGBM                          0:00:59       0.8960    0.9242\n",
      "        18   StandardScalerWrapper LightGBM                 0:00:53       0.9186    0.9242\n",
      "        19   SparseNormalizer LightGBM                      0:00:54       0.9184    0.9242\n",
      "        20   SparseNormalizer GradientBoosting              0:01:03       0.9071    0.9242\n",
      "        21   MaxAbsScaler LightGBM                          0:00:58       0.9121    0.9242\n",
      "        22   SparseNormalizer LightGBM                      0:00:50       0.9082    0.9242\n",
      "        23   SparseNormalizer LightGBM                      0:01:03       0.9116    0.9242\n",
      "        24   TruncatedSVDWrapper XGBoostClassifier          0:01:33       0.8547    0.9242\n",
      "        25   SparseNormalizer LightGBM                      0:00:56       0.9048    0.9242\n",
      "        26   TruncatedSVDWrapper XGBoostClassifier          0:02:00       0.8588    0.9242\n",
      "        27   TruncatedSVDWrapper XGBoostClassifier          0:02:12       0.8684    0.9242\n",
      "        28   TruncatedSVDWrapper XGBoostClassifier          0:01:51       0.8552    0.9242\n",
      "        29   SparseNormalizer ExtremeRandomTrees            0:00:55       0.5547    0.9242\n",
      "        30   SparseNormalizer LightGBM                      0:00:52       0.8929    0.9242\n",
      "        31   MaxAbsScaler LightGBM                          0:00:56       0.9182    0.9242\n",
      "        32   SparseNormalizer LightGBM                      0:00:54       0.9137    0.9242\n",
      "        33   MaxAbsScaler LightGBM                          0:00:55       0.9194    0.9242\n",
      "        34   MaxAbsScaler LightGBM                          0:00:55       0.9151    0.9242\n",
      "        35   SparseNormalizer LightGBM                      0:00:50       0.9174    0.9242\n",
      "        36                                                  0:00:17          nan    0.9242\n",
      "        37                                                  0:00:18          nan    0.9242\n",
      "        38    VotingEnsemble                                0:03:26       0.9335    0.9335\n",
      "        39    StackEnsemble                                 0:03:20       0.9304    0.9335\n",
      "Received interrupt. Returning now."
     ]
    },
    {
     "data": {
      "text/plain": [
       "{'runId': 'AutoML_c5a5cd74-3017-4a1e-bbb2-19590578f0ae',\n",
       " 'target': 'cpu-cluster-4',\n",
       " 'status': 'Completed',\n",
       " 'startTimeUtc': '2021-02-04T14:50:31.963294Z',\n",
       " 'endTimeUtc': '2021-02-04T15:24:21.345365Z',\n",
       " 'properties': {'num_iterations': '1000',\n",
       "  'training_type': 'TrainFull',\n",
       "  'acquisition_function': 'EI',\n",
       "  'primary_metric': 'average_precision_score_weighted',\n",
       "  'train_split': '0',\n",
       "  'acquisition_parameter': '0',\n",
       "  'num_cross_validation': '4',\n",
       "  'target': 'cpu-cluster-4',\n",
       "  'AMLSettingsJsonString': '{\"path\":null,\"name\":\"Bankrupty_Automl\",\"subscription_id\":\"d7f39349-a66b-446e-aba6-0053c2cf1c11\",\"resource_group\":\"aml-quickstarts-137234\",\"workspace_name\":\"quick-starts-ws-137234\",\"region\":\"southcentralus\",\"compute_target\":\"cpu-cluster-4\",\"spark_service\":null,\"azure_service\":\"remote\",\"many_models\":false,\"pipeline_fetch_max_batch_size\":1,\"iterations\":1000,\"primary_metric\":\"average_precision_score_weighted\",\"task_type\":\"classification\",\"data_script\":null,\"validation_size\":0.0,\"n_cross_validations\":4,\"y_min\":null,\"y_max\":null,\"num_classes\":null,\"featurization\":\"auto\",\"_ignore_package_version_incompatibilities\":false,\"is_timeseries\":false,\"max_cores_per_iteration\":1,\"max_concurrent_iterations\":5,\"iteration_timeout_minutes\":null,\"mem_in_mb\":null,\"enforce_time_on_windows\":false,\"experiment_timeout_minutes\":30,\"experiment_exit_score\":null,\"whitelist_models\":null,\"blacklist_algos\":[\"TensorFlowLinearClassifier\",\"TensorFlowDNN\"],\"supported_models\":[\"LightGBM\",\"XGBoostClassifier\",\"DecisionTree\",\"LogisticRegression\",\"RandomForest\",\"BernoulliNaiveBayes\",\"MultinomialNaiveBayes\",\"AveragedPerceptronClassifier\",\"ExtremeRandomTrees\",\"SVM\",\"SGD\",\"TensorFlowDNN\",\"TensorFlowLinearClassifier\",\"KNN\",\"LinearSVM\",\"GradientBoosting\"],\"auto_blacklist\":true,\"blacklist_samples_reached\":false,\"exclude_nan_labels\":true,\"verbosity\":20,\"_debug_log\":\"azureml_automl.log\",\"show_warnings\":false,\"model_explainability\":true,\"service_url\":null,\"sdk_url\":null,\"sdk_packages\":null,\"enable_onnx_compatible_models\":false,\"enable_split_onnx_featurizer_estimator_models\":false,\"vm_type\":\"STANDARD_D2_V2\",\"telemetry_verbosity\":20,\"send_telemetry\":true,\"enable_dnn\":false,\"scenario\":\"SDK-1.13.0\",\"environment_label\":null,\"force_text_dnn\":false,\"enable_feature_sweeping\":true,\"enable_early_stopping\":true,\"early_stopping_n_iters\":10,\"metrics\":null,\"enable_ensembling\":true,\"enable_stack_ensembling\":true,\"ensemble_iterations\":15,\"enable_tf\":false,\"enable_subsampling\":null,\"subsample_seed\":null,\"enable_nimbusml\":false,\"enable_streaming\":false,\"force_streaming\":false,\"track_child_runs\":true,\"allowed_private_models\":[],\"label_column_name\":\"Bankrupt?\",\"weight_column_name\":null,\"cv_split_column_names\":null,\"enable_local_managed\":false,\"_local_managed_run_id\":null,\"cost_mode\":1,\"lag_length\":0,\"metric_operation\":\"maximize\",\"preprocess\":true}',\n",
       "  'DataPrepJsonString': '{\\\\\"training_data\\\\\": \\\\\"{\\\\\\\\\\\\\"blocks\\\\\\\\\\\\\": [{\\\\\\\\\\\\\"id\\\\\\\\\\\\\": \\\\\\\\\\\\\"03be23c6-c32b-4354-87c5-c8fdaa990e86\\\\\\\\\\\\\", \\\\\\\\\\\\\"type\\\\\\\\\\\\\": \\\\\\\\\\\\\"Microsoft.DPrep.GetDatastoreFilesBlock\\\\\\\\\\\\\", \\\\\\\\\\\\\"arguments\\\\\\\\\\\\\": {\\\\\\\\\\\\\"datastores\\\\\\\\\\\\\": [{\\\\\\\\\\\\\"datastoreName\\\\\\\\\\\\\": \\\\\\\\\\\\\"workspaceblobstore\\\\\\\\\\\\\", \\\\\\\\\\\\\"path\\\\\\\\\\\\\": \\\\\\\\\\\\\"UI/02-04-2021_023848_UTC/data.csv\\\\\\\\\\\\\", \\\\\\\\\\\\\"resourceGroup\\\\\\\\\\\\\": \\\\\\\\\\\\\"aml-quickstarts-137234\\\\\\\\\\\\\", \\\\\\\\\\\\\"subscription\\\\\\\\\\\\\": \\\\\\\\\\\\\"d7f39349-a66b-446e-aba6-0053c2cf1c11\\\\\\\\\\\\\", \\\\\\\\\\\\\"workspaceName\\\\\\\\\\\\\": \\\\\\\\\\\\\"quick-starts-ws-137234\\\\\\\\\\\\\"}]}, \\\\\\\\\\\\\"localData\\\\\\\\\\\\\": {}, \\\\\\\\\\\\\"isEnabled\\\\\\\\\\\\\": true, \\\\\\\\\\\\\"name\\\\\\\\\\\\\": null, \\\\\\\\\\\\\"annotation\\\\\\\\\\\\\": null}, {\\\\\\\\\\\\\"id\\\\\\\\\\\\\": \\\\\\\\\\\\\"1eedf4eb-da61-4ecd-ac47-0cc025508499\\\\\\\\\\\\\", \\\\\\\\\\\\\"type\\\\\\\\\\\\\": \\\\\\\\\\\\\"Microsoft.DPrep.ParseDelimitedBlock\\\\\\\\\\\\\", \\\\\\\\\\\\\"arguments\\\\\\\\\\\\\": {\\\\\\\\\\\\\"columnHeadersMode\\\\\\\\\\\\\": 1, \\\\\\\\\\\\\"fileEncoding\\\\\\\\\\\\\": 0, \\\\\\\\\\\\\"handleQuotedLineBreaks\\\\\\\\\\\\\": false, \\\\\\\\\\\\\"preview\\\\\\\\\\\\\": false, \\\\\\\\\\\\\"separator\\\\\\\\\\\\\": \\\\\\\\\\\\\",\\\\\\\\\\\\\", \\\\\\\\\\\\\"skipRows\\\\\\\\\\\\\": 0, \\\\\\\\\\\\\"skipRowsMode\\\\\\\\\\\\\": 0}, \\\\\\\\\\\\\"localData\\\\\\\\\\\\\": {}, \\\\\\\\\\\\\"isEnabled\\\\\\\\\\\\\": true, \\\\\\\\\\\\\"name\\\\\\\\\\\\\": null, \\\\\\\\\\\\\"annotation\\\\\\\\\\\\\": null}, {\\\\\\\\\\\\\"id\\\\\\\\\\\\\": \\\\\\\\\\\\\"116fb422-1e00-44b4-8dda-68b920d7fac2\\\\\\\\\\\\\", \\\\\\\\\\\\\"type\\\\\\\\\\\\\": \\\\\\\\\\\\\"Microsoft.DPrep.DropColumnsBlock\\\\\\\\\\\\\", \\\\\\\\\\\\\"arguments\\\\\\\\\\\\\": {\\\\\\\\\\\\\"columns\\\\\\\\\\\\\": {\\\\\\\\\\\\\"type\\\\\\\\\\\\\": 0, \\\\\\\\\\\\\"details\\\\\\\\\\\\\": {\\\\\\\\\\\\\"selectedColumns\\\\\\\\\\\\\": [\\\\\\\\\\\\\"Path\\\\\\\\\\\\\"]}}}, \\\\\\\\\\\\\"localData\\\\\\\\\\\\\": {}, \\\\\\\\\\\\\"isEnabled\\\\\\\\\\\\\": true, \\\\\\\\\\\\\"name\\\\\\\\\\\\\": null, \\\\\\\\\\\\\"annotation\\\\\\\\\\\\\": null}, {\\\\\\\\\\\\\"id\\\\\\\\\\\\\": \\\\\\\\\\\\\"9dd8f815-8f01-4a47-aea1-3a1f0d0cb585\\\\\\\\\\\\\", \\\\\\\\\\\\\"type\\\\\\\\\\\\\": \\\\\\\\\\\\\"Microsoft.DPrep.SetColumnTypesBlock\\\\\\\\\\\\\", \\\\\\\\\\\\\"arguments\\\\\\\\\\\\\": {\\\\\\\\\\\\\"columnConversion\\\\\\\\\\\\\": [{\\\\\\\\\\\\\"column\\\\\\\\\\\\\": {\\\\\\\\\\\\\"type\\\\\\\\\\\\\": 2, \\\\\\\\\\\\\"details\\\\\\\\\\\\\": {\\\\\\\\\\\\\"selectedColumn\\\\\\\\\\\\\": \\\\\\\\\\\\\"Path\\\\\\\\\\\\\"}}, \\\\\\\\\\\\\"typeProperty\\\\\\\\\\\\\": 0}, {\\\\\\\\\\\\\"column\\\\\\\\\\\\\": {\\\\\\\\\\\\\"type\\\\\\\\\\\\\": 2, \\\\\\\\\\\\\"details\\\\\\\\\\\\\": {\\\\\\\\\\\\\"selectedColumn\\\\\\\\\\\\\": \\\\\\\\\\\\\"Bankrupt?\\\\\\\\\\\\\"}}, \\\\\\\\\\\\\"typeProperty\\\\\\\\\\\\\": 2}, {\\\\\\\\\\\\\"column\\\\\\\\\\\\\": {\\\\\\\\\\\\\"type\\\\\\\\\\\\\": 2, \\\\\\\\\\\\\"details\\\\\\\\\\\\\": {\\\\\\\\\\\\\"selectedColumn\\\\\\\\\\\\\": \\\\\\\\\\\\\"ROA(C) before interest and depreciation before interest\\\\\\\\\\\\\"}}, \\\\\\\\\\\\\"typeProperty\\\\\\\\\\\\\": 3}, {\\\\\\\\\\\\\"column\\\\\\\\\\\\\": {\\\\\\\\\\\\\"type\\\\\\\\\\\\\": 2, \\\\\\\\\\\\\"details\\\\\\\\\\\\\": {\\\\\\\\\\\\\"selectedColumn\\\\\\\\\\\\\": \\\\\\\\\\\\\"ROA(A) before interest and % after tax\\\\\\\\\\\\\"}}, \\\\\\\\\\\\\"typeProperty\\\\\\\\\\\\\": 3}, {\\\\\\\\\\\\\"column\\\\\\\\\\\\\": {\\\\\\\\\\\\\"type\\\\\\\\\\\\\": 2, \\\\\\\\\\\\\"details\\\\\\\\\\\\\": {\\\\\\\\\\\\\"selectedColumn\\\\\\\\\\\\\": \\\\\\\\\\\\\"ROA(B) before interest and depreciation after tax\\\\\\\\\\\\\"}}, \\\\\\\\\\\\\"typeProperty\\\\\\\\\\\\\": 3}, {\\\\\\\\\\\\\"column\\\\\\\\\\\\\": {\\\\\\\\\\\\\"type\\\\\\\\\\\\\": 2, \\\\\\\\\\\\\"details\\\\\\\\\\\\\": {\\\\\\\\\\\\\"selectedColumn\\\\\\\\\\\\\": \\\\\\\\\\\\\"operating gross margin\\\\\\\\\\\\\"}}, \\\\\\\\\\\\\"typeProperty\\\\\\\\\\\\\": 3}, {\\\\\\\\\\\\\"column\\\\\\\\\\\\\": {\\\\\\\\\\\\\"type\\\\\\\\\\\\\": 2, \\\\\\\\\\\\\"details\\\\\\\\\\\\\": {\\\\\\\\\\\\\"selectedColumn\\\\\\\\\\\\\": \\\\\\\\\\\\\"realized sales gross margin\\\\\\\\\\\\\"}}, \\\\\\\\\\\\\"typeProperty\\\\\\\\\\\\\": 3}, {\\\\\\\\\\\\\"column\\\\\\\\\\\\\": {\\\\\\\\\\\\\"type\\\\\\\\\\\\\": 2, \\\\\\\\\\\\\"details\\\\\\\\\\\\\": {\\\\\\\\\\\\\"selectedColumn\\\\\\\\\\\\\": \\\\\\\\\\\\\"operating profit rate\\\\\\\\\\\\\"}}, \\\\\\\\\\\\\"typeProperty\\\\\\\\\\\\\": 3}, {\\\\\\\\\\\\\"column\\\\\\\\\\\\\": {\\\\\\\\\\\\\"type\\\\\\\\\\\\\": 2, \\\\\\\\\\\\\"details\\\\\\\\\\\\\": {\\\\\\\\\\\\\"selectedColumn\\\\\\\\\\\\\": \\\\\\\\\\\\\"tax Pre-net interest rate\\\\\\\\\\\\\"}}, \\\\\\\\\\\\\"typeProperty\\\\\\\\\\\\\": 3}, {\\\\\\\\\\\\\"column\\\\\\\\\\\\\": {\\\\\\\\\\\\\"type\\\\\\\\\\\\\": 2, \\\\\\\\\\\\\"details\\\\\\\\\\\\\": {\\\\\\\\\\\\\"selectedColumn\\\\\\\\\\\\\": \\\\\\\\\\\\\"after-tax net interest rate\\\\\\\\\\\\\"}}, \\\\\\\\\\\\\"typeProperty\\\\\\\\\\\\\": 3}, {\\\\\\\\\\\\\"column\\\\\\\\\\\\\": {\\\\\\\\\\\\\"type\\\\\\\\\\\\\": 2, \\\\\\\\\\\\\"details\\\\\\\\\\\\\": {\\\\\\\\\\\\\"selectedColumn\\\\\\\\\\\\\": \\\\\\\\\\\\\"non-industry income and expenditure/revenue\\\\\\\\\\\\\"}}, \\\\\\\\\\\\\"typeProperty\\\\\\\\\\\\\": 3}, {\\\\\\\\\\\\\"column\\\\\\\\\\\\\": {\\\\\\\\\\\\\"type\\\\\\\\\\\\\": 2, \\\\\\\\\\\\\"details\\\\\\\\\\\\\": {\\\\\\\\\\\\\"selectedColumn\\\\\\\\\\\\\": \\\\\\\\\\\\\"continuous interest rate (after tax)\\\\\\\\\\\\\"}}, \\\\\\\\\\\\\"typeProperty\\\\\\\\\\\\\": 3}, {\\\\\\\\\\\\\"column\\\\\\\\\\\\\": {\\\\\\\\\\\\\"type\\\\\\\\\\\\\": 2, \\\\\\\\\\\\\"details\\\\\\\\\\\\\": {\\\\\\\\\\\\\"selectedColumn\\\\\\\\\\\\\": \\\\\\\\\\\\\"operating expense rate\\\\\\\\\\\\\"}}, \\\\\\\\\\\\\"typeProperty\\\\\\\\\\\\\": 3}, {\\\\\\\\\\\\\"column\\\\\\\\\\\\\": {\\\\\\\\\\\\\"type\\\\\\\\\\\\\": 2, \\\\\\\\\\\\\"details\\\\\\\\\\\\\": {\\\\\\\\\\\\\"selectedColumn\\\\\\\\\\\\\": \\\\\\\\\\\\\"research and development expense rate\\\\\\\\\\\\\"}}, \\\\\\\\\\\\\"typeProperty\\\\\\\\\\\\\": 2}, {\\\\\\\\\\\\\"column\\\\\\\\\\\\\": {\\\\\\\\\\\\\"type\\\\\\\\\\\\\": 2, \\\\\\\\\\\\\"details\\\\\\\\\\\\\": {\\\\\\\\\\\\\"selectedColumn\\\\\\\\\\\\\": \\\\\\\\\\\\\"cash flow rate\\\\\\\\\\\\\"}}, \\\\\\\\\\\\\"typeProperty\\\\\\\\\\\\\": 3}, {\\\\\\\\\\\\\"column\\\\\\\\\\\\\": {\\\\\\\\\\\\\"type\\\\\\\\\\\\\": 2, \\\\\\\\\\\\\"details\\\\\\\\\\\\\": {\\\\\\\\\\\\\"selectedColumn\\\\\\\\\\\\\": \\\\\\\\\\\\\"interest-bearing debt interest rate\\\\\\\\\\\\\"}}, \\\\\\\\\\\\\"typeProperty\\\\\\\\\\\\\": 3}, {\\\\\\\\\\\\\"column\\\\\\\\\\\\\": {\\\\\\\\\\\\\"type\\\\\\\\\\\\\": 2, \\\\\\\\\\\\\"details\\\\\\\\\\\\\": {\\\\\\\\\\\\\"selectedColumn\\\\\\\\\\\\\": \\\\\\\\\\\\\"tax rate (A)\\\\\\\\\\\\\"}}, \\\\\\\\\\\\\"typeProperty\\\\\\\\\\\\\": 3}, {\\\\\\\\\\\\\"column\\\\\\\\\\\\\": {\\\\\\\\\\\\\"type\\\\\\\\\\\\\": 2, \\\\\\\\\\\\\"details\\\\\\\\\\\\\": {\\\\\\\\\\\\\"selectedColumn\\\\\\\\\\\\\": \\\\\\\\\\\\\"per Net Share Value (B)\\\\\\\\\\\\\"}}, \\\\\\\\\\\\\"typeProperty\\\\\\\\\\\\\": 3}, {\\\\\\\\\\\\\"column\\\\\\\\\\\\\": {\\\\\\\\\\\\\"type\\\\\\\\\\\\\": 2, \\\\\\\\\\\\\"details\\\\\\\\\\\\\": {\\\\\\\\\\\\\"selectedColumn\\\\\\\\\\\\\": \\\\\\\\\\\\\"Net Value Per Share (A)\\\\\\\\\\\\\"}}, \\\\\\\\\\\\\"typeProperty\\\\\\\\\\\\\": 3}, {\\\\\\\\\\\\\"column\\\\\\\\\\\\\": {\\\\\\\\\\\\\"type\\\\\\\\\\\\\": 2, \\\\\\\\\\\\\"details\\\\\\\\\\\\\": {\\\\\\\\\\\\\"selectedColumn\\\\\\\\\\\\\": \\\\\\\\\\\\\"Net Value Per Share (C)\\\\\\\\\\\\\"}}, \\\\\\\\\\\\\"typeProperty\\\\\\\\\\\\\": 3}, {\\\\\\\\\\\\\"column\\\\\\\\\\\\\": {\\\\\\\\\\\\\"type\\\\\\\\\\\\\": 2, \\\\\\\\\\\\\"details\\\\\\\\\\\\\": {\\\\\\\\\\\\\"selectedColumn\\\\\\\\\\\\\": \\\\\\\\\\\\\"Persistent EPS in the Last Four Seasons\\\\\\\\\\\\\"}}, \\\\\\\\\\\\\"typeProperty\\\\\\\\\\\\\": 3}, {\\\\\\\\\\\\\"column\\\\\\\\\\\\\": {\\\\\\\\\\\\\"type\\\\\\\\\\\\\": 2, \\\\\\\\\\\\\"details\\\\\\\\\\\\\": {\\\\\\\\\\\\\"selectedColumn\\\\\\\\\\\\\": \\\\\\\\\\\\\"Cash Flow Per Share\\\\\\\\\\\\\"}}, \\\\\\\\\\\\\"typeProperty\\\\\\\\\\\\\": 3}, {\\\\\\\\\\\\\"column\\\\\\\\\\\\\": {\\\\\\\\\\\\\"type\\\\\\\\\\\\\": 2, \\\\\\\\\\\\\"details\\\\\\\\\\\\\": {\\\\\\\\\\\\\"selectedColumn\\\\\\\\\\\\\": \\\\\\\\\\\\\"Revenue Per Share (Yuan)\\\\\\\\\\\\\"}}, \\\\\\\\\\\\\"typeProperty\\\\\\\\\\\\\": 3}, {\\\\\\\\\\\\\"column\\\\\\\\\\\\\": {\\\\\\\\\\\\\"type\\\\\\\\\\\\\": 2, \\\\\\\\\\\\\"details\\\\\\\\\\\\\": {\\\\\\\\\\\\\"selectedColumn\\\\\\\\\\\\\": \\\\\\\\\\\\\"Operating Profit Per Share (Yuan)\\\\\\\\\\\\\"}}, \\\\\\\\\\\\\"typeProperty\\\\\\\\\\\\\": 3}, {\\\\\\\\\\\\\"column\\\\\\\\\\\\\": {\\\\\\\\\\\\\"type\\\\\\\\\\\\\": 2, \\\\\\\\\\\\\"details\\\\\\\\\\\\\": {\\\\\\\\\\\\\"selectedColumn\\\\\\\\\\\\\": \\\\\\\\\\\\\"Per Share Net profit before tax (yuan)\\\\\\\\\\\\\"}}, \\\\\\\\\\\\\"typeProperty\\\\\\\\\\\\\": 3}, {\\\\\\\\\\\\\"column\\\\\\\\\\\\\": {\\\\\\\\\\\\\"type\\\\\\\\\\\\\": 2, \\\\\\\\\\\\\"details\\\\\\\\\\\\\": {\\\\\\\\\\\\\"selectedColumn\\\\\\\\\\\\\": \\\\\\\\\\\\\"realized sales gross profit growth rate\\\\\\\\\\\\\"}}, \\\\\\\\\\\\\"typeProperty\\\\\\\\\\\\\": 3}, {\\\\\\\\\\\\\"column\\\\\\\\\\\\\": {\\\\\\\\\\\\\"type\\\\\\\\\\\\\": 2, \\\\\\\\\\\\\"details\\\\\\\\\\\\\": {\\\\\\\\\\\\\"selectedColumn\\\\\\\\\\\\\": \\\\\\\\\\\\\"operating profit growth rate\\\\\\\\\\\\\"}}, \\\\\\\\\\\\\"typeProperty\\\\\\\\\\\\\": 3}, {\\\\\\\\\\\\\"column\\\\\\\\\\\\\": {\\\\\\\\\\\\\"type\\\\\\\\\\\\\": 2, \\\\\\\\\\\\\"details\\\\\\\\\\\\\": {\\\\\\\\\\\\\"selectedColumn\\\\\\\\\\\\\": \\\\\\\\\\\\\"after-tax net profit growth rate\\\\\\\\\\\\\"}}, \\\\\\\\\\\\\"typeProperty\\\\\\\\\\\\\": 3}, {\\\\\\\\\\\\\"column\\\\\\\\\\\\\": {\\\\\\\\\\\\\"type\\\\\\\\\\\\\": 2, \\\\\\\\\\\\\"details\\\\\\\\\\\\\": {\\\\\\\\\\\\\"selectedColumn\\\\\\\\\\\\\": \\\\\\\\\\\\\"regular net profit growth rate\\\\\\\\\\\\\"}}, \\\\\\\\\\\\\"typeProperty\\\\\\\\\\\\\": 3}, {\\\\\\\\\\\\\"column\\\\\\\\\\\\\": {\\\\\\\\\\\\\"type\\\\\\\\\\\\\": 2, \\\\\\\\\\\\\"details\\\\\\\\\\\\\": {\\\\\\\\\\\\\"selectedColumn\\\\\\\\\\\\\": \\\\\\\\\\\\\"continuous net profit growth rate\\\\\\\\\\\\\"}}, \\\\\\\\\\\\\"typeProperty\\\\\\\\\\\\\": 3}, {\\\\\\\\\\\\\"column\\\\\\\\\\\\\": {\\\\\\\\\\\\\"type\\\\\\\\\\\\\": 2, \\\\\\\\\\\\\"details\\\\\\\\\\\\\": {\\\\\\\\\\\\\"selectedColumn\\\\\\\\\\\\\": \\\\\\\\\\\\\"total asset growth rate\\\\\\\\\\\\\"}}, \\\\\\\\\\\\\"typeProperty\\\\\\\\\\\\\": 3}, {\\\\\\\\\\\\\"column\\\\\\\\\\\\\": {\\\\\\\\\\\\\"type\\\\\\\\\\\\\": 2, \\\\\\\\\\\\\"details\\\\\\\\\\\\\": {\\\\\\\\\\\\\"selectedColumn\\\\\\\\\\\\\": \\\\\\\\\\\\\"net value growth rate\\\\\\\\\\\\\"}}, \\\\\\\\\\\\\"typeProperty\\\\\\\\\\\\\": 3}, {\\\\\\\\\\\\\"column\\\\\\\\\\\\\": {\\\\\\\\\\\\\"type\\\\\\\\\\\\\": 2, \\\\\\\\\\\\\"details\\\\\\\\\\\\\": {\\\\\\\\\\\\\"selectedColumn\\\\\\\\\\\\\": \\\\\\\\\\\\\"total asset return growth rate Ratio\\\\\\\\\\\\\"}}, \\\\\\\\\\\\\"typeProperty\\\\\\\\\\\\\": 3}, {\\\\\\\\\\\\\"column\\\\\\\\\\\\\": {\\\\\\\\\\\\\"type\\\\\\\\\\\\\": 2, \\\\\\\\\\\\\"details\\\\\\\\\\\\\": {\\\\\\\\\\\\\"selectedColumn\\\\\\\\\\\\\": \\\\\\\\\\\\\"cash reinvestment %\\\\\\\\\\\\\"}}, \\\\\\\\\\\\\"typeProperty\\\\\\\\\\\\\": 3}, {\\\\\\\\\\\\\"column\\\\\\\\\\\\\": {\\\\\\\\\\\\\"type\\\\\\\\\\\\\": 2, \\\\\\\\\\\\\"details\\\\\\\\\\\\\": {\\\\\\\\\\\\\"selectedColumn\\\\\\\\\\\\\": \\\\\\\\\\\\\"current ratio\\\\\\\\\\\\\"}}, \\\\\\\\\\\\\"typeProperty\\\\\\\\\\\\\": 3}, {\\\\\\\\\\\\\"column\\\\\\\\\\\\\": {\\\\\\\\\\\\\"type\\\\\\\\\\\\\": 2, \\\\\\\\\\\\\"details\\\\\\\\\\\\\": {\\\\\\\\\\\\\"selectedColumn\\\\\\\\\\\\\": \\\\\\\\\\\\\"quick ratio\\\\\\\\\\\\\"}}, \\\\\\\\\\\\\"typeProperty\\\\\\\\\\\\\": 3}, {\\\\\\\\\\\\\"column\\\\\\\\\\\\\": {\\\\\\\\\\\\\"type\\\\\\\\\\\\\": 2, \\\\\\\\\\\\\"details\\\\\\\\\\\\\": {\\\\\\\\\\\\\"selectedColumn\\\\\\\\\\\\\": \\\\\\\\\\\\\"interest expense ratio\\\\\\\\\\\\\"}}, \\\\\\\\\\\\\"typeProperty\\\\\\\\\\\\\": 3}, {\\\\\\\\\\\\\"column\\\\\\\\\\\\\": {\\\\\\\\\\\\\"type\\\\\\\\\\\\\": 2, \\\\\\\\\\\\\"details\\\\\\\\\\\\\": {\\\\\\\\\\\\\"selectedColumn\\\\\\\\\\\\\": \\\\\\\\\\\\\"total debt/total net worth\\\\\\\\\\\\\"}}, \\\\\\\\\\\\\"typeProperty\\\\\\\\\\\\\": 3}, {\\\\\\\\\\\\\"column\\\\\\\\\\\\\": {\\\\\\\\\\\\\"type\\\\\\\\\\\\\": 2, \\\\\\\\\\\\\"details\\\\\\\\\\\\\": {\\\\\\\\\\\\\"selectedColumn\\\\\\\\\\\\\": \\\\\\\\\\\\\"debt ratio %\\\\\\\\\\\\\"}}, \\\\\\\\\\\\\"typeProperty\\\\\\\\\\\\\": 3}, {\\\\\\\\\\\\\"column\\\\\\\\\\\\\": {\\\\\\\\\\\\\"type\\\\\\\\\\\\\": 2, \\\\\\\\\\\\\"details\\\\\\\\\\\\\": {\\\\\\\\\\\\\"selectedColumn\\\\\\\\\\\\\": \\\\\\\\\\\\\"net worth/assets\\\\\\\\\\\\\"}}, \\\\\\\\\\\\\"typeProperty\\\\\\\\\\\\\": 3}, {\\\\\\\\\\\\\"column\\\\\\\\\\\\\": {\\\\\\\\\\\\\"type\\\\\\\\\\\\\": 2, \\\\\\\\\\\\\"details\\\\\\\\\\\\\": {\\\\\\\\\\\\\"selectedColumn\\\\\\\\\\\\\": \\\\\\\\\\\\\"long-term fund suitability ratio (A)\\\\\\\\\\\\\"}}, \\\\\\\\\\\\\"typeProperty\\\\\\\\\\\\\": 3}, {\\\\\\\\\\\\\"column\\\\\\\\\\\\\": {\\\\\\\\\\\\\"type\\\\\\\\\\\\\": 2, \\\\\\\\\\\\\"details\\\\\\\\\\\\\": {\\\\\\\\\\\\\"selectedColumn\\\\\\\\\\\\\": \\\\\\\\\\\\\"borrowing dependency\\\\\\\\\\\\\"}}, \\\\\\\\\\\\\"typeProperty\\\\\\\\\\\\\": 3}, {\\\\\\\\\\\\\"column\\\\\\\\\\\\\": {\\\\\\\\\\\\\"type\\\\\\\\\\\\\": 2, \\\\\\\\\\\\\"details\\\\\\\\\\\\\": {\\\\\\\\\\\\\"selectedColumn\\\\\\\\\\\\\": \\\\\\\\\\\\\"contingent liabilities/net worth\\\\\\\\\\\\\"}}, \\\\\\\\\\\\\"typeProperty\\\\\\\\\\\\\": 3}, {\\\\\\\\\\\\\"column\\\\\\\\\\\\\": {\\\\\\\\\\\\\"type\\\\\\\\\\\\\": 2, \\\\\\\\\\\\\"details\\\\\\\\\\\\\": {\\\\\\\\\\\\\"selectedColumn\\\\\\\\\\\\\": \\\\\\\\\\\\\"Operating profit/paid-in capital\\\\\\\\\\\\\"}}, \\\\\\\\\\\\\"typeProperty\\\\\\\\\\\\\": 3}, {\\\\\\\\\\\\\"column\\\\\\\\\\\\\": {\\\\\\\\\\\\\"type\\\\\\\\\\\\\": 2, \\\\\\\\\\\\\"details\\\\\\\\\\\\\": {\\\\\\\\\\\\\"selectedColumn\\\\\\\\\\\\\": \\\\\\\\\\\\\"net profit before tax/paid-in capital\\\\\\\\\\\\\"}}, \\\\\\\\\\\\\"typeProperty\\\\\\\\\\\\\": 3}, {\\\\\\\\\\\\\"column\\\\\\\\\\\\\": {\\\\\\\\\\\\\"type\\\\\\\\\\\\\": 2, \\\\\\\\\\\\\"details\\\\\\\\\\\\\": {\\\\\\\\\\\\\"selectedColumn\\\\\\\\\\\\\": \\\\\\\\\\\\\"inventory and accounts receivable/net value\\\\\\\\\\\\\"}}, \\\\\\\\\\\\\"typeProperty\\\\\\\\\\\\\": 3}, {\\\\\\\\\\\\\"column\\\\\\\\\\\\\": {\\\\\\\\\\\\\"type\\\\\\\\\\\\\": 2, \\\\\\\\\\\\\"details\\\\\\\\\\\\\": {\\\\\\\\\\\\\"selectedColumn\\\\\\\\\\\\\": \\\\\\\\\\\\\"total asset turnover\\\\\\\\\\\\\"}}, \\\\\\\\\\\\\"typeProperty\\\\\\\\\\\\\": 3}, {\\\\\\\\\\\\\"column\\\\\\\\\\\\\": {\\\\\\\\\\\\\"type\\\\\\\\\\\\\": 2, \\\\\\\\\\\\\"details\\\\\\\\\\\\\": {\\\\\\\\\\\\\"selectedColumn\\\\\\\\\\\\\": \\\\\\\\\\\\\"accounts receivable turnover\\\\\\\\\\\\\"}}, \\\\\\\\\\\\\"typeProperty\\\\\\\\\\\\\": 3}, {\\\\\\\\\\\\\"column\\\\\\\\\\\\\": {\\\\\\\\\\\\\"type\\\\\\\\\\\\\": 2, \\\\\\\\\\\\\"details\\\\\\\\\\\\\": {\\\\\\\\\\\\\"selectedColumn\\\\\\\\\\\\\": \\\\\\\\\\\\\"average collection days\\\\\\\\\\\\\"}}, \\\\\\\\\\\\\"typeProperty\\\\\\\\\\\\\": 3}, {\\\\\\\\\\\\\"column\\\\\\\\\\\\\": {\\\\\\\\\\\\\"type\\\\\\\\\\\\\": 2, \\\\\\\\\\\\\"details\\\\\\\\\\\\\": {\\\\\\\\\\\\\"selectedColumn\\\\\\\\\\\\\": \\\\\\\\\\\\\"inventory turnover rate (times)\\\\\\\\\\\\\"}}, \\\\\\\\\\\\\"typeProperty\\\\\\\\\\\\\": 3}, {\\\\\\\\\\\\\"column\\\\\\\\\\\\\": {\\\\\\\\\\\\\"type\\\\\\\\\\\\\": 2, \\\\\\\\\\\\\"details\\\\\\\\\\\\\": {\\\\\\\\\\\\\"selectedColumn\\\\\\\\\\\\\": \\\\\\\\\\\\\"fixed assets Turnover frequency\\\\\\\\\\\\\"}}, \\\\\\\\\\\\\"typeProperty\\\\\\\\\\\\\": 3}, {\\\\\\\\\\\\\"column\\\\\\\\\\\\\": {\\\\\\\\\\\\\"type\\\\\\\\\\\\\": 2, \\\\\\\\\\\\\"details\\\\\\\\\\\\\": {\\\\\\\\\\\\\"selectedColumn\\\\\\\\\\\\\": \\\\\\\\\\\\\"net worth turnover rate (times)\\\\\\\\\\\\\"}}, \\\\\\\\\\\\\"typeProperty\\\\\\\\\\\\\": 3}, {\\\\\\\\\\\\\"column\\\\\\\\\\\\\": {\\\\\\\\\\\\\"type\\\\\\\\\\\\\": 2, \\\\\\\\\\\\\"details\\\\\\\\\\\\\": {\\\\\\\\\\\\\"selectedColumn\\\\\\\\\\\\\": \\\\\\\\\\\\\"revenue per person\\\\\\\\\\\\\"}}, \\\\\\\\\\\\\"typeProperty\\\\\\\\\\\\\": 3}, {\\\\\\\\\\\\\"column\\\\\\\\\\\\\": {\\\\\\\\\\\\\"type\\\\\\\\\\\\\": 2, \\\\\\\\\\\\\"details\\\\\\\\\\\\\": {\\\\\\\\\\\\\"selectedColumn\\\\\\\\\\\\\": \\\\\\\\\\\\\"operating profit per person\\\\\\\\\\\\\"}}, \\\\\\\\\\\\\"typeProperty\\\\\\\\\\\\\": 3}, {\\\\\\\\\\\\\"column\\\\\\\\\\\\\": {\\\\\\\\\\\\\"type\\\\\\\\\\\\\": 2, \\\\\\\\\\\\\"details\\\\\\\\\\\\\": {\\\\\\\\\\\\\"selectedColumn\\\\\\\\\\\\\": \\\\\\\\\\\\\"allocation rate per person\\\\\\\\\\\\\"}}, \\\\\\\\\\\\\"typeProperty\\\\\\\\\\\\\": 3}, {\\\\\\\\\\\\\"column\\\\\\\\\\\\\": {\\\\\\\\\\\\\"type\\\\\\\\\\\\\": 2, \\\\\\\\\\\\\"details\\\\\\\\\\\\\": {\\\\\\\\\\\\\"selectedColumn\\\\\\\\\\\\\": \\\\\\\\\\\\\"working capital to total assets\\\\\\\\\\\\\"}}, \\\\\\\\\\\\\"typeProperty\\\\\\\\\\\\\": 3}, {\\\\\\\\\\\\\"column\\\\\\\\\\\\\": {\\\\\\\\\\\\\"type\\\\\\\\\\\\\": 2, \\\\\\\\\\\\\"details\\\\\\\\\\\\\": {\\\\\\\\\\\\\"selectedColumn\\\\\\\\\\\\\": \\\\\\\\\\\\\"Quick asset/Total asset\\\\\\\\\\\\\"}}, \\\\\\\\\\\\\"typeProperty\\\\\\\\\\\\\": 3}, {\\\\\\\\\\\\\"column\\\\\\\\\\\\\": {\\\\\\\\\\\\\"type\\\\\\\\\\\\\": 2, \\\\\\\\\\\\\"details\\\\\\\\\\\\\": {\\\\\\\\\\\\\"selectedColumn\\\\\\\\\\\\\": \\\\\\\\\\\\\"current assets/total assets\\\\\\\\\\\\\"}}, \\\\\\\\\\\\\"typeProperty\\\\\\\\\\\\\": 3}, {\\\\\\\\\\\\\"column\\\\\\\\\\\\\": {\\\\\\\\\\\\\"type\\\\\\\\\\\\\": 2, \\\\\\\\\\\\\"details\\\\\\\\\\\\\": {\\\\\\\\\\\\\"selectedColumn\\\\\\\\\\\\\": \\\\\\\\\\\\\"cash / total assets\\\\\\\\\\\\\"}}, \\\\\\\\\\\\\"typeProperty\\\\\\\\\\\\\": 3}, {\\\\\\\\\\\\\"column\\\\\\\\\\\\\": {\\\\\\\\\\\\\"type\\\\\\\\\\\\\": 2, \\\\\\\\\\\\\"details\\\\\\\\\\\\\": {\\\\\\\\\\\\\"selectedColumn\\\\\\\\\\\\\": \\\\\\\\\\\\\"Quick asset /current liabilities\\\\\\\\\\\\\"}}, \\\\\\\\\\\\\"typeProperty\\\\\\\\\\\\\": 3}, {\\\\\\\\\\\\\"column\\\\\\\\\\\\\": {\\\\\\\\\\\\\"type\\\\\\\\\\\\\": 2, \\\\\\\\\\\\\"details\\\\\\\\\\\\\": {\\\\\\\\\\\\\"selectedColumn\\\\\\\\\\\\\": \\\\\\\\\\\\\"cash / current liability\\\\\\\\\\\\\"}}, \\\\\\\\\\\\\"typeProperty\\\\\\\\\\\\\": 3}, {\\\\\\\\\\\\\"column\\\\\\\\\\\\\": {\\\\\\\\\\\\\"type\\\\\\\\\\\\\": 2, \\\\\\\\\\\\\"details\\\\\\\\\\\\\": {\\\\\\\\\\\\\"selectedColumn\\\\\\\\\\\\\": \\\\\\\\\\\\\"current liability to assets\\\\\\\\\\\\\"}}, \\\\\\\\\\\\\"typeProperty\\\\\\\\\\\\\": 3}, {\\\\\\\\\\\\\"column\\\\\\\\\\\\\": {\\\\\\\\\\\\\"type\\\\\\\\\\\\\": 2, \\\\\\\\\\\\\"details\\\\\\\\\\\\\": {\\\\\\\\\\\\\"selectedColumn\\\\\\\\\\\\\": \\\\\\\\\\\\\"operating funds to liability\\\\\\\\\\\\\"}}, \\\\\\\\\\\\\"typeProperty\\\\\\\\\\\\\": 3}, {\\\\\\\\\\\\\"column\\\\\\\\\\\\\": {\\\\\\\\\\\\\"type\\\\\\\\\\\\\": 2, \\\\\\\\\\\\\"details\\\\\\\\\\\\\": {\\\\\\\\\\\\\"selectedColumn\\\\\\\\\\\\\": \\\\\\\\\\\\\"Inventory/working capital\\\\\\\\\\\\\"}}, \\\\\\\\\\\\\"typeProperty\\\\\\\\\\\\\": 3}, {\\\\\\\\\\\\\"column\\\\\\\\\\\\\": {\\\\\\\\\\\\\"type\\\\\\\\\\\\\": 2, \\\\\\\\\\\\\"details\\\\\\\\\\\\\": {\\\\\\\\\\\\\"selectedColumn\\\\\\\\\\\\\": \\\\\\\\\\\\\"Inventory/current liability\\\\\\\\\\\\\"}}, \\\\\\\\\\\\\"typeProperty\\\\\\\\\\\\\": 3}, {\\\\\\\\\\\\\"column\\\\\\\\\\\\\": {\\\\\\\\\\\\\"type\\\\\\\\\\\\\": 2, \\\\\\\\\\\\\"details\\\\\\\\\\\\\": {\\\\\\\\\\\\\"selectedColumn\\\\\\\\\\\\\": \\\\\\\\\\\\\"current liability / liability\\\\\\\\\\\\\"}}, \\\\\\\\\\\\\"typeProperty\\\\\\\\\\\\\": 3}, {\\\\\\\\\\\\\"column\\\\\\\\\\\\\": {\\\\\\\\\\\\\"type\\\\\\\\\\\\\": 2, \\\\\\\\\\\\\"details\\\\\\\\\\\\\": {\\\\\\\\\\\\\"selectedColumn\\\\\\\\\\\\\": \\\\\\\\\\\\\"working capital/equity\\\\\\\\\\\\\"}}, \\\\\\\\\\\\\"typeProperty\\\\\\\\\\\\\": 3}, {\\\\\\\\\\\\\"column\\\\\\\\\\\\\": {\\\\\\\\\\\\\"type\\\\\\\\\\\\\": 2, \\\\\\\\\\\\\"details\\\\\\\\\\\\\": {\\\\\\\\\\\\\"selectedColumn\\\\\\\\\\\\\": \\\\\\\\\\\\\"current liability/equity\\\\\\\\\\\\\"}}, \\\\\\\\\\\\\"typeProperty\\\\\\\\\\\\\": 3}, {\\\\\\\\\\\\\"column\\\\\\\\\\\\\": {\\\\\\\\\\\\\"type\\\\\\\\\\\\\": 2, \\\\\\\\\\\\\"details\\\\\\\\\\\\\": {\\\\\\\\\\\\\"selectedColumn\\\\\\\\\\\\\": \\\\\\\\\\\\\"long-term liability to current assets\\\\\\\\\\\\\"}}, \\\\\\\\\\\\\"typeProperty\\\\\\\\\\\\\": 3}, {\\\\\\\\\\\\\"column\\\\\\\\\\\\\": {\\\\\\\\\\\\\"type\\\\\\\\\\\\\": 2, \\\\\\\\\\\\\"details\\\\\\\\\\\\\": {\\\\\\\\\\\\\"selectedColumn\\\\\\\\\\\\\": \\\\\\\\\\\\\"Retained Earnings/Total assets\\\\\\\\\\\\\"}}, \\\\\\\\\\\\\"typeProperty\\\\\\\\\\\\\": 3}, {\\\\\\\\\\\\\"column\\\\\\\\\\\\\": {\\\\\\\\\\\\\"type\\\\\\\\\\\\\": 2, \\\\\\\\\\\\\"details\\\\\\\\\\\\\": {\\\\\\\\\\\\\"selectedColumn\\\\\\\\\\\\\": \\\\\\\\\\\\\"total income / total expense\\\\\\\\\\\\\"}}, \\\\\\\\\\\\\"typeProperty\\\\\\\\\\\\\": 3}, {\\\\\\\\\\\\\"column\\\\\\\\\\\\\": {\\\\\\\\\\\\\"type\\\\\\\\\\\\\": 2, \\\\\\\\\\\\\"details\\\\\\\\\\\\\": {\\\\\\\\\\\\\"selectedColumn\\\\\\\\\\\\\": \\\\\\\\\\\\\"total expense /assets\\\\\\\\\\\\\"}}, \\\\\\\\\\\\\"typeProperty\\\\\\\\\\\\\": 3}, {\\\\\\\\\\\\\"column\\\\\\\\\\\\\": {\\\\\\\\\\\\\"type\\\\\\\\\\\\\": 2, \\\\\\\\\\\\\"details\\\\\\\\\\\\\": {\\\\\\\\\\\\\"selectedColumn\\\\\\\\\\\\\": \\\\\\\\\\\\\"current asset turnover rate\\\\\\\\\\\\\"}}, \\\\\\\\\\\\\"typeProperty\\\\\\\\\\\\\": 3}, {\\\\\\\\\\\\\"column\\\\\\\\\\\\\": {\\\\\\\\\\\\\"type\\\\\\\\\\\\\": 2, \\\\\\\\\\\\\"details\\\\\\\\\\\\\": {\\\\\\\\\\\\\"selectedColumn\\\\\\\\\\\\\": \\\\\\\\\\\\\"quick asset turnover rate\\\\\\\\\\\\\"}}, \\\\\\\\\\\\\"typeProperty\\\\\\\\\\\\\": 3}, {\\\\\\\\\\\\\"column\\\\\\\\\\\\\": {\\\\\\\\\\\\\"type\\\\\\\\\\\\\": 2, \\\\\\\\\\\\\"details\\\\\\\\\\\\\": {\\\\\\\\\\\\\"selectedColumn\\\\\\\\\\\\\": \\\\\\\\\\\\\"working capitcal turnover rate\\\\\\\\\\\\\"}}, \\\\\\\\\\\\\"typeProperty\\\\\\\\\\\\\": 3}, {\\\\\\\\\\\\\"column\\\\\\\\\\\\\": {\\\\\\\\\\\\\"type\\\\\\\\\\\\\": 2, \\\\\\\\\\\\\"details\\\\\\\\\\\\\": {\\\\\\\\\\\\\"selectedColumn\\\\\\\\\\\\\": \\\\\\\\\\\\\"cash turnover rate\\\\\\\\\\\\\"}}, \\\\\\\\\\\\\"typeProperty\\\\\\\\\\\\\": 3}, {\\\\\\\\\\\\\"column\\\\\\\\\\\\\": {\\\\\\\\\\\\\"type\\\\\\\\\\\\\": 2, \\\\\\\\\\\\\"details\\\\\\\\\\\\\": {\\\\\\\\\\\\\"selectedColumn\\\\\\\\\\\\\": \\\\\\\\\\\\\"Cash flow to Sales\\\\\\\\\\\\\"}}, \\\\\\\\\\\\\"typeProperty\\\\\\\\\\\\\": 3}, {\\\\\\\\\\\\\"column\\\\\\\\\\\\\": {\\\\\\\\\\\\\"type\\\\\\\\\\\\\": 2, \\\\\\\\\\\\\"details\\\\\\\\\\\\\": {\\\\\\\\\\\\\"selectedColumn\\\\\\\\\\\\\": \\\\\\\\\\\\\"fix assets to assets\\\\\\\\\\\\\"}}, \\\\\\\\\\\\\"typeProperty\\\\\\\\\\\\\": 3}, {\\\\\\\\\\\\\"column\\\\\\\\\\\\\": {\\\\\\\\\\\\\"type\\\\\\\\\\\\\": 2, \\\\\\\\\\\\\"details\\\\\\\\\\\\\": {\\\\\\\\\\\\\"selectedColumn\\\\\\\\\\\\\": \\\\\\\\\\\\\"current liability to liability\\\\\\\\\\\\\"}}, \\\\\\\\\\\\\"typeProperty\\\\\\\\\\\\\": 3}, {\\\\\\\\\\\\\"column\\\\\\\\\\\\\": {\\\\\\\\\\\\\"type\\\\\\\\\\\\\": 2, \\\\\\\\\\\\\"details\\\\\\\\\\\\\": {\\\\\\\\\\\\\"selectedColumn\\\\\\\\\\\\\": \\\\\\\\\\\\\"current liability to equity\\\\\\\\\\\\\"}}, \\\\\\\\\\\\\"typeProperty\\\\\\\\\\\\\": 3}, {\\\\\\\\\\\\\"column\\\\\\\\\\\\\": {\\\\\\\\\\\\\"type\\\\\\\\\\\\\": 2, \\\\\\\\\\\\\"details\\\\\\\\\\\\\": {\\\\\\\\\\\\\"selectedColumn\\\\\\\\\\\\\": \\\\\\\\\\\\\"equity to long-term liability\\\\\\\\\\\\\"}}, \\\\\\\\\\\\\"typeProperty\\\\\\\\\\\\\": 3}, {\\\\\\\\\\\\\"column\\\\\\\\\\\\\": {\\\\\\\\\\\\\"type\\\\\\\\\\\\\": 2, \\\\\\\\\\\\\"details\\\\\\\\\\\\\": {\\\\\\\\\\\\\"selectedColumn\\\\\\\\\\\\\": \\\\\\\\\\\\\"Cash flow to total assets\\\\\\\\\\\\\"}}, \\\\\\\\\\\\\"typeProperty\\\\\\\\\\\\\": 3}, {\\\\\\\\\\\\\"column\\\\\\\\\\\\\": {\\\\\\\\\\\\\"type\\\\\\\\\\\\\": 2, \\\\\\\\\\\\\"details\\\\\\\\\\\\\": {\\\\\\\\\\\\\"selectedColumn\\\\\\\\\\\\\": \\\\\\\\\\\\\"cash flow to liability\\\\\\\\\\\\\"}}, \\\\\\\\\\\\\"typeProperty\\\\\\\\\\\\\": 3}, {\\\\\\\\\\\\\"column\\\\\\\\\\\\\": {\\\\\\\\\\\\\"type\\\\\\\\\\\\\": 2, \\\\\\\\\\\\\"details\\\\\\\\\\\\\": {\\\\\\\\\\\\\"selectedColumn\\\\\\\\\\\\\": \\\\\\\\\\\\\"CFO to ASSETS\\\\\\\\\\\\\"}}, \\\\\\\\\\\\\"typeProperty\\\\\\\\\\\\\": 3}, {\\\\\\\\\\\\\"column\\\\\\\\\\\\\": {\\\\\\\\\\\\\"type\\\\\\\\\\\\\": 2, \\\\\\\\\\\\\"details\\\\\\\\\\\\\": {\\\\\\\\\\\\\"selectedColumn\\\\\\\\\\\\\": \\\\\\\\\\\\\"cash flow to equity\\\\\\\\\\\\\"}}, \\\\\\\\\\\\\"typeProperty\\\\\\\\\\\\\": 3}, {\\\\\\\\\\\\\"column\\\\\\\\\\\\\": {\\\\\\\\\\\\\"type\\\\\\\\\\\\\": 2, \\\\\\\\\\\\\"details\\\\\\\\\\\\\": {\\\\\\\\\\\\\"selectedColumn\\\\\\\\\\\\\": \\\\\\\\\\\\\"current liabilities to current assets\\\\\\\\\\\\\"}}, \\\\\\\\\\\\\"typeProperty\\\\\\\\\\\\\": 3}, {\\\\\\\\\\\\\"column\\\\\\\\\\\\\": {\\\\\\\\\\\\\"type\\\\\\\\\\\\\": 2, \\\\\\\\\\\\\"details\\\\\\\\\\\\\": {\\\\\\\\\\\\\"selectedColumn\\\\\\\\\\\\\": \\\\\\\\\\\\\"one if total liabilities exceeds total assets zero otherwise\\\\\\\\\\\\\"}}, \\\\\\\\\\\\\"typeProperty\\\\\\\\\\\\\": 2}, {\\\\\\\\\\\\\"column\\\\\\\\\\\\\": {\\\\\\\\\\\\\"type\\\\\\\\\\\\\": 2, \\\\\\\\\\\\\"details\\\\\\\\\\\\\": {\\\\\\\\\\\\\"selectedColumn\\\\\\\\\\\\\": \\\\\\\\\\\\\"net income to total assets\\\\\\\\\\\\\"}}, \\\\\\\\\\\\\"typeProperty\\\\\\\\\\\\\": 3}, {\\\\\\\\\\\\\"column\\\\\\\\\\\\\": {\\\\\\\\\\\\\"type\\\\\\\\\\\\\": 2, \\\\\\\\\\\\\"details\\\\\\\\\\\\\": {\\\\\\\\\\\\\"selectedColumn\\\\\\\\\\\\\": \\\\\\\\\\\\\"total assets to GNP price\\\\\\\\\\\\\"}}, \\\\\\\\\\\\\"typeProperty\\\\\\\\\\\\\": 3}, {\\\\\\\\\\\\\"column\\\\\\\\\\\\\": {\\\\\\\\\\\\\"type\\\\\\\\\\\\\": 2, \\\\\\\\\\\\\"details\\\\\\\\\\\\\": {\\\\\\\\\\\\\"selectedColumn\\\\\\\\\\\\\": \\\\\\\\\\\\\"No-credit interval\\\\\\\\\\\\\"}}, \\\\\\\\\\\\\"typeProperty\\\\\\\\\\\\\": 3}, {\\\\\\\\\\\\\"column\\\\\\\\\\\\\": {\\\\\\\\\\\\\"type\\\\\\\\\\\\\": 2, \\\\\\\\\\\\\"details\\\\\\\\\\\\\": {\\\\\\\\\\\\\"selectedColumn\\\\\\\\\\\\\": \\\\\\\\\\\\\"Gross profit to Sales\\\\\\\\\\\\\"}}, \\\\\\\\\\\\\"typeProperty\\\\\\\\\\\\\": 3}, {\\\\\\\\\\\\\"column\\\\\\\\\\\\\": {\\\\\\\\\\\\\"type\\\\\\\\\\\\\": 2, \\\\\\\\\\\\\"details\\\\\\\\\\\\\": {\\\\\\\\\\\\\"selectedColumn\\\\\\\\\\\\\": \\\\\\\\\\\\\"Net income to stockholder\\'s Equity\\\\\\\\\\\\\"}}, \\\\\\\\\\\\\"typeProperty\\\\\\\\\\\\\": 3}, {\\\\\\\\\\\\\"column\\\\\\\\\\\\\": {\\\\\\\\\\\\\"type\\\\\\\\\\\\\": 2, \\\\\\\\\\\\\"details\\\\\\\\\\\\\": {\\\\\\\\\\\\\"selectedColumn\\\\\\\\\\\\\": \\\\\\\\\\\\\"liability to equity\\\\\\\\\\\\\"}}, \\\\\\\\\\\\\"typeProperty\\\\\\\\\\\\\": 3}, {\\\\\\\\\\\\\"column\\\\\\\\\\\\\": {\\\\\\\\\\\\\"type\\\\\\\\\\\\\": 2, \\\\\\\\\\\\\"details\\\\\\\\\\\\\": {\\\\\\\\\\\\\"selectedColumn\\\\\\\\\\\\\": \\\\\\\\\\\\\"Degree of financial leverage (DFL)\\\\\\\\\\\\\"}}, \\\\\\\\\\\\\"typeProperty\\\\\\\\\\\\\": 3}, {\\\\\\\\\\\\\"column\\\\\\\\\\\\\": {\\\\\\\\\\\\\"type\\\\\\\\\\\\\": 2, \\\\\\\\\\\\\"details\\\\\\\\\\\\\": {\\\\\\\\\\\\\"selectedColumn\\\\\\\\\\\\\": \\\\\\\\\\\\\"Interest coverage ratio( Interest expense to EBIT )\\\\\\\\\\\\\"}}, \\\\\\\\\\\\\"typeProperty\\\\\\\\\\\\\": 3}, {\\\\\\\\\\\\\"column\\\\\\\\\\\\\": {\\\\\\\\\\\\\"type\\\\\\\\\\\\\": 2, \\\\\\\\\\\\\"details\\\\\\\\\\\\\": {\\\\\\\\\\\\\"selectedColumn\\\\\\\\\\\\\": \\\\\\\\\\\\\"one if net income was negative for the last two year zero otherwise\\\\\\\\\\\\\"}}, \\\\\\\\\\\\\"typeProperty\\\\\\\\\\\\\": 2}, {\\\\\\\\\\\\\"column\\\\\\\\\\\\\": {\\\\\\\\\\\\\"type\\\\\\\\\\\\\": 2, \\\\\\\\\\\\\"details\\\\\\\\\\\\\": {\\\\\\\\\\\\\"selectedColumn\\\\\\\\\\\\\": \\\\\\\\\\\\\"equity to liability\\\\\\\\\\\\\"}}, \\\\\\\\\\\\\"typeProperty\\\\\\\\\\\\\": 3}]}, \\\\\\\\\\\\\"localData\\\\\\\\\\\\\": {}, \\\\\\\\\\\\\"isEnabled\\\\\\\\\\\\\": true, \\\\\\\\\\\\\"name\\\\\\\\\\\\\": null, \\\\\\\\\\\\\"annotation\\\\\\\\\\\\\": null}], \\\\\\\\\\\\\"inspectors\\\\\\\\\\\\\": [], \\\\\\\\\\\\\"meta\\\\\\\\\\\\\": {\\\\\\\\\\\\\"savedDatasetId\\\\\\\\\\\\\": \\\\\\\\\\\\\"6e250690-0ff6-425b-a8bf-11895fd71720\\\\\\\\\\\\\", \\\\\\\\\\\\\"datasetType\\\\\\\\\\\\\": \\\\\\\\\\\\\"tabular\\\\\\\\\\\\\", \\\\\\\\\\\\\"subscriptionId\\\\\\\\\\\\\": \\\\\\\\\\\\\"d7f39349-a66b-446e-aba6-0053c2cf1c11\\\\\\\\\\\\\", \\\\\\\\\\\\\"workspaceId\\\\\\\\\\\\\": \\\\\\\\\\\\\"54dd3d47-9991-4b7a-8c1a-f37e6b2beffc\\\\\\\\\\\\\", \\\\\\\\\\\\\"workspaceLocation\\\\\\\\\\\\\": \\\\\\\\\\\\\"southcentralus\\\\\\\\\\\\\"}}\\\\\", \\\\\"activities\\\\\": 0}',\n",
       "  'EnableSubsampling': None,\n",
       "  'runTemplate': 'AutoML',\n",
       "  'azureml.runsource': 'automl',\n",
       "  'display_task_type': 'classification',\n",
       "  'dependencies_versions': '{\"azureml-widgets\": \"1.20.0\", \"azureml-train\": \"1.20.0\", \"azureml-train-restclients-hyperdrive\": \"1.20.0\", \"azureml-train-core\": \"1.20.0\", \"azureml-train-automl\": \"1.20.0\", \"azureml-train-automl-runtime\": \"1.20.0\", \"azureml-train-automl-client\": \"1.20.0\", \"azureml-tensorboard\": \"1.20.0\", \"azureml-telemetry\": \"1.20.0\", \"azureml-sdk\": \"1.20.0\", \"azureml-samples\": \"0+unknown\", \"azureml-pipeline\": \"1.20.0\", \"azureml-pipeline-steps\": \"1.20.0\", \"azureml-pipeline-core\": \"1.20.0\", \"azureml-opendatasets\": \"1.20.0\", \"azureml-model-management-sdk\": \"1.0.1b6.post1\", \"azureml-mlflow\": \"1.20.0.post1\", \"azureml-interpret\": \"1.20.0\", \"azureml-explain-model\": \"1.20.0\", \"azureml-defaults\": \"1.20.0\", \"azureml-dataset-runtime\": \"1.20.0\", \"azureml-dataprep\": \"2.7.3\", \"azureml-dataprep-rslex\": \"1.5.0\", \"azureml-dataprep-native\": \"27.0.0\", \"azureml-datadrift\": \"1.20.0\", \"azureml-core\": \"1.20.0\", \"azureml-contrib-services\": \"1.20.0\", \"azureml-contrib-server\": \"1.20.0\", \"azureml-contrib-reinforcementlearning\": \"1.20.0\", \"azureml-contrib-pipeline-steps\": \"1.20.0\", \"azureml-contrib-notebook\": \"1.20.0\", \"azureml-contrib-interpret\": \"1.20.0\", \"azureml-contrib-gbdt\": \"1.20.0\", \"azureml-contrib-fairness\": \"1.20.0\", \"azureml-contrib-dataset\": \"1.20.0\", \"azureml-cli-common\": \"1.20.0\", \"azureml-automl-runtime\": \"1.20.0\", \"azureml-automl-core\": \"1.20.0\", \"azureml-accel-models\": \"1.20.0\"}',\n",
       "  '_aml_system_scenario_identification': 'Remote.Parent',\n",
       "  'ClientType': 'SDK',\n",
       "  'environment_cpu_name': 'AzureML-AutoML',\n",
       "  'environment_cpu_label': 'prod',\n",
       "  'environment_gpu_name': 'AzureML-AutoML-GPU',\n",
       "  'environment_gpu_label': 'prod',\n",
       "  'root_attribution': 'automl',\n",
       "  'attribution': 'AutoML',\n",
       "  'Orchestrator': 'AutoML',\n",
       "  'CancelUri': 'https://southcentralus.experiments.azureml.net/jasmine/v1.0/subscriptions/d7f39349-a66b-446e-aba6-0053c2cf1c11/resourceGroups/aml-quickstarts-137234/providers/Microsoft.MachineLearningServices/workspaces/quick-starts-ws-137234/experimentids/fe942fe6-3a25-4f41-80a7-b5ec86b46e20/cancel/AutoML_c5a5cd74-3017-4a1e-bbb2-19590578f0ae',\n",
       "  'ClientSdkVersion': '1.21.0',\n",
       "  'snapshotId': '00000000-0000-0000-0000-000000000000',\n",
       "  'SetupRunId': 'AutoML_c5a5cd74-3017-4a1e-bbb2-19590578f0ae_setup',\n",
       "  'SetupRunContainerId': 'dcid.AutoML_c5a5cd74-3017-4a1e-bbb2-19590578f0ae_setup',\n",
       "  'FeaturizationRunJsonPath': 'featurizer_container.json',\n",
       "  'FeaturizationRunId': 'AutoML_c5a5cd74-3017-4a1e-bbb2-19590578f0ae_featurize',\n",
       "  'ProblemInfoJsonString': '{\"dataset_num_categorical\": 0, \"is_sparse\": true, \"subsampling\": false, \"dataset_classes\": 2, \"dataset_features\": 77601, \"dataset_samples\": 6819, \"single_frequency_class_detected\": false}',\n",
       "  'ModelExplainRunId': 'AutoML_c5a5cd74-3017-4a1e-bbb2-19590578f0ae_ModelExplain'},\n",
       " 'inputDatasets': [{'dataset': {'id': '6e250690-0ff6-425b-a8bf-11895fd71720'}, 'consumptionDetails': {'type': 'RunInput', 'inputName': 'training_data', 'mechanism': 'Direct'}}],\n",
       " 'outputDatasets': [],\n",
       " 'logFiles': {},\n",
       " 'submittedBy': 'ODL_User 137234'}"
      ]
     },
     "execution_count": 9,
     "metadata": {},
     "output_type": "execute_result"
    }
   ],
   "source": [
    "RunDetails(remote_run).show()\n",
    "remote_run.wait_for_completion(show_output=True)"
   ]
  },
  {
   "cell_type": "markdown",
   "metadata": {},
   "source": [
    "## Best Model"
   ]
  },
  {
   "cell_type": "code",
   "execution_count": 14,
   "metadata": {
    "collapsed": false,
    "gather": {
     "logged": 1598431425670
    },
    "jupyter": {
     "outputs_hidden": false,
     "source_hidden": false
    },
    "nteract": {
     "transient": {
      "deleting": false
     }
    }
   },
   "outputs": [
    {
     "name": "stderr",
     "output_type": "stream",
     "text": [
      "WARNING:root:The version of the SDK does not match the version the model was trained on.\n",
      "WARNING:root:The consistency in the result may not be guaranteed.\n",
      "WARNING:root:Package:azureml-automl-core, training version:1.21.0, current version:1.20.0\n",
      "Package:azureml-automl-runtime, training version:1.21.0, current version:1.20.0\n",
      "Package:azureml-core, training version:1.21.0.post1, current version:1.20.0\n",
      "Package:azureml-dataprep, training version:2.8.2, current version:2.7.3\n",
      "Package:azureml-dataprep-native, training version:28.0.0, current version:27.0.0\n",
      "Package:azureml-dataprep-rslex, training version:1.6.0, current version:1.5.0\n",
      "Package:azureml-dataset-runtime, training version:1.21.0, current version:1.20.0\n",
      "Package:azureml-defaults, training version:1.21.0, current version:1.20.0\n",
      "Package:azureml-interpret, training version:1.21.0, current version:1.20.0\n",
      "Package:azureml-pipeline-core, training version:1.21.0, current version:1.20.0\n",
      "Package:azureml-telemetry, training version:1.21.0, current version:1.20.0\n",
      "Package:azureml-train-automl-client, training version:1.21.0, current version:1.20.0\n",
      "Package:azureml-train-automl-runtime, training version:1.21.0, current version:1.20.0\n",
      "WARNING:root:Please ensure the version of your local conda dependencies match the version on which your model was trained in order to properly retrieve your model.\n"
     ]
    },
    {
     "name": "stdout",
     "output_type": "stream",
     "text": [
      "Pipeline(memory=None,\n",
      "         steps=[('datatransformer',\n",
      "                 DataTransformer(enable_dnn=None, enable_feature_sweeping=None,\n",
      "                                 feature_sweeping_config=None,\n",
      "                                 feature_sweeping_timeout=None,\n",
      "                                 featurization_config=None, force_text_dnn=None,\n",
      "                                 is_cross_validation=None,\n",
      "                                 is_onnx_compatible=None, logger=None,\n",
      "                                 observer=None, task=None, working_dir=None)),\n",
      "                ('prefittedsoftvotingclassifier',...\n",
      "                                                                                                  loss='modified_huber',\n",
      "                                                                                                  max_iter=1000,\n",
      "                                                                                                  n_jobs=1,\n",
      "                                                                                                  penalty='none',\n",
      "                                                                                                  power_t=0.8888888888888888,\n",
      "                                                                                                  random_state=None,\n",
      "                                                                                                  tol=0.0001))],\n",
      "                                                                     verbose=False))],\n",
      "                                               flatten_transform=None,\n",
      "                                               weights=[0.2,\n",
      "                                                        0.13333333333333333,\n",
      "                                                        0.06666666666666667,\n",
      "                                                        0.06666666666666667,\n",
      "                                                        0.06666666666666667,\n",
      "                                                        0.13333333333333333,\n",
      "                                                        0.06666666666666667,\n",
      "                                                        0.13333333333333333,\n",
      "                                                        0.06666666666666667,\n",
      "                                                        0.06666666666666667]))],\n",
      "         verbose=False)\n",
      "\n",
      "Best Run Id:  AutoML_c5a5cd74-3017-4a1e-bbb2-19590578f0ae_38\n",
      "f1_score_weighted 0.7808807812488515\n",
      "recall_score_macro 0.786583436520771\n",
      "accuracy 0.7887870118426862\n",
      "average_precision_score_macro 0.9332373796255888\n",
      "weighted_accuracy 0.9612840684729123\n",
      "log_loss 0.4545446973109912\n",
      "balanced_accuracy 0.786583436520771\n",
      "precision_score_macro 0.8281479283607454\n",
      "AUC_micro 0.8792715443276731\n",
      "precision_score_weighted 0.8278238125161961\n",
      "f1_score_micro 0.7887870118426886\n",
      "precision_score_micro 0.7887870118426907\n",
      "recall_score_micro 0.7887870118426865\n",
      "average_precision_score_weighted 0.93353434010938\n",
      "f1_score_macro 0.7796271222640532\n",
      "recall_score_weighted 0.7887870118426865\n",
      "matthews_correlation 0.6127914566503128\n",
      "average_precision_score_micro 0.8850749563633847\n",
      "norm_macro_recall 0.5731668730415398\n",
      "AUC_weighted 0.9326516444819962\n",
      "AUC_macro 0.9326516444819961\n",
      "confusion_matrix aml://artifactId/ExperimentRun/dcid.AutoML_c5a5cd74-3017-4a1e-bbb2-19590578f0ae_38/confusion_matrix\n",
      "accuracy_table aml://artifactId/ExperimentRun/dcid.AutoML_c5a5cd74-3017-4a1e-bbb2-19590578f0ae_38/accuracy_table\n"
     ]
    }
   ],
   "source": [
    "best_run, model = remote_run.get_output()\n",
    "\n",
    "#Printing the best run\n",
    "print(model) \n",
    "print('\\nBest Run Id: ', best_run.id)\n",
    "\n",
    "#Printing the metric details of the best run\n",
    "best_run_metrics = best_run.get_metrics()\n",
    "for metric_name in best_run_metrics:\n",
    "    metric = best_run_metrics[metric_name]\n",
    "    print(metric_name, metric)"
   ]
  },
  {
   "cell_type": "code",
   "execution_count": 15,
   "metadata": {
    "collapsed": false,
    "gather": {
     "logged": 1598431426111
    },
    "jupyter": {
     "outputs_hidden": false,
     "source_hidden": false
    },
    "nteract": {
     "transient": {
      "deleting": false
     }
    }
   },
   "outputs": [
    {
     "data": {
      "text/plain": [
       "['outputs/automl_model.pkl']"
      ]
     },
     "execution_count": 15,
     "metadata": {},
     "output_type": "execute_result"
    }
   ],
   "source": [
    "#Saving the best model\n",
    "joblib.dump(model,'outputs/automl_model.pkl')"
   ]
  },
  {
   "cell_type": "markdown",
   "metadata": {},
   "source": [
    "## Model Deployment\n",
    "\n",
    "* The AutoML model outperformed the model tuned by HyperDrive so we'll start deploying the best automl model. "
   ]
  },
  {
   "cell_type": "code",
   "execution_count": 16,
   "metadata": {
    "collapsed": false,
    "gather": {
     "logged": 1598431435189
    },
    "jupyter": {
     "outputs_hidden": false,
     "source_hidden": false
    },
    "nteract": {
     "transient": {
      "deleting": false
     }
    }
   },
   "outputs": [
    {
     "name": "stdout",
     "output_type": "stream",
     "text": [
      "Registering model automl_model\n"
     ]
    }
   ],
   "source": [
    "from azureml.core.model import Model\n",
    "model = Model.register(workspace = ws,\n",
    "                        model_path =\"outputs/automl_model.pkl\",\n",
    "                        model_name = \"automl_model\")"
   ]
  },
  {
   "cell_type": "code",
   "execution_count": 17,
   "metadata": {},
   "outputs": [
    {
     "name": "stdout",
     "output_type": "stream",
     "text": [
      "Writing score_automl.py\n"
     ]
    }
   ],
   "source": [
    "%%writefile score_automl.py\n",
    "from azureml.core.model import Model\n",
    "import numpy as np\n",
    "import pandas as pd\n",
    "import joblib\n",
    "import json\n",
    "import pickle\n",
    "import os\n",
    "\n",
    "def init():\n",
    "    global model\n",
    "    model_path = Model.get_model_path(\"automl_model\")\n",
    "    model = joblib.load(model_path)\n",
    "\n",
    "def run(raw_data):\n",
    "    try:\n",
    "        data = json.loads(raw_data)['data']\n",
    "        data = pd.DataFrame.from_dict(data)\n",
    "        result = model.predict(data)\n",
    "        return result.tolist()\n",
    "    \n",
    "    except Exception as ex:\n",
    "        error = str(ex)\n",
    "        return error"
   ]
  },
  {
   "cell_type": "code",
   "execution_count": 18,
   "metadata": {},
   "outputs": [],
   "source": [
    "env = Environment.get(workspace=ws, name = \"AzureML-AutoML\")"
   ]
  },
  {
   "cell_type": "code",
   "execution_count": 19,
   "metadata": {
    "collapsed": false,
    "gather": {
     "logged": 1598432707604
    },
    "jupyter": {
     "outputs_hidden": false,
     "source_hidden": false
    },
    "nteract": {
     "transient": {
      "deleting": false
     }
    }
   },
   "outputs": [
    {
     "name": "stdout",
     "output_type": "stream",
     "text": [
      "Tips: You can try get_logs(): https://aka.ms/debugimage#dockerlog or local deployment: https://aka.ms/debugimage#debug-locally to debug if deployment takes longer than 10 minutes.\n",
      "Running...........................................\n",
      "Succeeded\n",
      "ACI service creation operation finished, operation \"Succeeded\"\n",
      "Healthy\n",
      "2021-02-04T15:35:44,542506761+00:00 - iot-server/run \n",
      "2021-02-04T15:35:44,542971823+00:00 - gunicorn/run \n",
      "2021-02-04T15:35:44,541967390+00:00 - rsyslog/run \n",
      "rsyslogd: /azureml-envs/azureml_7ade26eb614f97df8030bc480da59236/lib/libuuid.so.1: no version information available (required by rsyslogd)\n",
      "2021-02-04T15:35:44,556002052+00:00 - nginx/run \n",
      "/usr/sbin/nginx: /azureml-envs/azureml_7ade26eb614f97df8030bc480da59236/lib/libcrypto.so.1.0.0: no version information available (required by /usr/sbin/nginx)\n",
      "/usr/sbin/nginx: /azureml-envs/azureml_7ade26eb614f97df8030bc480da59236/lib/libcrypto.so.1.0.0: no version information available (required by /usr/sbin/nginx)\n",
      "/usr/sbin/nginx: /azureml-envs/azureml_7ade26eb614f97df8030bc480da59236/lib/libssl.so.1.0.0: no version information available (required by /usr/sbin/nginx)\n",
      "/usr/sbin/nginx: /azureml-envs/azureml_7ade26eb614f97df8030bc480da59236/lib/libssl.so.1.0.0: no version information available (required by /usr/sbin/nginx)\n",
      "/usr/sbin/nginx: /azureml-envs/azureml_7ade26eb614f97df8030bc480da59236/lib/libssl.so.1.0.0: no version information available (required by /usr/sbin/nginx)\n",
      "EdgeHubConnectionString and IOTEDGE_IOTHUBHOSTNAME are not set. Exiting...\n",
      "2021-02-04T15:35:44,686927428+00:00 - iot-server/finish 1 0\n",
      "2021-02-04T15:35:44,688242903+00:00 - Exit code 1 is normal. Not restarting iot-server.\n",
      "Starting gunicorn 19.9.0\n",
      "Listening at: http://127.0.0.1:31311 (14)\n",
      "Using worker: sync\n",
      "worker timeout is set to 300\n",
      "Booting worker with pid: 43\n",
      "SPARK_HOME not set. Skipping PySpark Initialization.\n",
      "Generating new fontManager, this may take some time...\n",
      "Initializing logger\n",
      "2021-02-04 15:35:47,072 | root | INFO | Starting up app insights client\n",
      "2021-02-04 15:35:47,073 | root | INFO | Starting up request id generator\n",
      "2021-02-04 15:35:47,073 | root | INFO | Starting up app insight hooks\n",
      "2021-02-04 15:35:47,073 | root | INFO | Invoking user's init function\n",
      "2021-02-04 15:35:52,086 | root | INFO | Users's init has completed successfully\n",
      "2021-02-04 15:35:52,089 | root | INFO | Skipping middleware: dbg_model_info as it's not enabled.\n",
      "2021-02-04 15:35:52,089 | root | INFO | Skipping middleware: dbg_resource_usage as it's not enabled.\n",
      "2021-02-04 15:35:52,091 | root | INFO | Scoring timeout is found from os.environ: 60000 ms\n",
      "2021-02-04 15:35:58,743 | root | INFO | Swagger file not present\n",
      "2021-02-04 15:35:58,743 | root | INFO | 404\n",
      "127.0.0.1 - - [04/Feb/2021:15:35:58 +0000] \"GET /swagger.json HTTP/1.0\" 404 19 \"-\" \"Go-http-client/1.1\"\n",
      "2021-02-04 15:36:00,966 | root | INFO | Swagger file not present\n",
      "2021-02-04 15:36:00,966 | root | INFO | 404\n",
      "127.0.0.1 - - [04/Feb/2021:15:36:00 +0000] \"GET /swagger.json HTTP/1.0\" 404 19 \"-\" \"Go-http-client/1.1\"\n",
      "\n"
     ]
    }
   ],
   "source": [
    "from azureml.core.model import Model\n",
    "from azureml.core.webservice import Webservice \n",
    "from azureml.core.webservice import  AciWebservice\n",
    "from azureml.core.conda_dependencies import CondaDependencies\n",
    "config_aci = AciWebservice.deploy_configuration(cpu_cores=1, \n",
    "                                               memory_gb=1, \n",
    "                                               enable_app_insights=True, \n",
    "                                               auth_enabled=True)\n",
    "\n",
    "\n",
    "\n",
    "ws = Workspace.from_config()\n",
    "model = Model(ws, 'automl_model')\n",
    "\n",
    "inference_config = InferenceConfig(entry_script=\"score_automl.py\", environment=env)\n",
    "\n",
    "service_name = 'automl1'\n",
    "service = Model.deploy(workspace=ws, \n",
    "                       name=service_name, \n",
    "                       models=[model], \n",
    "                       inference_config=inference_config, \n",
    "                       deployment_config= config_aci)\n",
    "\n",
    "service.wait_for_deployment(show_output=True)\n",
    "\n",
    "print(service.state)\n",
    "print(service.get_logs())"
   ]
  },
  {
   "cell_type": "code",
   "execution_count": 20,
   "metadata": {},
   "outputs": [
    {
     "name": "stdout",
     "output_type": "stream",
     "text": [
      "2021-02-04T15:35:44,542506761+00:00 - iot-server/run \n",
      "2021-02-04T15:35:44,542971823+00:00 - gunicorn/run \n",
      "2021-02-04T15:35:44,541967390+00:00 - rsyslog/run \n",
      "rsyslogd: /azureml-envs/azureml_7ade26eb614f97df8030bc480da59236/lib/libuuid.so.1: no version information available (required by rsyslogd)\n",
      "2021-02-04T15:35:44,556002052+00:00 - nginx/run \n",
      "/usr/sbin/nginx: /azureml-envs/azureml_7ade26eb614f97df8030bc480da59236/lib/libcrypto.so.1.0.0: no version information available (required by /usr/sbin/nginx)\n",
      "/usr/sbin/nginx: /azureml-envs/azureml_7ade26eb614f97df8030bc480da59236/lib/libcrypto.so.1.0.0: no version information available (required by /usr/sbin/nginx)\n",
      "/usr/sbin/nginx: /azureml-envs/azureml_7ade26eb614f97df8030bc480da59236/lib/libssl.so.1.0.0: no version information available (required by /usr/sbin/nginx)\n",
      "/usr/sbin/nginx: /azureml-envs/azureml_7ade26eb614f97df8030bc480da59236/lib/libssl.so.1.0.0: no version information available (required by /usr/sbin/nginx)\n",
      "/usr/sbin/nginx: /azureml-envs/azureml_7ade26eb614f97df8030bc480da59236/lib/libssl.so.1.0.0: no version information available (required by /usr/sbin/nginx)\n",
      "EdgeHubConnectionString and IOTEDGE_IOTHUBHOSTNAME are not set. Exiting...\n",
      "2021-02-04T15:35:44,686927428+00:00 - iot-server/finish 1 0\n",
      "2021-02-04T15:35:44,688242903+00:00 - Exit code 1 is normal. Not restarting iot-server.\n",
      "Starting gunicorn 19.9.0\n",
      "Listening at: http://127.0.0.1:31311 (14)\n",
      "Using worker: sync\n",
      "worker timeout is set to 300\n",
      "Booting worker with pid: 43\n",
      "SPARK_HOME not set. Skipping PySpark Initialization.\n",
      "Generating new fontManager, this may take some time...\n",
      "Initializing logger\n",
      "2021-02-04 15:35:47,072 | root | INFO | Starting up app insights client\n",
      "2021-02-04 15:35:47,073 | root | INFO | Starting up request id generator\n",
      "2021-02-04 15:35:47,073 | root | INFO | Starting up app insight hooks\n",
      "2021-02-04 15:35:47,073 | root | INFO | Invoking user's init function\n",
      "2021-02-04 15:35:52,086 | root | INFO | Users's init has completed successfully\n",
      "2021-02-04 15:35:52,089 | root | INFO | Skipping middleware: dbg_model_info as it's not enabled.\n",
      "2021-02-04 15:35:52,089 | root | INFO | Skipping middleware: dbg_resource_usage as it's not enabled.\n",
      "2021-02-04 15:35:52,091 | root | INFO | Scoring timeout is found from os.environ: 60000 ms\n",
      "2021-02-04 15:35:58,743 | root | INFO | Swagger file not present\n",
      "2021-02-04 15:35:58,743 | root | INFO | 404\n",
      "127.0.0.1 - - [04/Feb/2021:15:35:58 +0000] \"GET /swagger.json HTTP/1.0\" 404 19 \"-\" \"Go-http-client/1.1\"\n",
      "2021-02-04 15:36:00,966 | root | INFO | Swagger file not present\n",
      "2021-02-04 15:36:00,966 | root | INFO | 404\n",
      "127.0.0.1 - - [04/Feb/2021:15:36:00 +0000] \"GET /swagger.json HTTP/1.0\" 404 19 \"-\" \"Go-http-client/1.1\"\n",
      "2021-02-04 15:43:33,338 | root | INFO | Swagger file not present\n",
      "2021-02-04 15:43:33,338 | root | INFO | 404\n",
      "127.0.0.1 - - [04/Feb/2021:15:43:33 +0000] \"GET /swagger.json HTTP/1.0\" 404 19 \"-\" \"Go-http-client/1.1\"\n",
      "\n"
     ]
    }
   ],
   "source": [
    "print(service.get_logs())"
   ]
  },
  {
   "cell_type": "code",
   "execution_count": 21,
   "metadata": {},
   "outputs": [],
   "source": [
    "service = Webservice(workspace=ws, name='automl')"
   ]
  },
  {
   "cell_type": "code",
   "execution_count": 22,
   "metadata": {},
   "outputs": [
    {
     "name": "stdout",
     "output_type": "stream",
     "text": [
      "scoring URI: http://36702272-696c-41c6-8a4e-883234776f3c.southcentralus.azurecontainer.io/score\n",
      "Swagger URI: http://36702272-696c-41c6-8a4e-883234776f3c.southcentralus.azurecontainer.io/swagger.json\n",
      "Authetication Key: OnFsmwZUXBAiGy5y8otThzRrOqVoaeR8\n"
     ]
    }
   ],
   "source": [
    "print(\"scoring URI: \" + service.scoring_uri)\n",
    "\n",
    "print(\"Swagger URI: \" + service.swagger_uri)\n",
    "\n",
    "print(\"Authetication Key: \" + service.get_keys()[0])"
   ]
  },
  {
   "cell_type": "code",
   "execution_count": 24,
   "metadata": {},
   "outputs": [
    {
     "name": "stdout",
     "output_type": "stream",
     "text": [
      "OnFsmwZUXBAiGy5y8otThzRrOqVoaeR8 \n",
      " 5sdQUWeeqyg3lbXzvVuLgRaMkAGFXwdw\n"
     ]
    }
   ],
   "source": [
    "primary_key, secondary_key = service.get_keys()\n",
    "print(primary_key,'\\n',secondary_key)"
   ]
  },
  {
   "cell_type": "markdown",
   "metadata": {},
   "source": [
    "TODO: In the cell below, send a request to the web service you deployed to test it."
   ]
  },
  {
   "cell_type": "code",
   "execution_count": 32,
   "metadata": {},
   "outputs": [
    {
     "name": "stdout",
     "output_type": "stream",
     "text": [
      "\"{\\\"result\\\": [0]}\"\n"
     ]
    }
   ],
   "source": [
    "key = primary_key\n",
    "scoringuri = service.scoring_uri\n",
    "\n",
    "data= {\n",
    "  \"data\": [\n",
    "    {\n",
    "      \" ROA(C) before interest and depreciation before interest\": \"example_value\",\n",
    "      \" ROA(A) before interest and % after tax\": \"example_value\",\n",
    "      \" ROA(B) before interest and depreciation after tax\": \"example_value\",\n",
    "      \" operating gross margin\": \"example_value\",\n",
    "      \" realized sales gross margin\": \"example_value\",\n",
    "      \" operating profit rate\": \"example_value\",\n",
    "      \" tax Pre-net interest rate\": \"example_value\",\n",
    "      \" after-tax net interest rate\": \"example_value\",\n",
    "      \" non-industry income and expenditure/revenue\": \"example_value\",\n",
    "      \" continuous interest rate (after tax)\": \"example_value\",\n",
    "      \" operating expense rate\": \"example_value\",\n",
    "      \" research and development expense rate\": \"example_value\",\n",
    "      \" cash flow rate\": \"example_value\",\n",
    "      \" interest-bearing debt interest rate\": \"example_value\",\n",
    "      \" tax rate (A)\": \"example_value\",\n",
    "      \" per Net Share Value (B)\": \"example_value\",\n",
    "      \" Net Value Per Share (A)\": \"example_value\",\n",
    "      \" Net Value Per Share (C)\": \"example_value\",\n",
    "      \" Persistent EPS in the Last Four Seasons\": \"example_value\",\n",
    "      \" Cash Flow Per Share\": \"example_value\",\n",
    "      \" Revenue Per Share (Yuan)\": \"example_value\",\n",
    "      \" Operating Profit Per Share (Yuan)\": \"example_value\",\n",
    "      \" Per Share Net profit before tax (yuan)\": \"example_value\",\n",
    "      \" realized sales gross profit growth rate\": \"example_value\",\n",
    "      \" operating profit growth rate\": \"example_value\",\n",
    "      \" after-tax net profit growth rate\": \"example_value\",\n",
    "      \" regular net profit growth rate\": \"example_value\",\n",
    "      \" continuous net profit growth rate\": \"example_value\",\n",
    "      \" total asset growth rate\": \"example_value\",\n",
    "      \" net value growth rate\": \"example_value\",\n",
    "      \" total asset return growth rate Ratio\": \"example_value\",\n",
    "      \" cash reinvestment %\": \"example_value\",\n",
    "      \" current ratio\": \"example_value\",\n",
    "      \" quick ratio\": \"example_value\",\n",
    "      \" interest expense ratio\": \"example_value\",\n",
    "      \" total debt/total net worth\": \"example_value\",\n",
    "      \" debt ratio %\": \"example_value\",\n",
    "      \" net worth/assets\": \"example_value\",\n",
    "      \" long-term fund suitability ratio (A)\": \"example_value\",\n",
    "      \" borrowing dependency\": \"example_value\",\n",
    "      \" contingent liabilities/net worth\": \"example_value\",\n",
    "      \" Operating profit/paid-in capital\": \"example_value\",\n",
    "      \" net profit before tax/paid-in capital\": \"example_value\",\n",
    "      \" inventory and accounts receivable/net value\": \"example_value\",\n",
    "      \" total asset turnover\": \"example_value\",\n",
    "      \" accounts receivable turnover\": \"example_value\",\n",
    "      \" average collection days\": \"example_value\",\n",
    "      \" inventory turnover rate (times)\": \"example_value\",\n",
    "      \" fixed assets Turnover frequency\": \"example_value\",\n",
    "      \" net worth turnover rate (times)\": \"example_value\",\n",
    "      \" revenue per person\": \"example_value\",\n",
    "      \" operating profit per person\": \"example_value\",\n",
    "      \" allocation rate per person\": \"example_value\",\n",
    "      \" working capital to total assets\": \"example_value\",\n",
    "      \"Quick asset/Total asset\": 0,\n",
    "      \"current assets/total assets\": 0,\n",
    "      \"cash / total assets\": 0,\n",
    "      \"Quick asset /current liabilities\": 0,\n",
    "      \"cash / current liability\": 0,\n",
    "      \"current liability to assets\": 0,\n",
    "      \"operating funds to liability\": 0,\n",
    "      \"Inventory/working capital\": 0,\n",
    "      \"Inventory/current liability\": 0,\n",
    "      \"current liability / liability\": 0,\n",
    "      \"working capital/equity\": 0,\n",
    "      \"current liability/equity\": 0,\n",
    "      \"long-term liability to current assets\": 0,\n",
    "      \"Retained Earnings/Total assets\": 0,\n",
    "      \"total income / total expense\": 0,\n",
    "      \"total expense /assets\": 0,\n",
    "      \" current asset turnover rate\": \"example_value\",\n",
    "      \" quick asset turnover rate\": \"example_value\",\n",
    "      \" working capitcal turnover rate\": \"example_value\",\n",
    "      \" cash turnover rate\": \"example_value\",\n",
    "      \" Cash flow to Sales\": \"example_value\",\n",
    "      \" fix assets to assets\": \"example_value\",\n",
    "      \" current liability to liability\": \"example_value\",\n",
    "      \"current liability to equity\": 0,\n",
    "      \"equity to long-term liability\": 0,\n",
    "      \"Cash flow to total assets\": 0,\n",
    "      \"cash flow to liability\": 0,\n",
    "      \"CFO to ASSETS\": 0,\n",
    "      \"cash flow to equity\": 0,\n",
    "      \"current liabilities to current assets\": 0,\n",
    "      \"one if total liabilities exceeds total assets zero otherwise\": 0,\n",
    "      \"net income to total assets\": 0,\n",
    "      \"total assets to GNP price\": 0,\n",
    "      \"No-credit interval\": 0,\n",
    "      \"Gross profit to Sales\": 0,\n",
    "      \"Net income to stockholder's Equity\": 0,\n",
    "      \"liability to equity\": 0,\n",
    "      \"Degree of financial leverage (DFL)\": 0,\n",
    "      \"Interest coverage ratio( Interest expense to EBIT )\": 0,\n",
    "      \"one if net income was negative for the last two year zero otherwise\": 0,\n",
    "      \"equity to liability\": 0\n",
    "    }\n",
    "  ]\n",
    "}\n",
    "input_data = json.dumps(data)\n",
    "\n",
    "headers = {'Content-Type': 'application/json'}\n",
    "headers['Authorization'] = f'Bearer {key}'\n",
    "\n",
    "response = requests.post(scoringuri, input_data, headers = headers)\n",
    "print(response.text)"
   ]
  },
  {
   "cell_type": "markdown",
   "metadata": {
    "gather": {
     "logged": 1598432765711
    },
    "jupyter": {
     "outputs_hidden": false,
     "source_hidden": false
    },
    "nteract": {
     "transient": {
      "deleting": false
     }
    }
   },
   "source": [
    "TODO: In the cell below, print the logs of the web service and delete the service"
   ]
  },
  {
   "cell_type": "code",
   "execution_count": 49,
   "metadata": {
    "collapsed": false,
    "jupyter": {
     "outputs_hidden": false,
     "source_hidden": false
    },
    "nteract": {
     "transient": {
      "deleting": false
     }
    }
   },
   "outputs": [
    {
     "name": "stdout",
     "output_type": "stream",
     "text": [
      "2021-01-12T02:44:58,371356973+00:00 - iot-server/run \n",
      "2021-01-12T02:44:58,371770998+00:00 - gunicorn/run \n",
      "2021-01-12T02:44:58,372986871+00:00 - rsyslog/run \n",
      "2021-01-12T02:44:58,377098918+00:00 - nginx/run \n",
      "/usr/sbin/nginx: /azureml-envs/azureml_8eff28b157f42edcd2424a5aae6c8074/lib/libcrypto.so.1.0.0: no version information available (required by /usr/sbin/nginx)\n",
      "/usr/sbin/nginx: /azureml-envs/azureml_8eff28b157f42edcd2424a5aae6c8074/lib/libcrypto.so.1.0.0: no version information available (required by /usr/sbin/nginx)\n",
      "/usr/sbin/nginx: /azureml-envs/azureml_8eff28b157f42edcd2424a5aae6c8074/lib/libssl.so.1.0.0: no version information available (required by /usr/sbin/nginx)\n",
      "/usr/sbin/nginx: /azureml-envs/azureml_8eff28b157f42edcd2424a5aae6c8074/lib/libssl.so.1.0.0: no version information available (required by /usr/sbin/nginx)\n",
      "/usr/sbin/nginx: /azureml-envs/azureml_8eff28b157f42edcd2424a5aae6c8074/lib/libssl.so.1.0.0: no version information available (required by /usr/sbin/nginx)\n",
      "rsyslogd: /azureml-envs/azureml_8eff28b157f42edcd2424a5aae6c8074/lib/libuuid.so.1: no version information available (required by rsyslogd)\n",
      "EdgeHubConnectionString and IOTEDGE_IOTHUBHOSTNAME are not set. Exiting...\n",
      "2021-01-12T02:44:58,507951764+00:00 - iot-server/finish 1 0\n",
      "2021-01-12T02:44:58,509650165+00:00 - Exit code 1 is normal. Not restarting iot-server.\n",
      "Starting gunicorn 19.9.0\n",
      "Listening at: http://127.0.0.1:31311 (13)\n",
      "Using worker: sync\n",
      "worker timeout is set to 300\n",
      "Booting worker with pid: 40\n",
      "SPARK_HOME not set. Skipping PySpark Initialization.\n",
      "Generating new fontManager, this may take some time...\n",
      "Initializing logger\n",
      "2021-01-12 02:45:00,876 | root | INFO | Starting up app insights client\n",
      "Starting up app insights client\n",
      "2021-01-12 02:45:00,876 | root | INFO | Starting up request id generator\n",
      "Starting up request id generator\n",
      "2021-01-12 02:45:00,876 | root | INFO | Starting up app insight hooks\n",
      "Starting up app insight hooks\n",
      "2021-01-12 02:45:00,876 | root | INFO | Invoking user's init function\n",
      "Invoking user's init function\n",
      "2021-01-12 02:45:00,877 | root | ERROR | User's init function failed\n",
      "User's init function failed\n",
      "2021-01-12 02:45:00,878 | root | ERROR | Encountered Exception Traceback (most recent call last):\n",
      "  File \"/var/azureml-server/aml_blueprint.py\", line 187, in register\n",
      "    main.init()\n",
      "  File \"/var/azureml-app/main.py\", line 35, in init\n",
      "    driver_module.init()\n",
      "  File \"/var/azureml-app/score_automl.py\", line 6, in init\n",
      "    model = joblib.load(model_path)\n",
      "NameError: name 'joblib' is not defined\n",
      "\n",
      "Encountered Exception Traceback (most recent call last):\n",
      "  File \"/var/azureml-server/aml_blueprint.py\", line 187, in register\n",
      "    main.init()\n",
      "  File \"/var/azureml-app/main.py\", line 35, in init\n",
      "    driver_module.init()\n",
      "  File \"/var/azureml-app/score_automl.py\", line 6, in init\n",
      "    model = joblib.load(model_path)\n",
      "NameError: name 'joblib' is not defined\n",
      "\n",
      "Worker exiting (pid: 40)\n",
      "Shutting down: Master\n",
      "Reason: Worker failed to boot.\n",
      "2021-01-12T02:45:02,038362946+00:00 - gunicorn/finish 3 0\n",
      "2021-01-12T02:45:02,040019645+00:00 - Exit code 3 is not normal. Killing image.\n",
      "\n"
     ]
    }
   ],
   "source": [
    "ws = Workspace.from_config()\n",
    "\n",
    "service = Webservice(name=\"aml-service\", workspace=ws)\n",
    "service.update(enable_app_insights=True)\n",
    "logs = service.get_logs()\n",
    "print(logs)"
   ]
  },
  {
   "cell_type": "code",
   "execution_count": 50,
   "metadata": {},
   "outputs": [
    {
     "name": "stdout",
     "output_type": "stream",
     "text": [
      "No service with name aml-service found to delete.\n",
      "AciWebservice(workspace=Workspace.create(name='quick-starts-ws-134413', subscription_id='6b4af8be-9931-443e-90f6-c4c34a1f9737', resource_group='aml-quickstarts-134413'), name=aml-service, image_id=None, compute_type=None, state=ACI, scoring_uri=Failed, tags=None, properties={}, created_by={'hasInferenceSchema': 'False', 'hasHttps': 'False'})\n"
     ]
    }
   ],
   "source": [
    "#Deleting the service\n",
    "service.delete()\n",
    "print(service)"
   ]
  },
  {
   "cell_type": "code",
   "execution_count": 51,
   "metadata": {},
   "outputs": [],
   "source": [
    "#Deleting the compute cluster once the training process is complete\n",
    "compute_target.delete()"
   ]
  },
  {
   "cell_type": "code",
   "execution_count": null,
   "metadata": {},
   "outputs": [],
   "source": []
  }
 ],
 "metadata": {
  "kernel_info": {
   "name": "python3"
  },
  "kernelspec": {
   "display_name": "Python 3",
   "language": "python",
   "name": "python3"
  },
  "language_info": {
   "codemirror_mode": {
    "name": "ipython",
    "version": 3
   },
   "file_extension": ".py",
   "mimetype": "text/x-python",
   "name": "python",
   "nbconvert_exporter": "python",
   "pygments_lexer": "ipython3",
   "version": "3.6.9"
  },
  "nteract": {
   "version": "nteract-front-end@1.0.0"
  }
 },
 "nbformat": 4,
 "nbformat_minor": 4
}
