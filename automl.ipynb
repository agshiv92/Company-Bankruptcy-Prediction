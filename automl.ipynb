{
 "cells": [
  {
   "cell_type": "markdown",
   "metadata": {},
   "source": [
    "# Automated ML\n"
   ]
  },
  {
   "cell_type": "code",
   "execution_count": 6,
   "metadata": {
    "collapsed": false,
    "gather": {
     "logged": 1598423888013
    },
    "jupyter": {
     "outputs_hidden": false,
     "source_hidden": false
    },
    "nteract": {
     "transient": {
      "deleting": false
     }
    }
   },
   "outputs": [],
   "source": [
    "import pandas as pd\n",
    "import numpy as np\n",
    "import json\n",
    "import joblib\n",
    "import json\n",
    "import requests\n",
    "from sklearn.externals import joblib\n",
    "from sklearn.model_selection import train_test_split  \n",
    "from sklearn.preprocessing import OneHotEncoder"
   ]
  },
  {
   "cell_type": "code",
   "execution_count": 7,
   "metadata": {},
   "outputs": [],
   "source": [
    "from azureml.train.automl import AutoMLConfig\n",
    "from azureml.core.run import Run\n",
    "from azureml.widgets import RunDetails\n",
    "from azureml.data.dataset_factory import TabularDatasetFactory\n",
    "from azureml.core import Dataset\n",
    "from azureml.core import Workspace, Experiment\n",
    "from azureml.core.compute import ComputeTarget, AmlCompute\n",
    "from azureml.core.compute_target import ComputeTargetException\n",
    "from azureml.core.webservice import Webservice\n",
    "from azureml.core.environment import Environment\n",
    "from azureml.core.conda_dependencies import CondaDependencies\n",
    "from azureml.core.model import InferenceConfig"
   ]
  },
  {
   "cell_type": "code",
   "execution_count": 11,
   "metadata": {},
   "outputs": [],
   "source": [
    "ws = Workspace.from_config()\n",
    "experiment_name = 'Bankrupty_Automl'\n",
    "experiment = Experiment(ws, experiment_name)\n",
    "\n",
    "run = experiment.start_logging()"
   ]
  },
  {
   "cell_type": "code",
   "execution_count": 10,
   "metadata": {},
   "outputs": [
    {
     "name": "stdout",
     "output_type": "stream",
     "text": [
      "Creating\n",
      "Succeeded\n",
      "AmlCompute wait for completion finished\n",
      "\n",
      "Minimum number of nodes requested have been provisioned\n"
     ]
    }
   ],
   "source": [
    "from azureml.core.compute import ComputeTarget, AmlCompute\n",
    "from azureml.core.compute_target import ComputeTargetException\n",
    "\n",
    "# Choose a name for your CPU cluster\n",
    "cpu_cluster_name = \"cpu-cluster-4\"\n",
    "\n",
    "# Verify that cluster does not exist already\n",
    "try:\n",
    "    compute_target = ComputeTarget(workspace=ws, name=cpu_cluster_name)\n",
    "    print('Found existing cluster, use it.')\n",
    "except ComputeTargetException:\n",
    "    compute_config = AmlCompute.provisioning_configuration(vm_size='STANDARD_D2_V2',\n",
    "                                                           max_nodes=6)\n",
    "    compute_target = ComputeTarget.create(ws, cpu_cluster_name, compute_config)\n",
    "\n",
    "compute_target.wait_for_completion(show_output=True)\n",
    "#compute_target.wait_for_completion(show_output=True, min_node_count = 1, timeout_in_minutes = 10)"
   ]
  },
  {
   "cell_type": "markdown",
   "metadata": {},
   "source": [
    "## Dataset\n",
    "\n",
    "### Overview\n",
    "* The data were collected from the Taiwan Economic Journal for the years 1999 to 2009. Company bankruptcy was defined based on the business regulations of the Taiwan Stock Exchange. This dataset has 6219 example for training. The dataset of 95 different financial ratios as features. This dataset is avaialable at kaggel.  \n",
    "\n",
    "* This is a binary classification task where our target column is Bankrupt which may have the value 1 in case the company goes bankrupt 0 in case the company does not goes bankrupt.\n"
   ]
  },
  {
   "cell_type": "code",
   "execution_count": 12,
   "metadata": {},
   "outputs": [
    {
     "data": {
      "text/html": [
       "<div>\n",
       "<style scoped>\n",
       "    .dataframe tbody tr th:only-of-type {\n",
       "        vertical-align: middle;\n",
       "    }\n",
       "\n",
       "    .dataframe tbody tr th {\n",
       "        vertical-align: top;\n",
       "    }\n",
       "\n",
       "    .dataframe thead th {\n",
       "        text-align: right;\n",
       "    }\n",
       "</style>\n",
       "<table border=\"1\" class=\"dataframe\">\n",
       "  <thead>\n",
       "    <tr style=\"text-align: right;\">\n",
       "      <th></th>\n",
       "      <th>Bankrupt?</th>\n",
       "      <th>ROA(C) before interest and depreciation before interest</th>\n",
       "      <th>ROA(A) before interest and % after tax</th>\n",
       "      <th>ROA(B) before interest and depreciation after tax</th>\n",
       "      <th>operating gross margin</th>\n",
       "      <th>realized sales gross margin</th>\n",
       "      <th>operating profit rate</th>\n",
       "      <th>tax Pre-net interest rate</th>\n",
       "      <th>after-tax net interest rate</th>\n",
       "      <th>non-industry income and expenditure/revenue</th>\n",
       "      <th>...</th>\n",
       "      <th>net income to total assets</th>\n",
       "      <th>total assets to GNP price</th>\n",
       "      <th>No-credit interval</th>\n",
       "      <th>Gross profit to Sales</th>\n",
       "      <th>Net income to stockholder's Equity</th>\n",
       "      <th>liability to equity</th>\n",
       "      <th>Degree of financial leverage (DFL)</th>\n",
       "      <th>Interest coverage ratio( Interest expense to EBIT )</th>\n",
       "      <th>one if net income was negative for the last two year zero otherwise</th>\n",
       "      <th>equity to liability</th>\n",
       "    </tr>\n",
       "  </thead>\n",
       "  <tbody>\n",
       "    <tr>\n",
       "      <th>0</th>\n",
       "      <td>1</td>\n",
       "      <td>0.370594257300249</td>\n",
       "      <td>0.424389446140427</td>\n",
       "      <td>0.40574977247176</td>\n",
       "      <td>0.601457213277793</td>\n",
       "      <td>0.601457213277793</td>\n",
       "      <td>0.998969203197885</td>\n",
       "      <td>0.796887145860514</td>\n",
       "      <td>0.808809360876843</td>\n",
       "      <td>0.302646433889668</td>\n",
       "      <td>...</td>\n",
       "      <td>0.716845</td>\n",
       "      <td>0.009219</td>\n",
       "      <td>0.622879</td>\n",
       "      <td>0.601453</td>\n",
       "      <td>0.827890</td>\n",
       "      <td>0.290202</td>\n",
       "      <td>0.026601</td>\n",
       "      <td>0.564050</td>\n",
       "      <td>1</td>\n",
       "      <td>0.016469</td>\n",
       "    </tr>\n",
       "    <tr>\n",
       "      <th>1</th>\n",
       "      <td>1</td>\n",
       "      <td>0.464290937454297</td>\n",
       "      <td>0.53821412996075</td>\n",
       "      <td>0.516730017666899</td>\n",
       "      <td>0.610235085544617</td>\n",
       "      <td>0.610235085544617</td>\n",
       "      <td>0.998945978205482</td>\n",
       "      <td>0.797380191277827</td>\n",
       "      <td>0.809300725667939</td>\n",
       "      <td>0.303556430290771</td>\n",
       "      <td>...</td>\n",
       "      <td>0.795297</td>\n",
       "      <td>0.008323</td>\n",
       "      <td>0.623652</td>\n",
       "      <td>0.610237</td>\n",
       "      <td>0.839969</td>\n",
       "      <td>0.283846</td>\n",
       "      <td>0.264577</td>\n",
       "      <td>0.570175</td>\n",
       "      <td>1</td>\n",
       "      <td>0.020794</td>\n",
       "    </tr>\n",
       "    <tr>\n",
       "      <th>2</th>\n",
       "      <td>1</td>\n",
       "      <td>0.426071271876371</td>\n",
       "      <td>0.499018752725687</td>\n",
       "      <td>0.472295090743616</td>\n",
       "      <td>0.601450006486113</td>\n",
       "      <td>0.601363524985947</td>\n",
       "      <td>0.998857353483229</td>\n",
       "      <td>0.796403369254357</td>\n",
       "      <td>0.808387521469543</td>\n",
       "      <td>0.302035177342951</td>\n",
       "      <td>...</td>\n",
       "      <td>0.774670</td>\n",
       "      <td>0.040003</td>\n",
       "      <td>0.623841</td>\n",
       "      <td>0.601449</td>\n",
       "      <td>0.836774</td>\n",
       "      <td>0.290189</td>\n",
       "      <td>0.026555</td>\n",
       "      <td>0.563706</td>\n",
       "      <td>1</td>\n",
       "      <td>0.016474</td>\n",
       "    </tr>\n",
       "  </tbody>\n",
       "</table>\n",
       "<p>3 rows × 96 columns</p>\n",
       "</div>"
      ],
      "text/plain": [
       "   Bankrupt?  ROA(C) before interest and depreciation before interest  \\\n",
       "0          1                                  0.370594257300249         \n",
       "1          1                                  0.464290937454297         \n",
       "2          1                                  0.426071271876371         \n",
       "\n",
       "   ROA(A) before interest and % after tax  \\\n",
       "0                       0.424389446140427   \n",
       "1                        0.53821412996075   \n",
       "2                       0.499018752725687   \n",
       "\n",
       "   ROA(B) before interest and depreciation after tax  operating gross margin  \\\n",
       "0                                   0.40574977247176       0.601457213277793   \n",
       "1                                  0.516730017666899       0.610235085544617   \n",
       "2                                  0.472295090743616       0.601450006486113   \n",
       "\n",
       "   realized sales gross margin  operating profit rate  \\\n",
       "0            0.601457213277793      0.998969203197885   \n",
       "1            0.610235085544617      0.998945978205482   \n",
       "2            0.601363524985947      0.998857353483229   \n",
       "\n",
       "   tax Pre-net interest rate  after-tax net interest rate  \\\n",
       "0          0.796887145860514            0.808809360876843   \n",
       "1          0.797380191277827            0.809300725667939   \n",
       "2          0.796403369254357            0.808387521469543   \n",
       "\n",
       "   non-industry income and expenditure/revenue  ...  \\\n",
       "0                            0.302646433889668  ...   \n",
       "1                            0.303556430290771  ...   \n",
       "2                            0.302035177342951  ...   \n",
       "\n",
       "  net income to total assets total assets to GNP price No-credit interval  \\\n",
       "0                   0.716845                  0.009219           0.622879   \n",
       "1                   0.795297                  0.008323           0.623652   \n",
       "2                   0.774670                  0.040003           0.623841   \n",
       "\n",
       "  Gross profit to Sales Net income to stockholder's Equity  \\\n",
       "0              0.601453                           0.827890   \n",
       "1              0.610237                           0.839969   \n",
       "2              0.601449                           0.836774   \n",
       "\n",
       "  liability to equity Degree of financial leverage (DFL)  \\\n",
       "0            0.290202                           0.026601   \n",
       "1            0.283846                           0.264577   \n",
       "2            0.290189                           0.026555   \n",
       "\n",
       "  Interest coverage ratio( Interest expense to EBIT )  \\\n",
       "0                                           0.564050    \n",
       "1                                           0.570175    \n",
       "2                                           0.563706    \n",
       "\n",
       "  one if net income was negative for the last two year zero otherwise  \\\n",
       "0                                                  1                    \n",
       "1                                                  1                    \n",
       "2                                                  1                    \n",
       "\n",
       "  equity to liability  \n",
       "0            0.016469  \n",
       "1            0.020794  \n",
       "2            0.016474  \n",
       "\n",
       "[3 rows x 96 columns]"
      ]
     },
     "execution_count": 12,
     "metadata": {},
     "output_type": "execute_result"
    }
   ],
   "source": [
    "from azureml.core import Dataset\n",
    "ds = Dataset.get_by_name(ws, name = \"bankruptcy_dataset\")\n",
    "df = ds.to_pandas_dataframe()\n",
    "df.head(3)"
   ]
  },
  {
   "cell_type": "markdown",
   "metadata": {},
   "source": [
    "\n",
    "## AutoML Configuration\n",
    "\n",
    "AutoML is a powerful tool that enables us to find the best model quickly. For my automl run I've used the following settings & configurations to find best combination of algorithms & hyperparameters:\n",
    "* The primary metric is set to *accuracy*.\n",
    "* The task is set to *classification* because we aim to get a binary result either 1 or 0, death or no death.\n",
    "* We use the traing data we got from the dataset & we define the target column.\n",
    "* Logs have been generated for debugging reasons. \n",
    "* Auto featurization is enabled, featurization includes automated feature engineering and scaling and normalization, which then impacts the selected algorithm and its hyperparameter values.\n",
    "* Early stopping is enabled to save computational power. \n",
    "* Number of cross validation is set to 3.\n",
    "\n"
   ]
  },
  {
   "cell_type": "code",
   "execution_count": 13,
   "metadata": {
    "collapsed": false,
    "gather": {
     "logged": 1598429217746
    },
    "jupyter": {
     "outputs_hidden": false,
     "source_hidden": false
    },
    "nteract": {
     "transient": {
      "deleting": false
     }
    }
   },
   "outputs": [],
   "source": [
    "# automl settings\n",
    "automl_settings = {\n",
    "    \"experiment_timeout_minutes\": 30,\n",
    "    \"max_concurrent_iterations\": 5,\n",
    "    \"primary_metric\" : 'average_precision_score_weighted'}\n",
    "\n",
    "# automl config\n",
    "automl_config = AutoMLConfig(compute_target = compute_target,\n",
    "                             task = \"classification\",\n",
    "                             training_data=ds,\n",
    "                             label_column_name=\"Bankrupt?\",   \n",
    "                             featurization= 'auto',\n",
    "                             n_cross_validations = 4,\n",
    "                            enable_early_stopping= True,\n",
    "                             debug_log = \"automl_logs.log\",\n",
    "                             **automl_settings)"
   ]
  },
  {
   "cell_type": "code",
   "execution_count": 14,
   "metadata": {
    "collapsed": false,
    "gather": {
     "logged": 1598431107951
    },
    "jupyter": {
     "outputs_hidden": false,
     "source_hidden": false
    },
    "nteract": {
     "transient": {
      "deleting": false
     }
    }
   },
   "outputs": [
    {
     "name": "stdout",
     "output_type": "stream",
     "text": [
      "Running on remote.\n",
      "No run_configuration provided, running on cpu-cluster-4 with default configuration\n",
      "Running on remote compute: cpu-cluster-4\n",
      "Parent Run ID: AutoML_9fc44e25-e1ba-4374-a61c-1596b51212d6\n",
      "\n",
      "Current status: FeaturesGeneration. Generating features for the dataset.\n",
      "Current status: DatasetFeaturization. Beginning to fit featurizers and featurize the dataset.\n",
      "Current status: DatasetBalancing. Performing class balancing sweeping\n",
      "Current status: DatasetCrossValidationSplit. Generating individually featurized CV splits.\n",
      "Current status: ModelSelection. Beginning model selection.\n",
      "\n",
      "****************************************************************************************************\n",
      "DATA GUARDRAILS: \n",
      "\n",
      "TYPE:         Class balancing detection\n",
      "STATUS:       ALERTED\n",
      "DESCRIPTION:  To decrease model bias, please cancel the current run and fix balancing problem.\n",
      "              Learn more about imbalanced data: https://aka.ms/AutomatedMLImbalancedData\n",
      "DETAILS:      Imbalanced data can lead to a falsely perceived positive effect of a model's accuracy because the input data has bias towards one class.\n",
      "+---------------------------------+---------------------------------+--------------------------------------+\n",
      "|Size of the smallest class       |Name/Label of the smallest class |Number of samples in the training data|\n",
      "+=================================+=================================+======================================+\n",
      "|220                              |1                                |6819                                  |\n",
      "+---------------------------------+---------------------------------+--------------------------------------+\n",
      "\n",
      "****************************************************************************************************\n",
      "\n",
      "TYPE:         Missing feature values imputation\n",
      "STATUS:       PASSED\n",
      "DESCRIPTION:  No feature missing values were detected in the training data.\n",
      "              Learn more about missing value imputation: https://aka.ms/AutomatedMLFeaturization\n",
      "\n",
      "****************************************************************************************************\n",
      "\n",
      "TYPE:         High cardinality feature detection\n",
      "STATUS:       DONE\n",
      "DESCRIPTION:  High cardinality features were detected in your inputs and handled.\n",
      "              Learn more about high cardinality feature handling: https://aka.ms/AutomatedMLFeaturization\n",
      "DETAILS:      High cardinality features refer to columns that contain a large percentage of unique values.\n",
      "+---------------------------------+---------------------------------+\n",
      "|Column name                      |Column Content Type              |\n",
      "+=================================+=================================+\n",
      "| ROA(C) before interest and de...|categorical_hash                 |\n",
      "| ROA(A) before interest and % ...|categorical_hash                 |\n",
      "| ROA(B) before interest and de...|categorical_hash                 |\n",
      "| operating gross margin          |categorical_hash                 |\n",
      "| realized sales gross margin     |categorical_hash                 |\n",
      "| operating profit rate           |categorical_hash                 |\n",
      "| tax Pre-net interest rate       |categorical_hash                 |\n",
      "| after-tax net interest rate     |categorical_hash                 |\n",
      "| non-industry income and expen...|categorical_hash                 |\n",
      "| continuous interest rate (aft...|categorical_hash                 |\n",
      "| operating expense rate          |categorical_hash                 |\n",
      "| research and development expe...|categorical_hash                 |\n",
      "| interest-bearing debt interes...|categorical_hash                 |\n",
      "| tax rate (A)                    |categorical_hash                 |\n",
      "| per Net Share Value (B)         |categorical_hash                 |\n",
      "| Net Value Per Share (A)         |categorical_hash                 |\n",
      "| Net Value Per Share (C)         |categorical_hash                 |\n",
      "| Persistent EPS in the Last Fo...|categorical_hash                 |\n",
      "| Cash Flow Per Share             |categorical_hash                 |\n",
      "| Revenue Per Share (Yuan)        |categorical_hash                 |\n",
      "| Operating Profit Per Share (Y...|categorical_hash                 |\n",
      "| Per Share Net profit before t...|categorical_hash                 |\n",
      "| total asset growth rate         |categorical_hash                 |\n",
      "| net value growth rate           |categorical_hash                 |\n",
      "| total asset return growth rat...|categorical_hash                 |\n",
      "| cash reinvestment %             |categorical_hash                 |\n",
      "| interest expense ratio          |categorical_hash                 |\n",
      "| debt ratio %                    |categorical_hash                 |\n",
      "| net worth/assets                |categorical_hash                 |\n",
      "| borrowing dependency            |categorical_hash                 |\n",
      "| contingent liabilities/net worth|categorical_hash                 |\n",
      "| Operating profit/paid-in capital|categorical_hash                 |\n",
      "| total asset turnover            |categorical_hash                 |\n",
      "| accounts receivable turnover    |categorical_hash                 |\n",
      "| inventory turnover rate (times) |categorical_hash                 |\n",
      "| fixed assets Turnover frequency |categorical_hash                 |\n",
      "| net worth turnover rate (times) |categorical_hash                 |\n",
      "| operating profit per person     |categorical_hash                 |\n",
      "| cash turnover rate              |categorical_hash                 |\n",
      "+---------------------------------+---------------------------------+\n",
      "\n",
      "****************************************************************************************************\n",
      "\n",
      "****************************************************************************************************\n",
      "ITERATION: The iteration being evaluated.\n",
      "PIPELINE: A summary description of the pipeline being evaluated.\n",
      "DURATION: Time taken for the current iteration.\n",
      "METRIC: The result of computing score on the fitted pipeline.\n",
      "BEST: The best observed score thus far.\n",
      "****************************************************************************************************\n",
      "\n",
      " ITERATION   PIPELINE                                       DURATION      METRIC      BEST\n",
      "         1   MaxAbsScaler XGBoostClassifier                 0:02:31       0.9239    0.9239\n",
      "         4   MaxAbsScaler ExtremeRandomTrees                0:01:05       0.8710    0.9239\n",
      "         6   MaxAbsScaler ExtremeRandomTrees                0:01:04       0.9140    0.9239\n",
      "         0   MaxAbsScaler LightGBM                          0:03:25       0.9242    0.9242\n",
      "         2   MaxAbsScaler ExtremeRandomTrees                0:03:22       0.5351    0.9242\n",
      "         3   MaxAbsScaler ExtremeRandomTrees                0:03:41       0.9115    0.9242\n",
      "         7   MaxAbsScaler RandomForest                      0:00:55       0.5014    0.9242\n",
      "        10   MaxAbsScaler SGD                               0:00:48       0.7431    0.9242\n",
      "         8   MaxAbsScaler RandomForest                      0:00:58       0.8983    0.9242\n",
      "        11   MaxAbsScaler ExtremeRandomTrees                0:00:56       0.8904    0.9242\n",
      "         9   StandardScalerWrapper XGBoostClassifier        0:01:06       0.9058    0.9242\n",
      "        12   MaxAbsScaler RandomForest                      0:00:56       0.5014    0.9242\n",
      "        13   MaxAbsScaler RandomForest                      0:00:57       0.6224    0.9242\n",
      "         5   MaxAbsScaler RandomForest                      0:05:37       0.6050    0.9242\n",
      "        14   MaxAbsScaler ExtremeRandomTrees                0:00:52       0.5014    0.9242\n",
      "        15   SparseNormalizer ExtremeRandomTrees            0:01:22       0.8948    0.9242\n",
      "        17   MaxAbsScaler LightGBM                          0:00:53       0.8960    0.9242\n",
      "        18   StandardScalerWrapper LightGBM                 0:00:59       0.9186    0.9242\n",
      "        16   MaxAbsScaler ExtremeRandomTrees                0:01:15       0.9034    0.9242\n",
      "        19   SparseNormalizer LightGBM                      0:01:11       0.9104    0.9242\n",
      "        20   SparseNormalizer LightGBM                      0:00:58       0.9184    0.9242\n",
      "        21   MaxAbsScaler LightGBM                          0:00:55       0.9121    0.9242\n",
      "        22   SparseNormalizer LightGBM                      0:00:55       0.9116    0.9242\n",
      "        23   SparseNormalizer LightGBM                      0:00:58       0.9220    0.9242\n",
      "        25   SparseNormalizer LightGBM                      0:00:50       0.9026    0.9242\n",
      "        24   TruncatedSVDWrapper XGBoostClassifier          0:01:51       0.8359    0.9242\n",
      "        28   TruncatedSVDWrapper XGBoostClassifier          0:01:47       0.8456    0.9242\n",
      "        30   SparseNormalizer LightGBM                      0:00:55       0.9237    0.9242\n",
      "        26   TruncatedSVDWrapper XGBoostClassifier          0:02:21       0.8749    0.9242\n",
      "        27   TruncatedSVDWrapper XGBoostClassifier          0:02:23       0.8621    0.9242\n",
      "        29   TruncatedSVDWrapper XGBoostClassifier          0:01:50       0.8517    0.9242\n",
      "        32   SparseNormalizer LightGBM                      0:00:52       0.9056    0.9242\n",
      "        33   SparseNormalizer ExtremeRandomTrees            0:00:56       0.5915    0.9242\n",
      "        35   SparseNormalizer LightGBM                      0:00:52       0.9120    0.9242\n",
      "        31   SparseNormalizer GradientBoosting              0:01:30          nan    0.9242\n",
      "        34   SparseNormalizer XGBoostClassifier             0:01:08       0.9191    0.9242\n",
      "        36                                                  0:00:19          nan    0.9242\n",
      "        37                                                  0:00:12          nan    0.9242\n",
      "        38    VotingEnsemble                                0:03:45       0.9345    0.9345\n",
      "        39    StackEnsemble                                 0:03:51       0.9328    0.9345\n"
     ]
    }
   ],
   "source": [
    "# Submitting the experiment\n",
    "remote_run = experiment.submit(automl_config, show_output=True)"
   ]
  },
  {
   "cell_type": "markdown",
   "metadata": {},
   "source": [
    "## Run Details"
   ]
  },
  {
   "cell_type": "code",
   "execution_count": 15,
   "metadata": {
    "collapsed": false,
    "gather": {
     "logged": 1598431121770
    },
    "jupyter": {
     "outputs_hidden": false,
     "source_hidden": false
    },
    "nteract": {
     "transient": {
      "deleting": false
     }
    }
   },
   "outputs": [
    {
     "data": {
      "application/vnd.jupyter.widget-view+json": {
       "model_id": "8bb0abbb37754b2dbab092ed0936de92",
       "version_major": 2,
       "version_minor": 0
      },
      "text/plain": [
       "_AutoMLWidget(widget_settings={'childWidgetDisplay': 'popup', 'send_telemetry': False, 'log_level': 'INFO', 's…"
      ]
     },
     "metadata": {},
     "output_type": "display_data"
    },
    {
     "data": {
      "application/aml.mini.widget.v1": "{\"status\": \"Completed\", \"workbench_run_details_uri\": \"https://ml.azure.com/experiments/Bankrupty_Automl/runs/AutoML_9fc44e25-e1ba-4374-a61c-1596b51212d6?wsid=/subscriptions/6971f5ac-8af1-446e-8034-05acea24681f/resourcegroups/aml-quickstarts-137092/workspaces/quick-starts-ws-137092\", \"run_id\": \"AutoML_9fc44e25-e1ba-4374-a61c-1596b51212d6\", \"run_properties\": {\"run_id\": \"AutoML_9fc44e25-e1ba-4374-a61c-1596b51212d6\", \"created_utc\": \"2021-02-03T14:20:16.394323Z\", \"properties\": {\"num_iterations\": \"1000\", \"training_type\": \"TrainFull\", \"acquisition_function\": \"EI\", \"primary_metric\": \"average_precision_score_weighted\", \"train_split\": \"0\", \"acquisition_parameter\": \"0\", \"num_cross_validation\": \"4\", \"target\": \"cpu-cluster-4\", \"AMLSettingsJsonString\": \"{\\\"path\\\":null,\\\"name\\\":\\\"Bankrupty_Automl\\\",\\\"subscription_id\\\":\\\"6971f5ac-8af1-446e-8034-05acea24681f\\\",\\\"resource_group\\\":\\\"aml-quickstarts-137092\\\",\\\"workspace_name\\\":\\\"quick-starts-ws-137092\\\",\\\"region\\\":\\\"southcentralus\\\",\\\"compute_target\\\":\\\"cpu-cluster-4\\\",\\\"spark_service\\\":null,\\\"azure_service\\\":\\\"remote\\\",\\\"many_models\\\":false,\\\"pipeline_fetch_max_batch_size\\\":1,\\\"iterations\\\":1000,\\\"primary_metric\\\":\\\"average_precision_score_weighted\\\",\\\"task_type\\\":\\\"classification\\\",\\\"data_script\\\":null,\\\"validation_size\\\":0.0,\\\"n_cross_validations\\\":4,\\\"y_min\\\":null,\\\"y_max\\\":null,\\\"num_classes\\\":null,\\\"featurization\\\":\\\"auto\\\",\\\"_ignore_package_version_incompatibilities\\\":false,\\\"is_timeseries\\\":false,\\\"max_cores_per_iteration\\\":1,\\\"max_concurrent_iterations\\\":5,\\\"iteration_timeout_minutes\\\":null,\\\"mem_in_mb\\\":null,\\\"enforce_time_on_windows\\\":false,\\\"experiment_timeout_minutes\\\":30,\\\"experiment_exit_score\\\":null,\\\"whitelist_models\\\":null,\\\"blacklist_algos\\\":[\\\"TensorFlowLinearClassifier\\\",\\\"TensorFlowDNN\\\"],\\\"supported_models\\\":[\\\"KNN\\\",\\\"TensorFlowDNN\\\",\\\"MultinomialNaiveBayes\\\",\\\"XGBoostClassifier\\\",\\\"BernoulliNaiveBayes\\\",\\\"AveragedPerceptronClassifier\\\",\\\"LightGBM\\\",\\\"SVM\\\",\\\"LogisticRegression\\\",\\\"DecisionTree\\\",\\\"TensorFlowLinearClassifier\\\",\\\"LinearSVM\\\",\\\"GradientBoosting\\\",\\\"ExtremeRandomTrees\\\",\\\"RandomForest\\\",\\\"SGD\\\"],\\\"auto_blacklist\\\":true,\\\"blacklist_samples_reached\\\":false,\\\"exclude_nan_labels\\\":true,\\\"verbosity\\\":20,\\\"_debug_log\\\":\\\"azureml_automl.log\\\",\\\"show_warnings\\\":false,\\\"model_explainability\\\":true,\\\"service_url\\\":null,\\\"sdk_url\\\":null,\\\"sdk_packages\\\":null,\\\"enable_onnx_compatible_models\\\":false,\\\"enable_split_onnx_featurizer_estimator_models\\\":false,\\\"vm_type\\\":\\\"STANDARD_D2_V2\\\",\\\"telemetry_verbosity\\\":20,\\\"send_telemetry\\\":true,\\\"enable_dnn\\\":false,\\\"scenario\\\":\\\"SDK-1.13.0\\\",\\\"environment_label\\\":null,\\\"force_text_dnn\\\":false,\\\"enable_feature_sweeping\\\":true,\\\"enable_early_stopping\\\":true,\\\"early_stopping_n_iters\\\":10,\\\"metrics\\\":null,\\\"enable_ensembling\\\":true,\\\"enable_stack_ensembling\\\":true,\\\"ensemble_iterations\\\":15,\\\"enable_tf\\\":false,\\\"enable_subsampling\\\":null,\\\"subsample_seed\\\":null,\\\"enable_nimbusml\\\":false,\\\"enable_streaming\\\":false,\\\"force_streaming\\\":false,\\\"track_child_runs\\\":true,\\\"allowed_private_models\\\":[],\\\"label_column_name\\\":\\\"Bankrupt?\\\",\\\"weight_column_name\\\":null,\\\"cv_split_column_names\\\":null,\\\"enable_local_managed\\\":false,\\\"_local_managed_run_id\\\":null,\\\"cost_mode\\\":1,\\\"lag_length\\\":0,\\\"metric_operation\\\":\\\"maximize\\\",\\\"preprocess\\\":true}\", \"DataPrepJsonString\": \"{\\\\\\\"training_data\\\\\\\": \\\\\\\"{\\\\\\\\\\\\\\\"blocks\\\\\\\\\\\\\\\": [{\\\\\\\\\\\\\\\"id\\\\\\\\\\\\\\\": \\\\\\\\\\\\\\\"14a2e359-79c4-4f22-97b3-970894dec757\\\\\\\\\\\\\\\", \\\\\\\\\\\\\\\"type\\\\\\\\\\\\\\\": \\\\\\\\\\\\\\\"Microsoft.DPrep.GetDatastoreFilesBlock\\\\\\\\\\\\\\\", \\\\\\\\\\\\\\\"arguments\\\\\\\\\\\\\\\": {\\\\\\\\\\\\\\\"datastores\\\\\\\\\\\\\\\": [{\\\\\\\\\\\\\\\"datastoreName\\\\\\\\\\\\\\\": \\\\\\\\\\\\\\\"workspaceblobstore\\\\\\\\\\\\\\\", \\\\\\\\\\\\\\\"path\\\\\\\\\\\\\\\": \\\\\\\\\\\\\\\"UI/02-03-2021_021536_UTC/data.csv\\\\\\\\\\\\\\\", \\\\\\\\\\\\\\\"resourceGroup\\\\\\\\\\\\\\\": \\\\\\\\\\\\\\\"aml-quickstarts-137092\\\\\\\\\\\\\\\", \\\\\\\\\\\\\\\"subscription\\\\\\\\\\\\\\\": \\\\\\\\\\\\\\\"6971f5ac-8af1-446e-8034-05acea24681f\\\\\\\\\\\\\\\", \\\\\\\\\\\\\\\"workspaceName\\\\\\\\\\\\\\\": \\\\\\\\\\\\\\\"quick-starts-ws-137092\\\\\\\\\\\\\\\"}]}, \\\\\\\\\\\\\\\"localData\\\\\\\\\\\\\\\": {}, \\\\\\\\\\\\\\\"isEnabled\\\\\\\\\\\\\\\": true, \\\\\\\\\\\\\\\"name\\\\\\\\\\\\\\\": null, \\\\\\\\\\\\\\\"annotation\\\\\\\\\\\\\\\": null}, {\\\\\\\\\\\\\\\"id\\\\\\\\\\\\\\\": \\\\\\\\\\\\\\\"354fa11b-ef89-4aa2-b754-c393d8f17ae4\\\\\\\\\\\\\\\", \\\\\\\\\\\\\\\"type\\\\\\\\\\\\\\\": \\\\\\\\\\\\\\\"Microsoft.DPrep.ParseDelimitedBlock\\\\\\\\\\\\\\\", \\\\\\\\\\\\\\\"arguments\\\\\\\\\\\\\\\": {\\\\\\\\\\\\\\\"columnHeadersMode\\\\\\\\\\\\\\\": 1, \\\\\\\\\\\\\\\"fileEncoding\\\\\\\\\\\\\\\": 0, \\\\\\\\\\\\\\\"handleQuotedLineBreaks\\\\\\\\\\\\\\\": false, \\\\\\\\\\\\\\\"preview\\\\\\\\\\\\\\\": false, \\\\\\\\\\\\\\\"separator\\\\\\\\\\\\\\\": \\\\\\\\\\\\\\\",\\\\\\\\\\\\\\\", \\\\\\\\\\\\\\\"skipRows\\\\\\\\\\\\\\\": 0, \\\\\\\\\\\\\\\"skipRowsMode\\\\\\\\\\\\\\\": 0}, \\\\\\\\\\\\\\\"localData\\\\\\\\\\\\\\\": {}, \\\\\\\\\\\\\\\"isEnabled\\\\\\\\\\\\\\\": true, \\\\\\\\\\\\\\\"name\\\\\\\\\\\\\\\": null, \\\\\\\\\\\\\\\"annotation\\\\\\\\\\\\\\\": null}, {\\\\\\\\\\\\\\\"id\\\\\\\\\\\\\\\": \\\\\\\\\\\\\\\"68542cc4-6ac6-4749-a144-2ceedec0e5b5\\\\\\\\\\\\\\\", \\\\\\\\\\\\\\\"type\\\\\\\\\\\\\\\": \\\\\\\\\\\\\\\"Microsoft.DPrep.DropColumnsBlock\\\\\\\\\\\\\\\", \\\\\\\\\\\\\\\"arguments\\\\\\\\\\\\\\\": {\\\\\\\\\\\\\\\"columns\\\\\\\\\\\\\\\": {\\\\\\\\\\\\\\\"type\\\\\\\\\\\\\\\": 0, \\\\\\\\\\\\\\\"details\\\\\\\\\\\\\\\": {\\\\\\\\\\\\\\\"selectedColumns\\\\\\\\\\\\\\\": [\\\\\\\\\\\\\\\"Path\\\\\\\\\\\\\\\"]}}}, \\\\\\\\\\\\\\\"localData\\\\\\\\\\\\\\\": {}, \\\\\\\\\\\\\\\"isEnabled\\\\\\\\\\\\\\\": true, \\\\\\\\\\\\\\\"name\\\\\\\\\\\\\\\": null, \\\\\\\\\\\\\\\"annotation\\\\\\\\\\\\\\\": null}, {\\\\\\\\\\\\\\\"id\\\\\\\\\\\\\\\": \\\\\\\\\\\\\\\"7af3642a-2f0f-4377-808f-bd49f03e275f\\\\\\\\\\\\\\\", \\\\\\\\\\\\\\\"type\\\\\\\\\\\\\\\": \\\\\\\\\\\\\\\"Microsoft.DPrep.SetColumnTypesBlock\\\\\\\\\\\\\\\", \\\\\\\\\\\\\\\"arguments\\\\\\\\\\\\\\\": {\\\\\\\\\\\\\\\"columnConversion\\\\\\\\\\\\\\\": [{\\\\\\\\\\\\\\\"column\\\\\\\\\\\\\\\": {\\\\\\\\\\\\\\\"type\\\\\\\\\\\\\\\": 2, \\\\\\\\\\\\\\\"details\\\\\\\\\\\\\\\": {\\\\\\\\\\\\\\\"selectedColumn\\\\\\\\\\\\\\\": \\\\\\\\\\\\\\\"Path\\\\\\\\\\\\\\\"}}, \\\\\\\\\\\\\\\"typeProperty\\\\\\\\\\\\\\\": 0}, {\\\\\\\\\\\\\\\"column\\\\\\\\\\\\\\\": {\\\\\\\\\\\\\\\"type\\\\\\\\\\\\\\\": 2, \\\\\\\\\\\\\\\"details\\\\\\\\\\\\\\\": {\\\\\\\\\\\\\\\"selectedColumn\\\\\\\\\\\\\\\": \\\\\\\\\\\\\\\"Bankrupt?\\\\\\\\\\\\\\\"}}, \\\\\\\\\\\\\\\"typeProperty\\\\\\\\\\\\\\\": 2}, {\\\\\\\\\\\\\\\"column\\\\\\\\\\\\\\\": {\\\\\\\\\\\\\\\"type\\\\\\\\\\\\\\\": 2, \\\\\\\\\\\\\\\"details\\\\\\\\\\\\\\\": {\\\\\\\\\\\\\\\"selectedColumn\\\\\\\\\\\\\\\": \\\\\\\\\\\\\\\"ROA(C) before interest and depreciation before interest\\\\\\\\\\\\\\\"}}, \\\\\\\\\\\\\\\"typeProperty\\\\\\\\\\\\\\\": 3}, {\\\\\\\\\\\\\\\"column\\\\\\\\\\\\\\\": {\\\\\\\\\\\\\\\"type\\\\\\\\\\\\\\\": 2, \\\\\\\\\\\\\\\"details\\\\\\\\\\\\\\\": {\\\\\\\\\\\\\\\"selectedColumn\\\\\\\\\\\\\\\": \\\\\\\\\\\\\\\"ROA(A) before interest and % after tax\\\\\\\\\\\\\\\"}}, \\\\\\\\\\\\\\\"typeProperty\\\\\\\\\\\\\\\": 3}, {\\\\\\\\\\\\\\\"column\\\\\\\\\\\\\\\": {\\\\\\\\\\\\\\\"type\\\\\\\\\\\\\\\": 2, \\\\\\\\\\\\\\\"details\\\\\\\\\\\\\\\": {\\\\\\\\\\\\\\\"selectedColumn\\\\\\\\\\\\\\\": \\\\\\\\\\\\\\\"ROA(B) before interest and depreciation after tax\\\\\\\\\\\\\\\"}}, \\\\\\\\\\\\\\\"typeProperty\\\\\\\\\\\\\\\": 3}, {\\\\\\\\\\\\\\\"column\\\\\\\\\\\\\\\": {\\\\\\\\\\\\\\\"type\\\\\\\\\\\\\\\": 2, \\\\\\\\\\\\\\\"details\\\\\\\\\\\\\\\": {\\\\\\\\\\\\\\\"selectedColumn\\\\\\\\\\\\\\\": \\\\\\\\\\\\\\\"operating gross margin\\\\\\\\\\\\\\\"}}, \\\\\\\\\\\\\\\"typeProperty\\\\\\\\\\\\\\\": 3}, {\\\\\\\\\\\\\\\"column\\\\\\\\\\\\\\\": {\\\\\\\\\\\\\\\"type\\\\\\\\\\\\\\\": 2, \\\\\\\\\\\\\\\"details\\\\\\\\\\\\\\\": {\\\\\\\\\\\\\\\"selectedColumn\\\\\\\\\\\\\\\": \\\\\\\\\\\\\\\"realized sales gross margin\\\\\\\\\\\\\\\"}}, \\\\\\\\\\\\\\\"typeProperty\\\\\\\\\\\\\\\": 3}, {\\\\\\\\\\\\\\\"column\\\\\\\\\\\\\\\": {\\\\\\\\\\\\\\\"type\\\\\\\\\\\\\\\": 2, \\\\\\\\\\\\\\\"details\\\\\\\\\\\\\\\": {\\\\\\\\\\\\\\\"selectedColumn\\\\\\\\\\\\\\\": \\\\\\\\\\\\\\\"operating profit rate\\\\\\\\\\\\\\\"}}, \\\\\\\\\\\\\\\"typeProperty\\\\\\\\\\\\\\\": 3}, {\\\\\\\\\\\\\\\"column\\\\\\\\\\\\\\\": {\\\\\\\\\\\\\\\"type\\\\\\\\\\\\\\\": 2, \\\\\\\\\\\\\\\"details\\\\\\\\\\\\\\\": {\\\\\\\\\\\\\\\"selectedColumn\\\\\\\\\\\\\\\": \\\\\\\\\\\\\\\"tax Pre-net interest rate\\\\\\\\\\\\\\\"}}, \\\\\\\\\\\\\\\"typeProperty\\\\\\\\\\\\\\\": 3}, {\\\\\\\\\\\\\\\"column\\\\\\\\\\\\\\\": {\\\\\\\\\\\\\\\"type\\\\\\\\\\\\\\\": 2, \\\\\\\\\\\\\\\"details\\\\\\\\\\\\\\\": {\\\\\\\\\\\\\\\"selectedColumn\\\\\\\\\\\\\\\": \\\\\\\\\\\\\\\"after-tax net interest rate\\\\\\\\\\\\\\\"}}, \\\\\\\\\\\\\\\"typeProperty\\\\\\\\\\\\\\\": 3}, {\\\\\\\\\\\\\\\"column\\\\\\\\\\\\\\\": {\\\\\\\\\\\\\\\"type\\\\\\\\\\\\\\\": 2, \\\\\\\\\\\\\\\"details\\\\\\\\\\\\\\\": {\\\\\\\\\\\\\\\"selectedColumn\\\\\\\\\\\\\\\": \\\\\\\\\\\\\\\"non-industry income and expenditure/revenue\\\\\\\\\\\\\\\"}}, \\\\\\\\\\\\\\\"typeProperty\\\\\\\\\\\\\\\": 3}, {\\\\\\\\\\\\\\\"column\\\\\\\\\\\\\\\": {\\\\\\\\\\\\\\\"type\\\\\\\\\\\\\\\": 2, \\\\\\\\\\\\\\\"details\\\\\\\\\\\\\\\": {\\\\\\\\\\\\\\\"selectedColumn\\\\\\\\\\\\\\\": \\\\\\\\\\\\\\\"continuous interest rate (after tax)\\\\\\\\\\\\\\\"}}, \\\\\\\\\\\\\\\"typeProperty\\\\\\\\\\\\\\\": 3}, {\\\\\\\\\\\\\\\"column\\\\\\\\\\\\\\\": {\\\\\\\\\\\\\\\"type\\\\\\\\\\\\\\\": 2, \\\\\\\\\\\\\\\"details\\\\\\\\\\\\\\\": {\\\\\\\\\\\\\\\"selectedColumn\\\\\\\\\\\\\\\": \\\\\\\\\\\\\\\"operating expense rate\\\\\\\\\\\\\\\"}}, \\\\\\\\\\\\\\\"typeProperty\\\\\\\\\\\\\\\": 3}, {\\\\\\\\\\\\\\\"column\\\\\\\\\\\\\\\": {\\\\\\\\\\\\\\\"type\\\\\\\\\\\\\\\": 2, \\\\\\\\\\\\\\\"details\\\\\\\\\\\\\\\": {\\\\\\\\\\\\\\\"selectedColumn\\\\\\\\\\\\\\\": \\\\\\\\\\\\\\\"research and development expense rate\\\\\\\\\\\\\\\"}}, \\\\\\\\\\\\\\\"typeProperty\\\\\\\\\\\\\\\": 2}, {\\\\\\\\\\\\\\\"column\\\\\\\\\\\\\\\": {\\\\\\\\\\\\\\\"type\\\\\\\\\\\\\\\": 2, \\\\\\\\\\\\\\\"details\\\\\\\\\\\\\\\": {\\\\\\\\\\\\\\\"selectedColumn\\\\\\\\\\\\\\\": \\\\\\\\\\\\\\\"cash flow rate\\\\\\\\\\\\\\\"}}, \\\\\\\\\\\\\\\"typeProperty\\\\\\\\\\\\\\\": 3}, {\\\\\\\\\\\\\\\"column\\\\\\\\\\\\\\\": {\\\\\\\\\\\\\\\"type\\\\\\\\\\\\\\\": 2, \\\\\\\\\\\\\\\"details\\\\\\\\\\\\\\\": {\\\\\\\\\\\\\\\"selectedColumn\\\\\\\\\\\\\\\": \\\\\\\\\\\\\\\"interest-bearing debt interest rate\\\\\\\\\\\\\\\"}}, \\\\\\\\\\\\\\\"typeProperty\\\\\\\\\\\\\\\": 3}, {\\\\\\\\\\\\\\\"column\\\\\\\\\\\\\\\": {\\\\\\\\\\\\\\\"type\\\\\\\\\\\\\\\": 2, \\\\\\\\\\\\\\\"details\\\\\\\\\\\\\\\": {\\\\\\\\\\\\\\\"selectedColumn\\\\\\\\\\\\\\\": \\\\\\\\\\\\\\\"tax rate (A)\\\\\\\\\\\\\\\"}}, \\\\\\\\\\\\\\\"typeProperty\\\\\\\\\\\\\\\": 3}, {\\\\\\\\\\\\\\\"column\\\\\\\\\\\\\\\": {\\\\\\\\\\\\\\\"type\\\\\\\\\\\\\\\": 2, \\\\\\\\\\\\\\\"details\\\\\\\\\\\\\\\": {\\\\\\\\\\\\\\\"selectedColumn\\\\\\\\\\\\\\\": \\\\\\\\\\\\\\\"per Net Share Value (B)\\\\\\\\\\\\\\\"}}, \\\\\\\\\\\\\\\"typeProperty\\\\\\\\\\\\\\\": 3}, {\\\\\\\\\\\\\\\"column\\\\\\\\\\\\\\\": {\\\\\\\\\\\\\\\"type\\\\\\\\\\\\\\\": 2, \\\\\\\\\\\\\\\"details\\\\\\\\\\\\\\\": {\\\\\\\\\\\\\\\"selectedColumn\\\\\\\\\\\\\\\": \\\\\\\\\\\\\\\"Net Value Per Share (A)\\\\\\\\\\\\\\\"}}, \\\\\\\\\\\\\\\"typeProperty\\\\\\\\\\\\\\\": 3}, {\\\\\\\\\\\\\\\"column\\\\\\\\\\\\\\\": {\\\\\\\\\\\\\\\"type\\\\\\\\\\\\\\\": 2, \\\\\\\\\\\\\\\"details\\\\\\\\\\\\\\\": {\\\\\\\\\\\\\\\"selectedColumn\\\\\\\\\\\\\\\": \\\\\\\\\\\\\\\"Net Value Per Share (C)\\\\\\\\\\\\\\\"}}, \\\\\\\\\\\\\\\"typeProperty\\\\\\\\\\\\\\\": 3}, {\\\\\\\\\\\\\\\"column\\\\\\\\\\\\\\\": {\\\\\\\\\\\\\\\"type\\\\\\\\\\\\\\\": 2, \\\\\\\\\\\\\\\"details\\\\\\\\\\\\\\\": {\\\\\\\\\\\\\\\"selectedColumn\\\\\\\\\\\\\\\": \\\\\\\\\\\\\\\"Persistent EPS in the Last Four Seasons\\\\\\\\\\\\\\\"}}, \\\\\\\\\\\\\\\"typeProperty\\\\\\\\\\\\\\\": 3}, {\\\\\\\\\\\\\\\"column\\\\\\\\\\\\\\\": {\\\\\\\\\\\\\\\"type\\\\\\\\\\\\\\\": 2, \\\\\\\\\\\\\\\"details\\\\\\\\\\\\\\\": {\\\\\\\\\\\\\\\"selectedColumn\\\\\\\\\\\\\\\": \\\\\\\\\\\\\\\"Cash Flow Per Share\\\\\\\\\\\\\\\"}}, \\\\\\\\\\\\\\\"typeProperty\\\\\\\\\\\\\\\": 3}, {\\\\\\\\\\\\\\\"column\\\\\\\\\\\\\\\": {\\\\\\\\\\\\\\\"type\\\\\\\\\\\\\\\": 2, \\\\\\\\\\\\\\\"details\\\\\\\\\\\\\\\": {\\\\\\\\\\\\\\\"selectedColumn\\\\\\\\\\\\\\\": \\\\\\\\\\\\\\\"Revenue Per Share (Yuan)\\\\\\\\\\\\\\\"}}, \\\\\\\\\\\\\\\"typeProperty\\\\\\\\\\\\\\\": 3}, {\\\\\\\\\\\\\\\"column\\\\\\\\\\\\\\\": {\\\\\\\\\\\\\\\"type\\\\\\\\\\\\\\\": 2, \\\\\\\\\\\\\\\"details\\\\\\\\\\\\\\\": {\\\\\\\\\\\\\\\"selectedColumn\\\\\\\\\\\\\\\": \\\\\\\\\\\\\\\"Operating Profit Per Share (Yuan)\\\\\\\\\\\\\\\"}}, \\\\\\\\\\\\\\\"typeProperty\\\\\\\\\\\\\\\": 3}, {\\\\\\\\\\\\\\\"column\\\\\\\\\\\\\\\": {\\\\\\\\\\\\\\\"type\\\\\\\\\\\\\\\": 2, \\\\\\\\\\\\\\\"details\\\\\\\\\\\\\\\": {\\\\\\\\\\\\\\\"selectedColumn\\\\\\\\\\\\\\\": \\\\\\\\\\\\\\\"Per Share Net profit before tax (yuan)\\\\\\\\\\\\\\\"}}, \\\\\\\\\\\\\\\"typeProperty\\\\\\\\\\\\\\\": 3}, {\\\\\\\\\\\\\\\"column\\\\\\\\\\\\\\\": {\\\\\\\\\\\\\\\"type\\\\\\\\\\\\\\\": 2, \\\\\\\\\\\\\\\"details\\\\\\\\\\\\\\\": {\\\\\\\\\\\\\\\"selectedColumn\\\\\\\\\\\\\\\": \\\\\\\\\\\\\\\"realized sales gross profit growth rate\\\\\\\\\\\\\\\"}}, \\\\\\\\\\\\\\\"typeProperty\\\\\\\\\\\\\\\": 3}, {\\\\\\\\\\\\\\\"column\\\\\\\\\\\\\\\": {\\\\\\\\\\\\\\\"type\\\\\\\\\\\\\\\": 2, \\\\\\\\\\\\\\\"details\\\\\\\\\\\\\\\": {\\\\\\\\\\\\\\\"selectedColumn\\\\\\\\\\\\\\\": \\\\\\\\\\\\\\\"operating profit growth rate\\\\\\\\\\\\\\\"}}, \\\\\\\\\\\\\\\"typeProperty\\\\\\\\\\\\\\\": 3}, {\\\\\\\\\\\\\\\"column\\\\\\\\\\\\\\\": {\\\\\\\\\\\\\\\"type\\\\\\\\\\\\\\\": 2, \\\\\\\\\\\\\\\"details\\\\\\\\\\\\\\\": {\\\\\\\\\\\\\\\"selectedColumn\\\\\\\\\\\\\\\": \\\\\\\\\\\\\\\"after-tax net profit growth rate\\\\\\\\\\\\\\\"}}, \\\\\\\\\\\\\\\"typeProperty\\\\\\\\\\\\\\\": 3}, {\\\\\\\\\\\\\\\"column\\\\\\\\\\\\\\\": {\\\\\\\\\\\\\\\"type\\\\\\\\\\\\\\\": 2, \\\\\\\\\\\\\\\"details\\\\\\\\\\\\\\\": {\\\\\\\\\\\\\\\"selectedColumn\\\\\\\\\\\\\\\": \\\\\\\\\\\\\\\"regular net profit growth rate\\\\\\\\\\\\\\\"}}, \\\\\\\\\\\\\\\"typeProperty\\\\\\\\\\\\\\\": 3}, {\\\\\\\\\\\\\\\"column\\\\\\\\\\\\\\\": {\\\\\\\\\\\\\\\"type\\\\\\\\\\\\\\\": 2, \\\\\\\\\\\\\\\"details\\\\\\\\\\\\\\\": {\\\\\\\\\\\\\\\"selectedColumn\\\\\\\\\\\\\\\": \\\\\\\\\\\\\\\"continuous net profit growth rate\\\\\\\\\\\\\\\"}}, \\\\\\\\\\\\\\\"typeProperty\\\\\\\\\\\\\\\": 3}, {\\\\\\\\\\\\\\\"column\\\\\\\\\\\\\\\": {\\\\\\\\\\\\\\\"type\\\\\\\\\\\\\\\": 2, \\\\\\\\\\\\\\\"details\\\\\\\\\\\\\\\": {\\\\\\\\\\\\\\\"selectedColumn\\\\\\\\\\\\\\\": \\\\\\\\\\\\\\\"total asset growth rate\\\\\\\\\\\\\\\"}}, \\\\\\\\\\\\\\\"typeProperty\\\\\\\\\\\\\\\": 3}, {\\\\\\\\\\\\\\\"column\\\\\\\\\\\\\\\": {\\\\\\\\\\\\\\\"type\\\\\\\\\\\\\\\": 2, \\\\\\\\\\\\\\\"details\\\\\\\\\\\\\\\": {\\\\\\\\\\\\\\\"selectedColumn\\\\\\\\\\\\\\\": \\\\\\\\\\\\\\\"net value growth rate\\\\\\\\\\\\\\\"}}, \\\\\\\\\\\\\\\"typeProperty\\\\\\\\\\\\\\\": 3}, {\\\\\\\\\\\\\\\"column\\\\\\\\\\\\\\\": {\\\\\\\\\\\\\\\"type\\\\\\\\\\\\\\\": 2, \\\\\\\\\\\\\\\"details\\\\\\\\\\\\\\\": {\\\\\\\\\\\\\\\"selectedColumn\\\\\\\\\\\\\\\": \\\\\\\\\\\\\\\"total asset return growth rate Ratio\\\\\\\\\\\\\\\"}}, \\\\\\\\\\\\\\\"typeProperty\\\\\\\\\\\\\\\": 3}, {\\\\\\\\\\\\\\\"column\\\\\\\\\\\\\\\": {\\\\\\\\\\\\\\\"type\\\\\\\\\\\\\\\": 2, \\\\\\\\\\\\\\\"details\\\\\\\\\\\\\\\": {\\\\\\\\\\\\\\\"selectedColumn\\\\\\\\\\\\\\\": \\\\\\\\\\\\\\\"cash reinvestment %\\\\\\\\\\\\\\\"}}, \\\\\\\\\\\\\\\"typeProperty\\\\\\\\\\\\\\\": 3}, {\\\\\\\\\\\\\\\"column\\\\\\\\\\\\\\\": {\\\\\\\\\\\\\\\"type\\\\\\\\\\\\\\\": 2, \\\\\\\\\\\\\\\"details\\\\\\\\\\\\\\\": {\\\\\\\\\\\\\\\"selectedColumn\\\\\\\\\\\\\\\": \\\\\\\\\\\\\\\"current ratio\\\\\\\\\\\\\\\"}}, \\\\\\\\\\\\\\\"typeProperty\\\\\\\\\\\\\\\": 3}, {\\\\\\\\\\\\\\\"column\\\\\\\\\\\\\\\": {\\\\\\\\\\\\\\\"type\\\\\\\\\\\\\\\": 2, \\\\\\\\\\\\\\\"details\\\\\\\\\\\\\\\": {\\\\\\\\\\\\\\\"selectedColumn\\\\\\\\\\\\\\\": \\\\\\\\\\\\\\\"quick ratio\\\\\\\\\\\\\\\"}}, \\\\\\\\\\\\\\\"typeProperty\\\\\\\\\\\\\\\": 3}, {\\\\\\\\\\\\\\\"column\\\\\\\\\\\\\\\": {\\\\\\\\\\\\\\\"type\\\\\\\\\\\\\\\": 2, \\\\\\\\\\\\\\\"details\\\\\\\\\\\\\\\": {\\\\\\\\\\\\\\\"selectedColumn\\\\\\\\\\\\\\\": \\\\\\\\\\\\\\\"interest expense ratio\\\\\\\\\\\\\\\"}}, \\\\\\\\\\\\\\\"typeProperty\\\\\\\\\\\\\\\": 3}, {\\\\\\\\\\\\\\\"column\\\\\\\\\\\\\\\": {\\\\\\\\\\\\\\\"type\\\\\\\\\\\\\\\": 2, \\\\\\\\\\\\\\\"details\\\\\\\\\\\\\\\": {\\\\\\\\\\\\\\\"selectedColumn\\\\\\\\\\\\\\\": \\\\\\\\\\\\\\\"total debt/total net worth\\\\\\\\\\\\\\\"}}, \\\\\\\\\\\\\\\"typeProperty\\\\\\\\\\\\\\\": 3}, {\\\\\\\\\\\\\\\"column\\\\\\\\\\\\\\\": {\\\\\\\\\\\\\\\"type\\\\\\\\\\\\\\\": 2, \\\\\\\\\\\\\\\"details\\\\\\\\\\\\\\\": {\\\\\\\\\\\\\\\"selectedColumn\\\\\\\\\\\\\\\": \\\\\\\\\\\\\\\"debt ratio %\\\\\\\\\\\\\\\"}}, \\\\\\\\\\\\\\\"typeProperty\\\\\\\\\\\\\\\": 3}, {\\\\\\\\\\\\\\\"column\\\\\\\\\\\\\\\": {\\\\\\\\\\\\\\\"type\\\\\\\\\\\\\\\": 2, \\\\\\\\\\\\\\\"details\\\\\\\\\\\\\\\": {\\\\\\\\\\\\\\\"selectedColumn\\\\\\\\\\\\\\\": \\\\\\\\\\\\\\\"net worth/assets\\\\\\\\\\\\\\\"}}, \\\\\\\\\\\\\\\"typeProperty\\\\\\\\\\\\\\\": 3}, {\\\\\\\\\\\\\\\"column\\\\\\\\\\\\\\\": {\\\\\\\\\\\\\\\"type\\\\\\\\\\\\\\\": 2, \\\\\\\\\\\\\\\"details\\\\\\\\\\\\\\\": {\\\\\\\\\\\\\\\"selectedColumn\\\\\\\\\\\\\\\": \\\\\\\\\\\\\\\"long-term fund suitability ratio (A)\\\\\\\\\\\\\\\"}}, \\\\\\\\\\\\\\\"typeProperty\\\\\\\\\\\\\\\": 3}, {\\\\\\\\\\\\\\\"column\\\\\\\\\\\\\\\": {\\\\\\\\\\\\\\\"type\\\\\\\\\\\\\\\": 2, \\\\\\\\\\\\\\\"details\\\\\\\\\\\\\\\": {\\\\\\\\\\\\\\\"selectedColumn\\\\\\\\\\\\\\\": \\\\\\\\\\\\\\\"borrowing dependency\\\\\\\\\\\\\\\"}}, \\\\\\\\\\\\\\\"typeProperty\\\\\\\\\\\\\\\": 3}, {\\\\\\\\\\\\\\\"column\\\\\\\\\\\\\\\": {\\\\\\\\\\\\\\\"type\\\\\\\\\\\\\\\": 2, \\\\\\\\\\\\\\\"details\\\\\\\\\\\\\\\": {\\\\\\\\\\\\\\\"selectedColumn\\\\\\\\\\\\\\\": \\\\\\\\\\\\\\\"contingent liabilities/net worth\\\\\\\\\\\\\\\"}}, \\\\\\\\\\\\\\\"typeProperty\\\\\\\\\\\\\\\": 3}, {\\\\\\\\\\\\\\\"column\\\\\\\\\\\\\\\": {\\\\\\\\\\\\\\\"type\\\\\\\\\\\\\\\": 2, \\\\\\\\\\\\\\\"details\\\\\\\\\\\\\\\": {\\\\\\\\\\\\\\\"selectedColumn\\\\\\\\\\\\\\\": \\\\\\\\\\\\\\\"Operating profit/paid-in capital\\\\\\\\\\\\\\\"}}, \\\\\\\\\\\\\\\"typeProperty\\\\\\\\\\\\\\\": 3}, {\\\\\\\\\\\\\\\"column\\\\\\\\\\\\\\\": {\\\\\\\\\\\\\\\"type\\\\\\\\\\\\\\\": 2, \\\\\\\\\\\\\\\"details\\\\\\\\\\\\\\\": {\\\\\\\\\\\\\\\"selectedColumn\\\\\\\\\\\\\\\": \\\\\\\\\\\\\\\"net profit before tax/paid-in capital\\\\\\\\\\\\\\\"}}, \\\\\\\\\\\\\\\"typeProperty\\\\\\\\\\\\\\\": 3}, {\\\\\\\\\\\\\\\"column\\\\\\\\\\\\\\\": {\\\\\\\\\\\\\\\"type\\\\\\\\\\\\\\\": 2, \\\\\\\\\\\\\\\"details\\\\\\\\\\\\\\\": {\\\\\\\\\\\\\\\"selectedColumn\\\\\\\\\\\\\\\": \\\\\\\\\\\\\\\"inventory and accounts receivable/net value\\\\\\\\\\\\\\\"}}, \\\\\\\\\\\\\\\"typeProperty\\\\\\\\\\\\\\\": 3}, {\\\\\\\\\\\\\\\"column\\\\\\\\\\\\\\\": {\\\\\\\\\\\\\\\"type\\\\\\\\\\\\\\\": 2, \\\\\\\\\\\\\\\"details\\\\\\\\\\\\\\\": {\\\\\\\\\\\\\\\"selectedColumn\\\\\\\\\\\\\\\": \\\\\\\\\\\\\\\"total asset turnover\\\\\\\\\\\\\\\"}}, \\\\\\\\\\\\\\\"typeProperty\\\\\\\\\\\\\\\": 3}, {\\\\\\\\\\\\\\\"column\\\\\\\\\\\\\\\": {\\\\\\\\\\\\\\\"type\\\\\\\\\\\\\\\": 2, \\\\\\\\\\\\\\\"details\\\\\\\\\\\\\\\": {\\\\\\\\\\\\\\\"selectedColumn\\\\\\\\\\\\\\\": \\\\\\\\\\\\\\\"accounts receivable turnover\\\\\\\\\\\\\\\"}}, \\\\\\\\\\\\\\\"typeProperty\\\\\\\\\\\\\\\": 3}, {\\\\\\\\\\\\\\\"column\\\\\\\\\\\\\\\": {\\\\\\\\\\\\\\\"type\\\\\\\\\\\\\\\": 2, \\\\\\\\\\\\\\\"details\\\\\\\\\\\\\\\": {\\\\\\\\\\\\\\\"selectedColumn\\\\\\\\\\\\\\\": \\\\\\\\\\\\\\\"average collection days\\\\\\\\\\\\\\\"}}, \\\\\\\\\\\\\\\"typeProperty\\\\\\\\\\\\\\\": 3}, {\\\\\\\\\\\\\\\"column\\\\\\\\\\\\\\\": {\\\\\\\\\\\\\\\"type\\\\\\\\\\\\\\\": 2, \\\\\\\\\\\\\\\"details\\\\\\\\\\\\\\\": {\\\\\\\\\\\\\\\"selectedColumn\\\\\\\\\\\\\\\": \\\\\\\\\\\\\\\"inventory turnover rate (times)\\\\\\\\\\\\\\\"}}, \\\\\\\\\\\\\\\"typeProperty\\\\\\\\\\\\\\\": 3}, {\\\\\\\\\\\\\\\"column\\\\\\\\\\\\\\\": {\\\\\\\\\\\\\\\"type\\\\\\\\\\\\\\\": 2, \\\\\\\\\\\\\\\"details\\\\\\\\\\\\\\\": {\\\\\\\\\\\\\\\"selectedColumn\\\\\\\\\\\\\\\": \\\\\\\\\\\\\\\"fixed assets Turnover frequency\\\\\\\\\\\\\\\"}}, \\\\\\\\\\\\\\\"typeProperty\\\\\\\\\\\\\\\": 3}, {\\\\\\\\\\\\\\\"column\\\\\\\\\\\\\\\": {\\\\\\\\\\\\\\\"type\\\\\\\\\\\\\\\": 2, \\\\\\\\\\\\\\\"details\\\\\\\\\\\\\\\": {\\\\\\\\\\\\\\\"selectedColumn\\\\\\\\\\\\\\\": \\\\\\\\\\\\\\\"net worth turnover rate (times)\\\\\\\\\\\\\\\"}}, \\\\\\\\\\\\\\\"typeProperty\\\\\\\\\\\\\\\": 3}, {\\\\\\\\\\\\\\\"column\\\\\\\\\\\\\\\": {\\\\\\\\\\\\\\\"type\\\\\\\\\\\\\\\": 2, \\\\\\\\\\\\\\\"details\\\\\\\\\\\\\\\": {\\\\\\\\\\\\\\\"selectedColumn\\\\\\\\\\\\\\\": \\\\\\\\\\\\\\\"revenue per person\\\\\\\\\\\\\\\"}}, \\\\\\\\\\\\\\\"typeProperty\\\\\\\\\\\\\\\": 3}, {\\\\\\\\\\\\\\\"column\\\\\\\\\\\\\\\": {\\\\\\\\\\\\\\\"type\\\\\\\\\\\\\\\": 2, \\\\\\\\\\\\\\\"details\\\\\\\\\\\\\\\": {\\\\\\\\\\\\\\\"selectedColumn\\\\\\\\\\\\\\\": \\\\\\\\\\\\\\\"operating profit per person\\\\\\\\\\\\\\\"}}, \\\\\\\\\\\\\\\"typeProperty\\\\\\\\\\\\\\\": 3}, {\\\\\\\\\\\\\\\"column\\\\\\\\\\\\\\\": {\\\\\\\\\\\\\\\"type\\\\\\\\\\\\\\\": 2, \\\\\\\\\\\\\\\"details\\\\\\\\\\\\\\\": {\\\\\\\\\\\\\\\"selectedColumn\\\\\\\\\\\\\\\": \\\\\\\\\\\\\\\"allocation rate per person\\\\\\\\\\\\\\\"}}, \\\\\\\\\\\\\\\"typeProperty\\\\\\\\\\\\\\\": 3}, {\\\\\\\\\\\\\\\"column\\\\\\\\\\\\\\\": {\\\\\\\\\\\\\\\"type\\\\\\\\\\\\\\\": 2, \\\\\\\\\\\\\\\"details\\\\\\\\\\\\\\\": {\\\\\\\\\\\\\\\"selectedColumn\\\\\\\\\\\\\\\": \\\\\\\\\\\\\\\"working capital to total assets\\\\\\\\\\\\\\\"}}, \\\\\\\\\\\\\\\"typeProperty\\\\\\\\\\\\\\\": 3}, {\\\\\\\\\\\\\\\"column\\\\\\\\\\\\\\\": {\\\\\\\\\\\\\\\"type\\\\\\\\\\\\\\\": 2, \\\\\\\\\\\\\\\"details\\\\\\\\\\\\\\\": {\\\\\\\\\\\\\\\"selectedColumn\\\\\\\\\\\\\\\": \\\\\\\\\\\\\\\"Quick asset/Total asset\\\\\\\\\\\\\\\"}}, \\\\\\\\\\\\\\\"typeProperty\\\\\\\\\\\\\\\": 3}, {\\\\\\\\\\\\\\\"column\\\\\\\\\\\\\\\": {\\\\\\\\\\\\\\\"type\\\\\\\\\\\\\\\": 2, \\\\\\\\\\\\\\\"details\\\\\\\\\\\\\\\": {\\\\\\\\\\\\\\\"selectedColumn\\\\\\\\\\\\\\\": \\\\\\\\\\\\\\\"current assets/total assets\\\\\\\\\\\\\\\"}}, \\\\\\\\\\\\\\\"typeProperty\\\\\\\\\\\\\\\": 3}, {\\\\\\\\\\\\\\\"column\\\\\\\\\\\\\\\": {\\\\\\\\\\\\\\\"type\\\\\\\\\\\\\\\": 2, \\\\\\\\\\\\\\\"details\\\\\\\\\\\\\\\": {\\\\\\\\\\\\\\\"selectedColumn\\\\\\\\\\\\\\\": \\\\\\\\\\\\\\\"cash / total assets\\\\\\\\\\\\\\\"}}, \\\\\\\\\\\\\\\"typeProperty\\\\\\\\\\\\\\\": 3}, {\\\\\\\\\\\\\\\"column\\\\\\\\\\\\\\\": {\\\\\\\\\\\\\\\"type\\\\\\\\\\\\\\\": 2, \\\\\\\\\\\\\\\"details\\\\\\\\\\\\\\\": {\\\\\\\\\\\\\\\"selectedColumn\\\\\\\\\\\\\\\": \\\\\\\\\\\\\\\"Quick asset /current liabilities\\\\\\\\\\\\\\\"}}, \\\\\\\\\\\\\\\"typeProperty\\\\\\\\\\\\\\\": 3}, {\\\\\\\\\\\\\\\"column\\\\\\\\\\\\\\\": {\\\\\\\\\\\\\\\"type\\\\\\\\\\\\\\\": 2, \\\\\\\\\\\\\\\"details\\\\\\\\\\\\\\\": {\\\\\\\\\\\\\\\"selectedColumn\\\\\\\\\\\\\\\": \\\\\\\\\\\\\\\"cash / current liability\\\\\\\\\\\\\\\"}}, \\\\\\\\\\\\\\\"typeProperty\\\\\\\\\\\\\\\": 3}, {\\\\\\\\\\\\\\\"column\\\\\\\\\\\\\\\": {\\\\\\\\\\\\\\\"type\\\\\\\\\\\\\\\": 2, \\\\\\\\\\\\\\\"details\\\\\\\\\\\\\\\": {\\\\\\\\\\\\\\\"selectedColumn\\\\\\\\\\\\\\\": \\\\\\\\\\\\\\\"current liability to assets\\\\\\\\\\\\\\\"}}, \\\\\\\\\\\\\\\"typeProperty\\\\\\\\\\\\\\\": 3}, {\\\\\\\\\\\\\\\"column\\\\\\\\\\\\\\\": {\\\\\\\\\\\\\\\"type\\\\\\\\\\\\\\\": 2, \\\\\\\\\\\\\\\"details\\\\\\\\\\\\\\\": {\\\\\\\\\\\\\\\"selectedColumn\\\\\\\\\\\\\\\": \\\\\\\\\\\\\\\"operating funds to liability\\\\\\\\\\\\\\\"}}, \\\\\\\\\\\\\\\"typeProperty\\\\\\\\\\\\\\\": 3}, {\\\\\\\\\\\\\\\"column\\\\\\\\\\\\\\\": {\\\\\\\\\\\\\\\"type\\\\\\\\\\\\\\\": 2, \\\\\\\\\\\\\\\"details\\\\\\\\\\\\\\\": {\\\\\\\\\\\\\\\"selectedColumn\\\\\\\\\\\\\\\": \\\\\\\\\\\\\\\"Inventory/working capital\\\\\\\\\\\\\\\"}}, \\\\\\\\\\\\\\\"typeProperty\\\\\\\\\\\\\\\": 3}, {\\\\\\\\\\\\\\\"column\\\\\\\\\\\\\\\": {\\\\\\\\\\\\\\\"type\\\\\\\\\\\\\\\": 2, \\\\\\\\\\\\\\\"details\\\\\\\\\\\\\\\": {\\\\\\\\\\\\\\\"selectedColumn\\\\\\\\\\\\\\\": \\\\\\\\\\\\\\\"Inventory/current liability\\\\\\\\\\\\\\\"}}, \\\\\\\\\\\\\\\"typeProperty\\\\\\\\\\\\\\\": 3}, {\\\\\\\\\\\\\\\"column\\\\\\\\\\\\\\\": {\\\\\\\\\\\\\\\"type\\\\\\\\\\\\\\\": 2, \\\\\\\\\\\\\\\"details\\\\\\\\\\\\\\\": {\\\\\\\\\\\\\\\"selectedColumn\\\\\\\\\\\\\\\": \\\\\\\\\\\\\\\"current liability / liability\\\\\\\\\\\\\\\"}}, \\\\\\\\\\\\\\\"typeProperty\\\\\\\\\\\\\\\": 3}, {\\\\\\\\\\\\\\\"column\\\\\\\\\\\\\\\": {\\\\\\\\\\\\\\\"type\\\\\\\\\\\\\\\": 2, \\\\\\\\\\\\\\\"details\\\\\\\\\\\\\\\": {\\\\\\\\\\\\\\\"selectedColumn\\\\\\\\\\\\\\\": \\\\\\\\\\\\\\\"working capital/equity\\\\\\\\\\\\\\\"}}, \\\\\\\\\\\\\\\"typeProperty\\\\\\\\\\\\\\\": 3}, {\\\\\\\\\\\\\\\"column\\\\\\\\\\\\\\\": {\\\\\\\\\\\\\\\"type\\\\\\\\\\\\\\\": 2, \\\\\\\\\\\\\\\"details\\\\\\\\\\\\\\\": {\\\\\\\\\\\\\\\"selectedColumn\\\\\\\\\\\\\\\": \\\\\\\\\\\\\\\"current liability/equity\\\\\\\\\\\\\\\"}}, \\\\\\\\\\\\\\\"typeProperty\\\\\\\\\\\\\\\": 3}, {\\\\\\\\\\\\\\\"column\\\\\\\\\\\\\\\": {\\\\\\\\\\\\\\\"type\\\\\\\\\\\\\\\": 2, \\\\\\\\\\\\\\\"details\\\\\\\\\\\\\\\": {\\\\\\\\\\\\\\\"selectedColumn\\\\\\\\\\\\\\\": \\\\\\\\\\\\\\\"long-term liability to current assets\\\\\\\\\\\\\\\"}}, \\\\\\\\\\\\\\\"typeProperty\\\\\\\\\\\\\\\": 3}, {\\\\\\\\\\\\\\\"column\\\\\\\\\\\\\\\": {\\\\\\\\\\\\\\\"type\\\\\\\\\\\\\\\": 2, \\\\\\\\\\\\\\\"details\\\\\\\\\\\\\\\": {\\\\\\\\\\\\\\\"selectedColumn\\\\\\\\\\\\\\\": \\\\\\\\\\\\\\\"Retained Earnings/Total assets\\\\\\\\\\\\\\\"}}, \\\\\\\\\\\\\\\"typeProperty\\\\\\\\\\\\\\\": 3}, {\\\\\\\\\\\\\\\"column\\\\\\\\\\\\\\\": {\\\\\\\\\\\\\\\"type\\\\\\\\\\\\\\\": 2, \\\\\\\\\\\\\\\"details\\\\\\\\\\\\\\\": {\\\\\\\\\\\\\\\"selectedColumn\\\\\\\\\\\\\\\": \\\\\\\\\\\\\\\"total income / total expense\\\\\\\\\\\\\\\"}}, \\\\\\\\\\\\\\\"typeProperty\\\\\\\\\\\\\\\": 3}, {\\\\\\\\\\\\\\\"column\\\\\\\\\\\\\\\": {\\\\\\\\\\\\\\\"type\\\\\\\\\\\\\\\": 2, \\\\\\\\\\\\\\\"details\\\\\\\\\\\\\\\": {\\\\\\\\\\\\\\\"selectedColumn\\\\\\\\\\\\\\\": \\\\\\\\\\\\\\\"total expense /assets\\\\\\\\\\\\\\\"}}, \\\\\\\\\\\\\\\"typeProperty\\\\\\\\\\\\\\\": 3}, {\\\\\\\\\\\\\\\"column\\\\\\\\\\\\\\\": {\\\\\\\\\\\\\\\"type\\\\\\\\\\\\\\\": 2, \\\\\\\\\\\\\\\"details\\\\\\\\\\\\\\\": {\\\\\\\\\\\\\\\"selectedColumn\\\\\\\\\\\\\\\": \\\\\\\\\\\\\\\"current asset turnover rate\\\\\\\\\\\\\\\"}}, \\\\\\\\\\\\\\\"typeProperty\\\\\\\\\\\\\\\": 3}, {\\\\\\\\\\\\\\\"column\\\\\\\\\\\\\\\": {\\\\\\\\\\\\\\\"type\\\\\\\\\\\\\\\": 2, \\\\\\\\\\\\\\\"details\\\\\\\\\\\\\\\": {\\\\\\\\\\\\\\\"selectedColumn\\\\\\\\\\\\\\\": \\\\\\\\\\\\\\\"quick asset turnover rate\\\\\\\\\\\\\\\"}}, \\\\\\\\\\\\\\\"typeProperty\\\\\\\\\\\\\\\": 3}, {\\\\\\\\\\\\\\\"column\\\\\\\\\\\\\\\": {\\\\\\\\\\\\\\\"type\\\\\\\\\\\\\\\": 2, \\\\\\\\\\\\\\\"details\\\\\\\\\\\\\\\": {\\\\\\\\\\\\\\\"selectedColumn\\\\\\\\\\\\\\\": \\\\\\\\\\\\\\\"working capitcal turnover rate\\\\\\\\\\\\\\\"}}, \\\\\\\\\\\\\\\"typeProperty\\\\\\\\\\\\\\\": 3}, {\\\\\\\\\\\\\\\"column\\\\\\\\\\\\\\\": {\\\\\\\\\\\\\\\"type\\\\\\\\\\\\\\\": 2, \\\\\\\\\\\\\\\"details\\\\\\\\\\\\\\\": {\\\\\\\\\\\\\\\"selectedColumn\\\\\\\\\\\\\\\": \\\\\\\\\\\\\\\"cash turnover rate\\\\\\\\\\\\\\\"}}, \\\\\\\\\\\\\\\"typeProperty\\\\\\\\\\\\\\\": 3}, {\\\\\\\\\\\\\\\"column\\\\\\\\\\\\\\\": {\\\\\\\\\\\\\\\"type\\\\\\\\\\\\\\\": 2, \\\\\\\\\\\\\\\"details\\\\\\\\\\\\\\\": {\\\\\\\\\\\\\\\"selectedColumn\\\\\\\\\\\\\\\": \\\\\\\\\\\\\\\"Cash flow to Sales\\\\\\\\\\\\\\\"}}, \\\\\\\\\\\\\\\"typeProperty\\\\\\\\\\\\\\\": 3}, {\\\\\\\\\\\\\\\"column\\\\\\\\\\\\\\\": {\\\\\\\\\\\\\\\"type\\\\\\\\\\\\\\\": 2, \\\\\\\\\\\\\\\"details\\\\\\\\\\\\\\\": {\\\\\\\\\\\\\\\"selectedColumn\\\\\\\\\\\\\\\": \\\\\\\\\\\\\\\"fix assets to assets\\\\\\\\\\\\\\\"}}, \\\\\\\\\\\\\\\"typeProperty\\\\\\\\\\\\\\\": 3}, {\\\\\\\\\\\\\\\"column\\\\\\\\\\\\\\\": {\\\\\\\\\\\\\\\"type\\\\\\\\\\\\\\\": 2, \\\\\\\\\\\\\\\"details\\\\\\\\\\\\\\\": {\\\\\\\\\\\\\\\"selectedColumn\\\\\\\\\\\\\\\": \\\\\\\\\\\\\\\"current liability to liability\\\\\\\\\\\\\\\"}}, \\\\\\\\\\\\\\\"typeProperty\\\\\\\\\\\\\\\": 3}, {\\\\\\\\\\\\\\\"column\\\\\\\\\\\\\\\": {\\\\\\\\\\\\\\\"type\\\\\\\\\\\\\\\": 2, \\\\\\\\\\\\\\\"details\\\\\\\\\\\\\\\": {\\\\\\\\\\\\\\\"selectedColumn\\\\\\\\\\\\\\\": \\\\\\\\\\\\\\\"current liability to equity\\\\\\\\\\\\\\\"}}, \\\\\\\\\\\\\\\"typeProperty\\\\\\\\\\\\\\\": 3}, {\\\\\\\\\\\\\\\"column\\\\\\\\\\\\\\\": {\\\\\\\\\\\\\\\"type\\\\\\\\\\\\\\\": 2, \\\\\\\\\\\\\\\"details\\\\\\\\\\\\\\\": {\\\\\\\\\\\\\\\"selectedColumn\\\\\\\\\\\\\\\": \\\\\\\\\\\\\\\"equity to long-term liability\\\\\\\\\\\\\\\"}}, \\\\\\\\\\\\\\\"typeProperty\\\\\\\\\\\\\\\": 3}, {\\\\\\\\\\\\\\\"column\\\\\\\\\\\\\\\": {\\\\\\\\\\\\\\\"type\\\\\\\\\\\\\\\": 2, \\\\\\\\\\\\\\\"details\\\\\\\\\\\\\\\": {\\\\\\\\\\\\\\\"selectedColumn\\\\\\\\\\\\\\\": \\\\\\\\\\\\\\\"Cash flow to total assets\\\\\\\\\\\\\\\"}}, \\\\\\\\\\\\\\\"typeProperty\\\\\\\\\\\\\\\": 3}, {\\\\\\\\\\\\\\\"column\\\\\\\\\\\\\\\": {\\\\\\\\\\\\\\\"type\\\\\\\\\\\\\\\": 2, \\\\\\\\\\\\\\\"details\\\\\\\\\\\\\\\": {\\\\\\\\\\\\\\\"selectedColumn\\\\\\\\\\\\\\\": \\\\\\\\\\\\\\\"cash flow to liability\\\\\\\\\\\\\\\"}}, \\\\\\\\\\\\\\\"typeProperty\\\\\\\\\\\\\\\": 3}, {\\\\\\\\\\\\\\\"column\\\\\\\\\\\\\\\": {\\\\\\\\\\\\\\\"type\\\\\\\\\\\\\\\": 2, \\\\\\\\\\\\\\\"details\\\\\\\\\\\\\\\": {\\\\\\\\\\\\\\\"selectedColumn\\\\\\\\\\\\\\\": \\\\\\\\\\\\\\\"CFO to ASSETS\\\\\\\\\\\\\\\"}}, \\\\\\\\\\\\\\\"typeProperty\\\\\\\\\\\\\\\": 3}, {\\\\\\\\\\\\\\\"column\\\\\\\\\\\\\\\": {\\\\\\\\\\\\\\\"type\\\\\\\\\\\\\\\": 2, \\\\\\\\\\\\\\\"details\\\\\\\\\\\\\\\": {\\\\\\\\\\\\\\\"selectedColumn\\\\\\\\\\\\\\\": \\\\\\\\\\\\\\\"cash flow to equity\\\\\\\\\\\\\\\"}}, \\\\\\\\\\\\\\\"typeProperty\\\\\\\\\\\\\\\": 3}, {\\\\\\\\\\\\\\\"column\\\\\\\\\\\\\\\": {\\\\\\\\\\\\\\\"type\\\\\\\\\\\\\\\": 2, \\\\\\\\\\\\\\\"details\\\\\\\\\\\\\\\": {\\\\\\\\\\\\\\\"selectedColumn\\\\\\\\\\\\\\\": \\\\\\\\\\\\\\\"current liabilities to current assets\\\\\\\\\\\\\\\"}}, \\\\\\\\\\\\\\\"typeProperty\\\\\\\\\\\\\\\": 3}, {\\\\\\\\\\\\\\\"column\\\\\\\\\\\\\\\": {\\\\\\\\\\\\\\\"type\\\\\\\\\\\\\\\": 2, \\\\\\\\\\\\\\\"details\\\\\\\\\\\\\\\": {\\\\\\\\\\\\\\\"selectedColumn\\\\\\\\\\\\\\\": \\\\\\\\\\\\\\\"one if total liabilities exceeds total assets zero otherwise\\\\\\\\\\\\\\\"}}, \\\\\\\\\\\\\\\"typeProperty\\\\\\\\\\\\\\\": 2}, {\\\\\\\\\\\\\\\"column\\\\\\\\\\\\\\\": {\\\\\\\\\\\\\\\"type\\\\\\\\\\\\\\\": 2, \\\\\\\\\\\\\\\"details\\\\\\\\\\\\\\\": {\\\\\\\\\\\\\\\"selectedColumn\\\\\\\\\\\\\\\": \\\\\\\\\\\\\\\"net income to total assets\\\\\\\\\\\\\\\"}}, \\\\\\\\\\\\\\\"typeProperty\\\\\\\\\\\\\\\": 3}, {\\\\\\\\\\\\\\\"column\\\\\\\\\\\\\\\": {\\\\\\\\\\\\\\\"type\\\\\\\\\\\\\\\": 2, \\\\\\\\\\\\\\\"details\\\\\\\\\\\\\\\": {\\\\\\\\\\\\\\\"selectedColumn\\\\\\\\\\\\\\\": \\\\\\\\\\\\\\\"total assets to GNP price\\\\\\\\\\\\\\\"}}, \\\\\\\\\\\\\\\"typeProperty\\\\\\\\\\\\\\\": 3}, {\\\\\\\\\\\\\\\"column\\\\\\\\\\\\\\\": {\\\\\\\\\\\\\\\"type\\\\\\\\\\\\\\\": 2, \\\\\\\\\\\\\\\"details\\\\\\\\\\\\\\\": {\\\\\\\\\\\\\\\"selectedColumn\\\\\\\\\\\\\\\": \\\\\\\\\\\\\\\"No-credit interval\\\\\\\\\\\\\\\"}}, \\\\\\\\\\\\\\\"typeProperty\\\\\\\\\\\\\\\": 3}, {\\\\\\\\\\\\\\\"column\\\\\\\\\\\\\\\": {\\\\\\\\\\\\\\\"type\\\\\\\\\\\\\\\": 2, \\\\\\\\\\\\\\\"details\\\\\\\\\\\\\\\": {\\\\\\\\\\\\\\\"selectedColumn\\\\\\\\\\\\\\\": \\\\\\\\\\\\\\\"Gross profit to Sales\\\\\\\\\\\\\\\"}}, \\\\\\\\\\\\\\\"typeProperty\\\\\\\\\\\\\\\": 3}, {\\\\\\\\\\\\\\\"column\\\\\\\\\\\\\\\": {\\\\\\\\\\\\\\\"type\\\\\\\\\\\\\\\": 2, \\\\\\\\\\\\\\\"details\\\\\\\\\\\\\\\": {\\\\\\\\\\\\\\\"selectedColumn\\\\\\\\\\\\\\\": \\\\\\\\\\\\\\\"Net income to stockholder's Equity\\\\\\\\\\\\\\\"}}, \\\\\\\\\\\\\\\"typeProperty\\\\\\\\\\\\\\\": 3}, {\\\\\\\\\\\\\\\"column\\\\\\\\\\\\\\\": {\\\\\\\\\\\\\\\"type\\\\\\\\\\\\\\\": 2, \\\\\\\\\\\\\\\"details\\\\\\\\\\\\\\\": {\\\\\\\\\\\\\\\"selectedColumn\\\\\\\\\\\\\\\": \\\\\\\\\\\\\\\"liability to equity\\\\\\\\\\\\\\\"}}, \\\\\\\\\\\\\\\"typeProperty\\\\\\\\\\\\\\\": 3}, {\\\\\\\\\\\\\\\"column\\\\\\\\\\\\\\\": {\\\\\\\\\\\\\\\"type\\\\\\\\\\\\\\\": 2, \\\\\\\\\\\\\\\"details\\\\\\\\\\\\\\\": {\\\\\\\\\\\\\\\"selectedColumn\\\\\\\\\\\\\\\": \\\\\\\\\\\\\\\"Degree of financial leverage (DFL)\\\\\\\\\\\\\\\"}}, \\\\\\\\\\\\\\\"typeProperty\\\\\\\\\\\\\\\": 3}, {\\\\\\\\\\\\\\\"column\\\\\\\\\\\\\\\": {\\\\\\\\\\\\\\\"type\\\\\\\\\\\\\\\": 2, \\\\\\\\\\\\\\\"details\\\\\\\\\\\\\\\": {\\\\\\\\\\\\\\\"selectedColumn\\\\\\\\\\\\\\\": \\\\\\\\\\\\\\\"Interest coverage ratio( Interest expense to EBIT )\\\\\\\\\\\\\\\"}}, \\\\\\\\\\\\\\\"typeProperty\\\\\\\\\\\\\\\": 3}, {\\\\\\\\\\\\\\\"column\\\\\\\\\\\\\\\": {\\\\\\\\\\\\\\\"type\\\\\\\\\\\\\\\": 2, \\\\\\\\\\\\\\\"details\\\\\\\\\\\\\\\": {\\\\\\\\\\\\\\\"selectedColumn\\\\\\\\\\\\\\\": \\\\\\\\\\\\\\\"one if net income was negative for the last two year zero otherwise\\\\\\\\\\\\\\\"}}, \\\\\\\\\\\\\\\"typeProperty\\\\\\\\\\\\\\\": 2}, {\\\\\\\\\\\\\\\"column\\\\\\\\\\\\\\\": {\\\\\\\\\\\\\\\"type\\\\\\\\\\\\\\\": 2, \\\\\\\\\\\\\\\"details\\\\\\\\\\\\\\\": {\\\\\\\\\\\\\\\"selectedColumn\\\\\\\\\\\\\\\": \\\\\\\\\\\\\\\"equity to liability\\\\\\\\\\\\\\\"}}, \\\\\\\\\\\\\\\"typeProperty\\\\\\\\\\\\\\\": 3}]}, \\\\\\\\\\\\\\\"localData\\\\\\\\\\\\\\\": {}, \\\\\\\\\\\\\\\"isEnabled\\\\\\\\\\\\\\\": true, \\\\\\\\\\\\\\\"name\\\\\\\\\\\\\\\": null, \\\\\\\\\\\\\\\"annotation\\\\\\\\\\\\\\\": null}], \\\\\\\\\\\\\\\"inspectors\\\\\\\\\\\\\\\": [], \\\\\\\\\\\\\\\"meta\\\\\\\\\\\\\\\": {\\\\\\\\\\\\\\\"savedDatasetId\\\\\\\\\\\\\\\": \\\\\\\\\\\\\\\"dd3c8235-cadb-4c62-925f-b8fc14840e4f\\\\\\\\\\\\\\\", \\\\\\\\\\\\\\\"datasetType\\\\\\\\\\\\\\\": \\\\\\\\\\\\\\\"tabular\\\\\\\\\\\\\\\", \\\\\\\\\\\\\\\"subscriptionId\\\\\\\\\\\\\\\": \\\\\\\\\\\\\\\"6971f5ac-8af1-446e-8034-05acea24681f\\\\\\\\\\\\\\\", \\\\\\\\\\\\\\\"workspaceId\\\\\\\\\\\\\\\": \\\\\\\\\\\\\\\"9c5b30ba-14b5-4c98-8617-2fcef527e1b2\\\\\\\\\\\\\\\", \\\\\\\\\\\\\\\"workspaceLocation\\\\\\\\\\\\\\\": \\\\\\\\\\\\\\\"southcentralus\\\\\\\\\\\\\\\"}}\\\\\\\", \\\\\\\"activities\\\\\\\": 0}\", \"EnableSubsampling\": null, \"runTemplate\": \"AutoML\", \"azureml.runsource\": \"automl\", \"display_task_type\": \"classification\", \"dependencies_versions\": \"{\\\"azureml-widgets\\\": \\\"1.20.0\\\", \\\"azureml-train\\\": \\\"1.20.0\\\", \\\"azureml-train-restclients-hyperdrive\\\": \\\"1.20.0\\\", \\\"azureml-train-core\\\": \\\"1.20.0\\\", \\\"azureml-train-automl\\\": \\\"1.20.0\\\", \\\"azureml-train-automl-runtime\\\": \\\"1.20.0\\\", \\\"azureml-train-automl-client\\\": \\\"1.20.0\\\", \\\"azureml-tensorboard\\\": \\\"1.20.0\\\", \\\"azureml-telemetry\\\": \\\"1.20.0\\\", \\\"azureml-sdk\\\": \\\"1.20.0\\\", \\\"azureml-samples\\\": \\\"0+unknown\\\", \\\"azureml-pipeline\\\": \\\"1.20.0\\\", \\\"azureml-pipeline-steps\\\": \\\"1.20.0\\\", \\\"azureml-pipeline-core\\\": \\\"1.20.0\\\", \\\"azureml-opendatasets\\\": \\\"1.20.0\\\", \\\"azureml-model-management-sdk\\\": \\\"1.0.1b6.post1\\\", \\\"azureml-mlflow\\\": \\\"1.20.0.post1\\\", \\\"azureml-interpret\\\": \\\"1.20.0\\\", \\\"azureml-explain-model\\\": \\\"1.20.0\\\", \\\"azureml-defaults\\\": \\\"1.20.0\\\", \\\"azureml-dataset-runtime\\\": \\\"1.20.0\\\", \\\"azureml-dataprep\\\": \\\"2.7.3\\\", \\\"azureml-dataprep-rslex\\\": \\\"1.5.0\\\", \\\"azureml-dataprep-native\\\": \\\"27.0.0\\\", \\\"azureml-datadrift\\\": \\\"1.20.0\\\", \\\"azureml-core\\\": \\\"1.20.0\\\", \\\"azureml-contrib-services\\\": \\\"1.20.0\\\", \\\"azureml-contrib-server\\\": \\\"1.20.0\\\", \\\"azureml-contrib-reinforcementlearning\\\": \\\"1.20.0\\\", \\\"azureml-contrib-pipeline-steps\\\": \\\"1.20.0\\\", \\\"azureml-contrib-notebook\\\": \\\"1.20.0\\\", \\\"azureml-contrib-interpret\\\": \\\"1.20.0\\\", \\\"azureml-contrib-gbdt\\\": \\\"1.20.0\\\", \\\"azureml-contrib-fairness\\\": \\\"1.20.0\\\", \\\"azureml-contrib-dataset\\\": \\\"1.20.0\\\", \\\"azureml-cli-common\\\": \\\"1.20.0\\\", \\\"azureml-automl-runtime\\\": \\\"1.20.0\\\", \\\"azureml-automl-core\\\": \\\"1.20.0\\\", \\\"azureml-accel-models\\\": \\\"1.20.0\\\"}\", \"_aml_system_scenario_identification\": \"Remote.Parent\", \"ClientType\": \"SDK\", \"environment_cpu_name\": \"AzureML-AutoML\", \"environment_cpu_label\": \"prod\", \"environment_gpu_name\": \"AzureML-AutoML-GPU\", \"environment_gpu_label\": \"prod\", \"root_attribution\": \"automl\", \"attribution\": \"AutoML\", \"Orchestrator\": \"AutoML\", \"CancelUri\": \"https://southcentralus.experiments.azureml.net/jasmine/v1.0/subscriptions/6971f5ac-8af1-446e-8034-05acea24681f/resourceGroups/aml-quickstarts-137092/providers/Microsoft.MachineLearningServices/workspaces/quick-starts-ws-137092/experimentids/237d5896-9915-4af4-b9e1-dae08094b90e/cancel/AutoML_9fc44e25-e1ba-4374-a61c-1596b51212d6\", \"ClientSdkVersion\": \"1.21.0\", \"snapshotId\": \"00000000-0000-0000-0000-000000000000\", \"SetupRunId\": \"AutoML_9fc44e25-e1ba-4374-a61c-1596b51212d6_setup\", \"SetupRunContainerId\": \"dcid.AutoML_9fc44e25-e1ba-4374-a61c-1596b51212d6_setup\", \"FeaturizationRunJsonPath\": \"featurizer_container.json\", \"FeaturizationRunId\": \"AutoML_9fc44e25-e1ba-4374-a61c-1596b51212d6_featurize\", \"ProblemInfoJsonString\": \"{\\\"dataset_num_categorical\\\": 0, \\\"is_sparse\\\": true, \\\"subsampling\\\": false, \\\"dataset_classes\\\": 2, \\\"dataset_features\\\": 77601, \\\"dataset_samples\\\": 6819, \\\"single_frequency_class_detected\\\": false}\", \"ModelExplainRunId\": \"AutoML_9fc44e25-e1ba-4374-a61c-1596b51212d6_ModelExplain\"}, \"tags\": {\"model_explain_run\": \"best_run\", \"_aml_system_azureml.automlComponent\": \"AutoML\", \"pipeline_id\": \"\", \"score\": \"\", \"predicted_cost\": \"\", \"fit_time\": \"\", \"training_percent\": \"\", \"iteration\": \"\", \"run_preprocessor\": \"\", \"run_algorithm\": \"\", \"dynamic_whitelisting_iterations\": \"<25>;<30>;<35>;\", \"automl_best_child_run_id\": \"AutoML_9fc44e25-e1ba-4374-a61c-1596b51212d6_38\", \"model_explain_best_run_child_id\": \"AutoML_9fc44e25-e1ba-4374-a61c-1596b51212d6_38\"}, \"end_time_utc\": \"2021-02-03T14:51:27.968111Z\", \"status\": \"Completed\", \"log_files\": {}, \"log_groups\": [], \"run_duration\": \"0:31:11\"}, \"child_runs\": [{\"run_id\": \"AutoML_9fc44e25-e1ba-4374-a61c-1596b51212d6_3\", \"run_number\": 6, \"metric\": null, \"status\": \"Completed\", \"run_type\": \"azureml.scriptrun\", \"training_percent\": \"100\", \"start_time\": \"2021-02-03T14:34:57.375148Z\", \"end_time\": \"2021-02-03T14:38:38.241642Z\", \"created_time\": \"2021-02-03T14:32:10.751735Z\", \"created_time_dt\": \"2021-02-03T14:32:10.751735Z\", \"duration\": \"0:06:27\", \"iteration\": \"3\", \"goal\": \"average_precision_score_weighted_max\", \"run_name\": \"MaxAbsScaler, ExtremeRandomTrees\", \"run_properties\": \"copy=True\", \"primary_metric\": 0.91150495, \"best_metric\": 0.92416299}, {\"run_id\": \"AutoML_9fc44e25-e1ba-4374-a61c-1596b51212d6_1\", \"run_number\": 7, \"metric\": null, \"status\": \"Completed\", \"run_type\": \"azureml.scriptrun\", \"training_percent\": \"100\", \"start_time\": \"2021-02-03T14:32:20.825485Z\", \"end_time\": \"2021-02-03T14:34:52.091647Z\", \"created_time\": \"2021-02-03T14:32:10.755818Z\", \"created_time_dt\": \"2021-02-03T14:32:10.755818Z\", \"duration\": \"0:02:41\", \"iteration\": \"1\", \"goal\": \"average_precision_score_weighted_max\", \"run_name\": \"MaxAbsScaler, XGBoostClassifier\", \"run_properties\": \"copy=True\", \"primary_metric\": 0.92394088, \"best_metric\": 0.92416299}, {\"run_id\": \"AutoML_9fc44e25-e1ba-4374-a61c-1596b51212d6_4\", \"run_number\": 8, \"metric\": null, \"status\": \"Completed\", \"run_type\": \"azureml.scriptrun\", \"training_percent\": \"100\", \"start_time\": \"2021-02-03T14:34:52.802891Z\", \"end_time\": \"2021-02-03T14:35:57.415487Z\", \"created_time\": \"2021-02-03T14:32:10.764416Z\", \"created_time_dt\": \"2021-02-03T14:32:10.764416Z\", \"duration\": \"0:03:46\", \"iteration\": \"4\", \"goal\": \"average_precision_score_weighted_max\", \"run_name\": \"MaxAbsScaler, ExtremeRandomTrees\", \"run_properties\": \"copy=True\", \"primary_metric\": 0.87096791, \"best_metric\": 0.92416299}, {\"run_id\": \"AutoML_9fc44e25-e1ba-4374-a61c-1596b51212d6_2\", \"run_number\": 9, \"metric\": null, \"status\": \"Completed\", \"run_type\": \"azureml.scriptrun\", \"training_percent\": \"100\", \"start_time\": \"2021-02-03T14:34:54.646278Z\", \"end_time\": \"2021-02-03T14:38:16.877686Z\", \"created_time\": \"2021-02-03T14:32:10.755054Z\", \"created_time_dt\": \"2021-02-03T14:32:10.755054Z\", \"duration\": \"0:06:06\", \"iteration\": \"2\", \"goal\": \"average_precision_score_weighted_max\", \"run_name\": \"MaxAbsScaler, ExtremeRandomTrees\", \"run_properties\": \"copy=True\", \"primary_metric\": 0.53508968, \"best_metric\": 0.92416299}, {\"run_id\": \"AutoML_9fc44e25-e1ba-4374-a61c-1596b51212d6_0\", \"run_number\": 10, \"metric\": null, \"status\": \"Completed\", \"run_type\": \"azureml.scriptrun\", \"training_percent\": \"100\", \"start_time\": \"2021-02-03T14:35:00.407778Z\", \"end_time\": \"2021-02-03T14:38:24.979747Z\", \"created_time\": \"2021-02-03T14:32:10.751358Z\", \"created_time_dt\": \"2021-02-03T14:32:10.751358Z\", \"duration\": \"0:06:14\", \"iteration\": \"0\", \"goal\": \"average_precision_score_weighted_max\", \"run_name\": \"MaxAbsScaler, LightGBM\", \"run_properties\": \"copy=True\", \"primary_metric\": 0.92416299, \"best_metric\": 0.92416299}, {\"run_id\": \"AutoML_9fc44e25-e1ba-4374-a61c-1596b51212d6_5\", \"run_number\": 11, \"metric\": null, \"status\": \"Completed\", \"run_type\": \"azureml.scriptrun\", \"training_percent\": \"100\", \"start_time\": \"2021-02-03T14:35:06.038583Z\", \"end_time\": \"2021-02-03T14:40:43.515175Z\", \"created_time\": \"2021-02-03T14:34:53.517058Z\", \"created_time_dt\": \"2021-02-03T14:34:53.517058Z\", \"duration\": \"0:05:49\", \"iteration\": \"5\", \"goal\": \"average_precision_score_weighted_max\", \"run_name\": \"MaxAbsScaler, RandomForest\", \"run_properties\": \"copy=True\", \"primary_metric\": 0.60504135, \"best_metric\": 0.92416299}, {\"run_id\": \"AutoML_9fc44e25-e1ba-4374-a61c-1596b51212d6_6\", \"run_number\": 12, \"metric\": null, \"status\": \"Completed\", \"run_type\": \"azureml.scriptrun\", \"training_percent\": \"100\", \"start_time\": \"2021-02-03T14:36:15.230696Z\", \"end_time\": \"2021-02-03T14:37:18.87839Z\", \"created_time\": \"2021-02-03T14:36:01.349999Z\", \"created_time_dt\": \"2021-02-03T14:36:01.349999Z\", \"duration\": \"0:01:17\", \"iteration\": \"6\", \"goal\": \"average_precision_score_weighted_max\", \"run_name\": \"MaxAbsScaler, ExtremeRandomTrees\", \"run_properties\": \"copy=True\", \"primary_metric\": 0.91399327, \"best_metric\": 0.92416299}, {\"run_id\": \"AutoML_9fc44e25-e1ba-4374-a61c-1596b51212d6_7\", \"run_number\": 13, \"metric\": null, \"status\": \"Completed\", \"run_type\": \"azureml.scriptrun\", \"training_percent\": \"100\", \"start_time\": \"2021-02-03T14:37:36.851228Z\", \"end_time\": \"2021-02-03T14:38:31.781202Z\", \"created_time\": \"2021-02-03T14:37:23.179658Z\", \"created_time_dt\": \"2021-02-03T14:37:23.179658Z\", \"duration\": \"0:01:08\", \"iteration\": \"7\", \"goal\": \"average_precision_score_weighted_max\", \"run_name\": \"MaxAbsScaler, RandomForest\", \"run_properties\": \"copy=True\", \"primary_metric\": 0.50141826, \"best_metric\": 0.92416299}, {\"run_id\": \"AutoML_9fc44e25-e1ba-4374-a61c-1596b51212d6_8\", \"run_number\": 14, \"metric\": null, \"status\": \"Completed\", \"run_type\": \"azureml.scriptrun\", \"training_percent\": \"100\", \"start_time\": \"2021-02-03T14:38:35.092188Z\", \"end_time\": \"2021-02-03T14:39:33.393176Z\", \"created_time\": \"2021-02-03T14:38:21.303677Z\", \"created_time_dt\": \"2021-02-03T14:38:21.303677Z\", \"duration\": \"0:01:12\", \"iteration\": \"8\", \"goal\": \"average_precision_score_weighted_max\", \"run_name\": \"MaxAbsScaler, RandomForest\", \"run_properties\": \"copy=True\", \"primary_metric\": 0.89829267, \"best_metric\": 0.92416299}, {\"run_id\": \"AutoML_9fc44e25-e1ba-4374-a61c-1596b51212d6_9\", \"run_number\": 15, \"metric\": null, \"status\": \"Completed\", \"run_type\": \"azureml.scriptrun\", \"training_percent\": \"100\", \"start_time\": \"2021-02-03T14:38:38.56327Z\", \"end_time\": \"2021-02-03T14:39:44.867423Z\", \"created_time\": \"2021-02-03T14:38:28.909873Z\", \"created_time_dt\": \"2021-02-03T14:38:28.909873Z\", \"duration\": \"0:01:15\", \"iteration\": \"9\", \"goal\": \"average_precision_score_weighted_max\", \"run_name\": \"StandardScalerWrapper, XGBoostClassifier\", \"run_properties\": \"<azureml.automl.runtime.shared.model_wrappers.StandardScalerWrapper object at 0x7f32480c7be0\", \"primary_metric\": 0.90582245, \"best_metric\": 0.92416299}, {\"run_id\": \"AutoML_9fc44e25-e1ba-4374-a61c-1596b51212d6_10\", \"run_number\": 16, \"metric\": null, \"status\": \"Completed\", \"run_type\": \"azureml.scriptrun\", \"training_percent\": \"100\", \"start_time\": \"2021-02-03T14:38:45.870572Z\", \"end_time\": \"2021-02-03T14:39:33.791947Z\", \"created_time\": \"2021-02-03T14:38:34.807049Z\", \"created_time_dt\": \"2021-02-03T14:38:34.807049Z\", \"duration\": \"0:00:58\", \"iteration\": \"10\", \"goal\": \"average_precision_score_weighted_max\", \"run_name\": \"MaxAbsScaler, SGD\", \"run_properties\": \"copy=True\", \"primary_metric\": 0.74305681, \"best_metric\": 0.92416299}, {\"run_id\": \"AutoML_9fc44e25-e1ba-4374-a61c-1596b51212d6_11\", \"run_number\": 17, \"metric\": null, \"status\": \"Completed\", \"run_type\": \"azureml.scriptrun\", \"training_percent\": \"100\", \"start_time\": \"2021-02-03T14:38:54.512907Z\", \"end_time\": \"2021-02-03T14:39:50.054503Z\", \"created_time\": \"2021-02-03T14:38:41.950544Z\", \"created_time_dt\": \"2021-02-03T14:38:41.950544Z\", \"duration\": \"0:01:08\", \"iteration\": \"11\", \"goal\": \"average_precision_score_weighted_max\", \"run_name\": \"MaxAbsScaler, ExtremeRandomTrees\", \"run_properties\": \"copy=True\", \"primary_metric\": 0.8903835, \"best_metric\": 0.92416299}, {\"run_id\": \"AutoML_9fc44e25-e1ba-4374-a61c-1596b51212d6_12\", \"run_number\": 18, \"metric\": null, \"status\": \"Completed\", \"run_type\": \"azureml.scriptrun\", \"training_percent\": \"100\", \"start_time\": \"2021-02-03T14:39:45.959987Z\", \"end_time\": \"2021-02-03T14:40:42.236241Z\", \"created_time\": \"2021-02-03T14:39:36.002021Z\", \"created_time_dt\": \"2021-02-03T14:39:36.002021Z\", \"duration\": \"0:01:06\", \"iteration\": \"12\", \"goal\": \"average_precision_score_weighted_max\", \"run_name\": \"MaxAbsScaler, RandomForest\", \"run_properties\": \"copy=True\", \"primary_metric\": 0.50141826, \"best_metric\": 0.92416299}, {\"run_id\": \"AutoML_9fc44e25-e1ba-4374-a61c-1596b51212d6_13\", \"run_number\": 19, \"metric\": null, \"status\": \"Completed\", \"run_type\": \"azureml.scriptrun\", \"training_percent\": \"100\", \"start_time\": \"2021-02-03T14:39:49.511742Z\", \"end_time\": \"2021-02-03T14:40:46.647474Z\", \"created_time\": \"2021-02-03T14:39:39.997058Z\", \"created_time_dt\": \"2021-02-03T14:39:39.997058Z\", \"duration\": \"0:01:06\", \"iteration\": \"13\", \"goal\": \"average_precision_score_weighted_max\", \"run_name\": \"MaxAbsScaler, RandomForest\", \"run_properties\": \"copy=True\", \"primary_metric\": 0.62236287, \"best_metric\": 0.92416299}, {\"run_id\": \"AutoML_9fc44e25-e1ba-4374-a61c-1596b51212d6_14\", \"run_number\": 20, \"metric\": null, \"status\": \"Completed\", \"run_type\": \"azureml.scriptrun\", \"training_percent\": \"100\", \"start_time\": \"2021-02-03T14:39:59.680938Z\", \"end_time\": \"2021-02-03T14:40:51.499686Z\", \"created_time\": \"2021-02-03T14:39:47.245605Z\", \"created_time_dt\": \"2021-02-03T14:39:47.245605Z\", \"duration\": \"0:01:04\", \"iteration\": \"14\", \"goal\": \"average_precision_score_weighted_max\", \"run_name\": \"MaxAbsScaler, ExtremeRandomTrees\", \"run_properties\": \"copy=True\", \"primary_metric\": 0.50141826, \"best_metric\": 0.92416299}, {\"run_id\": \"AutoML_9fc44e25-e1ba-4374-a61c-1596b51212d6_15\", \"run_number\": 21, \"metric\": null, \"status\": \"Completed\", \"run_type\": \"azureml.scriptrun\", \"training_percent\": \"100\", \"start_time\": \"2021-02-03T14:40:06.295866Z\", \"end_time\": \"2021-02-03T14:41:28.023188Z\", \"created_time\": \"2021-02-03T14:39:53.066306Z\", \"created_time_dt\": \"2021-02-03T14:39:53.066306Z\", \"duration\": \"0:01:34\", \"iteration\": \"15\", \"goal\": \"average_precision_score_weighted_max\", \"run_name\": \"SparseNormalizer, ExtremeRandomTrees\", \"run_properties\": \"<azureml.automl.runtime.shared.model_wrappers.SparseNormalizer object at 0x7f0e604d86d8\", \"primary_metric\": 0.8947905, \"best_metric\": 0.92416299}, {\"run_id\": \"AutoML_9fc44e25-e1ba-4374-a61c-1596b51212d6_16\", \"run_number\": 22, \"metric\": null, \"status\": \"Completed\", \"run_type\": \"azureml.scriptrun\", \"training_percent\": \"100\", \"start_time\": \"2021-02-03T14:40:57.42429Z\", \"end_time\": \"2021-02-03T14:42:12.113651Z\", \"created_time\": \"2021-02-03T14:40:45.071771Z\", \"created_time_dt\": \"2021-02-03T14:40:45.071771Z\", \"duration\": \"0:01:27\", \"iteration\": \"16\", \"goal\": \"average_precision_score_weighted_max\", \"run_name\": \"MaxAbsScaler, ExtremeRandomTrees\", \"run_properties\": \"copy=True\", \"primary_metric\": 0.90340193, \"best_metric\": 0.92416299}, {\"run_id\": \"AutoML_9fc44e25-e1ba-4374-a61c-1596b51212d6_17\", \"run_number\": 23, \"metric\": null, \"status\": \"Completed\", \"run_type\": \"azureml.scriptrun\", \"training_percent\": \"100\", \"start_time\": \"2021-02-03T14:40:58.39656Z\", \"end_time\": \"2021-02-03T14:41:51.708768Z\", \"created_time\": \"2021-02-03T14:40:48.796861Z\", \"created_time_dt\": \"2021-02-03T14:40:48.796861Z\", \"duration\": \"0:01:02\", \"iteration\": \"17\", \"goal\": \"average_precision_score_weighted_max\", \"run_name\": \"MaxAbsScaler, LightGBM\", \"run_properties\": \"copy=True\", \"primary_metric\": 0.89599547, \"best_metric\": 0.92416299}, {\"run_id\": \"AutoML_9fc44e25-e1ba-4374-a61c-1596b51212d6_18\", \"run_number\": 24, \"metric\": null, \"status\": \"Completed\", \"run_type\": \"azureml.scriptrun\", \"training_percent\": \"100\", \"start_time\": \"2021-02-03T14:41:00.375103Z\", \"end_time\": \"2021-02-03T14:41:58.949228Z\", \"created_time\": \"2021-02-03T14:40:48.811991Z\", \"created_time_dt\": \"2021-02-03T14:40:48.811991Z\", \"duration\": \"0:01:10\", \"iteration\": \"18\", \"goal\": \"average_precision_score_weighted_max\", \"run_name\": \"StandardScalerWrapper, LightGBM\", \"run_properties\": \"<azureml.automl.runtime.shared.model_wrappers.StandardScalerWrapper object at 0x7fdde624df28\", \"primary_metric\": 0.91861273, \"best_metric\": 0.92416299}, {\"run_id\": \"AutoML_9fc44e25-e1ba-4374-a61c-1596b51212d6_19\", \"run_number\": 25, \"metric\": null, \"status\": \"Completed\", \"run_type\": \"azureml.scriptrun\", \"training_percent\": \"100\", \"start_time\": \"2021-02-03T14:41:04.842324Z\", \"end_time\": \"2021-02-03T14:42:16.252528Z\", \"created_time\": \"2021-02-03T14:40:53.348933Z\", \"created_time_dt\": \"2021-02-03T14:40:53.348933Z\", \"duration\": \"0:01:22\", \"iteration\": \"19\", \"goal\": \"average_precision_score_weighted_max\", \"run_name\": \"SparseNormalizer, LightGBM\", \"run_properties\": \"<azureml.automl.runtime.shared.model_wrappers.SparseNormalizer object at 0x7f3e5cdbc668\", \"primary_metric\": 0.91038754, \"best_metric\": 0.92416299}, {\"run_id\": \"AutoML_9fc44e25-e1ba-4374-a61c-1596b51212d6_20\", \"run_number\": 26, \"metric\": null, \"status\": \"Completed\", \"run_type\": \"azureml.scriptrun\", \"training_percent\": \"100\", \"start_time\": \"2021-02-03T14:41:41.553002Z\", \"end_time\": \"2021-02-03T14:42:39.873466Z\", \"created_time\": \"2021-02-03T14:41:29.908198Z\", \"created_time_dt\": \"2021-02-03T14:41:29.908198Z\", \"duration\": \"0:01:09\", \"iteration\": \"20\", \"goal\": \"average_precision_score_weighted_max\", \"run_name\": \"SparseNormalizer, LightGBM\", \"run_properties\": \"<azureml.automl.runtime.shared.model_wrappers.SparseNormalizer object at 0x7eff8bc6ae48\", \"primary_metric\": 0.9183677, \"best_metric\": 0.92416299}, {\"run_id\": \"AutoML_9fc44e25-e1ba-4374-a61c-1596b51212d6_21\", \"run_number\": 27, \"metric\": null, \"status\": \"Completed\", \"run_type\": \"azureml.scriptrun\", \"training_percent\": \"100\", \"start_time\": \"2021-02-03T14:42:05.166309Z\", \"end_time\": \"2021-02-03T14:42:59.872002Z\", \"created_time\": \"2021-02-03T14:41:53.70111Z\", \"created_time_dt\": \"2021-02-03T14:41:53.70111Z\", \"duration\": \"0:01:06\", \"iteration\": \"21\", \"goal\": \"average_precision_score_weighted_max\", \"run_name\": \"MaxAbsScaler, LightGBM\", \"run_properties\": \"copy=True\", \"primary_metric\": 0.91208746, \"best_metric\": 0.92416299}, {\"run_id\": \"AutoML_9fc44e25-e1ba-4374-a61c-1596b51212d6_22\", \"run_number\": 28, \"metric\": null, \"status\": \"Completed\", \"run_type\": \"azureml.scriptrun\", \"training_percent\": \"100\", \"start_time\": \"2021-02-03T14:42:13.203169Z\", \"end_time\": \"2021-02-03T14:43:08.421279Z\", \"created_time\": \"2021-02-03T14:42:01.191245Z\", \"created_time_dt\": \"2021-02-03T14:42:01.191245Z\", \"duration\": \"0:01:07\", \"iteration\": \"22\", \"goal\": \"average_precision_score_weighted_max\", \"run_name\": \"SparseNormalizer, LightGBM\", \"run_properties\": \"<azureml.automl.runtime.shared.model_wrappers.SparseNormalizer object at 0x7f8b336d4710\", \"primary_metric\": 0.91163004, \"best_metric\": 0.92416299}, {\"run_id\": \"AutoML_9fc44e25-e1ba-4374-a61c-1596b51212d6_23\", \"run_number\": 29, \"metric\": null, \"status\": \"Completed\", \"run_type\": \"azureml.scriptrun\", \"training_percent\": \"100\", \"start_time\": \"2021-02-03T14:42:25.124245Z\", \"end_time\": \"2021-02-03T14:43:22.893556Z\", \"created_time\": \"2021-02-03T14:42:13.740191Z\", \"created_time_dt\": \"2021-02-03T14:42:13.740191Z\", \"duration\": \"0:01:09\", \"iteration\": \"23\", \"goal\": \"average_precision_score_weighted_max\", \"run_name\": \"SparseNormalizer, LightGBM\", \"run_properties\": \"<azureml.automl.runtime.shared.model_wrappers.SparseNormalizer object at 0x7fe336d055f8\", \"primary_metric\": 0.92204882, \"best_metric\": 0.92416299}, {\"run_id\": \"AutoML_9fc44e25-e1ba-4374-a61c-1596b51212d6_24\", \"run_number\": 30, \"metric\": null, \"status\": \"Completed\", \"run_type\": \"azureml.scriptrun\", \"training_percent\": \"100\", \"start_time\": \"2021-02-03T14:42:27.803899Z\", \"end_time\": \"2021-02-03T14:44:19.114193Z\", \"created_time\": \"2021-02-03T14:42:17.960251Z\", \"created_time_dt\": \"2021-02-03T14:42:17.960251Z\", \"duration\": \"0:02:01\", \"iteration\": \"24\", \"goal\": \"average_precision_score_weighted_max\", \"run_name\": \"TruncatedSVDWrapper, XGBoostClassifier\", \"run_properties\": \"n_components=0.8510526315789474, random_state=None\", \"primary_metric\": 0.83585883, \"best_metric\": 0.92416299}, {\"run_id\": \"AutoML_9fc44e25-e1ba-4374-a61c-1596b51212d6_25\", \"run_number\": 31, \"metric\": null, \"status\": \"Completed\", \"run_type\": \"azureml.scriptrun\", \"training_percent\": \"100\", \"start_time\": \"2021-02-03T14:42:52.960516Z\", \"end_time\": \"2021-02-03T14:43:43.15575Z\", \"created_time\": \"2021-02-03T14:42:43.024556Z\", \"created_time_dt\": \"2021-02-03T14:42:43.024556Z\", \"duration\": \"0:01:00\", \"iteration\": \"25\", \"goal\": \"average_precision_score_weighted_max\", \"run_name\": \"SparseNormalizer, LightGBM\", \"run_properties\": \"<azureml.automl.runtime.shared.model_wrappers.SparseNormalizer object at 0x7f3335c4cda0\", \"primary_metric\": 0.90264559, \"best_metric\": 0.92416299}, {\"run_id\": \"AutoML_9fc44e25-e1ba-4374-a61c-1596b51212d6_26\", \"run_number\": 32, \"metric\": null, \"status\": \"Completed\", \"run_type\": \"azureml.scriptrun\", \"training_percent\": \"100\", \"start_time\": \"2021-02-03T14:43:11.543214Z\", \"end_time\": \"2021-02-03T14:45:32.263337Z\", \"created_time\": \"2021-02-03T14:43:01.561659Z\", \"created_time_dt\": \"2021-02-03T14:43:01.561659Z\", \"duration\": \"0:02:30\", \"iteration\": \"26\", \"goal\": \"average_precision_score_weighted_max\", \"run_name\": \"TruncatedSVDWrapper, XGBoostClassifier\", \"run_properties\": \"n_components=0.45526315789473687, random_state=None\", \"primary_metric\": 0.874905, \"best_metric\": 0.92416299}, {\"run_id\": \"AutoML_9fc44e25-e1ba-4374-a61c-1596b51212d6_27\", \"run_number\": 33, \"metric\": null, \"status\": \"Completed\", \"run_type\": \"azureml.scriptrun\", \"training_percent\": \"100\", \"start_time\": \"2021-02-03T14:43:23.521344Z\", \"end_time\": \"2021-02-03T14:45:46.884228Z\", \"created_time\": \"2021-02-03T14:43:10.590037Z\", \"created_time_dt\": \"2021-02-03T14:43:10.590037Z\", \"duration\": \"0:02:36\", \"iteration\": \"27\", \"goal\": \"average_precision_score_weighted_max\", \"run_name\": \"TruncatedSVDWrapper, XGBoostClassifier\", \"run_properties\": \"n_components=0.6036842105263158, random_state=None\", \"primary_metric\": 0.86211003, \"best_metric\": 0.92416299}, {\"run_id\": \"AutoML_9fc44e25-e1ba-4374-a61c-1596b51212d6_28\", \"run_number\": 34, \"metric\": null, \"status\": \"Completed\", \"run_type\": \"azureml.scriptrun\", \"training_percent\": \"100\", \"start_time\": \"2021-02-03T14:43:37.307009Z\", \"end_time\": \"2021-02-03T14:45:24.435123Z\", \"created_time\": \"2021-02-03T14:43:26.284805Z\", \"created_time_dt\": \"2021-02-03T14:43:26.284805Z\", \"duration\": \"0:01:58\", \"iteration\": \"28\", \"goal\": \"average_precision_score_weighted_max\", \"run_name\": \"TruncatedSVDWrapper, XGBoostClassifier\", \"run_properties\": \"n_components=0.95, random_state=None\", \"primary_metric\": 0.84558354, \"best_metric\": 0.92416299}, {\"run_id\": \"AutoML_9fc44e25-e1ba-4374-a61c-1596b51212d6_29\", \"run_number\": 35, \"metric\": null, \"status\": \"Completed\", \"run_type\": \"azureml.scriptrun\", \"training_percent\": \"100\", \"start_time\": \"2021-02-03T14:44:02.958132Z\", \"end_time\": \"2021-02-03T14:45:53.384885Z\", \"created_time\": \"2021-02-03T14:43:46.674748Z\", \"created_time_dt\": \"2021-02-03T14:43:46.674748Z\", \"duration\": \"0:02:06\", \"iteration\": \"29\", \"goal\": \"average_precision_score_weighted_max\", \"run_name\": \"TruncatedSVDWrapper, XGBoostClassifier\", \"run_properties\": \"n_components=0.5542105263157895, random_state=None\", \"primary_metric\": 0.85173605, \"best_metric\": 0.92416299}, {\"run_id\": \"AutoML_9fc44e25-e1ba-4374-a61c-1596b51212d6_30\", \"run_number\": 36, \"metric\": null, \"status\": \"Completed\", \"run_type\": \"azureml.scriptrun\", \"training_percent\": \"100\", \"start_time\": \"2021-02-03T14:44:35.457524Z\", \"end_time\": \"2021-02-03T14:45:30.555208Z\", \"created_time\": \"2021-02-03T14:44:22.473857Z\", \"created_time_dt\": \"2021-02-03T14:44:22.473857Z\", \"duration\": \"0:01:08\", \"iteration\": \"30\", \"goal\": \"average_precision_score_weighted_max\", \"run_name\": \"SparseNormalizer, LightGBM\", \"run_properties\": \"<azureml.automl.runtime.shared.model_wrappers.SparseNormalizer object at 0x7f8d9362ceb8\", \"primary_metric\": 0.92370875, \"best_metric\": 0.92416299}, {\"run_id\": \"AutoML_9fc44e25-e1ba-4374-a61c-1596b51212d6_31\", \"run_number\": 37, \"metric\": null, \"status\": \"Canceled\", \"run_type\": \"azureml.scriptrun\", \"training_percent\": \"100\", \"start_time\": \"2021-02-03T14:45:38.487382Z\", \"end_time\": \"2021-02-03T14:47:08.281674Z\", \"created_time\": \"2021-02-03T14:45:26.153845Z\", \"created_time_dt\": \"2021-02-03T14:45:26.153845Z\", \"duration\": \"0:01:42\", \"iteration\": \"31\", \"goal\": null, \"run_name\": \"SparseNormalizer, GradientBoosting\", \"run_properties\": null}, {\"run_id\": \"AutoML_9fc44e25-e1ba-4374-a61c-1596b51212d6_32\", \"run_number\": 38, \"metric\": null, \"status\": \"Completed\", \"run_type\": \"azureml.scriptrun\", \"training_percent\": \"100\", \"start_time\": \"2021-02-03T14:45:43.809198Z\", \"end_time\": \"2021-02-03T14:46:36.154723Z\", \"created_time\": \"2021-02-03T14:45:32.379055Z\", \"created_time_dt\": \"2021-02-03T14:45:32.379055Z\", \"duration\": \"0:01:03\", \"iteration\": \"32\", \"goal\": \"average_precision_score_weighted_max\", \"run_name\": \"SparseNormalizer, LightGBM\", \"run_properties\": \"<azureml.automl.runtime.shared.model_wrappers.SparseNormalizer object at 0x7fcb29d144a8\", \"primary_metric\": 0.90561878, \"best_metric\": 0.92416299}, {\"run_id\": \"AutoML_9fc44e25-e1ba-4374-a61c-1596b51212d6_33\", \"run_number\": 39, \"metric\": null, \"status\": \"Completed\", \"run_type\": \"azureml.scriptrun\", \"training_percent\": \"100\", \"start_time\": \"2021-02-03T14:45:45.54628Z\", \"end_time\": \"2021-02-03T14:46:41.718768Z\", \"created_time\": \"2021-02-03T14:45:35.874141Z\", \"created_time_dt\": \"2021-02-03T14:45:35.874141Z\", \"duration\": \"0:01:05\", \"iteration\": \"33\", \"goal\": \"average_precision_score_weighted_max\", \"run_name\": \"SparseNormalizer, ExtremeRandomTrees\", \"run_properties\": \"<azureml.automl.runtime.shared.model_wrappers.SparseNormalizer object at 0x7f7c3e8613c8\", \"primary_metric\": 0.59153437, \"best_metric\": 0.92416299}, {\"run_id\": \"AutoML_9fc44e25-e1ba-4374-a61c-1596b51212d6_34\", \"run_number\": 40, \"metric\": null, \"status\": \"Canceled\", \"run_type\": \"azureml.scriptrun\", \"training_percent\": \"100\", \"start_time\": \"2021-02-03T14:45:58.582798Z\", \"end_time\": \"2021-02-03T14:47:06.548547Z\", \"created_time\": \"2021-02-03T14:45:48.702789Z\", \"created_time_dt\": \"2021-02-03T14:45:48.702789Z\", \"duration\": \"0:01:17\", \"iteration\": \"34\", \"goal\": \"average_precision_score_weighted_max\", \"run_name\": \"SparseNormalizer, XGBoostClassifier\", \"run_properties\": \"<azureml.automl.runtime.shared.model_wrappers.SparseNormalizer object at 0x7f4ddac58080\", \"primary_metric\": 0.91909258, \"best_metric\": 0.92416299}, {\"run_id\": \"AutoML_9fc44e25-e1ba-4374-a61c-1596b51212d6_35\", \"run_number\": 41, \"metric\": null, \"status\": \"Completed\", \"run_type\": \"azureml.scriptrun\", \"training_percent\": \"100\", \"start_time\": \"2021-02-03T14:46:08.166186Z\", \"end_time\": \"2021-02-03T14:47:00.443666Z\", \"created_time\": \"2021-02-03T14:45:56.065742Z\", \"created_time_dt\": \"2021-02-03T14:45:56.065742Z\", \"duration\": \"0:01:04\", \"iteration\": \"35\", \"goal\": \"average_precision_score_weighted_max\", \"run_name\": \"SparseNormalizer, LightGBM\", \"run_properties\": \"<azureml.automl.runtime.shared.model_wrappers.SparseNormalizer object at 0x7fcc827ef5c0\", \"primary_metric\": 0.91198813, \"best_metric\": 0.92416299}, {\"run_id\": \"AutoML_9fc44e25-e1ba-4374-a61c-1596b51212d6_36\", \"run_number\": 42, \"metric\": null, \"status\": \"Canceled\", \"run_type\": \"azureml.scriptrun\", \"training_percent\": \"100\", \"start_time\": \"2021-02-03T14:46:49.769701Z\", \"end_time\": \"2021-02-03T14:47:08.466918Z\", \"created_time\": \"2021-02-03T14:46:37.950559Z\", \"created_time_dt\": \"2021-02-03T14:46:37.950559Z\", \"duration\": \"0:00:30\", \"iteration\": \"36\", \"goal\": null, \"run_name\": \"Canceled\", \"run_properties\": null}, {\"run_id\": \"AutoML_9fc44e25-e1ba-4374-a61c-1596b51212d6_37\", \"run_number\": 43, \"metric\": null, \"status\": \"Canceled\", \"run_type\": \"azureml.scriptrun\", \"training_percent\": \"100\", \"start_time\": \"2021-02-03T14:46:55.088127Z\", \"end_time\": \"2021-02-03T14:47:07.113629Z\", \"created_time\": \"2021-02-03T14:46:43.36408Z\", \"created_time_dt\": \"2021-02-03T14:46:43.36408Z\", \"duration\": \"0:00:23\", \"iteration\": \"37\", \"goal\": null, \"run_name\": \"Canceled\", \"run_properties\": null}, {\"run_id\": \"AutoML_9fc44e25-e1ba-4374-a61c-1596b51212d6_38\", \"run_number\": 44, \"metric\": null, \"status\": \"Completed\", \"run_type\": \"azureml.scriptrun\", \"training_percent\": \"100\", \"start_time\": \"2021-02-03T14:47:21.805834Z\", \"end_time\": \"2021-02-03T14:51:06.459974Z\", \"created_time\": \"2021-02-03T14:47:09.982853Z\", \"created_time_dt\": \"2021-02-03T14:47:09.982853Z\", \"duration\": \"0:03:56\", \"iteration\": \"38\", \"goal\": \"average_precision_score_weighted_max\", \"run_name\": \"VotingEnsemble\", \"run_properties\": \"classification_labels=None,\\n                              estimators=[('0',\\n                                           Pipeline(memory=None,\\n                                                    steps=[('maxabsscaler',\\n                                                            MaxAbsScaler(copy=True\", \"primary_metric\": 0.93448179, \"best_metric\": 0.93448179}, {\"run_id\": \"AutoML_9fc44e25-e1ba-4374-a61c-1596b51212d6_39\", \"run_number\": 45, \"metric\": null, \"status\": \"Completed\", \"run_type\": \"azureml.scriptrun\", \"training_percent\": \"100\", \"start_time\": \"2021-02-03T14:47:23.670669Z\", \"end_time\": \"2021-02-03T14:51:14.400537Z\", \"created_time\": \"2021-02-03T14:47:09.991691Z\", \"created_time_dt\": \"2021-02-03T14:47:09.991691Z\", \"duration\": \"0:04:04\", \"iteration\": \"39\", \"goal\": \"average_precision_score_weighted_max\", \"run_name\": \"StackEnsemble\", \"run_properties\": \"base_learners=[('0',\\n                                        Pipeline(memory=None,\\n                                                 steps=[('maxabsscaler',\\n                                                         MaxAbsScaler(copy=True\", \"primary_metric\": 0.93278768, \"best_metric\": 0.93448179}], \"children_metrics\": {\"categories\": [0], \"series\": {\"precision_score_weighted\": [{\"categories\": [\"0\", \"1\", \"2\", \"3\", \"4\", \"5\", \"6\", \"7\", \"8\", \"9\", \"10\", \"11\", \"12\", \"13\", \"14\", \"15\", \"16\", \"17\", \"18\", \"19\", \"20\", \"21\", \"22\", \"23\", \"24\", \"25\", \"26\", \"27\", \"28\", \"29\", \"30\", \"32\", \"33\", \"34\", \"35\", \"38\", \"39\"], \"mode\": \"markers\", \"name\": \"precision_score_weighted\", \"stepped\": false, \"type\": \"scatter\", \"data\": [0.7894218233686514, 0.8440132752906248, 0.5710762102623799, 0.8340651662797842, 0.36922601176013126, 0.24939938290257183, 0.8343047856534587, 0.24939938290257183, 0.8151910784214558, 0.8278068206879907, 0.2519987860744624, 0.7922925364456852, 0.24226378255544861, 0.5780712805042636, 0.24939938290257183, 0.7904809499467289, 0.8072290280775957, 0.831804503302793, 0.8439434060654643, 0.8437367548897249, 0.8269779796223189, 0.8554017105706913, 0.7954859681395716, 0.8327127962055485, 0.784301612850669, 0.8316591914052889, 0.7717126442800464, 0.7963290180380771, 0.7999001491511344, 0.797985545594093, 0.8428952791264306, 0.8268398702344593, 0.24939938290257183, 0.8429687827805188, 0.8457493046786257, 0.8358765922382849, 0.846622939244994]}, {\"categories\": [\"0\", \"1\", \"2\", \"3\", \"4\", \"5\", \"6\", \"7\", \"8\", \"9\", \"10\", \"11\", \"12\", \"13\", \"14\", \"15\", \"16\", \"17\", \"18\", \"19\", \"20\", \"21\", \"22\", \"23\", \"24\", \"25\", \"26\", \"27\", \"28\", \"29\", \"30\", \"32\", \"33\", \"34\", \"35\", \"38\", \"39\"], \"mode\": \"lines\", \"name\": \"precision_score_weighted_max\", \"stepped\": true, \"type\": \"scatter\", \"data\": [0.7894218233686514, 0.8440132752906248, 0.8440132752906248, 0.8440132752906248, 0.8440132752906248, 0.8440132752906248, 0.8440132752906248, 0.8440132752906248, 0.8440132752906248, 0.8440132752906248, 0.8440132752906248, 0.8440132752906248, 0.8440132752906248, 0.8440132752906248, 0.8440132752906248, 0.8440132752906248, 0.8440132752906248, 0.8440132752906248, 0.8440132752906248, 0.8440132752906248, 0.8440132752906248, 0.8554017105706913, 0.8554017105706913, 0.8554017105706913, 0.8554017105706913, 0.8554017105706913, 0.8554017105706913, 0.8554017105706913, 0.8554017105706913, 0.8554017105706913, 0.8554017105706913, 0.8554017105706913, 0.8554017105706913, 0.8554017105706913, 0.8554017105706913, 0.8554017105706913, 0.8554017105706913]}], \"precision_score_micro\": [{\"categories\": [\"0\", \"1\", \"2\", \"3\", \"4\", \"5\", \"6\", \"7\", \"8\", \"9\", \"10\", \"11\", \"12\", \"13\", \"14\", \"15\", \"16\", \"17\", \"18\", \"19\", \"20\", \"21\", \"22\", \"23\", \"24\", \"25\", \"26\", \"27\", \"28\", \"29\", \"30\", \"32\", \"33\", \"34\", \"35\", \"38\", \"39\"], \"mode\": \"markers\", \"name\": \"precision_score_micro\", \"stepped\": false, \"type\": \"scatter\", \"data\": [0.6899515792679008, 0.8329981781444429, 0.4787968677111798, 0.8272512505332703, 0.5004325519482622, 0.49869025369847997, 0.8325942041602559, 0.49869025369847997, 0.742945836814975, 0.8130731827518635, 0.5012290173336312, 0.6839221547763112, 0.49155465335135673, 0.6389127982729839, 0.49869025369847997, 0.6676552275318182, 0.7082670459857894, 0.8256059401708011, 0.8413784086541995, 0.8411397987176368, 0.808615892927532, 0.854217496065438, 0.7319380787012821, 0.8186082306519809, 0.7786833020586266, 0.8310755126996887, 0.7073057320681814, 0.7861976866630948, 0.7988999064118127, 0.7933409130013656, 0.8375602009092223, 0.8249634288981333, 0.49869025369847997, 0.8399181465763611, 0.8453576287223019, 0.8058999136287355, 0.8401471575092926]}, {\"categories\": [\"0\", \"1\", \"2\", \"3\", \"4\", \"5\", \"6\", \"7\", \"8\", \"9\", \"10\", \"11\", \"12\", \"13\", \"14\", \"15\", \"16\", \"17\", \"18\", \"19\", \"20\", \"21\", \"22\", \"23\", \"24\", \"25\", \"26\", \"27\", \"28\", \"29\", \"30\", \"32\", \"33\", \"34\", \"35\", \"38\", \"39\"], \"mode\": \"lines\", \"name\": \"precision_score_micro_max\", \"stepped\": true, \"type\": \"scatter\", \"data\": [0.6899515792679008, 0.8329981781444429, 0.8329981781444429, 0.8329981781444429, 0.8329981781444429, 0.8329981781444429, 0.8329981781444429, 0.8329981781444429, 0.8329981781444429, 0.8329981781444429, 0.8329981781444429, 0.8329981781444429, 0.8329981781444429, 0.8329981781444429, 0.8329981781444429, 0.8329981781444429, 0.8329981781444429, 0.8329981781444429, 0.8413784086541995, 0.8413784086541995, 0.8413784086541995, 0.854217496065438, 0.854217496065438, 0.854217496065438, 0.854217496065438, 0.854217496065438, 0.854217496065438, 0.854217496065438, 0.854217496065438, 0.854217496065438, 0.854217496065438, 0.854217496065438, 0.854217496065438, 0.854217496065438, 0.854217496065438, 0.854217496065438, 0.854217496065438]}], \"recall_score_micro\": [{\"categories\": [\"0\", \"1\", \"2\", \"3\", \"4\", \"5\", \"6\", \"7\", \"8\", \"9\", \"10\", \"11\", \"12\", \"13\", \"14\", \"15\", \"16\", \"17\", \"18\", \"19\", \"20\", \"21\", \"22\", \"23\", \"24\", \"25\", \"26\", \"27\", \"28\", \"29\", \"30\", \"32\", \"33\", \"34\", \"35\", \"38\", \"39\"], \"mode\": \"markers\", \"name\": \"recall_score_micro\", \"stepped\": false, \"type\": \"scatter\", \"data\": [0.6899515792678953, 0.832998178144441, 0.4787968677111735, 0.827251250533272, 0.5004325519482555, 0.4986902536984733, 0.8325942041602559, 0.4986902536984733, 0.7429458368149774, 0.8130731827518611, 0.5012290173336246, 0.6839221547763094, 0.4915546533513502, 0.6389127982729818, 0.4986902536984733, 0.667655227531815, 0.7082670459857884, 0.8256059401707992, 0.8413784086541982, 0.8411397987176368, 0.8086158929275294, 0.8542174960654384, 0.7319380787012771, 0.8186082306519786, 0.7786833020586252, 0.8310755126996883, 0.7073057320681759, 0.7861976866630929, 0.7988999064118121, 0.7933409130013642, 0.8375602009092212, 0.8249634288981333, 0.4986902536984733, 0.839918146576361, 0.8453576287223017, 0.8058999136287319, 0.8401471575092911]}, {\"categories\": [\"0\", \"1\", \"2\", \"3\", \"4\", \"5\", \"6\", \"7\", \"8\", \"9\", \"10\", \"11\", \"12\", \"13\", \"14\", \"15\", \"16\", \"17\", \"18\", \"19\", \"20\", \"21\", \"22\", \"23\", \"24\", \"25\", \"26\", \"27\", \"28\", \"29\", \"30\", \"32\", \"33\", \"34\", \"35\", \"38\", \"39\"], \"mode\": \"lines\", \"name\": \"recall_score_micro_max\", \"stepped\": true, \"type\": \"scatter\", \"data\": [0.6899515792678953, 0.832998178144441, 0.832998178144441, 0.832998178144441, 0.832998178144441, 0.832998178144441, 0.832998178144441, 0.832998178144441, 0.832998178144441, 0.832998178144441, 0.832998178144441, 0.832998178144441, 0.832998178144441, 0.832998178144441, 0.832998178144441, 0.832998178144441, 0.832998178144441, 0.832998178144441, 0.8413784086541982, 0.8413784086541982, 0.8413784086541982, 0.8542174960654384, 0.8542174960654384, 0.8542174960654384, 0.8542174960654384, 0.8542174960654384, 0.8542174960654384, 0.8542174960654384, 0.8542174960654384, 0.8542174960654384, 0.8542174960654384, 0.8542174960654384, 0.8542174960654384, 0.8542174960654384, 0.8542174960654384, 0.8542174960654384, 0.8542174960654384]}], \"average_precision_score_weighted\": [{\"categories\": [\"0\", \"1\", \"2\", \"3\", \"4\", \"5\", \"6\", \"7\", \"8\", \"9\", \"10\", \"11\", \"12\", \"13\", \"14\", \"15\", \"16\", \"17\", \"18\", \"19\", \"20\", \"21\", \"22\", \"23\", \"24\", \"25\", \"26\", \"27\", \"28\", \"29\", \"30\", \"32\", \"33\", \"34\", \"35\", \"38\", \"39\"], \"mode\": \"markers\", \"name\": \"average_precision_score_weighted\", \"stepped\": false, \"type\": \"scatter\", \"data\": [0.9241629873717738, 0.923940876709837, 0.5350896821502089, 0.9115049461744095, 0.8709679137102986, 0.6050413538381514, 0.9139932713961891, 0.5014182584081903, 0.8982926684051, 0.9058224459482338, 0.7430568073956095, 0.8903834999490302, 0.5014182584081903, 0.6223628657396431, 0.5014182584081903, 0.8947904982455521, 0.9034019307507042, 0.8959954717760842, 0.9186127288814019, 0.910387541676571, 0.918367702869908, 0.9120874590602087, 0.9116300437064613, 0.9220488217126668, 0.8358588255385134, 0.9026455937419622, 0.8749050041624602, 0.8621100258796071, 0.8455835354446425, 0.8517360460238553, 0.9237087525977952, 0.9056187799144475, 0.5915343748515379, 0.91909258075009, 0.9119881308565305, 0.9344817933349623, 0.932787684353479]}, {\"categories\": [\"0\", \"1\", \"2\", \"3\", \"4\", \"5\", \"6\", \"7\", \"8\", \"9\", \"10\", \"11\", \"12\", \"13\", \"14\", \"15\", \"16\", \"17\", \"18\", \"19\", \"20\", \"21\", \"22\", \"23\", \"24\", \"25\", \"26\", \"27\", \"28\", \"29\", \"30\", \"32\", \"33\", \"34\", \"35\", \"38\", \"39\"], \"mode\": \"lines\", \"name\": \"average_precision_score_weighted_max\", \"stepped\": true, \"type\": \"scatter\", \"data\": [0.9241629873717738, 0.9241629873717738, 0.9241629873717738, 0.9241629873717738, 0.9241629873717738, 0.9241629873717738, 0.9241629873717738, 0.9241629873717738, 0.9241629873717738, 0.9241629873717738, 0.9241629873717738, 0.9241629873717738, 0.9241629873717738, 0.9241629873717738, 0.9241629873717738, 0.9241629873717738, 0.9241629873717738, 0.9241629873717738, 0.9241629873717738, 0.9241629873717738, 0.9241629873717738, 0.9241629873717738, 0.9241629873717738, 0.9241629873717738, 0.9241629873717738, 0.9241629873717738, 0.9241629873717738, 0.9241629873717738, 0.9241629873717738, 0.9241629873717738, 0.9241629873717738, 0.9241629873717738, 0.9241629873717738, 0.9241629873717738, 0.9241629873717738, 0.9344817933349623, 0.9344817933349623]}], \"accuracy\": [{\"categories\": [\"0\", \"1\", \"2\", \"3\", \"4\", \"5\", \"6\", \"7\", \"8\", \"9\", \"10\", \"11\", \"12\", \"13\", \"14\", \"15\", \"16\", \"17\", \"18\", \"19\", \"20\", \"21\", \"22\", \"23\", \"24\", \"25\", \"26\", \"27\", \"28\", \"29\", \"30\", \"32\", \"33\", \"34\", \"35\", \"38\", \"39\"], \"mode\": \"markers\", \"name\": \"accuracy\", \"stepped\": false, \"type\": \"scatter\", \"data\": [0.6899515792678962, 0.8329981781444393, 0.47879686771117325, 0.8272512505332658, 0.5004325519482531, 0.49869025369847086, 0.8325942041602509, 0.49869025369847086, 0.7429458368149691, 0.8130731827518596, 0.5012290173336267, 0.6839221547763044, 0.4915546533513513, 0.6389127982729764, 0.49869025369847086, 0.6676552275318114, 0.7082670459857825, 0.8256059401707969, 0.8413784086541953, 0.8411397987176337, 0.8086158929275282, 0.8542174960654346, 0.7319380787012774, 0.8186082306519773, 0.7786833020586216, 0.8310755126996844, 0.7073057320681757, 0.7861976866630902, 0.7988999064118073, 0.793340913001361, 0.8375602009092189, 0.8249634288981291, 0.49869025369847086, 0.8399181465763577, 0.8453576287222976, 0.8058999136287315, 0.8401471575092887]}, {\"categories\": [\"0\", \"1\", \"2\", \"3\", \"4\", \"5\", \"6\", \"7\", \"8\", \"9\", \"10\", \"11\", \"12\", \"13\", \"14\", \"15\", \"16\", \"17\", \"18\", \"19\", \"20\", \"21\", \"22\", \"23\", \"24\", \"25\", \"26\", \"27\", \"28\", \"29\", \"30\", \"32\", \"33\", \"34\", \"35\", \"38\", \"39\"], \"mode\": \"lines\", \"name\": \"accuracy_max\", \"stepped\": true, \"type\": \"scatter\", \"data\": [0.6899515792678962, 0.8329981781444393, 0.8329981781444393, 0.8329981781444393, 0.8329981781444393, 0.8329981781444393, 0.8329981781444393, 0.8329981781444393, 0.8329981781444393, 0.8329981781444393, 0.8329981781444393, 0.8329981781444393, 0.8329981781444393, 0.8329981781444393, 0.8329981781444393, 0.8329981781444393, 0.8329981781444393, 0.8329981781444393, 0.8413784086541953, 0.8413784086541953, 0.8413784086541953, 0.8542174960654346, 0.8542174960654346, 0.8542174960654346, 0.8542174960654346, 0.8542174960654346, 0.8542174960654346, 0.8542174960654346, 0.8542174960654346, 0.8542174960654346, 0.8542174960654346, 0.8542174960654346, 0.8542174960654346, 0.8542174960654346, 0.8542174960654346, 0.8542174960654346, 0.8542174960654346]}], \"f1_score_micro\": [{\"categories\": [\"0\", \"1\", \"2\", \"3\", \"4\", \"5\", \"6\", \"7\", \"8\", \"9\", \"10\", \"11\", \"12\", \"13\", \"14\", \"15\", \"16\", \"17\", \"18\", \"19\", \"20\", \"21\", \"22\", \"23\", \"24\", \"25\", \"26\", \"27\", \"28\", \"29\", \"30\", \"32\", \"33\", \"34\", \"35\", \"38\", \"39\"], \"mode\": \"markers\", \"name\": \"f1_score_micro\", \"stepped\": false, \"type\": \"scatter\", \"data\": [0.6899515792678981, 0.8329981781444419, 0.47879686771117663, 0.8272512505332712, 0.5004325519482589, 0.49869025369847664, 0.8325942041602559, 0.49869025369847664, 0.7429458368149762, 0.8130731827518622, 0.501229017333628, 0.6839221547763104, 0.49155465335135345, 0.6389127982729829, 0.49869025369847664, 0.6676552275318166, 0.7082670459857889, 0.8256059401708002, 0.8413784086541989, 0.8411397987176368, 0.8086158929275307, 0.8542174960654381, 0.7319380787012796, 0.8186082306519799, 0.7786833020586259, 0.8310755126996884, 0.7073057320681786, 0.7861976866630938, 0.7988999064118124, 0.7933409130013649, 0.8375602009092219, 0.8249634288981333, 0.49869025369847664, 0.839918146576361, 0.8453576287223018, 0.8058999136287336, 0.8401471575092919]}, {\"categories\": [\"0\", \"1\", \"2\", \"3\", \"4\", \"5\", \"6\", \"7\", \"8\", \"9\", \"10\", \"11\", \"12\", \"13\", \"14\", \"15\", \"16\", \"17\", \"18\", \"19\", \"20\", \"21\", \"22\", \"23\", \"24\", \"25\", \"26\", \"27\", \"28\", \"29\", \"30\", \"32\", \"33\", \"34\", \"35\", \"38\", \"39\"], \"mode\": \"lines\", \"name\": \"f1_score_micro_max\", \"stepped\": true, \"type\": \"scatter\", \"data\": [0.6899515792678981, 0.8329981781444419, 0.8329981781444419, 0.8329981781444419, 0.8329981781444419, 0.8329981781444419, 0.8329981781444419, 0.8329981781444419, 0.8329981781444419, 0.8329981781444419, 0.8329981781444419, 0.8329981781444419, 0.8329981781444419, 0.8329981781444419, 0.8329981781444419, 0.8329981781444419, 0.8329981781444419, 0.8329981781444419, 0.8413784086541989, 0.8413784086541989, 0.8413784086541989, 0.8542174960654381, 0.8542174960654381, 0.8542174960654381, 0.8542174960654381, 0.8542174960654381, 0.8542174960654381, 0.8542174960654381, 0.8542174960654381, 0.8542174960654381, 0.8542174960654381, 0.8542174960654381, 0.8542174960654381, 0.8542174960654381, 0.8542174960654381, 0.8542174960654381, 0.8542174960654381]}], \"AUC_weighted\": [{\"categories\": [\"0\", \"1\", \"2\", \"3\", \"4\", \"5\", \"6\", \"7\", \"8\", \"9\", \"10\", \"11\", \"12\", \"13\", \"14\", \"15\", \"16\", \"17\", \"18\", \"19\", \"20\", \"21\", \"22\", \"23\", \"24\", \"25\", \"26\", \"27\", \"28\", \"29\", \"30\", \"32\", \"33\", \"34\", \"35\", \"38\", \"39\"], \"mode\": \"markers\", \"name\": \"AUC_weighted\", \"stepped\": false, \"type\": \"scatter\", \"data\": [0.9241566257238703, 0.9269761352000103, 0.5369985750137855, 0.9115275396583538, 0.8735020959278993, 0.6280055755865784, 0.9128354269209917, 0.5, 0.9006671132952015, 0.9127928965434351, 0.7833557089705341, 0.889692023362285, 0.5, 0.6582376694424426, 0.5, 0.8948721676841873, 0.9029346918330591, 0.9016332110507153, 0.9185456887836263, 0.9126726994383576, 0.9184243825468008, 0.916282814976298, 0.9162081636778087, 0.9240892825555957, 0.8505178734120558, 0.9027666682773384, 0.8777529305648261, 0.8671926570568154, 0.8572438852727273, 0.8640157593105202, 0.9250186870588093, 0.9081765329955952, 0.6192767014948859, 0.9192794308745896, 0.917808440108358, 0.9333576239964617, 0.9318042099768726]}, {\"categories\": [\"0\", \"1\", \"2\", \"3\", \"4\", \"5\", \"6\", \"7\", \"8\", \"9\", \"10\", \"11\", \"12\", \"13\", \"14\", \"15\", \"16\", \"17\", \"18\", \"19\", \"20\", \"21\", \"22\", \"23\", \"24\", \"25\", \"26\", \"27\", \"28\", \"29\", \"30\", \"32\", \"33\", \"34\", \"35\", \"38\", \"39\"], \"mode\": \"lines\", \"name\": \"AUC_weighted_max\", \"stepped\": true, \"type\": \"scatter\", \"data\": [0.9241566257238703, 0.9269761352000103, 0.9269761352000103, 0.9269761352000103, 0.9269761352000103, 0.9269761352000103, 0.9269761352000103, 0.9269761352000103, 0.9269761352000103, 0.9269761352000103, 0.9269761352000103, 0.9269761352000103, 0.9269761352000103, 0.9269761352000103, 0.9269761352000103, 0.9269761352000103, 0.9269761352000103, 0.9269761352000103, 0.9269761352000103, 0.9269761352000103, 0.9269761352000103, 0.9269761352000103, 0.9269761352000103, 0.9269761352000103, 0.9269761352000103, 0.9269761352000103, 0.9269761352000103, 0.9269761352000103, 0.9269761352000103, 0.9269761352000103, 0.9269761352000103, 0.9269761352000103, 0.9269761352000103, 0.9269761352000103, 0.9269761352000103, 0.9333576239964617, 0.9333576239964617]}], \"average_precision_score_micro\": [{\"categories\": [\"0\", \"1\", \"2\", \"3\", \"4\", \"5\", \"6\", \"7\", \"8\", \"9\", \"10\", \"11\", \"12\", \"13\", \"14\", \"15\", \"16\", \"17\", \"18\", \"19\", \"20\", \"21\", \"22\", \"23\", \"24\", \"25\", \"26\", \"27\", \"28\", \"29\", \"30\", \"32\", \"33\", \"34\", \"35\", \"38\", \"39\"], \"mode\": \"markers\", \"name\": \"average_precision_score_micro\", \"stepped\": false, \"type\": \"scatter\", \"data\": [0.8089899211738824, 0.9035764885140999, 0.5127610079583567, 0.9128392862589665, 0.7166450886397864, 0.568394954382757, 0.9136456759581314, 0.500054256053329, 0.8209920222153173, 0.8836494983418891, 0.6321461898581309, 0.7710727567821456, 0.49648645587977147, 0.6219081329240539, 0.500054256053329, 0.7719295414247049, 0.7904882580289125, 0.8819356144543529, 0.9136936384829701, 0.9101314410271137, 0.8862807153434444, 0.9153033304754901, 0.8316649344613055, 0.900019309721753, 0.8289732078104872, 0.9045446684975316, 0.7943546703115093, 0.8325378169840094, 0.843041734094943, 0.8408993124258952, 0.9139882170836798, 0.9085227830797474, 0.5598061277468045, 0.9132156214998398, 0.9155572366483163, 0.8973399780016438, 0.917158922486027]}, {\"categories\": [\"0\", \"1\", \"2\", \"3\", \"4\", \"5\", \"6\", \"7\", \"8\", \"9\", \"10\", \"11\", \"12\", \"13\", \"14\", \"15\", \"16\", \"17\", \"18\", \"19\", \"20\", \"21\", \"22\", \"23\", \"24\", \"25\", \"26\", \"27\", \"28\", \"29\", \"30\", \"32\", \"33\", \"34\", \"35\", \"38\", \"39\"], \"mode\": \"lines\", \"name\": \"average_precision_score_micro_max\", \"stepped\": true, \"type\": \"scatter\", \"data\": [0.8089899211738824, 0.9035764885140999, 0.9035764885140999, 0.9128392862589665, 0.9128392862589665, 0.9128392862589665, 0.9136456759581314, 0.9136456759581314, 0.9136456759581314, 0.9136456759581314, 0.9136456759581314, 0.9136456759581314, 0.9136456759581314, 0.9136456759581314, 0.9136456759581314, 0.9136456759581314, 0.9136456759581314, 0.9136456759581314, 0.9136936384829701, 0.9136936384829701, 0.9136936384829701, 0.9153033304754901, 0.9153033304754901, 0.9153033304754901, 0.9153033304754901, 0.9153033304754901, 0.9153033304754901, 0.9153033304754901, 0.9153033304754901, 0.9153033304754901, 0.9153033304754901, 0.9153033304754901, 0.9153033304754901, 0.9153033304754901, 0.9155572366483163, 0.9155572366483163, 0.917158922486027]}], \"recall_score_weighted\": [{\"categories\": [\"0\", \"1\", \"2\", \"3\", \"4\", \"5\", \"6\", \"7\", \"8\", \"9\", \"10\", \"11\", \"12\", \"13\", \"14\", \"15\", \"16\", \"17\", \"18\", \"19\", \"20\", \"21\", \"22\", \"23\", \"24\", \"25\", \"26\", \"27\", \"28\", \"29\", \"30\", \"32\", \"33\", \"34\", \"35\", \"38\", \"39\"], \"mode\": \"markers\", \"name\": \"recall_score_weighted\", \"stepped\": false, \"type\": \"scatter\", \"data\": [0.6899515792678953, 0.832998178144441, 0.4787968677111735, 0.827251250533272, 0.5004325519482555, 0.4986902536984733, 0.8325942041602559, 0.4986902536984733, 0.7429458368149774, 0.8130731827518611, 0.5012290173336246, 0.6839221547763094, 0.4915546533513502, 0.6389127982729818, 0.4986902536984733, 0.667655227531815, 0.7082670459857884, 0.8256059401707992, 0.8413784086541982, 0.8411397987176368, 0.8086158929275294, 0.8542174960654384, 0.7319380787012771, 0.8186082306519786, 0.7786833020586252, 0.8310755126996883, 0.7073057320681759, 0.7861976866630929, 0.7988999064118121, 0.7933409130013642, 0.8375602009092212, 0.8249634288981333, 0.4986902536984733, 0.839918146576361, 0.8453576287223017, 0.8058999136287319, 0.8401471575092911]}, {\"categories\": [\"0\", \"1\", \"2\", \"3\", \"4\", \"5\", \"6\", \"7\", \"8\", \"9\", \"10\", \"11\", \"12\", \"13\", \"14\", \"15\", \"16\", \"17\", \"18\", \"19\", \"20\", \"21\", \"22\", \"23\", \"24\", \"25\", \"26\", \"27\", \"28\", \"29\", \"30\", \"32\", \"33\", \"34\", \"35\", \"38\", \"39\"], \"mode\": \"lines\", \"name\": \"recall_score_weighted_max\", \"stepped\": true, \"type\": \"scatter\", \"data\": [0.6899515792678953, 0.832998178144441, 0.832998178144441, 0.832998178144441, 0.832998178144441, 0.832998178144441, 0.832998178144441, 0.832998178144441, 0.832998178144441, 0.832998178144441, 0.832998178144441, 0.832998178144441, 0.832998178144441, 0.832998178144441, 0.832998178144441, 0.832998178144441, 0.832998178144441, 0.832998178144441, 0.8413784086541982, 0.8413784086541982, 0.8413784086541982, 0.8542174960654384, 0.8542174960654384, 0.8542174960654384, 0.8542174960654384, 0.8542174960654384, 0.8542174960654384, 0.8542174960654384, 0.8542174960654384, 0.8542174960654384, 0.8542174960654384, 0.8542174960654384, 0.8542174960654384, 0.8542174960654384, 0.8542174960654384, 0.8542174960654384, 0.8542174960654384]}], \"average_precision_score_macro\": [{\"categories\": [\"0\", \"1\", \"2\", \"3\", \"4\", \"5\", \"6\", \"7\", \"8\", \"9\", \"10\", \"11\", \"12\", \"13\", \"14\", \"15\", \"16\", \"17\", \"18\", \"19\", \"20\", \"21\", \"22\", \"23\", \"24\", \"25\", \"26\", \"27\", \"28\", \"29\", \"30\", \"32\", \"33\", \"34\", \"35\", \"38\", \"39\"], \"mode\": \"markers\", \"name\": \"average_precision_score_macro\", \"stepped\": false, \"type\": \"scatter\", \"data\": [0.9238239033078381, 0.9238053122933774, 0.5340658663917158, 0.9112295451263095, 0.8705729289743981, 0.6044071306573326, 0.9137086123898615, 0.5, 0.8978439283827195, 0.9057234324459128, 0.7422997506523696, 0.8899394650973942, 0.5, 0.6208665462092954, 0.5, 0.894539623723031, 0.9030949074425705, 0.8962954194639525, 0.9183104266639414, 0.9101537615853825, 0.9181616410201334, 0.9120842205739395, 0.9118744779572548, 0.9218676542197738, 0.8352200247228723, 0.9025966756388306, 0.8747544139691255, 0.8618461535879761, 0.8457355082283856, 0.8521160912473764, 0.9234646009571357, 0.9054588210863843, 0.5901817561076873, 0.918692890664375, 0.9121099121988996, 0.9342066906864729, 0.9325200264419319]}, {\"categories\": [\"0\", \"1\", \"2\", \"3\", \"4\", \"5\", \"6\", \"7\", \"8\", \"9\", \"10\", \"11\", \"12\", \"13\", \"14\", \"15\", \"16\", \"17\", \"18\", \"19\", \"20\", \"21\", \"22\", \"23\", \"24\", \"25\", \"26\", \"27\", \"28\", \"29\", \"30\", \"32\", \"33\", \"34\", \"35\", \"38\", \"39\"], \"mode\": \"lines\", \"name\": \"average_precision_score_macro_max\", \"stepped\": true, \"type\": \"scatter\", \"data\": [0.9238239033078381, 0.9238239033078381, 0.9238239033078381, 0.9238239033078381, 0.9238239033078381, 0.9238239033078381, 0.9238239033078381, 0.9238239033078381, 0.9238239033078381, 0.9238239033078381, 0.9238239033078381, 0.9238239033078381, 0.9238239033078381, 0.9238239033078381, 0.9238239033078381, 0.9238239033078381, 0.9238239033078381, 0.9238239033078381, 0.9238239033078381, 0.9238239033078381, 0.9238239033078381, 0.9238239033078381, 0.9238239033078381, 0.9238239033078381, 0.9238239033078381, 0.9238239033078381, 0.9238239033078381, 0.9238239033078381, 0.9238239033078381, 0.9238239033078381, 0.9238239033078381, 0.9238239033078381, 0.9238239033078381, 0.9238239033078381, 0.9238239033078381, 0.9342066906864729, 0.9342066906864729]}], \"precision_score_macro\": [{\"categories\": [\"0\", \"1\", \"2\", \"3\", \"4\", \"5\", \"6\", \"7\", \"8\", \"9\", \"10\", \"11\", \"12\", \"13\", \"14\", \"15\", \"16\", \"17\", \"18\", \"19\", \"20\", \"21\", \"22\", \"23\", \"24\", \"25\", \"26\", \"27\", \"28\", \"29\", \"30\", \"32\", \"33\", \"34\", \"35\", \"38\", \"39\"], \"mode\": \"markers\", \"name\": \"precision_score_macro\", \"stepped\": false, \"type\": \"scatter\", \"data\": [0.7892026639058958, 0.8446780004643422, 0.5662398911160862, 0.8344255405229484, 0.37480359347936654, 0.24934512684923998, 0.8340846825251215, 0.24934512684923998, 0.8145358236068342, 0.8275475739015503, 0.2506361004938076, 0.7920443707987403, 0.24577732667567836, 0.579395862888525, 0.24934512684923998, 0.7902625433603682, 0.8063741166801586, 0.8322323145884423, 0.8443683129008995, 0.8449510115897612, 0.8271795303165312, 0.856196910428234, 0.7953542484503564, 0.8332255107089248, 0.7835592884572875, 0.8314219340929923, 0.7711611595095181, 0.7955985188270545, 0.7993520548427328, 0.79755996804642, 0.8436682737946306, 0.8278092676777217, 0.24934512684923998, 0.8442944952702025, 0.8449965787172407, 0.8362243316092264, 0.8463620754996984]}, {\"categories\": [\"0\", \"1\", \"2\", \"3\", \"4\", \"5\", \"6\", \"7\", \"8\", \"9\", \"10\", \"11\", \"12\", \"13\", \"14\", \"15\", \"16\", \"17\", \"18\", \"19\", \"20\", \"21\", \"22\", \"23\", \"24\", \"25\", \"26\", \"27\", \"28\", \"29\", \"30\", \"32\", \"33\", \"34\", \"35\", \"38\", \"39\"], \"mode\": \"lines\", \"name\": \"precision_score_macro_max\", \"stepped\": true, \"type\": \"scatter\", \"data\": [0.7892026639058958, 0.8446780004643422, 0.8446780004643422, 0.8446780004643422, 0.8446780004643422, 0.8446780004643422, 0.8446780004643422, 0.8446780004643422, 0.8446780004643422, 0.8446780004643422, 0.8446780004643422, 0.8446780004643422, 0.8446780004643422, 0.8446780004643422, 0.8446780004643422, 0.8446780004643422, 0.8446780004643422, 0.8446780004643422, 0.8446780004643422, 0.8449510115897612, 0.8449510115897612, 0.856196910428234, 0.856196910428234, 0.856196910428234, 0.856196910428234, 0.856196910428234, 0.856196910428234, 0.856196910428234, 0.856196910428234, 0.856196910428234, 0.856196910428234, 0.856196910428234, 0.856196910428234, 0.856196910428234, 0.856196910428234, 0.856196910428234, 0.856196910428234]}], \"log_loss\": [{\"categories\": [\"0\", \"1\", \"2\", \"3\", \"4\", \"5\", \"6\", \"7\", \"8\", \"9\", \"10\", \"11\", \"12\", \"13\", \"14\", \"15\", \"16\", \"17\", \"18\", \"19\", \"20\", \"21\", \"22\", \"23\", \"24\", \"25\", \"26\", \"27\", \"28\", \"29\", \"30\", \"32\", \"33\", \"34\", \"35\", \"38\", \"39\"], \"mode\": \"markers\", \"name\": \"log_loss\", \"stepped\": false, \"type\": \"scatter\", \"data\": [1.2215171633161308, 0.4271954050358622, 0.6922527874070796, 0.3969187010136314, 1.213599397197469, 1.7015751548035554, 0.40622631179273494, 1.7317108369019865, 0.7020384544052756, 0.4532266192595634, 5.968985972521077, 0.8472763965815164, 0.6941524811612158, 0.6780611092186328, 1.7386789450175513, 0.8092464491054817, 0.8081673960306539, 0.4668640667707315, 0.409254362140608, 0.3925264052954017, 0.4663154338595974, 0.4527424820775077, 0.8706385458854258, 0.46148748878487017, 0.517280092289011, 0.6178491549674655, 0.8196750411438192, 0.5526439810563714, 0.4719371220277817, 0.4802915146253315, 0.3977583576212686, 0.4027006719748542, 1.7371482578502375, 0.3842609374227661, 0.6397827975559383, 0.4410672898986307, 0.5097310806884204]}, {\"categories\": [\"0\", \"1\", \"2\", \"3\", \"4\", \"5\", \"6\", \"7\", \"8\", \"9\", \"10\", \"11\", \"12\", \"13\", \"14\", \"15\", \"16\", \"17\", \"18\", \"19\", \"20\", \"21\", \"22\", \"23\", \"24\", \"25\", \"26\", \"27\", \"28\", \"29\", \"30\", \"32\", \"33\", \"34\", \"35\", \"38\", \"39\"], \"mode\": \"lines\", \"name\": \"log_loss_min\", \"stepped\": true, \"type\": \"scatter\", \"data\": [1.2215171633161308, 0.4271954050358622, 0.4271954050358622, 0.3969187010136314, 0.3969187010136314, 0.3969187010136314, 0.3969187010136314, 0.3969187010136314, 0.3969187010136314, 0.3969187010136314, 0.3969187010136314, 0.3969187010136314, 0.3969187010136314, 0.3969187010136314, 0.3969187010136314, 0.3969187010136314, 0.3969187010136314, 0.3969187010136314, 0.3969187010136314, 0.3925264052954017, 0.3925264052954017, 0.3925264052954017, 0.3925264052954017, 0.3925264052954017, 0.3925264052954017, 0.3925264052954017, 0.3925264052954017, 0.3925264052954017, 0.3925264052954017, 0.3925264052954017, 0.3925264052954017, 0.3925264052954017, 0.3925264052954017, 0.3842609374227661, 0.3842609374227661, 0.3842609374227661, 0.3842609374227661]}], \"weighted_accuracy\": [{\"categories\": [\"0\", \"1\", \"2\", \"3\", \"4\", \"5\", \"6\", \"7\", \"8\", \"9\", \"10\", \"11\", \"12\", \"13\", \"14\", \"15\", \"16\", \"17\", \"18\", \"19\", \"20\", \"21\", \"22\", \"23\", \"24\", \"25\", \"26\", \"27\", \"28\", \"29\", \"30\", \"32\", \"33\", \"34\", \"35\", \"38\", \"39\"], \"mode\": \"markers\", \"name\": \"weighted_accuracy\", \"stepped\": false, \"type\": \"scatter\", \"data\": [0.9825189896737502, 0.9198107374031519, 0.5044350884011843, 0.7616074770244252, 0.004768122188476026, 0.0011233419394603829, 0.7991529437814932, 0.0011233419394603829, 0.5068486947757977, 0.9190374292565935, 0.9987259094851455, 0.38100186189286966, 0.7493515848129938, 0.5548652058107766, 0.0011233419394603829, 0.3455114342464436, 0.4268514837717239, 0.8918427740666739, 0.8772007343498249, 0.8643167125506028, 0.9279012302171115, 0.8484781673758546, 0.9638697510374497, 0.9215711575830337, 0.8447011255218715, 0.843368684573859, 0.9506716254528961, 0.8761321320037561, 0.8126757812690903, 0.8551261351350422, 0.8921277316109012, 0.8319325153659579, 0.0011233419394603829, 0.8621986764863209, 0.844349913581305, 0.9548247985384357, 0.8918939426708892]}, {\"categories\": [\"0\", \"1\", \"2\", \"3\", \"4\", \"5\", \"6\", \"7\", \"8\", \"9\", \"10\", \"11\", \"12\", \"13\", \"14\", \"15\", \"16\", \"17\", \"18\", \"19\", \"20\", \"21\", \"22\", \"23\", \"24\", \"25\", \"26\", \"27\", \"28\", \"29\", \"30\", \"32\", \"33\", \"34\", \"35\", \"38\", \"39\"], \"mode\": \"lines\", \"name\": \"weighted_accuracy_max\", \"stepped\": true, \"type\": \"scatter\", \"data\": [0.9825189896737502, 0.9825189896737502, 0.9825189896737502, 0.9825189896737502, 0.9825189896737502, 0.9825189896737502, 0.9825189896737502, 0.9825189896737502, 0.9825189896737502, 0.9825189896737502, 0.9987259094851455, 0.9987259094851455, 0.9987259094851455, 0.9987259094851455, 0.9987259094851455, 0.9987259094851455, 0.9987259094851455, 0.9987259094851455, 0.9987259094851455, 0.9987259094851455, 0.9987259094851455, 0.9987259094851455, 0.9987259094851455, 0.9987259094851455, 0.9987259094851455, 0.9987259094851455, 0.9987259094851455, 0.9987259094851455, 0.9987259094851455, 0.9987259094851455, 0.9987259094851455, 0.9987259094851455, 0.9987259094851455, 0.9987259094851455, 0.9987259094851455, 0.9987259094851455, 0.9987259094851455]}], \"f1_score_macro\": [{\"categories\": [\"0\", \"1\", \"2\", \"3\", \"4\", \"5\", \"6\", \"7\", \"8\", \"9\", \"10\", \"11\", \"12\", \"13\", \"14\", \"15\", \"16\", \"17\", \"18\", \"19\", \"20\", \"21\", \"22\", \"23\", \"24\", \"25\", \"26\", \"27\", \"28\", \"29\", \"30\", \"32\", \"33\", \"34\", \"35\", \"38\", \"39\"], \"mode\": \"markers\", \"name\": \"f1_score_macro\", \"stepped\": false, \"type\": \"scatter\", \"data\": [0.6584702892508193, 0.8291742252457523, 0.3336522705365025, 0.8257847451893451, 0.33653173220470994, 0.3325400478438249, 0.831897429825533, 0.3325400478438249, 0.7276556083965803, 0.8095718637799951, 0.3336719680400797, 0.6491019919574745, 0.32936990357425966, 0.5974914296682772, 0.3325400478438249, 0.6276022801252329, 0.6823809752786051, 0.8227854892751493, 0.839851524549472, 0.8389986504548615, 0.8042241843066953, 0.8531530349338716, 0.7146595697423959, 0.814655514817536, 0.7766390068895179, 0.83030219793237, 0.6867576194342072, 0.7837606825729991, 0.7979974652883366, 0.791746460417078, 0.8351066471564412, 0.8231658153372416, 0.3325400478438249, 0.8376611960772455, 0.8450463499453449, 0.7990884502709994, 0.8386614263819723]}, {\"categories\": [\"0\", \"1\", \"2\", \"3\", \"4\", \"5\", \"6\", \"7\", \"8\", \"9\", \"10\", \"11\", \"12\", \"13\", \"14\", \"15\", \"16\", \"17\", \"18\", \"19\", \"20\", \"21\", \"22\", \"23\", \"24\", \"25\", \"26\", \"27\", \"28\", \"29\", \"30\", \"32\", \"33\", \"34\", \"35\", \"38\", \"39\"], \"mode\": \"lines\", \"name\": \"f1_score_macro_max\", \"stepped\": true, \"type\": \"scatter\", \"data\": [0.6584702892508193, 0.8291742252457523, 0.8291742252457523, 0.8291742252457523, 0.8291742252457523, 0.8291742252457523, 0.831897429825533, 0.831897429825533, 0.831897429825533, 0.831897429825533, 0.831897429825533, 0.831897429825533, 0.831897429825533, 0.831897429825533, 0.831897429825533, 0.831897429825533, 0.831897429825533, 0.831897429825533, 0.839851524549472, 0.839851524549472, 0.839851524549472, 0.8531530349338716, 0.8531530349338716, 0.8531530349338716, 0.8531530349338716, 0.8531530349338716, 0.8531530349338716, 0.8531530349338716, 0.8531530349338716, 0.8531530349338716, 0.8531530349338716, 0.8531530349338716, 0.8531530349338716, 0.8531530349338716, 0.8531530349338716, 0.8531530349338716, 0.8531530349338716]}], \"balanced_accuracy\": [{\"categories\": [\"0\", \"1\", \"2\", \"3\", \"4\", \"5\", \"6\", \"7\", \"8\", \"9\", \"10\", \"11\", \"12\", \"13\", \"14\", \"15\", \"16\", \"17\", \"18\", \"19\", \"20\", \"21\", \"22\", \"23\", \"24\", \"25\", \"26\", \"27\", \"28\", \"29\", \"30\", \"32\", \"33\", \"34\", \"35\", \"38\", \"39\"], \"mode\": \"markers\", \"name\": \"balanced_accuracy\", \"stepped\": false, \"type\": \"scatter\", \"data\": [0.6889454015068055, 0.8303267302489078, 0.5044141697469113, 0.8258366882914269, 0.5018248175182483, 0.5, 0.8318487337000757, 0.5, 0.7434146467233325, 0.8118810066063967, 0.49992456246228123, 0.6828612907095986, 0.5, 0.6425148140536207, 0.5, 0.6671795542059928, 0.7084187690214292, 0.8232099693416601, 0.8394394552710132, 0.8379825197634325, 0.8067871009108122, 0.8520889094167623, 0.7303688060014124, 0.8162479903416728, 0.7781170266836639, 0.830125003284003, 0.7060824761937534, 0.785929236703625, 0.7982403077396909, 0.7925046247620948, 0.834977288076475, 0.8221133671975112, 0.5, 0.8365884016325913, 0.8453672155150777, 0.8037859469987372, 0.8393192168063923]}, {\"categories\": [\"0\", \"1\", \"2\", \"3\", \"4\", \"5\", \"6\", \"7\", \"8\", \"9\", \"10\", \"11\", \"12\", \"13\", \"14\", \"15\", \"16\", \"17\", \"18\", \"19\", \"20\", \"21\", \"22\", \"23\", \"24\", \"25\", \"26\", \"27\", \"28\", \"29\", \"30\", \"32\", \"33\", \"34\", \"35\", \"38\", \"39\"], \"mode\": \"lines\", \"name\": \"balanced_accuracy_max\", \"stepped\": true, \"type\": \"scatter\", \"data\": [0.6889454015068055, 0.8303267302489078, 0.8303267302489078, 0.8303267302489078, 0.8303267302489078, 0.8303267302489078, 0.8318487337000757, 0.8318487337000757, 0.8318487337000757, 0.8318487337000757, 0.8318487337000757, 0.8318487337000757, 0.8318487337000757, 0.8318487337000757, 0.8318487337000757, 0.8318487337000757, 0.8318487337000757, 0.8318487337000757, 0.8394394552710132, 0.8394394552710132, 0.8394394552710132, 0.8520889094167623, 0.8520889094167623, 0.8520889094167623, 0.8520889094167623, 0.8520889094167623, 0.8520889094167623, 0.8520889094167623, 0.8520889094167623, 0.8520889094167623, 0.8520889094167623, 0.8520889094167623, 0.8520889094167623, 0.8520889094167623, 0.8520889094167623, 0.8520889094167623, 0.8520889094167623]}], \"AUC_macro\": [{\"categories\": [\"0\", \"1\", \"2\", \"3\", \"4\", \"5\", \"6\", \"7\", \"8\", \"9\", \"10\", \"11\", \"12\", \"13\", \"14\", \"15\", \"16\", \"17\", \"18\", \"19\", \"20\", \"21\", \"22\", \"23\", \"24\", \"25\", \"26\", \"27\", \"28\", \"29\", \"30\", \"32\", \"33\", \"34\", \"35\", \"38\", \"39\"], \"mode\": \"markers\", \"name\": \"AUC_macro\", \"stepped\": false, \"type\": \"scatter\", \"data\": [0.9241566257238704, 0.9269761352000103, 0.5369985750137856, 0.9115275396583536, 0.8735020959278992, 0.6280055755865783, 0.9128354269209918, 0.5, 0.9006671132952015, 0.9127928965434351, 0.7833557089705341, 0.889692023362285, 0.5, 0.6582376694424426, 0.5, 0.8948721676841872, 0.9029346918330591, 0.9016332110507153, 0.9185456887836263, 0.9126726994383576, 0.9184243825468008, 0.9162828149762979, 0.9162081636778086, 0.9240892825555957, 0.8505178734120558, 0.9027666682773383, 0.877752930564826, 0.8671926570568153, 0.8572438852727273, 0.8640157593105201, 0.9250186870588093, 0.9081765329955951, 0.619276701494886, 0.9192794308745895, 0.9178084401083579, 0.9333576239964617, 0.9318042099768725]}, {\"categories\": [\"0\", \"1\", \"2\", \"3\", \"4\", \"5\", \"6\", \"7\", \"8\", \"9\", \"10\", \"11\", \"12\", \"13\", \"14\", \"15\", \"16\", \"17\", \"18\", \"19\", \"20\", \"21\", \"22\", \"23\", \"24\", \"25\", \"26\", \"27\", \"28\", \"29\", \"30\", \"32\", \"33\", \"34\", \"35\", \"38\", \"39\"], \"mode\": \"lines\", \"name\": \"AUC_macro_max\", \"stepped\": true, \"type\": \"scatter\", \"data\": [0.9241566257238704, 0.9269761352000103, 0.9269761352000103, 0.9269761352000103, 0.9269761352000103, 0.9269761352000103, 0.9269761352000103, 0.9269761352000103, 0.9269761352000103, 0.9269761352000103, 0.9269761352000103, 0.9269761352000103, 0.9269761352000103, 0.9269761352000103, 0.9269761352000103, 0.9269761352000103, 0.9269761352000103, 0.9269761352000103, 0.9269761352000103, 0.9269761352000103, 0.9269761352000103, 0.9269761352000103, 0.9269761352000103, 0.9269761352000103, 0.9269761352000103, 0.9269761352000103, 0.9269761352000103, 0.9269761352000103, 0.9269761352000103, 0.9269761352000103, 0.9269761352000103, 0.9269761352000103, 0.9269761352000103, 0.9269761352000103, 0.9269761352000103, 0.9333576239964617, 0.9333576239964617]}], \"norm_macro_recall\": [{\"categories\": [\"0\", \"1\", \"2\", \"3\", \"4\", \"5\", \"6\", \"7\", \"8\", \"9\", \"10\", \"11\", \"12\", \"13\", \"14\", \"15\", \"16\", \"17\", \"18\", \"19\", \"20\", \"21\", \"22\", \"23\", \"24\", \"25\", \"26\", \"27\", \"28\", \"29\", \"30\", \"32\", \"33\", \"34\", \"35\", \"38\", \"39\"], \"mode\": \"markers\", \"name\": \"norm_macro_recall\", \"stepped\": false, \"type\": \"scatter\", \"data\": [0.37789080301361005, 0.6606534604978114, 0.008828339493822612, 0.6516733765828437, 0.0036496350364964014, 0.0, 0.6636974674001423, 0.0, 0.48682929344665105, 0.6237620132127892, 0.0, 0.3657225814191878, 0.0, 0.28502962810723315, 0.0, 0.33435910841197786, 0.41683753804284657, 0.6464199386833147, 0.6788789105420202, 0.6759650395268586, 0.6135742018216203, 0.7041778188335175, 0.46073761200282265, 0.6324959806833415, 0.5562340533673205, 0.6602500065679986, 0.412164952387504, 0.5718584734072438, 0.5964806154793731, 0.5850092495241823, 0.6699545761529442, 0.6442267343950145, 0.0, 0.6731768032651761, 0.6907344310301481, 0.6075718939974717, 0.6786384336127791]}, {\"categories\": [\"0\", \"1\", \"2\", \"3\", \"4\", \"5\", \"6\", \"7\", \"8\", \"9\", \"10\", \"11\", \"12\", \"13\", \"14\", \"15\", \"16\", \"17\", \"18\", \"19\", \"20\", \"21\", \"22\", \"23\", \"24\", \"25\", \"26\", \"27\", \"28\", \"29\", \"30\", \"32\", \"33\", \"34\", \"35\", \"38\", \"39\"], \"mode\": \"lines\", \"name\": \"norm_macro_recall_max\", \"stepped\": true, \"type\": \"scatter\", \"data\": [0.37789080301361005, 0.6606534604978114, 0.6606534604978114, 0.6606534604978114, 0.6606534604978114, 0.6606534604978114, 0.6636974674001423, 0.6636974674001423, 0.6636974674001423, 0.6636974674001423, 0.6636974674001423, 0.6636974674001423, 0.6636974674001423, 0.6636974674001423, 0.6636974674001423, 0.6636974674001423, 0.6636974674001423, 0.6636974674001423, 0.6788789105420202, 0.6788789105420202, 0.6788789105420202, 0.7041778188335175, 0.7041778188335175, 0.7041778188335175, 0.7041778188335175, 0.7041778188335175, 0.7041778188335175, 0.7041778188335175, 0.7041778188335175, 0.7041778188335175, 0.7041778188335175, 0.7041778188335175, 0.7041778188335175, 0.7041778188335175, 0.7041778188335175, 0.7041778188335175, 0.7041778188335175]}], \"recall_score_macro\": [{\"categories\": [\"0\", \"1\", \"2\", \"3\", \"4\", \"5\", \"6\", \"7\", \"8\", \"9\", \"10\", \"11\", \"12\", \"13\", \"14\", \"15\", \"16\", \"17\", \"18\", \"19\", \"20\", \"21\", \"22\", \"23\", \"24\", \"25\", \"26\", \"27\", \"28\", \"29\", \"30\", \"32\", \"33\", \"34\", \"35\", \"38\", \"39\"], \"mode\": \"markers\", \"name\": \"recall_score_macro\", \"stepped\": false, \"type\": \"scatter\", \"data\": [0.6889454015068055, 0.8303267302489078, 0.5044141697469113, 0.8258366882914269, 0.5018248175182483, 0.5, 0.8318487337000757, 0.5, 0.7434146467233325, 0.8118810066063967, 0.49992456246228123, 0.6828612907095986, 0.5, 0.6425148140536207, 0.5, 0.6671795542059928, 0.7084187690214292, 0.8232099693416601, 0.8394394552710132, 0.8379825197634325, 0.8067871009108122, 0.8520889094167623, 0.7303688060014124, 0.8162479903416728, 0.7781170266836639, 0.830125003284003, 0.7060824761937534, 0.785929236703625, 0.7982403077396909, 0.7925046247620948, 0.834977288076475, 0.8221133671975112, 0.5, 0.8365884016325913, 0.8453672155150777, 0.8037859469987372, 0.8393192168063923]}, {\"categories\": [\"0\", \"1\", \"2\", \"3\", \"4\", \"5\", \"6\", \"7\", \"8\", \"9\", \"10\", \"11\", \"12\", \"13\", \"14\", \"15\", \"16\", \"17\", \"18\", \"19\", \"20\", \"21\", \"22\", \"23\", \"24\", \"25\", \"26\", \"27\", \"28\", \"29\", \"30\", \"32\", \"33\", \"34\", \"35\", \"38\", \"39\"], \"mode\": \"lines\", \"name\": \"recall_score_macro_max\", \"stepped\": true, \"type\": \"scatter\", \"data\": [0.6889454015068055, 0.8303267302489078, 0.8303267302489078, 0.8303267302489078, 0.8303267302489078, 0.8303267302489078, 0.8318487337000757, 0.8318487337000757, 0.8318487337000757, 0.8318487337000757, 0.8318487337000757, 0.8318487337000757, 0.8318487337000757, 0.8318487337000757, 0.8318487337000757, 0.8318487337000757, 0.8318487337000757, 0.8318487337000757, 0.8394394552710132, 0.8394394552710132, 0.8394394552710132, 0.8520889094167623, 0.8520889094167623, 0.8520889094167623, 0.8520889094167623, 0.8520889094167623, 0.8520889094167623, 0.8520889094167623, 0.8520889094167623, 0.8520889094167623, 0.8520889094167623, 0.8520889094167623, 0.8520889094167623, 0.8520889094167623, 0.8520889094167623, 0.8520889094167623, 0.8520889094167623]}], \"f1_score_weighted\": [{\"categories\": [\"0\", \"1\", \"2\", \"3\", \"4\", \"5\", \"6\", \"7\", \"8\", \"9\", \"10\", \"11\", \"12\", \"13\", \"14\", \"15\", \"16\", \"17\", \"18\", \"19\", \"20\", \"21\", \"22\", \"23\", \"24\", \"25\", \"26\", \"27\", \"28\", \"29\", \"30\", \"32\", \"33\", \"34\", \"35\", \"38\", \"39\"], \"mode\": \"markers\", \"name\": \"f1_score_weighted\", \"stepped\": false, \"type\": \"scatter\", \"data\": [0.6594174621384453, 0.8303205015472056, 0.3175242735470779, 0.8263508966415106, 0.33614727450536935, 0.3323004117093057, 0.832387568707591, 0.3323004117093057, 0.727882380096128, 0.8103558789952725, 0.33517035497586645, 0.6506082344645433, 0.32436949955419003, 0.5954849597608032, 0.3323004117093057, 0.628636353178202, 0.6829833778171559, 0.8238315480921741, 0.840629088036668, 0.8400069153382081, 0.8051711449231627, 0.8538278314896912, 0.7158598255818, 0.8157156866870772, 0.7773173366594476, 0.8308983503160389, 0.6879064915818608, 0.7842821811166778, 0.7986064301045738, 0.792393161535361, 0.8360792365646934, 0.8241218771509737, 0.3323004117093057, 0.8387007974636217, 0.8454186455426657, 0.8002034537342919, 0.8392092746128434]}, {\"categories\": [\"0\", \"1\", \"2\", \"3\", \"4\", \"5\", \"6\", \"7\", \"8\", \"9\", \"10\", \"11\", \"12\", \"13\", \"14\", \"15\", \"16\", \"17\", \"18\", \"19\", \"20\", \"21\", \"22\", \"23\", \"24\", \"25\", \"26\", \"27\", \"28\", \"29\", \"30\", \"32\", \"33\", \"34\", \"35\", \"38\", \"39\"], \"mode\": \"lines\", \"name\": \"f1_score_weighted_max\", \"stepped\": true, \"type\": \"scatter\", \"data\": [0.6594174621384453, 0.8303205015472056, 0.8303205015472056, 0.8303205015472056, 0.8303205015472056, 0.8303205015472056, 0.832387568707591, 0.832387568707591, 0.832387568707591, 0.832387568707591, 0.832387568707591, 0.832387568707591, 0.832387568707591, 0.832387568707591, 0.832387568707591, 0.832387568707591, 0.832387568707591, 0.832387568707591, 0.840629088036668, 0.840629088036668, 0.840629088036668, 0.8538278314896912, 0.8538278314896912, 0.8538278314896912, 0.8538278314896912, 0.8538278314896912, 0.8538278314896912, 0.8538278314896912, 0.8538278314896912, 0.8538278314896912, 0.8538278314896912, 0.8538278314896912, 0.8538278314896912, 0.8538278314896912, 0.8538278314896912, 0.8538278314896912, 0.8538278314896912]}], \"AUC_micro\": [{\"categories\": [\"0\", \"1\", \"2\", \"3\", \"4\", \"5\", \"6\", \"7\", \"8\", \"9\", \"10\", \"11\", \"12\", \"13\", \"14\", \"15\", \"16\", \"17\", \"18\", \"19\", \"20\", \"21\", \"22\", \"23\", \"24\", \"25\", \"26\", \"27\", \"28\", \"29\", \"30\", \"32\", \"33\", \"34\", \"35\", \"38\", \"39\"], \"mode\": \"markers\", \"name\": \"AUC_micro\", \"stepped\": false, \"type\": \"scatter\", \"data\": [0.7925389901306478, 0.9049811290860921, 0.4943131145594457, 0.9109477515625282, 0.6849299128116693, 0.5624461095044193, 0.9110328085787159, 0.49869025369847875, 0.820851998753817, 0.8909548998960433, 0.6425335390126024, 0.7635524753038149, 0.4915546533513475, 0.6479450654673755, 0.49869025369847875, 0.762525172702447, 0.7843131454334602, 0.8919731728013919, 0.9143410528142537, 0.91103700185564, 0.8848567689990258, 0.918047495737357, 0.8280684218898888, 0.8991717526259293, 0.8427651139174583, 0.9026203034590419, 0.7910398610726191, 0.8403026020172348, 0.858004131318364, 0.8531587595066108, 0.9134317475296871, 0.9096719759885771, 0.5581662889708237, 0.9127437966265239, 0.9187449363166078, 0.8918233738550504, 0.920128080279528]}, {\"categories\": [\"0\", \"1\", \"2\", \"3\", \"4\", \"5\", \"6\", \"7\", \"8\", \"9\", \"10\", \"11\", \"12\", \"13\", \"14\", \"15\", \"16\", \"17\", \"18\", \"19\", \"20\", \"21\", \"22\", \"23\", \"24\", \"25\", \"26\", \"27\", \"28\", \"29\", \"30\", \"32\", \"33\", \"34\", \"35\", \"38\", \"39\"], \"mode\": \"lines\", \"name\": \"AUC_micro_max\", \"stepped\": true, \"type\": \"scatter\", \"data\": [0.7925389901306478, 0.9049811290860921, 0.9049811290860921, 0.9109477515625282, 0.9109477515625282, 0.9109477515625282, 0.9110328085787159, 0.9110328085787159, 0.9110328085787159, 0.9110328085787159, 0.9110328085787159, 0.9110328085787159, 0.9110328085787159, 0.9110328085787159, 0.9110328085787159, 0.9110328085787159, 0.9110328085787159, 0.9110328085787159, 0.9143410528142537, 0.9143410528142537, 0.9143410528142537, 0.918047495737357, 0.918047495737357, 0.918047495737357, 0.918047495737357, 0.918047495737357, 0.918047495737357, 0.918047495737357, 0.918047495737357, 0.918047495737357, 0.918047495737357, 0.918047495737357, 0.918047495737357, 0.918047495737357, 0.9187449363166078, 0.9187449363166078, 0.920128080279528]}], \"matthews_correlation\": [{\"categories\": [\"0\", \"1\", \"2\", \"3\", \"4\", \"5\", \"6\", \"7\", \"8\", \"9\", \"10\", \"11\", \"12\", \"13\", \"14\", \"15\", \"16\", \"17\", \"18\", \"19\", \"20\", \"21\", \"22\", \"23\", \"24\", \"25\", \"26\", \"27\", \"28\", \"29\", \"30\", \"32\", \"33\", \"34\", \"35\", \"38\", \"39\"], \"mode\": \"markers\", \"name\": \"matthews_correlation\", \"stepped\": false, \"type\": \"scatter\", \"data\": [0.46660502361357925, 0.6745950499285648, 0.0480011337848332, 0.6601554191718125, 0.02191302508626515, 0.0, 0.6659223132737869, 0.0, 0.5532654066620812, 0.6391458056827395, -0.004188339949897531, 0.45997404963822114, 0.0, 0.28683240760143264, 0.0, 0.43928846945774974, 0.5048879854256229, 0.6552979795567396, 0.683771754058874, 0.6828631079079129, 0.6334598096823518, 0.708273207436843, 0.521233786465641, 0.6490493000341123, 0.5615965271756085, 0.6615442150464013, 0.47228594778863564, 0.5814062044678512, 0.5975824774821763, 0.5900251155906786, 0.6784917839855652, 0.649895918396696, 0.0, 0.6808106204502161, 0.6903633259376636, 0.6387933860456131, 0.6856356291969056]}, {\"categories\": [\"0\", \"1\", \"2\", \"3\", \"4\", \"5\", \"6\", \"7\", \"8\", \"9\", \"10\", \"11\", \"12\", \"13\", \"14\", \"15\", \"16\", \"17\", \"18\", \"19\", \"20\", \"21\", \"22\", \"23\", \"24\", \"25\", \"26\", \"27\", \"28\", \"29\", \"30\", \"32\", \"33\", \"34\", \"35\", \"38\", \"39\"], \"mode\": \"lines\", \"name\": \"matthews_correlation_max\", \"stepped\": true, \"type\": \"scatter\", \"data\": [0.46660502361357925, 0.6745950499285648, 0.6745950499285648, 0.6745950499285648, 0.6745950499285648, 0.6745950499285648, 0.6745950499285648, 0.6745950499285648, 0.6745950499285648, 0.6745950499285648, 0.6745950499285648, 0.6745950499285648, 0.6745950499285648, 0.6745950499285648, 0.6745950499285648, 0.6745950499285648, 0.6745950499285648, 0.6745950499285648, 0.683771754058874, 0.683771754058874, 0.683771754058874, 0.708273207436843, 0.708273207436843, 0.708273207436843, 0.708273207436843, 0.708273207436843, 0.708273207436843, 0.708273207436843, 0.708273207436843, 0.708273207436843, 0.708273207436843, 0.708273207436843, 0.708273207436843, 0.708273207436843, 0.708273207436843, 0.708273207436843, 0.708273207436843]}]}, \"metricName\": null, \"primaryMetricName\": \"average_precision_score_weighted\", \"showLegend\": false}, \"run_metrics\": [{\"name\": \"experiment_status\", \"run_id\": \"AutoML_9fc44e25-e1ba-4374-a61c-1596b51212d6\", \"categories\": [0, 1, 2, 3, 4, 5, 6, 7, 8, 9, 10, 11, 12, 13, 14], \"series\": [{\"data\": [\"DatasetEvaluation\", \"FeaturesGeneration\", \"DatasetFeaturization\", \"DatasetFeaturizationCompleted\", \"DatasetBalancing\", \"DatasetCrossValidationSplit\", \"ModelSelection\", \"BestRunExplainModel\", \"ModelExplanationDataSetSetup\", \"PickSurrogateModel\", \"EngineeredFeatureExplanations\", \"EngineeredFeatureExplanations\", \"RawFeaturesExplanations\", \"RawFeaturesExplanations\", \"BestRunExplainModel\"]}]}, {\"name\": \"experiment_status_description\", \"run_id\": \"AutoML_9fc44e25-e1ba-4374-a61c-1596b51212d6\", \"categories\": [0, 1, 2, 3, 4, 5, 6, 7, 8, 9, 10, 11, 12, 13, 14], \"series\": [{\"data\": [\"Gathering dataset statistics.\", \"Generating features for the dataset.\", \"Beginning to fit featurizers and featurize the dataset.\", \"Completed fit featurizers and featurizing the dataset.\", \"Performing class balancing sweeping\", \"Generating individually featurized CV splits.\", \"Beginning model selection.\", \"Best run model explanations started\", \"Model explanations data setup completed\", \"Choosing LinearModel as the surrogate model for explanations\", \"Computation of engineered features started\", \"Computation of engineered features completed\", \"Computation of raw features started\", \"Computation of raw features completed\", \"Best run model explanations completed\"]}]}, {\"name\": \"AUC_micro\", \"run_id\": \"AutoML_9fc44e25-e1ba-4374-a61c-1596b51212d6\", \"categories\": [0], \"series\": [{\"data\": [0.8918233738550504]}]}, {\"name\": \"f1_score_macro\", \"run_id\": \"AutoML_9fc44e25-e1ba-4374-a61c-1596b51212d6\", \"categories\": [0], \"series\": [{\"data\": [0.7990884502709994]}]}, {\"name\": \"recall_score_micro\", \"run_id\": \"AutoML_9fc44e25-e1ba-4374-a61c-1596b51212d6\", \"categories\": [0], \"series\": [{\"data\": [0.8058999136287319]}]}, {\"name\": \"recall_score_weighted\", \"run_id\": \"AutoML_9fc44e25-e1ba-4374-a61c-1596b51212d6\", \"categories\": [0], \"series\": [{\"data\": [0.8058999136287319]}]}, {\"name\": \"precision_score_micro\", \"run_id\": \"AutoML_9fc44e25-e1ba-4374-a61c-1596b51212d6\", \"categories\": [0], \"series\": [{\"data\": [0.8058999136287355]}]}, {\"name\": \"AUC_macro\", \"run_id\": \"AutoML_9fc44e25-e1ba-4374-a61c-1596b51212d6\", \"categories\": [0], \"series\": [{\"data\": [0.9333576239964617]}]}, {\"name\": \"log_loss\", \"run_id\": \"AutoML_9fc44e25-e1ba-4374-a61c-1596b51212d6\", \"categories\": [0], \"series\": [{\"data\": [0.4410672898986307]}]}, {\"name\": \"accuracy\", \"run_id\": \"AutoML_9fc44e25-e1ba-4374-a61c-1596b51212d6\", \"categories\": [0], \"series\": [{\"data\": [0.8058999136287315]}]}, {\"name\": \"average_precision_score_weighted\", \"run_id\": \"AutoML_9fc44e25-e1ba-4374-a61c-1596b51212d6\", \"categories\": [0], \"series\": [{\"data\": [0.9344817933349623]}]}, {\"name\": \"weighted_accuracy\", \"run_id\": \"AutoML_9fc44e25-e1ba-4374-a61c-1596b51212d6\", \"categories\": [0], \"series\": [{\"data\": [0.9548247985384357]}]}, {\"name\": \"average_precision_score_macro\", \"run_id\": \"AutoML_9fc44e25-e1ba-4374-a61c-1596b51212d6\", \"categories\": [0], \"series\": [{\"data\": [0.9342066906864729]}]}, {\"name\": \"average_precision_score_micro\", \"run_id\": \"AutoML_9fc44e25-e1ba-4374-a61c-1596b51212d6\", \"categories\": [0], \"series\": [{\"data\": [0.8973399780016438]}]}, {\"name\": \"norm_macro_recall\", \"run_id\": \"AutoML_9fc44e25-e1ba-4374-a61c-1596b51212d6\", \"categories\": [0], \"series\": [{\"data\": [0.6075718939974717]}]}, {\"name\": \"f1_score_micro\", \"run_id\": \"AutoML_9fc44e25-e1ba-4374-a61c-1596b51212d6\", \"categories\": [0], \"series\": [{\"data\": [0.8058999136287336]}]}, {\"name\": \"precision_score_macro\", \"run_id\": \"AutoML_9fc44e25-e1ba-4374-a61c-1596b51212d6\", \"categories\": [0], \"series\": [{\"data\": [0.8362243316092264]}]}, {\"name\": \"AUC_weighted\", \"run_id\": \"AutoML_9fc44e25-e1ba-4374-a61c-1596b51212d6\", \"categories\": [0], \"series\": [{\"data\": [0.9333576239964617]}]}, {\"name\": \"f1_score_weighted\", \"run_id\": \"AutoML_9fc44e25-e1ba-4374-a61c-1596b51212d6\", \"categories\": [0], \"series\": [{\"data\": [0.8002034537342919]}]}, {\"name\": \"precision_score_weighted\", \"run_id\": \"AutoML_9fc44e25-e1ba-4374-a61c-1596b51212d6\", \"categories\": [0], \"series\": [{\"data\": [0.8358765922382849]}]}, {\"name\": \"matthews_correlation\", \"run_id\": \"AutoML_9fc44e25-e1ba-4374-a61c-1596b51212d6\", \"categories\": [0], \"series\": [{\"data\": [0.6387933860456131]}]}, {\"name\": \"balanced_accuracy\", \"run_id\": \"AutoML_9fc44e25-e1ba-4374-a61c-1596b51212d6\", \"categories\": [0], \"series\": [{\"data\": [0.8037859469987372]}]}, {\"name\": \"recall_score_macro\", \"run_id\": \"AutoML_9fc44e25-e1ba-4374-a61c-1596b51212d6\", \"categories\": [0], \"series\": [{\"data\": [0.8037859469987372]}]}], \"run_logs\": \"\\nRun is completed.\", \"graph\": {}, \"widget_settings\": {\"childWidgetDisplay\": \"popup\", \"send_telemetry\": false, \"log_level\": \"INFO\", \"sdk_version\": \"1.20.0\"}, \"loading\": false}"
     },
     "metadata": {},
     "output_type": "display_data"
    },
    {
     "name": "stdout",
     "output_type": "stream",
     "text": [
      "\n",
      "\n",
      "****************************************************************************************************\n",
      "DATA GUARDRAILS: \n",
      "\n",
      "TYPE:         Class balancing detection\n",
      "STATUS:       ALERTED\n",
      "DESCRIPTION:  To decrease model bias, please cancel the current run and fix balancing problem.\n",
      "              Learn more about imbalanced data: https://aka.ms/AutomatedMLImbalancedData\n",
      "DETAILS:      Imbalanced data can lead to a falsely perceived positive effect of a model's accuracy because the input data has bias towards one class.\n",
      "+---------------------------------+---------------------------------+--------------------------------------+\n",
      "|Size of the smallest class       |Name/Label of the smallest class |Number of samples in the training data|\n",
      "+=================================+=================================+======================================+\n",
      "|220                              |1                                |6819                                  |\n",
      "+---------------------------------+---------------------------------+--------------------------------------+\n",
      "\n",
      "****************************************************************************************************\n",
      "\n",
      "TYPE:         Missing feature values imputation\n",
      "STATUS:       PASSED\n",
      "DESCRIPTION:  No feature missing values were detected in the training data.\n",
      "              Learn more about missing value imputation: https://aka.ms/AutomatedMLFeaturization\n",
      "\n",
      "****************************************************************************************************\n",
      "\n",
      "TYPE:         High cardinality feature detection\n",
      "STATUS:       DONE\n",
      "DESCRIPTION:  High cardinality features were detected in your inputs and handled.\n",
      "              Learn more about high cardinality feature handling: https://aka.ms/AutomatedMLFeaturization\n",
      "DETAILS:      High cardinality features refer to columns that contain a large percentage of unique values.\n",
      "+---------------------------------+---------------------------------+\n",
      "|Column name                      |Column Content Type              |\n",
      "+=================================+=================================+\n",
      "| ROA(C) before interest and de...|categorical_hash                 |\n",
      "| ROA(A) before interest and % ...|categorical_hash                 |\n",
      "| ROA(B) before interest and de...|categorical_hash                 |\n",
      "| operating gross margin          |categorical_hash                 |\n",
      "| realized sales gross margin     |categorical_hash                 |\n",
      "| operating profit rate           |categorical_hash                 |\n",
      "| tax Pre-net interest rate       |categorical_hash                 |\n",
      "| after-tax net interest rate     |categorical_hash                 |\n",
      "| non-industry income and expen...|categorical_hash                 |\n",
      "| continuous interest rate (aft...|categorical_hash                 |\n",
      "| operating expense rate          |categorical_hash                 |\n",
      "| research and development expe...|categorical_hash                 |\n",
      "| interest-bearing debt interes...|categorical_hash                 |\n",
      "| tax rate (A)                    |categorical_hash                 |\n",
      "| per Net Share Value (B)         |categorical_hash                 |\n",
      "| Net Value Per Share (A)         |categorical_hash                 |\n",
      "| Net Value Per Share (C)         |categorical_hash                 |\n",
      "| Persistent EPS in the Last Fo...|categorical_hash                 |\n",
      "| Cash Flow Per Share             |categorical_hash                 |\n",
      "| Revenue Per Share (Yuan)        |categorical_hash                 |\n",
      "| Operating Profit Per Share (Y...|categorical_hash                 |\n",
      "| Per Share Net profit before t...|categorical_hash                 |\n",
      "| total asset growth rate         |categorical_hash                 |\n",
      "| net value growth rate           |categorical_hash                 |\n",
      "| total asset return growth rat...|categorical_hash                 |\n",
      "| cash reinvestment %             |categorical_hash                 |\n",
      "| interest expense ratio          |categorical_hash                 |\n",
      "| debt ratio %                    |categorical_hash                 |\n",
      "| net worth/assets                |categorical_hash                 |\n",
      "| borrowing dependency            |categorical_hash                 |\n",
      "| contingent liabilities/net worth|categorical_hash                 |\n",
      "| Operating profit/paid-in capital|categorical_hash                 |\n",
      "| total asset turnover            |categorical_hash                 |\n",
      "| accounts receivable turnover    |categorical_hash                 |\n",
      "| inventory turnover rate (times) |categorical_hash                 |\n",
      "| fixed assets Turnover frequency |categorical_hash                 |\n",
      "| net worth turnover rate (times) |categorical_hash                 |\n",
      "| operating profit per person     |categorical_hash                 |\n",
      "| cash turnover rate              |categorical_hash                 |\n",
      "+---------------------------------+---------------------------------+\n",
      "\n",
      "****************************************************************************************************\n",
      "\n",
      "****************************************************************************************************\n",
      "ITERATION: The iteration being evaluated.\n",
      "PIPELINE: A summary description of the pipeline being evaluated.\n",
      "DURATION: Time taken for the current iteration.\n",
      "METRIC: The result of computing score on the fitted pipeline.\n",
      "BEST: The best observed score thus far.\n",
      "****************************************************************************************************\n",
      "\n",
      " ITERATION   PIPELINE                                       DURATION      METRIC      BEST\n",
      "         0   MaxAbsScaler LightGBM                          0:03:25       0.9242    0.9242\n",
      "         1   MaxAbsScaler XGBoostClassifier                 0:02:31       0.9239    0.9242\n",
      "         2   MaxAbsScaler ExtremeRandomTrees                0:03:22       0.5351    0.9242\n",
      "         3   MaxAbsScaler ExtremeRandomTrees                0:03:41       0.9115    0.9242\n",
      "         4   MaxAbsScaler ExtremeRandomTrees                0:01:05       0.8710    0.9242\n",
      "         5   MaxAbsScaler RandomForest                      0:05:37       0.6050    0.9242\n",
      "         6   MaxAbsScaler ExtremeRandomTrees                0:01:04       0.9140    0.9242\n",
      "         7   MaxAbsScaler RandomForest                      0:00:55       0.5014    0.9242\n",
      "         8   MaxAbsScaler RandomForest                      0:00:58       0.8983    0.9242\n",
      "         9   StandardScalerWrapper XGBoostClassifier        0:01:06       0.9058    0.9242\n",
      "        10   MaxAbsScaler SGD                               0:00:48       0.7431    0.9242\n",
      "        11   MaxAbsScaler ExtremeRandomTrees                0:00:56       0.8904    0.9242\n",
      "        12   MaxAbsScaler RandomForest                      0:00:56       0.5014    0.9242\n",
      "        13   MaxAbsScaler RandomForest                      0:00:57       0.6224    0.9242\n",
      "        14   MaxAbsScaler ExtremeRandomTrees                0:00:52       0.5014    0.9242\n",
      "        15   SparseNormalizer ExtremeRandomTrees            0:01:22       0.8948    0.9242\n",
      "        16   MaxAbsScaler ExtremeRandomTrees                0:01:15       0.9034    0.9242\n",
      "        17   MaxAbsScaler LightGBM                          0:00:53       0.8960    0.9242\n",
      "        18   StandardScalerWrapper LightGBM                 0:00:59       0.9186    0.9242\n",
      "        19   SparseNormalizer LightGBM                      0:01:11       0.9104    0.9242\n",
      "        20   SparseNormalizer LightGBM                      0:00:58       0.9184    0.9242\n",
      "        21   MaxAbsScaler LightGBM                          0:00:55       0.9121    0.9242\n",
      "        22   SparseNormalizer LightGBM                      0:00:55       0.9116    0.9242\n",
      "        23   SparseNormalizer LightGBM                      0:00:58       0.9220    0.9242\n",
      "        24   TruncatedSVDWrapper XGBoostClassifier          0:01:51       0.8359    0.9242\n",
      "        25   SparseNormalizer LightGBM                      0:00:50       0.9026    0.9242\n",
      "        26   TruncatedSVDWrapper XGBoostClassifier          0:02:21       0.8749    0.9242\n",
      "        27   TruncatedSVDWrapper XGBoostClassifier          0:02:23       0.8621    0.9242\n",
      "        28   TruncatedSVDWrapper XGBoostClassifier          0:01:47       0.8456    0.9242\n",
      "        29   TruncatedSVDWrapper XGBoostClassifier          0:01:50       0.8517    0.9242\n",
      "        30   SparseNormalizer LightGBM                      0:00:55       0.9237    0.9242\n",
      "        31   SparseNormalizer GradientBoosting              0:01:30          nan    0.9242\n",
      "        32   SparseNormalizer LightGBM                      0:00:52       0.9056    0.9242\n",
      "        33   SparseNormalizer ExtremeRandomTrees            0:00:56       0.5915    0.9242\n",
      "        34   SparseNormalizer XGBoostClassifier             0:01:08       0.9191    0.9242\n",
      "        35   SparseNormalizer LightGBM                      0:00:52       0.9120    0.9242\n",
      "        36                                                  0:00:19          nan    0.9242\n",
      "        37                                                  0:00:12          nan    0.9242\n",
      "        38    VotingEnsemble                                0:03:45       0.9345    0.9345\n",
      "        39    StackEnsemble                                 0:03:51       0.9328    0.9345\n"
     ]
    },
    {
     "data": {
      "text/plain": [
       "{'runId': 'AutoML_9fc44e25-e1ba-4374-a61c-1596b51212d6',\n",
       " 'target': 'cpu-cluster-4',\n",
       " 'status': 'Completed',\n",
       " 'startTimeUtc': '2021-02-03T14:20:30.868171Z',\n",
       " 'endTimeUtc': '2021-02-03T14:51:27.968111Z',\n",
       " 'properties': {'num_iterations': '1000',\n",
       "  'training_type': 'TrainFull',\n",
       "  'acquisition_function': 'EI',\n",
       "  'primary_metric': 'average_precision_score_weighted',\n",
       "  'train_split': '0',\n",
       "  'acquisition_parameter': '0',\n",
       "  'num_cross_validation': '4',\n",
       "  'target': 'cpu-cluster-4',\n",
       "  'AMLSettingsJsonString': '{\"path\":null,\"name\":\"Bankrupty_Automl\",\"subscription_id\":\"6971f5ac-8af1-446e-8034-05acea24681f\",\"resource_group\":\"aml-quickstarts-137092\",\"workspace_name\":\"quick-starts-ws-137092\",\"region\":\"southcentralus\",\"compute_target\":\"cpu-cluster-4\",\"spark_service\":null,\"azure_service\":\"remote\",\"many_models\":false,\"pipeline_fetch_max_batch_size\":1,\"iterations\":1000,\"primary_metric\":\"average_precision_score_weighted\",\"task_type\":\"classification\",\"data_script\":null,\"validation_size\":0.0,\"n_cross_validations\":4,\"y_min\":null,\"y_max\":null,\"num_classes\":null,\"featurization\":\"auto\",\"_ignore_package_version_incompatibilities\":false,\"is_timeseries\":false,\"max_cores_per_iteration\":1,\"max_concurrent_iterations\":5,\"iteration_timeout_minutes\":null,\"mem_in_mb\":null,\"enforce_time_on_windows\":false,\"experiment_timeout_minutes\":30,\"experiment_exit_score\":null,\"whitelist_models\":null,\"blacklist_algos\":[\"TensorFlowLinearClassifier\",\"TensorFlowDNN\"],\"supported_models\":[\"KNN\",\"TensorFlowDNN\",\"MultinomialNaiveBayes\",\"XGBoostClassifier\",\"BernoulliNaiveBayes\",\"AveragedPerceptronClassifier\",\"LightGBM\",\"SVM\",\"LogisticRegression\",\"DecisionTree\",\"TensorFlowLinearClassifier\",\"LinearSVM\",\"GradientBoosting\",\"ExtremeRandomTrees\",\"RandomForest\",\"SGD\"],\"auto_blacklist\":true,\"blacklist_samples_reached\":false,\"exclude_nan_labels\":true,\"verbosity\":20,\"_debug_log\":\"azureml_automl.log\",\"show_warnings\":false,\"model_explainability\":true,\"service_url\":null,\"sdk_url\":null,\"sdk_packages\":null,\"enable_onnx_compatible_models\":false,\"enable_split_onnx_featurizer_estimator_models\":false,\"vm_type\":\"STANDARD_D2_V2\",\"telemetry_verbosity\":20,\"send_telemetry\":true,\"enable_dnn\":false,\"scenario\":\"SDK-1.13.0\",\"environment_label\":null,\"force_text_dnn\":false,\"enable_feature_sweeping\":true,\"enable_early_stopping\":true,\"early_stopping_n_iters\":10,\"metrics\":null,\"enable_ensembling\":true,\"enable_stack_ensembling\":true,\"ensemble_iterations\":15,\"enable_tf\":false,\"enable_subsampling\":null,\"subsample_seed\":null,\"enable_nimbusml\":false,\"enable_streaming\":false,\"force_streaming\":false,\"track_child_runs\":true,\"allowed_private_models\":[],\"label_column_name\":\"Bankrupt?\",\"weight_column_name\":null,\"cv_split_column_names\":null,\"enable_local_managed\":false,\"_local_managed_run_id\":null,\"cost_mode\":1,\"lag_length\":0,\"metric_operation\":\"maximize\",\"preprocess\":true}',\n",
       "  'DataPrepJsonString': '{\\\\\"training_data\\\\\": \\\\\"{\\\\\\\\\\\\\"blocks\\\\\\\\\\\\\": [{\\\\\\\\\\\\\"id\\\\\\\\\\\\\": \\\\\\\\\\\\\"14a2e359-79c4-4f22-97b3-970894dec757\\\\\\\\\\\\\", \\\\\\\\\\\\\"type\\\\\\\\\\\\\": \\\\\\\\\\\\\"Microsoft.DPrep.GetDatastoreFilesBlock\\\\\\\\\\\\\", \\\\\\\\\\\\\"arguments\\\\\\\\\\\\\": {\\\\\\\\\\\\\"datastores\\\\\\\\\\\\\": [{\\\\\\\\\\\\\"datastoreName\\\\\\\\\\\\\": \\\\\\\\\\\\\"workspaceblobstore\\\\\\\\\\\\\", \\\\\\\\\\\\\"path\\\\\\\\\\\\\": \\\\\\\\\\\\\"UI/02-03-2021_021536_UTC/data.csv\\\\\\\\\\\\\", \\\\\\\\\\\\\"resourceGroup\\\\\\\\\\\\\": \\\\\\\\\\\\\"aml-quickstarts-137092\\\\\\\\\\\\\", \\\\\\\\\\\\\"subscription\\\\\\\\\\\\\": \\\\\\\\\\\\\"6971f5ac-8af1-446e-8034-05acea24681f\\\\\\\\\\\\\", \\\\\\\\\\\\\"workspaceName\\\\\\\\\\\\\": \\\\\\\\\\\\\"quick-starts-ws-137092\\\\\\\\\\\\\"}]}, \\\\\\\\\\\\\"localData\\\\\\\\\\\\\": {}, \\\\\\\\\\\\\"isEnabled\\\\\\\\\\\\\": true, \\\\\\\\\\\\\"name\\\\\\\\\\\\\": null, \\\\\\\\\\\\\"annotation\\\\\\\\\\\\\": null}, {\\\\\\\\\\\\\"id\\\\\\\\\\\\\": \\\\\\\\\\\\\"354fa11b-ef89-4aa2-b754-c393d8f17ae4\\\\\\\\\\\\\", \\\\\\\\\\\\\"type\\\\\\\\\\\\\": \\\\\\\\\\\\\"Microsoft.DPrep.ParseDelimitedBlock\\\\\\\\\\\\\", \\\\\\\\\\\\\"arguments\\\\\\\\\\\\\": {\\\\\\\\\\\\\"columnHeadersMode\\\\\\\\\\\\\": 1, \\\\\\\\\\\\\"fileEncoding\\\\\\\\\\\\\": 0, \\\\\\\\\\\\\"handleQuotedLineBreaks\\\\\\\\\\\\\": false, \\\\\\\\\\\\\"preview\\\\\\\\\\\\\": false, \\\\\\\\\\\\\"separator\\\\\\\\\\\\\": \\\\\\\\\\\\\",\\\\\\\\\\\\\", \\\\\\\\\\\\\"skipRows\\\\\\\\\\\\\": 0, \\\\\\\\\\\\\"skipRowsMode\\\\\\\\\\\\\": 0}, \\\\\\\\\\\\\"localData\\\\\\\\\\\\\": {}, \\\\\\\\\\\\\"isEnabled\\\\\\\\\\\\\": true, \\\\\\\\\\\\\"name\\\\\\\\\\\\\": null, \\\\\\\\\\\\\"annotation\\\\\\\\\\\\\": null}, {\\\\\\\\\\\\\"id\\\\\\\\\\\\\": \\\\\\\\\\\\\"68542cc4-6ac6-4749-a144-2ceedec0e5b5\\\\\\\\\\\\\", \\\\\\\\\\\\\"type\\\\\\\\\\\\\": \\\\\\\\\\\\\"Microsoft.DPrep.DropColumnsBlock\\\\\\\\\\\\\", \\\\\\\\\\\\\"arguments\\\\\\\\\\\\\": {\\\\\\\\\\\\\"columns\\\\\\\\\\\\\": {\\\\\\\\\\\\\"type\\\\\\\\\\\\\": 0, \\\\\\\\\\\\\"details\\\\\\\\\\\\\": {\\\\\\\\\\\\\"selectedColumns\\\\\\\\\\\\\": [\\\\\\\\\\\\\"Path\\\\\\\\\\\\\"]}}}, \\\\\\\\\\\\\"localData\\\\\\\\\\\\\": {}, \\\\\\\\\\\\\"isEnabled\\\\\\\\\\\\\": true, \\\\\\\\\\\\\"name\\\\\\\\\\\\\": null, \\\\\\\\\\\\\"annotation\\\\\\\\\\\\\": null}, {\\\\\\\\\\\\\"id\\\\\\\\\\\\\": \\\\\\\\\\\\\"7af3642a-2f0f-4377-808f-bd49f03e275f\\\\\\\\\\\\\", \\\\\\\\\\\\\"type\\\\\\\\\\\\\": \\\\\\\\\\\\\"Microsoft.DPrep.SetColumnTypesBlock\\\\\\\\\\\\\", \\\\\\\\\\\\\"arguments\\\\\\\\\\\\\": {\\\\\\\\\\\\\"columnConversion\\\\\\\\\\\\\": [{\\\\\\\\\\\\\"column\\\\\\\\\\\\\": {\\\\\\\\\\\\\"type\\\\\\\\\\\\\": 2, \\\\\\\\\\\\\"details\\\\\\\\\\\\\": {\\\\\\\\\\\\\"selectedColumn\\\\\\\\\\\\\": \\\\\\\\\\\\\"Path\\\\\\\\\\\\\"}}, \\\\\\\\\\\\\"typeProperty\\\\\\\\\\\\\": 0}, {\\\\\\\\\\\\\"column\\\\\\\\\\\\\": {\\\\\\\\\\\\\"type\\\\\\\\\\\\\": 2, \\\\\\\\\\\\\"details\\\\\\\\\\\\\": {\\\\\\\\\\\\\"selectedColumn\\\\\\\\\\\\\": \\\\\\\\\\\\\"Bankrupt?\\\\\\\\\\\\\"}}, \\\\\\\\\\\\\"typeProperty\\\\\\\\\\\\\": 2}, {\\\\\\\\\\\\\"column\\\\\\\\\\\\\": {\\\\\\\\\\\\\"type\\\\\\\\\\\\\": 2, \\\\\\\\\\\\\"details\\\\\\\\\\\\\": {\\\\\\\\\\\\\"selectedColumn\\\\\\\\\\\\\": \\\\\\\\\\\\\"ROA(C) before interest and depreciation before interest\\\\\\\\\\\\\"}}, \\\\\\\\\\\\\"typeProperty\\\\\\\\\\\\\": 3}, {\\\\\\\\\\\\\"column\\\\\\\\\\\\\": {\\\\\\\\\\\\\"type\\\\\\\\\\\\\": 2, \\\\\\\\\\\\\"details\\\\\\\\\\\\\": {\\\\\\\\\\\\\"selectedColumn\\\\\\\\\\\\\": \\\\\\\\\\\\\"ROA(A) before interest and % after tax\\\\\\\\\\\\\"}}, \\\\\\\\\\\\\"typeProperty\\\\\\\\\\\\\": 3}, {\\\\\\\\\\\\\"column\\\\\\\\\\\\\": {\\\\\\\\\\\\\"type\\\\\\\\\\\\\": 2, \\\\\\\\\\\\\"details\\\\\\\\\\\\\": {\\\\\\\\\\\\\"selectedColumn\\\\\\\\\\\\\": \\\\\\\\\\\\\"ROA(B) before interest and depreciation after tax\\\\\\\\\\\\\"}}, \\\\\\\\\\\\\"typeProperty\\\\\\\\\\\\\": 3}, {\\\\\\\\\\\\\"column\\\\\\\\\\\\\": {\\\\\\\\\\\\\"type\\\\\\\\\\\\\": 2, \\\\\\\\\\\\\"details\\\\\\\\\\\\\": {\\\\\\\\\\\\\"selectedColumn\\\\\\\\\\\\\": \\\\\\\\\\\\\"operating gross margin\\\\\\\\\\\\\"}}, \\\\\\\\\\\\\"typeProperty\\\\\\\\\\\\\": 3}, {\\\\\\\\\\\\\"column\\\\\\\\\\\\\": {\\\\\\\\\\\\\"type\\\\\\\\\\\\\": 2, \\\\\\\\\\\\\"details\\\\\\\\\\\\\": {\\\\\\\\\\\\\"selectedColumn\\\\\\\\\\\\\": \\\\\\\\\\\\\"realized sales gross margin\\\\\\\\\\\\\"}}, \\\\\\\\\\\\\"typeProperty\\\\\\\\\\\\\": 3}, {\\\\\\\\\\\\\"column\\\\\\\\\\\\\": {\\\\\\\\\\\\\"type\\\\\\\\\\\\\": 2, \\\\\\\\\\\\\"details\\\\\\\\\\\\\": {\\\\\\\\\\\\\"selectedColumn\\\\\\\\\\\\\": \\\\\\\\\\\\\"operating profit rate\\\\\\\\\\\\\"}}, \\\\\\\\\\\\\"typeProperty\\\\\\\\\\\\\": 3}, {\\\\\\\\\\\\\"column\\\\\\\\\\\\\": {\\\\\\\\\\\\\"type\\\\\\\\\\\\\": 2, \\\\\\\\\\\\\"details\\\\\\\\\\\\\": {\\\\\\\\\\\\\"selectedColumn\\\\\\\\\\\\\": \\\\\\\\\\\\\"tax Pre-net interest rate\\\\\\\\\\\\\"}}, \\\\\\\\\\\\\"typeProperty\\\\\\\\\\\\\": 3}, {\\\\\\\\\\\\\"column\\\\\\\\\\\\\": {\\\\\\\\\\\\\"type\\\\\\\\\\\\\": 2, \\\\\\\\\\\\\"details\\\\\\\\\\\\\": {\\\\\\\\\\\\\"selectedColumn\\\\\\\\\\\\\": \\\\\\\\\\\\\"after-tax net interest rate\\\\\\\\\\\\\"}}, \\\\\\\\\\\\\"typeProperty\\\\\\\\\\\\\": 3}, {\\\\\\\\\\\\\"column\\\\\\\\\\\\\": {\\\\\\\\\\\\\"type\\\\\\\\\\\\\": 2, \\\\\\\\\\\\\"details\\\\\\\\\\\\\": {\\\\\\\\\\\\\"selectedColumn\\\\\\\\\\\\\": \\\\\\\\\\\\\"non-industry income and expenditure/revenue\\\\\\\\\\\\\"}}, \\\\\\\\\\\\\"typeProperty\\\\\\\\\\\\\": 3}, {\\\\\\\\\\\\\"column\\\\\\\\\\\\\": {\\\\\\\\\\\\\"type\\\\\\\\\\\\\": 2, \\\\\\\\\\\\\"details\\\\\\\\\\\\\": {\\\\\\\\\\\\\"selectedColumn\\\\\\\\\\\\\": \\\\\\\\\\\\\"continuous interest rate (after tax)\\\\\\\\\\\\\"}}, \\\\\\\\\\\\\"typeProperty\\\\\\\\\\\\\": 3}, {\\\\\\\\\\\\\"column\\\\\\\\\\\\\": {\\\\\\\\\\\\\"type\\\\\\\\\\\\\": 2, \\\\\\\\\\\\\"details\\\\\\\\\\\\\": {\\\\\\\\\\\\\"selectedColumn\\\\\\\\\\\\\": \\\\\\\\\\\\\"operating expense rate\\\\\\\\\\\\\"}}, \\\\\\\\\\\\\"typeProperty\\\\\\\\\\\\\": 3}, {\\\\\\\\\\\\\"column\\\\\\\\\\\\\": {\\\\\\\\\\\\\"type\\\\\\\\\\\\\": 2, \\\\\\\\\\\\\"details\\\\\\\\\\\\\": {\\\\\\\\\\\\\"selectedColumn\\\\\\\\\\\\\": \\\\\\\\\\\\\"research and development expense rate\\\\\\\\\\\\\"}}, \\\\\\\\\\\\\"typeProperty\\\\\\\\\\\\\": 2}, {\\\\\\\\\\\\\"column\\\\\\\\\\\\\": {\\\\\\\\\\\\\"type\\\\\\\\\\\\\": 2, \\\\\\\\\\\\\"details\\\\\\\\\\\\\": {\\\\\\\\\\\\\"selectedColumn\\\\\\\\\\\\\": \\\\\\\\\\\\\"cash flow rate\\\\\\\\\\\\\"}}, \\\\\\\\\\\\\"typeProperty\\\\\\\\\\\\\": 3}, {\\\\\\\\\\\\\"column\\\\\\\\\\\\\": {\\\\\\\\\\\\\"type\\\\\\\\\\\\\": 2, \\\\\\\\\\\\\"details\\\\\\\\\\\\\": {\\\\\\\\\\\\\"selectedColumn\\\\\\\\\\\\\": \\\\\\\\\\\\\"interest-bearing debt interest rate\\\\\\\\\\\\\"}}, \\\\\\\\\\\\\"typeProperty\\\\\\\\\\\\\": 3}, {\\\\\\\\\\\\\"column\\\\\\\\\\\\\": {\\\\\\\\\\\\\"type\\\\\\\\\\\\\": 2, \\\\\\\\\\\\\"details\\\\\\\\\\\\\": {\\\\\\\\\\\\\"selectedColumn\\\\\\\\\\\\\": \\\\\\\\\\\\\"tax rate (A)\\\\\\\\\\\\\"}}, \\\\\\\\\\\\\"typeProperty\\\\\\\\\\\\\": 3}, {\\\\\\\\\\\\\"column\\\\\\\\\\\\\": {\\\\\\\\\\\\\"type\\\\\\\\\\\\\": 2, \\\\\\\\\\\\\"details\\\\\\\\\\\\\": {\\\\\\\\\\\\\"selectedColumn\\\\\\\\\\\\\": \\\\\\\\\\\\\"per Net Share Value (B)\\\\\\\\\\\\\"}}, \\\\\\\\\\\\\"typeProperty\\\\\\\\\\\\\": 3}, {\\\\\\\\\\\\\"column\\\\\\\\\\\\\": {\\\\\\\\\\\\\"type\\\\\\\\\\\\\": 2, \\\\\\\\\\\\\"details\\\\\\\\\\\\\": {\\\\\\\\\\\\\"selectedColumn\\\\\\\\\\\\\": \\\\\\\\\\\\\"Net Value Per Share (A)\\\\\\\\\\\\\"}}, \\\\\\\\\\\\\"typeProperty\\\\\\\\\\\\\": 3}, {\\\\\\\\\\\\\"column\\\\\\\\\\\\\": {\\\\\\\\\\\\\"type\\\\\\\\\\\\\": 2, \\\\\\\\\\\\\"details\\\\\\\\\\\\\": {\\\\\\\\\\\\\"selectedColumn\\\\\\\\\\\\\": \\\\\\\\\\\\\"Net Value Per Share (C)\\\\\\\\\\\\\"}}, \\\\\\\\\\\\\"typeProperty\\\\\\\\\\\\\": 3}, {\\\\\\\\\\\\\"column\\\\\\\\\\\\\": {\\\\\\\\\\\\\"type\\\\\\\\\\\\\": 2, \\\\\\\\\\\\\"details\\\\\\\\\\\\\": {\\\\\\\\\\\\\"selectedColumn\\\\\\\\\\\\\": \\\\\\\\\\\\\"Persistent EPS in the Last Four Seasons\\\\\\\\\\\\\"}}, \\\\\\\\\\\\\"typeProperty\\\\\\\\\\\\\": 3}, {\\\\\\\\\\\\\"column\\\\\\\\\\\\\": {\\\\\\\\\\\\\"type\\\\\\\\\\\\\": 2, \\\\\\\\\\\\\"details\\\\\\\\\\\\\": {\\\\\\\\\\\\\"selectedColumn\\\\\\\\\\\\\": \\\\\\\\\\\\\"Cash Flow Per Share\\\\\\\\\\\\\"}}, \\\\\\\\\\\\\"typeProperty\\\\\\\\\\\\\": 3}, {\\\\\\\\\\\\\"column\\\\\\\\\\\\\": {\\\\\\\\\\\\\"type\\\\\\\\\\\\\": 2, \\\\\\\\\\\\\"details\\\\\\\\\\\\\": {\\\\\\\\\\\\\"selectedColumn\\\\\\\\\\\\\": \\\\\\\\\\\\\"Revenue Per Share (Yuan)\\\\\\\\\\\\\"}}, \\\\\\\\\\\\\"typeProperty\\\\\\\\\\\\\": 3}, {\\\\\\\\\\\\\"column\\\\\\\\\\\\\": {\\\\\\\\\\\\\"type\\\\\\\\\\\\\": 2, \\\\\\\\\\\\\"details\\\\\\\\\\\\\": {\\\\\\\\\\\\\"selectedColumn\\\\\\\\\\\\\": \\\\\\\\\\\\\"Operating Profit Per Share (Yuan)\\\\\\\\\\\\\"}}, \\\\\\\\\\\\\"typeProperty\\\\\\\\\\\\\": 3}, {\\\\\\\\\\\\\"column\\\\\\\\\\\\\": {\\\\\\\\\\\\\"type\\\\\\\\\\\\\": 2, \\\\\\\\\\\\\"details\\\\\\\\\\\\\": {\\\\\\\\\\\\\"selectedColumn\\\\\\\\\\\\\": \\\\\\\\\\\\\"Per Share Net profit before tax (yuan)\\\\\\\\\\\\\"}}, \\\\\\\\\\\\\"typeProperty\\\\\\\\\\\\\": 3}, {\\\\\\\\\\\\\"column\\\\\\\\\\\\\": {\\\\\\\\\\\\\"type\\\\\\\\\\\\\": 2, \\\\\\\\\\\\\"details\\\\\\\\\\\\\": {\\\\\\\\\\\\\"selectedColumn\\\\\\\\\\\\\": \\\\\\\\\\\\\"realized sales gross profit growth rate\\\\\\\\\\\\\"}}, \\\\\\\\\\\\\"typeProperty\\\\\\\\\\\\\": 3}, {\\\\\\\\\\\\\"column\\\\\\\\\\\\\": {\\\\\\\\\\\\\"type\\\\\\\\\\\\\": 2, \\\\\\\\\\\\\"details\\\\\\\\\\\\\": {\\\\\\\\\\\\\"selectedColumn\\\\\\\\\\\\\": \\\\\\\\\\\\\"operating profit growth rate\\\\\\\\\\\\\"}}, \\\\\\\\\\\\\"typeProperty\\\\\\\\\\\\\": 3}, {\\\\\\\\\\\\\"column\\\\\\\\\\\\\": {\\\\\\\\\\\\\"type\\\\\\\\\\\\\": 2, \\\\\\\\\\\\\"details\\\\\\\\\\\\\": {\\\\\\\\\\\\\"selectedColumn\\\\\\\\\\\\\": \\\\\\\\\\\\\"after-tax net profit growth rate\\\\\\\\\\\\\"}}, \\\\\\\\\\\\\"typeProperty\\\\\\\\\\\\\": 3}, {\\\\\\\\\\\\\"column\\\\\\\\\\\\\": {\\\\\\\\\\\\\"type\\\\\\\\\\\\\": 2, \\\\\\\\\\\\\"details\\\\\\\\\\\\\": {\\\\\\\\\\\\\"selectedColumn\\\\\\\\\\\\\": \\\\\\\\\\\\\"regular net profit growth rate\\\\\\\\\\\\\"}}, \\\\\\\\\\\\\"typeProperty\\\\\\\\\\\\\": 3}, {\\\\\\\\\\\\\"column\\\\\\\\\\\\\": {\\\\\\\\\\\\\"type\\\\\\\\\\\\\": 2, \\\\\\\\\\\\\"details\\\\\\\\\\\\\": {\\\\\\\\\\\\\"selectedColumn\\\\\\\\\\\\\": \\\\\\\\\\\\\"continuous net profit growth rate\\\\\\\\\\\\\"}}, \\\\\\\\\\\\\"typeProperty\\\\\\\\\\\\\": 3}, {\\\\\\\\\\\\\"column\\\\\\\\\\\\\": {\\\\\\\\\\\\\"type\\\\\\\\\\\\\": 2, \\\\\\\\\\\\\"details\\\\\\\\\\\\\": {\\\\\\\\\\\\\"selectedColumn\\\\\\\\\\\\\": \\\\\\\\\\\\\"total asset growth rate\\\\\\\\\\\\\"}}, \\\\\\\\\\\\\"typeProperty\\\\\\\\\\\\\": 3}, {\\\\\\\\\\\\\"column\\\\\\\\\\\\\": {\\\\\\\\\\\\\"type\\\\\\\\\\\\\": 2, \\\\\\\\\\\\\"details\\\\\\\\\\\\\": {\\\\\\\\\\\\\"selectedColumn\\\\\\\\\\\\\": \\\\\\\\\\\\\"net value growth rate\\\\\\\\\\\\\"}}, \\\\\\\\\\\\\"typeProperty\\\\\\\\\\\\\": 3}, {\\\\\\\\\\\\\"column\\\\\\\\\\\\\": {\\\\\\\\\\\\\"type\\\\\\\\\\\\\": 2, \\\\\\\\\\\\\"details\\\\\\\\\\\\\": {\\\\\\\\\\\\\"selectedColumn\\\\\\\\\\\\\": \\\\\\\\\\\\\"total asset return growth rate Ratio\\\\\\\\\\\\\"}}, \\\\\\\\\\\\\"typeProperty\\\\\\\\\\\\\": 3}, {\\\\\\\\\\\\\"column\\\\\\\\\\\\\": {\\\\\\\\\\\\\"type\\\\\\\\\\\\\": 2, \\\\\\\\\\\\\"details\\\\\\\\\\\\\": {\\\\\\\\\\\\\"selectedColumn\\\\\\\\\\\\\": \\\\\\\\\\\\\"cash reinvestment %\\\\\\\\\\\\\"}}, \\\\\\\\\\\\\"typeProperty\\\\\\\\\\\\\": 3}, {\\\\\\\\\\\\\"column\\\\\\\\\\\\\": {\\\\\\\\\\\\\"type\\\\\\\\\\\\\": 2, \\\\\\\\\\\\\"details\\\\\\\\\\\\\": {\\\\\\\\\\\\\"selectedColumn\\\\\\\\\\\\\": \\\\\\\\\\\\\"current ratio\\\\\\\\\\\\\"}}, \\\\\\\\\\\\\"typeProperty\\\\\\\\\\\\\": 3}, {\\\\\\\\\\\\\"column\\\\\\\\\\\\\": {\\\\\\\\\\\\\"type\\\\\\\\\\\\\": 2, \\\\\\\\\\\\\"details\\\\\\\\\\\\\": {\\\\\\\\\\\\\"selectedColumn\\\\\\\\\\\\\": \\\\\\\\\\\\\"quick ratio\\\\\\\\\\\\\"}}, \\\\\\\\\\\\\"typeProperty\\\\\\\\\\\\\": 3}, {\\\\\\\\\\\\\"column\\\\\\\\\\\\\": {\\\\\\\\\\\\\"type\\\\\\\\\\\\\": 2, \\\\\\\\\\\\\"details\\\\\\\\\\\\\": {\\\\\\\\\\\\\"selectedColumn\\\\\\\\\\\\\": \\\\\\\\\\\\\"interest expense ratio\\\\\\\\\\\\\"}}, \\\\\\\\\\\\\"typeProperty\\\\\\\\\\\\\": 3}, {\\\\\\\\\\\\\"column\\\\\\\\\\\\\": {\\\\\\\\\\\\\"type\\\\\\\\\\\\\": 2, \\\\\\\\\\\\\"details\\\\\\\\\\\\\": {\\\\\\\\\\\\\"selectedColumn\\\\\\\\\\\\\": \\\\\\\\\\\\\"total debt/total net worth\\\\\\\\\\\\\"}}, \\\\\\\\\\\\\"typeProperty\\\\\\\\\\\\\": 3}, {\\\\\\\\\\\\\"column\\\\\\\\\\\\\": {\\\\\\\\\\\\\"type\\\\\\\\\\\\\": 2, \\\\\\\\\\\\\"details\\\\\\\\\\\\\": {\\\\\\\\\\\\\"selectedColumn\\\\\\\\\\\\\": \\\\\\\\\\\\\"debt ratio %\\\\\\\\\\\\\"}}, \\\\\\\\\\\\\"typeProperty\\\\\\\\\\\\\": 3}, {\\\\\\\\\\\\\"column\\\\\\\\\\\\\": {\\\\\\\\\\\\\"type\\\\\\\\\\\\\": 2, \\\\\\\\\\\\\"details\\\\\\\\\\\\\": {\\\\\\\\\\\\\"selectedColumn\\\\\\\\\\\\\": \\\\\\\\\\\\\"net worth/assets\\\\\\\\\\\\\"}}, \\\\\\\\\\\\\"typeProperty\\\\\\\\\\\\\": 3}, {\\\\\\\\\\\\\"column\\\\\\\\\\\\\": {\\\\\\\\\\\\\"type\\\\\\\\\\\\\": 2, \\\\\\\\\\\\\"details\\\\\\\\\\\\\": {\\\\\\\\\\\\\"selectedColumn\\\\\\\\\\\\\": \\\\\\\\\\\\\"long-term fund suitability ratio (A)\\\\\\\\\\\\\"}}, \\\\\\\\\\\\\"typeProperty\\\\\\\\\\\\\": 3}, {\\\\\\\\\\\\\"column\\\\\\\\\\\\\": {\\\\\\\\\\\\\"type\\\\\\\\\\\\\": 2, \\\\\\\\\\\\\"details\\\\\\\\\\\\\": {\\\\\\\\\\\\\"selectedColumn\\\\\\\\\\\\\": \\\\\\\\\\\\\"borrowing dependency\\\\\\\\\\\\\"}}, \\\\\\\\\\\\\"typeProperty\\\\\\\\\\\\\": 3}, {\\\\\\\\\\\\\"column\\\\\\\\\\\\\": {\\\\\\\\\\\\\"type\\\\\\\\\\\\\": 2, \\\\\\\\\\\\\"details\\\\\\\\\\\\\": {\\\\\\\\\\\\\"selectedColumn\\\\\\\\\\\\\": \\\\\\\\\\\\\"contingent liabilities/net worth\\\\\\\\\\\\\"}}, \\\\\\\\\\\\\"typeProperty\\\\\\\\\\\\\": 3}, {\\\\\\\\\\\\\"column\\\\\\\\\\\\\": {\\\\\\\\\\\\\"type\\\\\\\\\\\\\": 2, \\\\\\\\\\\\\"details\\\\\\\\\\\\\": {\\\\\\\\\\\\\"selectedColumn\\\\\\\\\\\\\": \\\\\\\\\\\\\"Operating profit/paid-in capital\\\\\\\\\\\\\"}}, \\\\\\\\\\\\\"typeProperty\\\\\\\\\\\\\": 3}, {\\\\\\\\\\\\\"column\\\\\\\\\\\\\": {\\\\\\\\\\\\\"type\\\\\\\\\\\\\": 2, \\\\\\\\\\\\\"details\\\\\\\\\\\\\": {\\\\\\\\\\\\\"selectedColumn\\\\\\\\\\\\\": \\\\\\\\\\\\\"net profit before tax/paid-in capital\\\\\\\\\\\\\"}}, \\\\\\\\\\\\\"typeProperty\\\\\\\\\\\\\": 3}, {\\\\\\\\\\\\\"column\\\\\\\\\\\\\": {\\\\\\\\\\\\\"type\\\\\\\\\\\\\": 2, \\\\\\\\\\\\\"details\\\\\\\\\\\\\": {\\\\\\\\\\\\\"selectedColumn\\\\\\\\\\\\\": \\\\\\\\\\\\\"inventory and accounts receivable/net value\\\\\\\\\\\\\"}}, \\\\\\\\\\\\\"typeProperty\\\\\\\\\\\\\": 3}, {\\\\\\\\\\\\\"column\\\\\\\\\\\\\": {\\\\\\\\\\\\\"type\\\\\\\\\\\\\": 2, \\\\\\\\\\\\\"details\\\\\\\\\\\\\": {\\\\\\\\\\\\\"selectedColumn\\\\\\\\\\\\\": \\\\\\\\\\\\\"total asset turnover\\\\\\\\\\\\\"}}, \\\\\\\\\\\\\"typeProperty\\\\\\\\\\\\\": 3}, {\\\\\\\\\\\\\"column\\\\\\\\\\\\\": {\\\\\\\\\\\\\"type\\\\\\\\\\\\\": 2, \\\\\\\\\\\\\"details\\\\\\\\\\\\\": {\\\\\\\\\\\\\"selectedColumn\\\\\\\\\\\\\": \\\\\\\\\\\\\"accounts receivable turnover\\\\\\\\\\\\\"}}, \\\\\\\\\\\\\"typeProperty\\\\\\\\\\\\\": 3}, {\\\\\\\\\\\\\"column\\\\\\\\\\\\\": {\\\\\\\\\\\\\"type\\\\\\\\\\\\\": 2, \\\\\\\\\\\\\"details\\\\\\\\\\\\\": {\\\\\\\\\\\\\"selectedColumn\\\\\\\\\\\\\": \\\\\\\\\\\\\"average collection days\\\\\\\\\\\\\"}}, \\\\\\\\\\\\\"typeProperty\\\\\\\\\\\\\": 3}, {\\\\\\\\\\\\\"column\\\\\\\\\\\\\": {\\\\\\\\\\\\\"type\\\\\\\\\\\\\": 2, \\\\\\\\\\\\\"details\\\\\\\\\\\\\": {\\\\\\\\\\\\\"selectedColumn\\\\\\\\\\\\\": \\\\\\\\\\\\\"inventory turnover rate (times)\\\\\\\\\\\\\"}}, \\\\\\\\\\\\\"typeProperty\\\\\\\\\\\\\": 3}, {\\\\\\\\\\\\\"column\\\\\\\\\\\\\": {\\\\\\\\\\\\\"type\\\\\\\\\\\\\": 2, \\\\\\\\\\\\\"details\\\\\\\\\\\\\": {\\\\\\\\\\\\\"selectedColumn\\\\\\\\\\\\\": \\\\\\\\\\\\\"fixed assets Turnover frequency\\\\\\\\\\\\\"}}, \\\\\\\\\\\\\"typeProperty\\\\\\\\\\\\\": 3}, {\\\\\\\\\\\\\"column\\\\\\\\\\\\\": {\\\\\\\\\\\\\"type\\\\\\\\\\\\\": 2, \\\\\\\\\\\\\"details\\\\\\\\\\\\\": {\\\\\\\\\\\\\"selectedColumn\\\\\\\\\\\\\": \\\\\\\\\\\\\"net worth turnover rate (times)\\\\\\\\\\\\\"}}, \\\\\\\\\\\\\"typeProperty\\\\\\\\\\\\\": 3}, {\\\\\\\\\\\\\"column\\\\\\\\\\\\\": {\\\\\\\\\\\\\"type\\\\\\\\\\\\\": 2, \\\\\\\\\\\\\"details\\\\\\\\\\\\\": {\\\\\\\\\\\\\"selectedColumn\\\\\\\\\\\\\": \\\\\\\\\\\\\"revenue per person\\\\\\\\\\\\\"}}, \\\\\\\\\\\\\"typeProperty\\\\\\\\\\\\\": 3}, {\\\\\\\\\\\\\"column\\\\\\\\\\\\\": {\\\\\\\\\\\\\"type\\\\\\\\\\\\\": 2, \\\\\\\\\\\\\"details\\\\\\\\\\\\\": {\\\\\\\\\\\\\"selectedColumn\\\\\\\\\\\\\": \\\\\\\\\\\\\"operating profit per person\\\\\\\\\\\\\"}}, \\\\\\\\\\\\\"typeProperty\\\\\\\\\\\\\": 3}, {\\\\\\\\\\\\\"column\\\\\\\\\\\\\": {\\\\\\\\\\\\\"type\\\\\\\\\\\\\": 2, \\\\\\\\\\\\\"details\\\\\\\\\\\\\": {\\\\\\\\\\\\\"selectedColumn\\\\\\\\\\\\\": \\\\\\\\\\\\\"allocation rate per person\\\\\\\\\\\\\"}}, \\\\\\\\\\\\\"typeProperty\\\\\\\\\\\\\": 3}, {\\\\\\\\\\\\\"column\\\\\\\\\\\\\": {\\\\\\\\\\\\\"type\\\\\\\\\\\\\": 2, \\\\\\\\\\\\\"details\\\\\\\\\\\\\": {\\\\\\\\\\\\\"selectedColumn\\\\\\\\\\\\\": \\\\\\\\\\\\\"working capital to total assets\\\\\\\\\\\\\"}}, \\\\\\\\\\\\\"typeProperty\\\\\\\\\\\\\": 3}, {\\\\\\\\\\\\\"column\\\\\\\\\\\\\": {\\\\\\\\\\\\\"type\\\\\\\\\\\\\": 2, \\\\\\\\\\\\\"details\\\\\\\\\\\\\": {\\\\\\\\\\\\\"selectedColumn\\\\\\\\\\\\\": \\\\\\\\\\\\\"Quick asset/Total asset\\\\\\\\\\\\\"}}, \\\\\\\\\\\\\"typeProperty\\\\\\\\\\\\\": 3}, {\\\\\\\\\\\\\"column\\\\\\\\\\\\\": {\\\\\\\\\\\\\"type\\\\\\\\\\\\\": 2, \\\\\\\\\\\\\"details\\\\\\\\\\\\\": {\\\\\\\\\\\\\"selectedColumn\\\\\\\\\\\\\": \\\\\\\\\\\\\"current assets/total assets\\\\\\\\\\\\\"}}, \\\\\\\\\\\\\"typeProperty\\\\\\\\\\\\\": 3}, {\\\\\\\\\\\\\"column\\\\\\\\\\\\\": {\\\\\\\\\\\\\"type\\\\\\\\\\\\\": 2, \\\\\\\\\\\\\"details\\\\\\\\\\\\\": {\\\\\\\\\\\\\"selectedColumn\\\\\\\\\\\\\": \\\\\\\\\\\\\"cash / total assets\\\\\\\\\\\\\"}}, \\\\\\\\\\\\\"typeProperty\\\\\\\\\\\\\": 3}, {\\\\\\\\\\\\\"column\\\\\\\\\\\\\": {\\\\\\\\\\\\\"type\\\\\\\\\\\\\": 2, \\\\\\\\\\\\\"details\\\\\\\\\\\\\": {\\\\\\\\\\\\\"selectedColumn\\\\\\\\\\\\\": \\\\\\\\\\\\\"Quick asset /current liabilities\\\\\\\\\\\\\"}}, \\\\\\\\\\\\\"typeProperty\\\\\\\\\\\\\": 3}, {\\\\\\\\\\\\\"column\\\\\\\\\\\\\": {\\\\\\\\\\\\\"type\\\\\\\\\\\\\": 2, \\\\\\\\\\\\\"details\\\\\\\\\\\\\": {\\\\\\\\\\\\\"selectedColumn\\\\\\\\\\\\\": \\\\\\\\\\\\\"cash / current liability\\\\\\\\\\\\\"}}, \\\\\\\\\\\\\"typeProperty\\\\\\\\\\\\\": 3}, {\\\\\\\\\\\\\"column\\\\\\\\\\\\\": {\\\\\\\\\\\\\"type\\\\\\\\\\\\\": 2, \\\\\\\\\\\\\"details\\\\\\\\\\\\\": {\\\\\\\\\\\\\"selectedColumn\\\\\\\\\\\\\": \\\\\\\\\\\\\"current liability to assets\\\\\\\\\\\\\"}}, \\\\\\\\\\\\\"typeProperty\\\\\\\\\\\\\": 3}, {\\\\\\\\\\\\\"column\\\\\\\\\\\\\": {\\\\\\\\\\\\\"type\\\\\\\\\\\\\": 2, \\\\\\\\\\\\\"details\\\\\\\\\\\\\": {\\\\\\\\\\\\\"selectedColumn\\\\\\\\\\\\\": \\\\\\\\\\\\\"operating funds to liability\\\\\\\\\\\\\"}}, \\\\\\\\\\\\\"typeProperty\\\\\\\\\\\\\": 3}, {\\\\\\\\\\\\\"column\\\\\\\\\\\\\": {\\\\\\\\\\\\\"type\\\\\\\\\\\\\": 2, \\\\\\\\\\\\\"details\\\\\\\\\\\\\": {\\\\\\\\\\\\\"selectedColumn\\\\\\\\\\\\\": \\\\\\\\\\\\\"Inventory/working capital\\\\\\\\\\\\\"}}, \\\\\\\\\\\\\"typeProperty\\\\\\\\\\\\\": 3}, {\\\\\\\\\\\\\"column\\\\\\\\\\\\\": {\\\\\\\\\\\\\"type\\\\\\\\\\\\\": 2, \\\\\\\\\\\\\"details\\\\\\\\\\\\\": {\\\\\\\\\\\\\"selectedColumn\\\\\\\\\\\\\": \\\\\\\\\\\\\"Inventory/current liability\\\\\\\\\\\\\"}}, \\\\\\\\\\\\\"typeProperty\\\\\\\\\\\\\": 3}, {\\\\\\\\\\\\\"column\\\\\\\\\\\\\": {\\\\\\\\\\\\\"type\\\\\\\\\\\\\": 2, \\\\\\\\\\\\\"details\\\\\\\\\\\\\": {\\\\\\\\\\\\\"selectedColumn\\\\\\\\\\\\\": \\\\\\\\\\\\\"current liability / liability\\\\\\\\\\\\\"}}, \\\\\\\\\\\\\"typeProperty\\\\\\\\\\\\\": 3}, {\\\\\\\\\\\\\"column\\\\\\\\\\\\\": {\\\\\\\\\\\\\"type\\\\\\\\\\\\\": 2, \\\\\\\\\\\\\"details\\\\\\\\\\\\\": {\\\\\\\\\\\\\"selectedColumn\\\\\\\\\\\\\": \\\\\\\\\\\\\"working capital/equity\\\\\\\\\\\\\"}}, \\\\\\\\\\\\\"typeProperty\\\\\\\\\\\\\": 3}, {\\\\\\\\\\\\\"column\\\\\\\\\\\\\": {\\\\\\\\\\\\\"type\\\\\\\\\\\\\": 2, \\\\\\\\\\\\\"details\\\\\\\\\\\\\": {\\\\\\\\\\\\\"selectedColumn\\\\\\\\\\\\\": \\\\\\\\\\\\\"current liability/equity\\\\\\\\\\\\\"}}, \\\\\\\\\\\\\"typeProperty\\\\\\\\\\\\\": 3}, {\\\\\\\\\\\\\"column\\\\\\\\\\\\\": {\\\\\\\\\\\\\"type\\\\\\\\\\\\\": 2, \\\\\\\\\\\\\"details\\\\\\\\\\\\\": {\\\\\\\\\\\\\"selectedColumn\\\\\\\\\\\\\": \\\\\\\\\\\\\"long-term liability to current assets\\\\\\\\\\\\\"}}, \\\\\\\\\\\\\"typeProperty\\\\\\\\\\\\\": 3}, {\\\\\\\\\\\\\"column\\\\\\\\\\\\\": {\\\\\\\\\\\\\"type\\\\\\\\\\\\\": 2, \\\\\\\\\\\\\"details\\\\\\\\\\\\\": {\\\\\\\\\\\\\"selectedColumn\\\\\\\\\\\\\": \\\\\\\\\\\\\"Retained Earnings/Total assets\\\\\\\\\\\\\"}}, \\\\\\\\\\\\\"typeProperty\\\\\\\\\\\\\": 3}, {\\\\\\\\\\\\\"column\\\\\\\\\\\\\": {\\\\\\\\\\\\\"type\\\\\\\\\\\\\": 2, \\\\\\\\\\\\\"details\\\\\\\\\\\\\": {\\\\\\\\\\\\\"selectedColumn\\\\\\\\\\\\\": \\\\\\\\\\\\\"total income / total expense\\\\\\\\\\\\\"}}, \\\\\\\\\\\\\"typeProperty\\\\\\\\\\\\\": 3}, {\\\\\\\\\\\\\"column\\\\\\\\\\\\\": {\\\\\\\\\\\\\"type\\\\\\\\\\\\\": 2, \\\\\\\\\\\\\"details\\\\\\\\\\\\\": {\\\\\\\\\\\\\"selectedColumn\\\\\\\\\\\\\": \\\\\\\\\\\\\"total expense /assets\\\\\\\\\\\\\"}}, \\\\\\\\\\\\\"typeProperty\\\\\\\\\\\\\": 3}, {\\\\\\\\\\\\\"column\\\\\\\\\\\\\": {\\\\\\\\\\\\\"type\\\\\\\\\\\\\": 2, \\\\\\\\\\\\\"details\\\\\\\\\\\\\": {\\\\\\\\\\\\\"selectedColumn\\\\\\\\\\\\\": \\\\\\\\\\\\\"current asset turnover rate\\\\\\\\\\\\\"}}, \\\\\\\\\\\\\"typeProperty\\\\\\\\\\\\\": 3}, {\\\\\\\\\\\\\"column\\\\\\\\\\\\\": {\\\\\\\\\\\\\"type\\\\\\\\\\\\\": 2, \\\\\\\\\\\\\"details\\\\\\\\\\\\\": {\\\\\\\\\\\\\"selectedColumn\\\\\\\\\\\\\": \\\\\\\\\\\\\"quick asset turnover rate\\\\\\\\\\\\\"}}, \\\\\\\\\\\\\"typeProperty\\\\\\\\\\\\\": 3}, {\\\\\\\\\\\\\"column\\\\\\\\\\\\\": {\\\\\\\\\\\\\"type\\\\\\\\\\\\\": 2, \\\\\\\\\\\\\"details\\\\\\\\\\\\\": {\\\\\\\\\\\\\"selectedColumn\\\\\\\\\\\\\": \\\\\\\\\\\\\"working capitcal turnover rate\\\\\\\\\\\\\"}}, \\\\\\\\\\\\\"typeProperty\\\\\\\\\\\\\": 3}, {\\\\\\\\\\\\\"column\\\\\\\\\\\\\": {\\\\\\\\\\\\\"type\\\\\\\\\\\\\": 2, \\\\\\\\\\\\\"details\\\\\\\\\\\\\": {\\\\\\\\\\\\\"selectedColumn\\\\\\\\\\\\\": \\\\\\\\\\\\\"cash turnover rate\\\\\\\\\\\\\"}}, \\\\\\\\\\\\\"typeProperty\\\\\\\\\\\\\": 3}, {\\\\\\\\\\\\\"column\\\\\\\\\\\\\": {\\\\\\\\\\\\\"type\\\\\\\\\\\\\": 2, \\\\\\\\\\\\\"details\\\\\\\\\\\\\": {\\\\\\\\\\\\\"selectedColumn\\\\\\\\\\\\\": \\\\\\\\\\\\\"Cash flow to Sales\\\\\\\\\\\\\"}}, \\\\\\\\\\\\\"typeProperty\\\\\\\\\\\\\": 3}, {\\\\\\\\\\\\\"column\\\\\\\\\\\\\": {\\\\\\\\\\\\\"type\\\\\\\\\\\\\": 2, \\\\\\\\\\\\\"details\\\\\\\\\\\\\": {\\\\\\\\\\\\\"selectedColumn\\\\\\\\\\\\\": \\\\\\\\\\\\\"fix assets to assets\\\\\\\\\\\\\"}}, \\\\\\\\\\\\\"typeProperty\\\\\\\\\\\\\": 3}, {\\\\\\\\\\\\\"column\\\\\\\\\\\\\": {\\\\\\\\\\\\\"type\\\\\\\\\\\\\": 2, \\\\\\\\\\\\\"details\\\\\\\\\\\\\": {\\\\\\\\\\\\\"selectedColumn\\\\\\\\\\\\\": \\\\\\\\\\\\\"current liability to liability\\\\\\\\\\\\\"}}, \\\\\\\\\\\\\"typeProperty\\\\\\\\\\\\\": 3}, {\\\\\\\\\\\\\"column\\\\\\\\\\\\\": {\\\\\\\\\\\\\"type\\\\\\\\\\\\\": 2, \\\\\\\\\\\\\"details\\\\\\\\\\\\\": {\\\\\\\\\\\\\"selectedColumn\\\\\\\\\\\\\": \\\\\\\\\\\\\"current liability to equity\\\\\\\\\\\\\"}}, \\\\\\\\\\\\\"typeProperty\\\\\\\\\\\\\": 3}, {\\\\\\\\\\\\\"column\\\\\\\\\\\\\": {\\\\\\\\\\\\\"type\\\\\\\\\\\\\": 2, \\\\\\\\\\\\\"details\\\\\\\\\\\\\": {\\\\\\\\\\\\\"selectedColumn\\\\\\\\\\\\\": \\\\\\\\\\\\\"equity to long-term liability\\\\\\\\\\\\\"}}, \\\\\\\\\\\\\"typeProperty\\\\\\\\\\\\\": 3}, {\\\\\\\\\\\\\"column\\\\\\\\\\\\\": {\\\\\\\\\\\\\"type\\\\\\\\\\\\\": 2, \\\\\\\\\\\\\"details\\\\\\\\\\\\\": {\\\\\\\\\\\\\"selectedColumn\\\\\\\\\\\\\": \\\\\\\\\\\\\"Cash flow to total assets\\\\\\\\\\\\\"}}, \\\\\\\\\\\\\"typeProperty\\\\\\\\\\\\\": 3}, {\\\\\\\\\\\\\"column\\\\\\\\\\\\\": {\\\\\\\\\\\\\"type\\\\\\\\\\\\\": 2, \\\\\\\\\\\\\"details\\\\\\\\\\\\\": {\\\\\\\\\\\\\"selectedColumn\\\\\\\\\\\\\": \\\\\\\\\\\\\"cash flow to liability\\\\\\\\\\\\\"}}, \\\\\\\\\\\\\"typeProperty\\\\\\\\\\\\\": 3}, {\\\\\\\\\\\\\"column\\\\\\\\\\\\\": {\\\\\\\\\\\\\"type\\\\\\\\\\\\\": 2, \\\\\\\\\\\\\"details\\\\\\\\\\\\\": {\\\\\\\\\\\\\"selectedColumn\\\\\\\\\\\\\": \\\\\\\\\\\\\"CFO to ASSETS\\\\\\\\\\\\\"}}, \\\\\\\\\\\\\"typeProperty\\\\\\\\\\\\\": 3}, {\\\\\\\\\\\\\"column\\\\\\\\\\\\\": {\\\\\\\\\\\\\"type\\\\\\\\\\\\\": 2, \\\\\\\\\\\\\"details\\\\\\\\\\\\\": {\\\\\\\\\\\\\"selectedColumn\\\\\\\\\\\\\": \\\\\\\\\\\\\"cash flow to equity\\\\\\\\\\\\\"}}, \\\\\\\\\\\\\"typeProperty\\\\\\\\\\\\\": 3}, {\\\\\\\\\\\\\"column\\\\\\\\\\\\\": {\\\\\\\\\\\\\"type\\\\\\\\\\\\\": 2, \\\\\\\\\\\\\"details\\\\\\\\\\\\\": {\\\\\\\\\\\\\"selectedColumn\\\\\\\\\\\\\": \\\\\\\\\\\\\"current liabilities to current assets\\\\\\\\\\\\\"}}, \\\\\\\\\\\\\"typeProperty\\\\\\\\\\\\\": 3}, {\\\\\\\\\\\\\"column\\\\\\\\\\\\\": {\\\\\\\\\\\\\"type\\\\\\\\\\\\\": 2, \\\\\\\\\\\\\"details\\\\\\\\\\\\\": {\\\\\\\\\\\\\"selectedColumn\\\\\\\\\\\\\": \\\\\\\\\\\\\"one if total liabilities exceeds total assets zero otherwise\\\\\\\\\\\\\"}}, \\\\\\\\\\\\\"typeProperty\\\\\\\\\\\\\": 2}, {\\\\\\\\\\\\\"column\\\\\\\\\\\\\": {\\\\\\\\\\\\\"type\\\\\\\\\\\\\": 2, \\\\\\\\\\\\\"details\\\\\\\\\\\\\": {\\\\\\\\\\\\\"selectedColumn\\\\\\\\\\\\\": \\\\\\\\\\\\\"net income to total assets\\\\\\\\\\\\\"}}, \\\\\\\\\\\\\"typeProperty\\\\\\\\\\\\\": 3}, {\\\\\\\\\\\\\"column\\\\\\\\\\\\\": {\\\\\\\\\\\\\"type\\\\\\\\\\\\\": 2, \\\\\\\\\\\\\"details\\\\\\\\\\\\\": {\\\\\\\\\\\\\"selectedColumn\\\\\\\\\\\\\": \\\\\\\\\\\\\"total assets to GNP price\\\\\\\\\\\\\"}}, \\\\\\\\\\\\\"typeProperty\\\\\\\\\\\\\": 3}, {\\\\\\\\\\\\\"column\\\\\\\\\\\\\": {\\\\\\\\\\\\\"type\\\\\\\\\\\\\": 2, \\\\\\\\\\\\\"details\\\\\\\\\\\\\": {\\\\\\\\\\\\\"selectedColumn\\\\\\\\\\\\\": \\\\\\\\\\\\\"No-credit interval\\\\\\\\\\\\\"}}, \\\\\\\\\\\\\"typeProperty\\\\\\\\\\\\\": 3}, {\\\\\\\\\\\\\"column\\\\\\\\\\\\\": {\\\\\\\\\\\\\"type\\\\\\\\\\\\\": 2, \\\\\\\\\\\\\"details\\\\\\\\\\\\\": {\\\\\\\\\\\\\"selectedColumn\\\\\\\\\\\\\": \\\\\\\\\\\\\"Gross profit to Sales\\\\\\\\\\\\\"}}, \\\\\\\\\\\\\"typeProperty\\\\\\\\\\\\\": 3}, {\\\\\\\\\\\\\"column\\\\\\\\\\\\\": {\\\\\\\\\\\\\"type\\\\\\\\\\\\\": 2, \\\\\\\\\\\\\"details\\\\\\\\\\\\\": {\\\\\\\\\\\\\"selectedColumn\\\\\\\\\\\\\": \\\\\\\\\\\\\"Net income to stockholder\\'s Equity\\\\\\\\\\\\\"}}, \\\\\\\\\\\\\"typeProperty\\\\\\\\\\\\\": 3}, {\\\\\\\\\\\\\"column\\\\\\\\\\\\\": {\\\\\\\\\\\\\"type\\\\\\\\\\\\\": 2, \\\\\\\\\\\\\"details\\\\\\\\\\\\\": {\\\\\\\\\\\\\"selectedColumn\\\\\\\\\\\\\": \\\\\\\\\\\\\"liability to equity\\\\\\\\\\\\\"}}, \\\\\\\\\\\\\"typeProperty\\\\\\\\\\\\\": 3}, {\\\\\\\\\\\\\"column\\\\\\\\\\\\\": {\\\\\\\\\\\\\"type\\\\\\\\\\\\\": 2, \\\\\\\\\\\\\"details\\\\\\\\\\\\\": {\\\\\\\\\\\\\"selectedColumn\\\\\\\\\\\\\": \\\\\\\\\\\\\"Degree of financial leverage (DFL)\\\\\\\\\\\\\"}}, \\\\\\\\\\\\\"typeProperty\\\\\\\\\\\\\": 3}, {\\\\\\\\\\\\\"column\\\\\\\\\\\\\": {\\\\\\\\\\\\\"type\\\\\\\\\\\\\": 2, \\\\\\\\\\\\\"details\\\\\\\\\\\\\": {\\\\\\\\\\\\\"selectedColumn\\\\\\\\\\\\\": \\\\\\\\\\\\\"Interest coverage ratio( Interest expense to EBIT )\\\\\\\\\\\\\"}}, \\\\\\\\\\\\\"typeProperty\\\\\\\\\\\\\": 3}, {\\\\\\\\\\\\\"column\\\\\\\\\\\\\": {\\\\\\\\\\\\\"type\\\\\\\\\\\\\": 2, \\\\\\\\\\\\\"details\\\\\\\\\\\\\": {\\\\\\\\\\\\\"selectedColumn\\\\\\\\\\\\\": \\\\\\\\\\\\\"one if net income was negative for the last two year zero otherwise\\\\\\\\\\\\\"}}, \\\\\\\\\\\\\"typeProperty\\\\\\\\\\\\\": 2}, {\\\\\\\\\\\\\"column\\\\\\\\\\\\\": {\\\\\\\\\\\\\"type\\\\\\\\\\\\\": 2, \\\\\\\\\\\\\"details\\\\\\\\\\\\\": {\\\\\\\\\\\\\"selectedColumn\\\\\\\\\\\\\": \\\\\\\\\\\\\"equity to liability\\\\\\\\\\\\\"}}, \\\\\\\\\\\\\"typeProperty\\\\\\\\\\\\\": 3}]}, \\\\\\\\\\\\\"localData\\\\\\\\\\\\\": {}, \\\\\\\\\\\\\"isEnabled\\\\\\\\\\\\\": true, \\\\\\\\\\\\\"name\\\\\\\\\\\\\": null, \\\\\\\\\\\\\"annotation\\\\\\\\\\\\\": null}], \\\\\\\\\\\\\"inspectors\\\\\\\\\\\\\": [], \\\\\\\\\\\\\"meta\\\\\\\\\\\\\": {\\\\\\\\\\\\\"savedDatasetId\\\\\\\\\\\\\": \\\\\\\\\\\\\"dd3c8235-cadb-4c62-925f-b8fc14840e4f\\\\\\\\\\\\\", \\\\\\\\\\\\\"datasetType\\\\\\\\\\\\\": \\\\\\\\\\\\\"tabular\\\\\\\\\\\\\", \\\\\\\\\\\\\"subscriptionId\\\\\\\\\\\\\": \\\\\\\\\\\\\"6971f5ac-8af1-446e-8034-05acea24681f\\\\\\\\\\\\\", \\\\\\\\\\\\\"workspaceId\\\\\\\\\\\\\": \\\\\\\\\\\\\"9c5b30ba-14b5-4c98-8617-2fcef527e1b2\\\\\\\\\\\\\", \\\\\\\\\\\\\"workspaceLocation\\\\\\\\\\\\\": \\\\\\\\\\\\\"southcentralus\\\\\\\\\\\\\"}}\\\\\", \\\\\"activities\\\\\": 0}',\n",
       "  'EnableSubsampling': None,\n",
       "  'runTemplate': 'AutoML',\n",
       "  'azureml.runsource': 'automl',\n",
       "  'display_task_type': 'classification',\n",
       "  'dependencies_versions': '{\"azureml-widgets\": \"1.20.0\", \"azureml-train\": \"1.20.0\", \"azureml-train-restclients-hyperdrive\": \"1.20.0\", \"azureml-train-core\": \"1.20.0\", \"azureml-train-automl\": \"1.20.0\", \"azureml-train-automl-runtime\": \"1.20.0\", \"azureml-train-automl-client\": \"1.20.0\", \"azureml-tensorboard\": \"1.20.0\", \"azureml-telemetry\": \"1.20.0\", \"azureml-sdk\": \"1.20.0\", \"azureml-samples\": \"0+unknown\", \"azureml-pipeline\": \"1.20.0\", \"azureml-pipeline-steps\": \"1.20.0\", \"azureml-pipeline-core\": \"1.20.0\", \"azureml-opendatasets\": \"1.20.0\", \"azureml-model-management-sdk\": \"1.0.1b6.post1\", \"azureml-mlflow\": \"1.20.0.post1\", \"azureml-interpret\": \"1.20.0\", \"azureml-explain-model\": \"1.20.0\", \"azureml-defaults\": \"1.20.0\", \"azureml-dataset-runtime\": \"1.20.0\", \"azureml-dataprep\": \"2.7.3\", \"azureml-dataprep-rslex\": \"1.5.0\", \"azureml-dataprep-native\": \"27.0.0\", \"azureml-datadrift\": \"1.20.0\", \"azureml-core\": \"1.20.0\", \"azureml-contrib-services\": \"1.20.0\", \"azureml-contrib-server\": \"1.20.0\", \"azureml-contrib-reinforcementlearning\": \"1.20.0\", \"azureml-contrib-pipeline-steps\": \"1.20.0\", \"azureml-contrib-notebook\": \"1.20.0\", \"azureml-contrib-interpret\": \"1.20.0\", \"azureml-contrib-gbdt\": \"1.20.0\", \"azureml-contrib-fairness\": \"1.20.0\", \"azureml-contrib-dataset\": \"1.20.0\", \"azureml-cli-common\": \"1.20.0\", \"azureml-automl-runtime\": \"1.20.0\", \"azureml-automl-core\": \"1.20.0\", \"azureml-accel-models\": \"1.20.0\"}',\n",
       "  '_aml_system_scenario_identification': 'Remote.Parent',\n",
       "  'ClientType': 'SDK',\n",
       "  'environment_cpu_name': 'AzureML-AutoML',\n",
       "  'environment_cpu_label': 'prod',\n",
       "  'environment_gpu_name': 'AzureML-AutoML-GPU',\n",
       "  'environment_gpu_label': 'prod',\n",
       "  'root_attribution': 'automl',\n",
       "  'attribution': 'AutoML',\n",
       "  'Orchestrator': 'AutoML',\n",
       "  'CancelUri': 'https://southcentralus.experiments.azureml.net/jasmine/v1.0/subscriptions/6971f5ac-8af1-446e-8034-05acea24681f/resourceGroups/aml-quickstarts-137092/providers/Microsoft.MachineLearningServices/workspaces/quick-starts-ws-137092/experimentids/237d5896-9915-4af4-b9e1-dae08094b90e/cancel/AutoML_9fc44e25-e1ba-4374-a61c-1596b51212d6',\n",
       "  'ClientSdkVersion': '1.21.0',\n",
       "  'snapshotId': '00000000-0000-0000-0000-000000000000',\n",
       "  'SetupRunId': 'AutoML_9fc44e25-e1ba-4374-a61c-1596b51212d6_setup',\n",
       "  'SetupRunContainerId': 'dcid.AutoML_9fc44e25-e1ba-4374-a61c-1596b51212d6_setup',\n",
       "  'FeaturizationRunJsonPath': 'featurizer_container.json',\n",
       "  'FeaturizationRunId': 'AutoML_9fc44e25-e1ba-4374-a61c-1596b51212d6_featurize',\n",
       "  'ProblemInfoJsonString': '{\"dataset_num_categorical\": 0, \"is_sparse\": true, \"subsampling\": false, \"dataset_classes\": 2, \"dataset_features\": 77601, \"dataset_samples\": 6819, \"single_frequency_class_detected\": false}',\n",
       "  'ModelExplainRunId': 'AutoML_9fc44e25-e1ba-4374-a61c-1596b51212d6_ModelExplain'},\n",
       " 'inputDatasets': [{'dataset': {'id': 'dd3c8235-cadb-4c62-925f-b8fc14840e4f'}, 'consumptionDetails': {'type': 'RunInput', 'inputName': 'training_data', 'mechanism': 'Direct'}}],\n",
       " 'outputDatasets': [],\n",
       " 'logFiles': {},\n",
       " 'submittedBy': 'ODL_User 137092'}"
      ]
     },
     "execution_count": 15,
     "metadata": {},
     "output_type": "execute_result"
    }
   ],
   "source": [
    "RunDetails(remote_run).show()\n",
    "remote_run.wait_for_completion(show_output=True)"
   ]
  },
  {
   "cell_type": "markdown",
   "metadata": {},
   "source": [
    "## Best Model"
   ]
  },
  {
   "cell_type": "code",
   "execution_count": 16,
   "metadata": {
    "collapsed": false,
    "gather": {
     "logged": 1598431425670
    },
    "jupyter": {
     "outputs_hidden": false,
     "source_hidden": false
    },
    "nteract": {
     "transient": {
      "deleting": false
     }
    }
   },
   "outputs": [
    {
     "name": "stderr",
     "output_type": "stream",
     "text": [
      "WARNING:root:The version of the SDK does not match the version the model was trained on.\n",
      "WARNING:root:The consistency in the result may not be guaranteed.\n",
      "WARNING:root:Package:azureml-automl-core, training version:1.21.0, current version:1.20.0\n",
      "Package:azureml-automl-runtime, training version:1.21.0, current version:1.20.0\n",
      "Package:azureml-core, training version:1.21.0.post1, current version:1.20.0\n",
      "Package:azureml-dataprep, training version:2.8.2, current version:2.7.3\n",
      "Package:azureml-dataprep-native, training version:28.0.0, current version:27.0.0\n",
      "Package:azureml-dataprep-rslex, training version:1.6.0, current version:1.5.0\n",
      "Package:azureml-dataset-runtime, training version:1.21.0, current version:1.20.0\n",
      "Package:azureml-defaults, training version:1.21.0, current version:1.20.0\n",
      "Package:azureml-interpret, training version:1.21.0, current version:1.20.0\n",
      "Package:azureml-pipeline-core, training version:1.21.0, current version:1.20.0\n",
      "Package:azureml-telemetry, training version:1.21.0, current version:1.20.0\n",
      "Package:azureml-train-automl-client, training version:1.21.0, current version:1.20.0\n",
      "Package:azureml-train-automl-runtime, training version:1.21.0, current version:1.20.0\n",
      "WARNING:root:Please ensure the version of your local conda dependencies match the version on which your model was trained in order to properly retrieve your model.\n"
     ]
    },
    {
     "name": "stdout",
     "output_type": "stream",
     "text": [
      "Pipeline(memory=None,\n",
      "         steps=[('datatransformer',\n",
      "                 DataTransformer(enable_dnn=None, enable_feature_sweeping=None,\n",
      "                                 feature_sweeping_config=None,\n",
      "                                 feature_sweeping_timeout=None,\n",
      "                                 featurization_config=None, force_text_dnn=None,\n",
      "                                 is_cross_validation=None,\n",
      "                                 is_onnx_compatible=None, logger=None,\n",
      "                                 observer=None, task=None, working_dir=None)),\n",
      "                ('prefittedsoftvotingclassifier',...\n",
      "                                                                                                  min_samples_split=0.15052631578947367,\n",
      "                                                                                                  min_weight_fraction_leaf=0.0,\n",
      "                                                                                                  n_estimators=25,\n",
      "                                                                                                  n_jobs=1,\n",
      "                                                                                                  oob_score=False,\n",
      "                                                                                                  random_state=None,\n",
      "                                                                                                  verbose=0,\n",
      "                                                                                                  warm_start=False))],\n",
      "                                                                     verbose=False))],\n",
      "                                               flatten_transform=None,\n",
      "                                               weights=[0.26666666666666666,\n",
      "                                                        0.2,\n",
      "                                                        0.06666666666666667,\n",
      "                                                        0.13333333333333333,\n",
      "                                                        0.06666666666666667,\n",
      "                                                        0.06666666666666667,\n",
      "                                                        0.06666666666666667,\n",
      "                                                        0.13333333333333333]))],\n",
      "         verbose=False)\n",
      "\n",
      "Best Run Id:  AutoML_9fc44e25-e1ba-4374-a61c-1596b51212d6_38\n",
      "matthews_correlation 0.6387933860456131\n",
      "recall_score_macro 0.8037859469987372\n",
      "precision_score_macro 0.8362243316092264\n",
      "balanced_accuracy 0.8037859469987372\n",
      "average_precision_score_macro 0.9342066906864729\n",
      "norm_macro_recall 0.6075718939974717\n",
      "log_loss 0.4410672898986307\n",
      "AUC_micro 0.8918233738550504\n",
      "recall_score_micro 0.8058999136287319\n",
      "precision_score_weighted 0.8358765922382849\n",
      "recall_score_weighted 0.8058999136287319\n",
      "average_precision_score_weighted 0.9344817933349623\n",
      "AUC_weighted 0.9333576239964617\n",
      "weighted_accuracy 0.9548247985384357\n",
      "f1_score_macro 0.7990884502709994\n",
      "f1_score_weighted 0.8002034537342919\n",
      "AUC_macro 0.9333576239964617\n",
      "average_precision_score_micro 0.8973399780016438\n",
      "f1_score_micro 0.8058999136287336\n",
      "precision_score_micro 0.8058999136287355\n",
      "accuracy 0.8058999136287315\n",
      "confusion_matrix aml://artifactId/ExperimentRun/dcid.AutoML_9fc44e25-e1ba-4374-a61c-1596b51212d6_38/confusion_matrix\n",
      "accuracy_table aml://artifactId/ExperimentRun/dcid.AutoML_9fc44e25-e1ba-4374-a61c-1596b51212d6_38/accuracy_table\n"
     ]
    }
   ],
   "source": [
    "best_run, model = remote_run.get_output()\n",
    "\n",
    "#Printing the best run\n",
    "print(model) \n",
    "print('\\nBest Run Id: ', best_run.id)\n",
    "\n",
    "#Printing the metric details of the best run\n",
    "best_run_metrics = best_run.get_metrics()\n",
    "for metric_name in best_run_metrics:\n",
    "    metric = best_run_metrics[metric_name]\n",
    "    print(metric_name, metric)"
   ]
  },
  {
   "cell_type": "code",
   "execution_count": 17,
   "metadata": {
    "collapsed": false,
    "gather": {
     "logged": 1598431426111
    },
    "jupyter": {
     "outputs_hidden": false,
     "source_hidden": false
    },
    "nteract": {
     "transient": {
      "deleting": false
     }
    }
   },
   "outputs": [
    {
     "data": {
      "text/plain": [
       "['outputs/automl_model.pkl']"
      ]
     },
     "execution_count": 17,
     "metadata": {},
     "output_type": "execute_result"
    }
   ],
   "source": [
    "#Saving the best model\n",
    "joblib.dump(model,'outputs/automl_model.pkl')"
   ]
  },
  {
   "cell_type": "markdown",
   "metadata": {},
   "source": [
    "## Model Deployment\n",
    "\n",
    "* The AutoML model outperformed the model tuned by HyperDrive so we'll start deploying the best automl model. "
   ]
  },
  {
   "cell_type": "code",
   "execution_count": 18,
   "metadata": {
    "collapsed": false,
    "gather": {
     "logged": 1598431435189
    },
    "jupyter": {
     "outputs_hidden": false,
     "source_hidden": false
    },
    "nteract": {
     "transient": {
      "deleting": false
     }
    }
   },
   "outputs": [
    {
     "name": "stdout",
     "output_type": "stream",
     "text": [
      "Registering model automl_model\n"
     ]
    }
   ],
   "source": [
    "from azureml.core.model import Model\n",
    "model = Model.register(workspace = ws,\n",
    "                        model_path =\"outputs/automl_model.pkl\",\n",
    "                        model_name = \"automl_model\")"
   ]
  },
  {
   "cell_type": "code",
   "execution_count": 19,
   "metadata": {},
   "outputs": [
    {
     "name": "stdout",
     "output_type": "stream",
     "text": [
      "Writing score_automl.py\n"
     ]
    }
   ],
   "source": [
    "%%writefile score_automl.py\n",
    "from azureml.core.model import Model\n",
    "import numpy as np\n",
    "import pandas as pd\n",
    "import joblib\n",
    "import json\n",
    "import pickle\n",
    "import os\n",
    "\n",
    "def init():\n",
    "    global model\n",
    "    model_path = Model.get_model_path(\"automl_model\")\n",
    "    model = joblib.load(model_path)\n",
    "\n",
    "def run(raw_data):\n",
    "    try:\n",
    "        data = json.loads(raw_data)['data']\n",
    "        data = pd.DataFrame.from_dict(data)\n",
    "        result = model.predict(data)\n",
    "        return result.tolist()\n",
    "    \n",
    "    except Exception as ex:\n",
    "        error = str(ex)\n",
    "        return error"
   ]
  },
  {
   "cell_type": "code",
   "execution_count": 20,
   "metadata": {},
   "outputs": [],
   "source": [
    "env = Environment.get(workspace=ws, name = \"AzureML-AutoML\")"
   ]
  },
  {
   "cell_type": "code",
   "execution_count": null,
   "metadata": {
    "collapsed": false,
    "gather": {
     "logged": 1598432707604
    },
    "jupyter": {
     "outputs_hidden": false,
     "source_hidden": false
    },
    "nteract": {
     "transient": {
      "deleting": false
     }
    }
   },
   "outputs": [
    {
     "name": "stdout",
     "output_type": "stream",
     "text": [
      "Tips: You can try get_logs(): https://aka.ms/debugimage#dockerlog or local deployment: https://aka.ms/debugimage#debug-locally to debug if deployment takes longer than 10 minutes.\n",
      "Running..................................."
     ]
    }
   ],
   "source": [
    "from azureml.core.model import Model\n",
    "from azureml.core.webservice import Webservice \n",
    "from azureml.core.webservice import  AciWebservice\n",
    "from azureml.core.conda_dependencies import CondaDependencies\n",
    "config_aci = AciWebservice.deploy_configuration(cpu_cores=1, \n",
    "                                               memory_gb=1, \n",
    "                                               enable_app_insights=True, \n",
    "                                               auth_enabled=True)\n",
    "\n",
    "\n",
    "\n",
    "ws = Workspace.from_config()\n",
    "model = Model(ws, 'automl_model')\n",
    "\n",
    "inference_config = InferenceConfig(entry_script=\"score_automl.py\", environment=env)\n",
    "\n",
    "service_name = 'automl1'\n",
    "service = Model.deploy(workspace=ws, \n",
    "                       name=service_name, \n",
    "                       models=[model], \n",
    "                       inference_config=inference_config, \n",
    "                       deployment_config= config_aci)\n",
    "\n",
    "service.wait_for_deployment(show_output=True)\n",
    "\n",
    "print(service.state)\n",
    "print(service.get_logs())"
   ]
  },
  {
   "cell_type": "code",
   "execution_count": null,
   "metadata": {},
   "outputs": [],
   "source": [
    "print(service.get_logs())"
   ]
  },
  {
   "cell_type": "code",
   "execution_count": 26,
   "metadata": {},
   "outputs": [
    {
     "name": "stdout",
     "output_type": "stream",
     "text": [
      "scoring URI: http://23dfe88f-2b73-49a3-a2e4-9e5526966070.southcentralus.azurecontainer.io/score\n",
      "Swagger URI: http://23dfe88f-2b73-49a3-a2e4-9e5526966070.southcentralus.azurecontainer.io/swagger.json\n",
      "Authetication Key: 1oezrbV7Boh9KjvalcYa7hZw3G7hk88p\n"
     ]
    }
   ],
   "source": [
    "print(\"scoring URI: \" + service.scoring_uri)\n",
    "\n",
    "print(\"Swagger URI: \" + service.swagger_uri)\n",
    "\n",
    "print(\"Authetication Key: \" + service.get_keys()[0])"
   ]
  },
  {
   "cell_type": "code",
   "execution_count": 46,
   "metadata": {},
   "outputs": [
    {
     "name": "stdout",
     "output_type": "stream",
     "text": [
      "DheElutv21WKWW1C9VYbr2l6wzcLkVy4 \n",
      " DXCVaeM79fZU2oFeO6AZbbTjDzKtpQ9K\n"
     ]
    }
   ],
   "source": [
    "primary_key, secondary_key = service.get_keys()\n",
    "print(primary_key,'\\n',secondary_key)"
   ]
  },
  {
   "cell_type": "markdown",
   "metadata": {},
   "source": [
    "TODO: In the cell below, send a request to the web service you deployed to test it."
   ]
  },
  {
   "cell_type": "code",
   "execution_count": 47,
   "metadata": {},
   "outputs": [
    {
     "name": "stdout",
     "output_type": "stream",
     "text": [
      "[1]\n"
     ]
    }
   ],
   "source": [
    "key = primary_key\n",
    "scoringuri = service.scoring_uri\n",
    "\n",
    "data= { \"data\":\n",
    "       [\n",
    "           {\n",
    "               'age': 60,\n",
    "               'anaemia': 245,\n",
    "               'creatinine_phosphokinase': 0,\n",
    "               'diabetes': 0,\n",
    "               'ejection_fraction': 38,\n",
    "               'high_blood_pressure': 1,\n",
    "               'platelets': 163000,\n",
    "               'serum_creatinine': 50,\n",
    "               'serum_sodium':100,\n",
    "               'sex':1,\n",
    "               'smoking':1,\n",
    "               'time':7\n",
    "               \n",
    "               \n",
    "           }\n",
    "       ]\n",
    "    }\n",
    "input_data = json.dumps(data)\n",
    "\n",
    "headers = {'Content-Type': 'application/json'}\n",
    "headers['Authorization'] = f'Bearer {key}'\n",
    "\n",
    "response = requests.post(scoringuri, input_data, headers = headers)\n",
    "print(response.text)"
   ]
  },
  {
   "cell_type": "markdown",
   "metadata": {
    "gather": {
     "logged": 1598432765711
    },
    "jupyter": {
     "outputs_hidden": false,
     "source_hidden": false
    },
    "nteract": {
     "transient": {
      "deleting": false
     }
    }
   },
   "source": [
    "TODO: In the cell below, print the logs of the web service and delete the service"
   ]
  },
  {
   "cell_type": "code",
   "execution_count": 49,
   "metadata": {
    "collapsed": false,
    "jupyter": {
     "outputs_hidden": false,
     "source_hidden": false
    },
    "nteract": {
     "transient": {
      "deleting": false
     }
    }
   },
   "outputs": [
    {
     "name": "stdout",
     "output_type": "stream",
     "text": [
      "2021-01-12T02:44:58,371356973+00:00 - iot-server/run \n",
      "2021-01-12T02:44:58,371770998+00:00 - gunicorn/run \n",
      "2021-01-12T02:44:58,372986871+00:00 - rsyslog/run \n",
      "2021-01-12T02:44:58,377098918+00:00 - nginx/run \n",
      "/usr/sbin/nginx: /azureml-envs/azureml_8eff28b157f42edcd2424a5aae6c8074/lib/libcrypto.so.1.0.0: no version information available (required by /usr/sbin/nginx)\n",
      "/usr/sbin/nginx: /azureml-envs/azureml_8eff28b157f42edcd2424a5aae6c8074/lib/libcrypto.so.1.0.0: no version information available (required by /usr/sbin/nginx)\n",
      "/usr/sbin/nginx: /azureml-envs/azureml_8eff28b157f42edcd2424a5aae6c8074/lib/libssl.so.1.0.0: no version information available (required by /usr/sbin/nginx)\n",
      "/usr/sbin/nginx: /azureml-envs/azureml_8eff28b157f42edcd2424a5aae6c8074/lib/libssl.so.1.0.0: no version information available (required by /usr/sbin/nginx)\n",
      "/usr/sbin/nginx: /azureml-envs/azureml_8eff28b157f42edcd2424a5aae6c8074/lib/libssl.so.1.0.0: no version information available (required by /usr/sbin/nginx)\n",
      "rsyslogd: /azureml-envs/azureml_8eff28b157f42edcd2424a5aae6c8074/lib/libuuid.so.1: no version information available (required by rsyslogd)\n",
      "EdgeHubConnectionString and IOTEDGE_IOTHUBHOSTNAME are not set. Exiting...\n",
      "2021-01-12T02:44:58,507951764+00:00 - iot-server/finish 1 0\n",
      "2021-01-12T02:44:58,509650165+00:00 - Exit code 1 is normal. Not restarting iot-server.\n",
      "Starting gunicorn 19.9.0\n",
      "Listening at: http://127.0.0.1:31311 (13)\n",
      "Using worker: sync\n",
      "worker timeout is set to 300\n",
      "Booting worker with pid: 40\n",
      "SPARK_HOME not set. Skipping PySpark Initialization.\n",
      "Generating new fontManager, this may take some time...\n",
      "Initializing logger\n",
      "2021-01-12 02:45:00,876 | root | INFO | Starting up app insights client\n",
      "Starting up app insights client\n",
      "2021-01-12 02:45:00,876 | root | INFO | Starting up request id generator\n",
      "Starting up request id generator\n",
      "2021-01-12 02:45:00,876 | root | INFO | Starting up app insight hooks\n",
      "Starting up app insight hooks\n",
      "2021-01-12 02:45:00,876 | root | INFO | Invoking user's init function\n",
      "Invoking user's init function\n",
      "2021-01-12 02:45:00,877 | root | ERROR | User's init function failed\n",
      "User's init function failed\n",
      "2021-01-12 02:45:00,878 | root | ERROR | Encountered Exception Traceback (most recent call last):\n",
      "  File \"/var/azureml-server/aml_blueprint.py\", line 187, in register\n",
      "    main.init()\n",
      "  File \"/var/azureml-app/main.py\", line 35, in init\n",
      "    driver_module.init()\n",
      "  File \"/var/azureml-app/score_automl.py\", line 6, in init\n",
      "    model = joblib.load(model_path)\n",
      "NameError: name 'joblib' is not defined\n",
      "\n",
      "Encountered Exception Traceback (most recent call last):\n",
      "  File \"/var/azureml-server/aml_blueprint.py\", line 187, in register\n",
      "    main.init()\n",
      "  File \"/var/azureml-app/main.py\", line 35, in init\n",
      "    driver_module.init()\n",
      "  File \"/var/azureml-app/score_automl.py\", line 6, in init\n",
      "    model = joblib.load(model_path)\n",
      "NameError: name 'joblib' is not defined\n",
      "\n",
      "Worker exiting (pid: 40)\n",
      "Shutting down: Master\n",
      "Reason: Worker failed to boot.\n",
      "2021-01-12T02:45:02,038362946+00:00 - gunicorn/finish 3 0\n",
      "2021-01-12T02:45:02,040019645+00:00 - Exit code 3 is not normal. Killing image.\n",
      "\n"
     ]
    }
   ],
   "source": [
    "ws = Workspace.from_config()\n",
    "\n",
    "service = Webservice(name=\"aml-service\", workspace=ws)\n",
    "service.update(enable_app_insights=True)\n",
    "logs = service.get_logs()\n",
    "print(logs)"
   ]
  },
  {
   "cell_type": "code",
   "execution_count": 50,
   "metadata": {},
   "outputs": [
    {
     "name": "stdout",
     "output_type": "stream",
     "text": [
      "No service with name aml-service found to delete.\n",
      "AciWebservice(workspace=Workspace.create(name='quick-starts-ws-134413', subscription_id='6b4af8be-9931-443e-90f6-c4c34a1f9737', resource_group='aml-quickstarts-134413'), name=aml-service, image_id=None, compute_type=None, state=ACI, scoring_uri=Failed, tags=None, properties={}, created_by={'hasInferenceSchema': 'False', 'hasHttps': 'False'})\n"
     ]
    }
   ],
   "source": [
    "#Deleting the service\n",
    "service.delete()\n",
    "print(service)"
   ]
  },
  {
   "cell_type": "code",
   "execution_count": 51,
   "metadata": {},
   "outputs": [],
   "source": [
    "#Deleting the compute cluster once the training process is complete\n",
    "compute_target.delete()"
   ]
  },
  {
   "cell_type": "code",
   "execution_count": null,
   "metadata": {},
   "outputs": [],
   "source": []
  }
 ],
 "metadata": {
  "kernel_info": {
   "name": "python3-azureml"
  },
  "kernelspec": {
   "display_name": "Python 3",
   "language": "python",
   "name": "python3"
  },
  "language_info": {
   "codemirror_mode": {
    "name": "ipython",
    "version": 3
   },
   "file_extension": ".py",
   "mimetype": "text/x-python",
   "name": "python",
   "nbconvert_exporter": "python",
   "pygments_lexer": "ipython3",
   "version": "3.6.9"
  },
  "nteract": {
   "version": "nteract-front-end@1.0.0"
  }
 },
 "nbformat": 4,
 "nbformat_minor": 4
}
